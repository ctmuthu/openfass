{
 "cells": [
  {
   "cell_type": "code",
   "execution_count": 1,
   "metadata": {},
   "outputs": [],
   "source": [
    "import os\n",
    "import datetime\n",
    "import matplotlib.pyplot as plt\n",
    "import numpy as np\n",
    "import pandas as pd\n",
    "import seaborn as sns\n",
    "# Make numpy printouts easier to read.\n",
    "np.set_printoptions(precision=3, suppress=True)\n",
    "import tensorflow as tf\n",
    "\n",
    "from tensorflow import keras\n",
    "from tensorflow.keras import layers\n",
    "from tensorflow.keras.layers.experimental import preprocessing"
   ]
  },
  {
   "cell_type": "code",
   "execution_count": 2,
   "metadata": {},
   "outputs": [
    {
     "data": {
      "text/html": [
       "<div>\n",
       "<style scoped>\n",
       "    .dataframe tbody tr th:only-of-type {\n",
       "        vertical-align: middle;\n",
       "    }\n",
       "\n",
       "    .dataframe tbody tr th {\n",
       "        vertical-align: top;\n",
       "    }\n",
       "\n",
       "    .dataframe thead th {\n",
       "        text-align: right;\n",
       "    }\n",
       "</style>\n",
       "<table border=\"1\" class=\"dataframe\">\n",
       "  <thead>\n",
       "    <tr style=\"text-align: right;\">\n",
       "      <th></th>\n",
       "      <th>cpu</th>\n",
       "      <th>diskio</th>\n",
       "      <th>diskioRead</th>\n",
       "      <th>diskioWritten</th>\n",
       "      <th>mem</th>\n",
       "      <th>networkReceived</th>\n",
       "      <th>networkTransmitted</th>\n",
       "      <th>replica</th>\n",
       "      <th>requests</th>\n",
       "      <th>responsetime</th>\n",
       "      <th>totalcpu</th>\n",
       "      <th>totalcpuUtilization</th>\n",
       "      <th>totalmemory</th>\n",
       "      <th>totalmemoryUtilization</th>\n",
       "    </tr>\n",
       "  </thead>\n",
       "  <tbody>\n",
       "    <tr>\n",
       "      <th>0</th>\n",
       "      <td>0.005656</td>\n",
       "      <td>0.000089</td>\n",
       "      <td>0.0</td>\n",
       "      <td>17931.377778</td>\n",
       "      <td>0.007200</td>\n",
       "      <td>16138.355556</td>\n",
       "      <td>53534.133333</td>\n",
       "      <td>1.0</td>\n",
       "      <td>1.0</td>\n",
       "      <td>2.842053</td>\n",
       "      <td>12.0</td>\n",
       "      <td>5.188889</td>\n",
       "      <td>5.045532e+10</td>\n",
       "      <td>9.907735</td>\n",
       "    </tr>\n",
       "    <tr>\n",
       "      <th>1</th>\n",
       "      <td>0.003688</td>\n",
       "      <td>0.000089</td>\n",
       "      <td>0.0</td>\n",
       "      <td>13471.288889</td>\n",
       "      <td>0.007200</td>\n",
       "      <td>16707.733333</td>\n",
       "      <td>50657.800000</td>\n",
       "      <td>1.0</td>\n",
       "      <td>2.0</td>\n",
       "      <td>2.668923</td>\n",
       "      <td>12.0</td>\n",
       "      <td>5.075000</td>\n",
       "      <td>5.045532e+10</td>\n",
       "      <td>9.943913</td>\n",
       "    </tr>\n",
       "    <tr>\n",
       "      <th>2</th>\n",
       "      <td>0.316843</td>\n",
       "      <td>0.000000</td>\n",
       "      <td>0.0</td>\n",
       "      <td>21026.133333</td>\n",
       "      <td>0.012803</td>\n",
       "      <td>20102.600000</td>\n",
       "      <td>56847.955556</td>\n",
       "      <td>1.0</td>\n",
       "      <td>3.0</td>\n",
       "      <td>2.667665</td>\n",
       "      <td>12.0</td>\n",
       "      <td>5.075000</td>\n",
       "      <td>5.045532e+10</td>\n",
       "      <td>9.943913</td>\n",
       "    </tr>\n",
       "    <tr>\n",
       "      <th>3</th>\n",
       "      <td>0.416394</td>\n",
       "      <td>0.000000</td>\n",
       "      <td>0.0</td>\n",
       "      <td>12196.977778</td>\n",
       "      <td>0.012803</td>\n",
       "      <td>19553.177778</td>\n",
       "      <td>53704.466667</td>\n",
       "      <td>1.0</td>\n",
       "      <td>5.0</td>\n",
       "      <td>2.590923</td>\n",
       "      <td>12.0</td>\n",
       "      <td>5.405556</td>\n",
       "      <td>5.045532e+10</td>\n",
       "      <td>9.902425</td>\n",
       "    </tr>\n",
       "    <tr>\n",
       "      <th>4</th>\n",
       "      <td>0.405535</td>\n",
       "      <td>0.000089</td>\n",
       "      <td>0.0</td>\n",
       "      <td>13198.222222</td>\n",
       "      <td>0.013208</td>\n",
       "      <td>19600.688889</td>\n",
       "      <td>56622.866667</td>\n",
       "      <td>1.0</td>\n",
       "      <td>5.0</td>\n",
       "      <td>2.654380</td>\n",
       "      <td>12.0</td>\n",
       "      <td>5.405556</td>\n",
       "      <td>5.045532e+10</td>\n",
       "      <td>9.902425</td>\n",
       "    </tr>\n",
       "  </tbody>\n",
       "</table>\n",
       "</div>"
      ],
      "text/plain": [
       "        cpu    diskio  diskioRead  diskioWritten       mem  networkReceived  \\\n",
       "0  0.005656  0.000089         0.0   17931.377778  0.007200     16138.355556   \n",
       "1  0.003688  0.000089         0.0   13471.288889  0.007200     16707.733333   \n",
       "2  0.316843  0.000000         0.0   21026.133333  0.012803     20102.600000   \n",
       "3  0.416394  0.000000         0.0   12196.977778  0.012803     19553.177778   \n",
       "4  0.405535  0.000089         0.0   13198.222222  0.013208     19600.688889   \n",
       "\n",
       "   networkTransmitted  replica  requests  responsetime  totalcpu  \\\n",
       "0        53534.133333      1.0       1.0      2.842053      12.0   \n",
       "1        50657.800000      1.0       2.0      2.668923      12.0   \n",
       "2        56847.955556      1.0       3.0      2.667665      12.0   \n",
       "3        53704.466667      1.0       5.0      2.590923      12.0   \n",
       "4        56622.866667      1.0       5.0      2.654380      12.0   \n",
       "\n",
       "   totalcpuUtilization   totalmemory  totalmemoryUtilization  \n",
       "0             5.188889  5.045532e+10                9.907735  \n",
       "1             5.075000  5.045532e+10                9.943913  \n",
       "2             5.075000  5.045532e+10                9.943913  \n",
       "3             5.405556  5.045532e+10                9.902425  \n",
       "4             5.405556  5.045532e+10                9.902425  "
      ]
     },
     "execution_count": 2,
     "metadata": {},
     "output_type": "execute_result"
    }
   ],
   "source": [
    "cwd = os.getcwd()\n",
    "output_dir = os.path.join(cwd, \"../../data\")\n",
    "df = pd.read_csv(os.path.join(output_dir, \"combined_miniodbmysql.csv\"))\n",
    "df_test = pd.read_csv(os.path.join(output_dir, \"combined_miniodbmysqltest.csv\"))\n",
    "#df_test = pd.read_csv(os.path.join(output_dir, \"figlet1599056546.006096_1599063766.431225.csv\"))\n",
    "df = df.drop(df[df.responsetime > 10].index)\n",
    "df.pop('Time')\n",
    "df_test = df_test.drop(df_test[df_test.responsetime > 10].index)\n",
    "df_test.pop('Time')\n",
    "df.head()"
   ]
  },
  {
   "cell_type": "code",
   "execution_count": 3,
   "metadata": {},
   "outputs": [],
   "source": [
    "# remove 2xlarge\n",
    "df = df.drop(df[df.totalcpu > 16].index)"
   ]
  },
  {
   "cell_type": "code",
   "execution_count": 4,
   "metadata": {},
   "outputs": [],
   "source": [
    "df_t = pd.DataFrame()\n",
    "df_ttest = pd.DataFrame()"
   ]
  },
  {
   "cell_type": "code",
   "execution_count": 5,
   "metadata": {},
   "outputs": [
    {
     "data": {
      "text/html": [
       "<div>\n",
       "<style scoped>\n",
       "    .dataframe tbody tr th:only-of-type {\n",
       "        vertical-align: middle;\n",
       "    }\n",
       "\n",
       "    .dataframe tbody tr th {\n",
       "        vertical-align: top;\n",
       "    }\n",
       "\n",
       "    .dataframe thead th {\n",
       "        text-align: right;\n",
       "    }\n",
       "</style>\n",
       "<table border=\"1\" class=\"dataframe\">\n",
       "  <thead>\n",
       "    <tr style=\"text-align: right;\">\n",
       "      <th></th>\n",
       "      <th>total_cpu_util</th>\n",
       "      <th>total_mem_util</th>\n",
       "      <th>responsetime</th>\n",
       "      <th>requests</th>\n",
       "    </tr>\n",
       "  </thead>\n",
       "  <tbody>\n",
       "    <tr>\n",
       "      <th>0</th>\n",
       "      <td>0.417187</td>\n",
       "      <td>499.897945</td>\n",
       "      <td>2.842053</td>\n",
       "      <td>1.0</td>\n",
       "    </tr>\n",
       "    <tr>\n",
       "      <th>1</th>\n",
       "      <td>0.408030</td>\n",
       "      <td>501.723328</td>\n",
       "      <td>2.668923</td>\n",
       "      <td>2.0</td>\n",
       "    </tr>\n",
       "    <tr>\n",
       "      <th>2</th>\n",
       "      <td>0.408030</td>\n",
       "      <td>501.723328</td>\n",
       "      <td>2.667665</td>\n",
       "      <td>3.0</td>\n",
       "    </tr>\n",
       "    <tr>\n",
       "      <th>3</th>\n",
       "      <td>0.434607</td>\n",
       "      <td>499.630067</td>\n",
       "      <td>2.590923</td>\n",
       "      <td>5.0</td>\n",
       "    </tr>\n",
       "    <tr>\n",
       "      <th>4</th>\n",
       "      <td>0.434607</td>\n",
       "      <td>499.630067</td>\n",
       "      <td>2.654380</td>\n",
       "      <td>5.0</td>\n",
       "    </tr>\n",
       "  </tbody>\n",
       "</table>\n",
       "</div>"
      ],
      "text/plain": [
       "   total_cpu_util  total_mem_util  responsetime  requests\n",
       "0        0.417187      499.897945      2.842053       1.0\n",
       "1        0.408030      501.723328      2.668923       2.0\n",
       "2        0.408030      501.723328      2.667665       3.0\n",
       "3        0.434607      499.630067      2.590923       5.0\n",
       "4        0.434607      499.630067      2.654380       5.0"
      ]
     },
     "execution_count": 5,
     "metadata": {},
     "output_type": "execute_result"
    }
   ],
   "source": [
    "df_t['total_cpu_util'] = (df['totalcpuUtilization']*(df['totalcpu']*0.67))/100                    \n",
    "df_t['total_mem_util'] = (df['totalmemoryUtilization']*df['totalmemory'])*1e-9\n",
    "df_t['responsetime'] = df['responsetime']\n",
    "df_t['requests'] = df['requests']\n",
    "#df_t['replica'] = df['replica']\n",
    "df_ttest['total_cpu_util'] = (df_test['totalcpuUtilization']*(df_test['totalcpu']*0.67))/100\n",
    "df_ttest['total_mem_util'] = (df_test['totalmemoryUtilization']*df_test['totalmemory'])*1e-9\n",
    "df_ttest['responsetime'] = df_test['responsetime']\n",
    "df_ttest['requests'] = df_test['requests']\n",
    "#df_ttest['replica'] = df_test['replica']\n",
    "df_t.head()"
   ]
  },
  {
   "cell_type": "code",
   "execution_count": 6,
   "metadata": {},
   "outputs": [
    {
     "data": {
      "text/html": [
       "<div>\n",
       "<style scoped>\n",
       "    .dataframe tbody tr th:only-of-type {\n",
       "        vertical-align: middle;\n",
       "    }\n",
       "\n",
       "    .dataframe tbody tr th {\n",
       "        vertical-align: top;\n",
       "    }\n",
       "\n",
       "    .dataframe thead th {\n",
       "        text-align: right;\n",
       "    }\n",
       "</style>\n",
       "<table border=\"1\" class=\"dataframe\">\n",
       "  <thead>\n",
       "    <tr style=\"text-align: right;\">\n",
       "      <th></th>\n",
       "      <th>total_cpu_util</th>\n",
       "      <th>total_mem_util</th>\n",
       "      <th>responsetime</th>\n",
       "      <th>requests</th>\n",
       "    </tr>\n",
       "  </thead>\n",
       "  <tbody>\n",
       "    <tr>\n",
       "      <th>2692</th>\n",
       "      <td>4.044972</td>\n",
       "      <td>734.878925</td>\n",
       "      <td>7.877088</td>\n",
       "      <td>153.0</td>\n",
       "    </tr>\n",
       "    <tr>\n",
       "      <th>2693</th>\n",
       "      <td>3.991413</td>\n",
       "      <td>705.801830</td>\n",
       "      <td>6.017522</td>\n",
       "      <td>152.0</td>\n",
       "    </tr>\n",
       "    <tr>\n",
       "      <th>2699</th>\n",
       "      <td>3.255268</td>\n",
       "      <td>672.161587</td>\n",
       "      <td>7.870471</td>\n",
       "      <td>111.0</td>\n",
       "    </tr>\n",
       "    <tr>\n",
       "      <th>2705</th>\n",
       "      <td>2.733823</td>\n",
       "      <td>655.914394</td>\n",
       "      <td>7.899868</td>\n",
       "      <td>113.0</td>\n",
       "    </tr>\n",
       "    <tr>\n",
       "      <th>2712</th>\n",
       "      <td>2.662092</td>\n",
       "      <td>664.194048</td>\n",
       "      <td>9.538560</td>\n",
       "      <td>108.0</td>\n",
       "    </tr>\n",
       "  </tbody>\n",
       "</table>\n",
       "</div>"
      ],
      "text/plain": [
       "      total_cpu_util  total_mem_util  responsetime  requests\n",
       "2692        4.044972      734.878925      7.877088     153.0\n",
       "2693        3.991413      705.801830      6.017522     152.0\n",
       "2699        3.255268      672.161587      7.870471     111.0\n",
       "2705        2.733823      655.914394      7.899868     113.0\n",
       "2712        2.662092      664.194048      9.538560     108.0"
      ]
     },
     "execution_count": 6,
     "metadata": {},
     "output_type": "execute_result"
    }
   ],
   "source": [
    "df_t.tail()"
   ]
  },
  {
   "cell_type": "code",
   "execution_count": 7,
   "metadata": {},
   "outputs": [],
   "source": [
    "df_t = pd.get_dummies(df_t, prefix='', prefix_sep='')"
   ]
  },
  {
   "cell_type": "code",
   "execution_count": 8,
   "metadata": {},
   "outputs": [
    {
     "data": {
      "text/plain": [
       "(1491, 4)"
      ]
     },
     "execution_count": 8,
     "metadata": {},
     "output_type": "execute_result"
    }
   ],
   "source": [
    "df_t.shape"
   ]
  },
  {
   "cell_type": "code",
   "execution_count": 9,
   "metadata": {},
   "outputs": [],
   "source": [
    "train_dataset = df_t.sample(frac=0.8, random_state=0)\n",
    "val_dataset = df_t.drop(train_dataset.index)\n",
    "test_dataset = df_ttest"
   ]
  },
  {
   "cell_type": "code",
   "execution_count": 10,
   "metadata": {},
   "outputs": [
    {
     "data": {
      "text/plain": [
       "<seaborn.axisgrid.PairGrid at 0x7f8c1f106390>"
      ]
     },
     "execution_count": 10,
     "metadata": {},
     "output_type": "execute_result"
    },
    {
     "data": {
      "image/png": "[encoded data removed]",
      "text/plain": [
       "<Figure size 720x720 with 20 Axes>"
      ]
     },
     "metadata": {
      "needs_background": "light"
     },
     "output_type": "display_data"
    }
   ],
   "source": [
    "sns.pairplot(train_dataset[['total_cpu_util', 'total_mem_util', 'responsetime', 'requests']], diag_kind='kde')"
   ]
  },
  {
   "cell_type": "code",
   "execution_count": 11,
   "metadata": {},
   "outputs": [
    {
     "data": {
      "text/html": [
       "<div>\n",
       "<style scoped>\n",
       "    .dataframe tbody tr th:only-of-type {\n",
       "        vertical-align: middle;\n",
       "    }\n",
       "\n",
       "    .dataframe tbody tr th {\n",
       "        vertical-align: top;\n",
       "    }\n",
       "\n",
       "    .dataframe thead th {\n",
       "        text-align: right;\n",
       "    }\n",
       "</style>\n",
       "<table border=\"1\" class=\"dataframe\">\n",
       "  <thead>\n",
       "    <tr style=\"text-align: right;\">\n",
       "      <th></th>\n",
       "      <th>count</th>\n",
       "      <th>mean</th>\n",
       "      <th>std</th>\n",
       "      <th>min</th>\n",
       "      <th>25%</th>\n",
       "      <th>50%</th>\n",
       "      <th>75%</th>\n",
       "      <th>max</th>\n",
       "    </tr>\n",
       "  </thead>\n",
       "  <tbody>\n",
       "    <tr>\n",
       "      <th>total_cpu_util</th>\n",
       "      <td>1193.0</td>\n",
       "      <td>3.517529</td>\n",
       "      <td>2.125388</td>\n",
       "      <td>0.355993</td>\n",
       "      <td>2.038810</td>\n",
       "      <td>3.220467</td>\n",
       "      <td>4.697808</td>\n",
       "      <td>8.113253</td>\n",
       "    </tr>\n",
       "    <tr>\n",
       "      <th>total_mem_util</th>\n",
       "      <td>1193.0</td>\n",
       "      <td>658.610064</td>\n",
       "      <td>109.545387</td>\n",
       "      <td>456.428544</td>\n",
       "      <td>556.968348</td>\n",
       "      <td>684.961382</td>\n",
       "      <td>742.265856</td>\n",
       "      <td>861.294797</td>\n",
       "    </tr>\n",
       "    <tr>\n",
       "      <th>responsetime</th>\n",
       "      <td>1193.0</td>\n",
       "      <td>5.056253</td>\n",
       "      <td>1.841645</td>\n",
       "      <td>2.590923</td>\n",
       "      <td>2.783681</td>\n",
       "      <td>5.372033</td>\n",
       "      <td>5.974626</td>\n",
       "      <td>9.950546</td>\n",
       "    </tr>\n",
       "    <tr>\n",
       "      <th>requests</th>\n",
       "      <td>1193.0</td>\n",
       "      <td>150.434199</td>\n",
       "      <td>105.238540</td>\n",
       "      <td>1.000000</td>\n",
       "      <td>68.000000</td>\n",
       "      <td>133.000000</td>\n",
       "      <td>211.000000</td>\n",
       "      <td>375.000000</td>\n",
       "    </tr>\n",
       "  </tbody>\n",
       "</table>\n",
       "</div>"
      ],
      "text/plain": [
       "                 count        mean         std         min         25%  \\\n",
       "total_cpu_util  1193.0    3.517529    2.125388    0.355993    2.038810   \n",
       "total_mem_util  1193.0  658.610064  109.545387  456.428544  556.968348   \n",
       "responsetime    1193.0    5.056253    1.841645    2.590923    2.783681   \n",
       "requests        1193.0  150.434199  105.238540    1.000000   68.000000   \n",
       "\n",
       "                       50%         75%         max  \n",
       "total_cpu_util    3.220467    4.697808    8.113253  \n",
       "total_mem_util  684.961382  742.265856  861.294797  \n",
       "responsetime      5.372033    5.974626    9.950546  \n",
       "requests        133.000000  211.000000  375.000000  "
      ]
     },
     "execution_count": 11,
     "metadata": {},
     "output_type": "execute_result"
    }
   ],
   "source": [
    "train_dataset.describe().transpose()"
   ]
  },
  {
   "cell_type": "code",
   "execution_count": 12,
   "metadata": {},
   "outputs": [],
   "source": [
    "train_features = train_dataset.copy()\n",
    "val_features = val_dataset.copy()\n",
    "test_features = test_dataset.copy()"
   ]
  },
  {
   "cell_type": "code",
   "execution_count": 13,
   "metadata": {},
   "outputs": [
    {
     "data": {
      "text/html": [
       "<div>\n",
       "<style scoped>\n",
       "    .dataframe tbody tr th:only-of-type {\n",
       "        vertical-align: middle;\n",
       "    }\n",
       "\n",
       "    .dataframe tbody tr th {\n",
       "        vertical-align: top;\n",
       "    }\n",
       "\n",
       "    .dataframe thead th {\n",
       "        text-align: right;\n",
       "    }\n",
       "</style>\n",
       "<table border=\"1\" class=\"dataframe\">\n",
       "  <thead>\n",
       "    <tr style=\"text-align: right;\">\n",
       "      <th></th>\n",
       "      <th>total_cpu_util</th>\n",
       "      <th>total_mem_util</th>\n",
       "      <th>responsetime</th>\n",
       "      <th>requests</th>\n",
       "    </tr>\n",
       "  </thead>\n",
       "  <tbody>\n",
       "    <tr>\n",
       "      <th>9</th>\n",
       "      <td>0.468107</td>\n",
       "      <td>502.512217</td>\n",
       "      <td>2.654881</td>\n",
       "      <td>7.0</td>\n",
       "    </tr>\n",
       "    <tr>\n",
       "      <th>1531</th>\n",
       "      <td>3.844035</td>\n",
       "      <td>672.569635</td>\n",
       "      <td>6.086172</td>\n",
       "      <td>164.0</td>\n",
       "    </tr>\n",
       "    <tr>\n",
       "      <th>611</th>\n",
       "      <td>3.539610</td>\n",
       "      <td>729.575424</td>\n",
       "      <td>6.011854</td>\n",
       "      <td>160.0</td>\n",
       "    </tr>\n",
       "    <tr>\n",
       "      <th>331</th>\n",
       "      <td>7.524323</td>\n",
       "      <td>781.962848</td>\n",
       "      <td>5.581043</td>\n",
       "      <td>354.0</td>\n",
       "    </tr>\n",
       "    <tr>\n",
       "      <th>664</th>\n",
       "      <td>4.869962</td>\n",
       "      <td>749.717299</td>\n",
       "      <td>5.142396</td>\n",
       "      <td>209.0</td>\n",
       "    </tr>\n",
       "  </tbody>\n",
       "</table>\n",
       "</div>"
      ],
      "text/plain": [
       "      total_cpu_util  total_mem_util  responsetime  requests\n",
       "9           0.468107      502.512217      2.654881       7.0\n",
       "1531        3.844035      672.569635      6.086172     164.0\n",
       "611         3.539610      729.575424      6.011854     160.0\n",
       "331         7.524323      781.962848      5.581043     354.0\n",
       "664         4.869962      749.717299      5.142396     209.0"
      ]
     },
     "execution_count": 13,
     "metadata": {},
     "output_type": "execute_result"
    }
   ],
   "source": [
    "train_features.head()"
   ]
  },
  {
   "cell_type": "code",
   "execution_count": 14,
   "metadata": {},
   "outputs": [],
   "source": [
    "train_labels = train_features.pop('requests')\n",
    "val_labels = val_features.pop('requests')\n",
    "test_labels = test_features.pop('requests')"
   ]
  },
  {
   "cell_type": "code",
   "execution_count": 15,
   "metadata": {},
   "outputs": [],
   "source": [
    "normalizer = preprocessing.Normalization()"
   ]
  },
  {
   "cell_type": "code",
   "execution_count": 16,
   "metadata": {},
   "outputs": [],
   "source": [
    "normalizer.adapt(np.array(train_features))"
   ]
  },
  {
   "cell_type": "code",
   "execution_count": 17,
   "metadata": {},
   "outputs": [
    {
     "name": "stdout",
     "output_type": "stream",
     "text": [
      "[  3.518 658.61    5.056]\n"
     ]
    }
   ],
   "source": [
    "print(normalizer.mean.numpy())"
   ]
  },
  {
   "cell_type": "markdown",
   "metadata": {},
   "source": [
    "## Linear Regression"
   ]
  },
  {
   "cell_type": "code",
   "execution_count": 18,
   "metadata": {},
   "outputs": [],
   "source": [
    "input = np.array(train_features[['total_cpu_util', 'total_mem_util', 'responsetime']])\n",
    "\n",
    "input_normalizer = preprocessing.Normalization(input_shape=[3,])\n",
    "input_normalizer.adapt(input)"
   ]
  },
  {
   "cell_type": "code",
   "execution_count": 19,
   "metadata": {},
   "outputs": [
    {
     "name": "stdout",
     "output_type": "stream",
     "text": [
      "Model: \"sequential\"\n",
      "_________________________________________________________________\n",
      "Layer (type)                 Output Shape              Param #   \n",
      "=================================================================\n",
      "normalization_1 (Normalizati (None, 3)                 7         \n",
      "_________________________________________________________________\n",
      "dense (Dense)                (None, 1)                 4         \n",
      "=================================================================\n",
      "Total params: 11\n",
      "Trainable params: 4\n",
      "Non-trainable params: 7\n",
      "_________________________________________________________________\n"
     ]
    }
   ],
   "source": [
    "model = tf.keras.Sequential([\n",
    "    input_normalizer,\n",
    "    layers.Dense(units=1)\n",
    "])\n",
    "model.summary()"
   ]
  },
  {
   "cell_type": "code",
   "execution_count": 20,
   "metadata": {},
   "outputs": [
    {
     "data": {
      "text/plain": [
       "array([[-3.027],\n",
       "       [-3.042],\n",
       "       [-3.087],\n",
       "       [-3.091],\n",
       "       [-3.051],\n",
       "       [-3.037],\n",
       "       [-3.029],\n",
       "       [-3.041],\n",
       "       [-2.96 ],\n",
       "       [-2.981],\n",
       "       [-3.036],\n",
       "       [-3.03 ],\n",
       "       [-3.001],\n",
       "       [-3.021],\n",
       "       [-2.966],\n",
       "       [-1.482],\n",
       "       [-1.435],\n",
       "       [-1.435],\n",
       "       [-1.506],\n",
       "       [-1.506],\n",
       "       [-1.409],\n",
       "       [-1.409],\n",
       "       [-1.41 ],\n",
       "       [-1.41 ],\n",
       "       [-1.388],\n",
       "       [-1.388],\n",
       "       [-1.413],\n",
       "       [-1.413],\n",
       "       [-1.311],\n",
       "       [-1.317],\n",
       "       [-1.338],\n",
       "       [-1.338],\n",
       "       [-1.26 ],\n",
       "       [-1.26 ],\n",
       "       [-1.35 ],\n",
       "       [-1.35 ],\n",
       "       [-1.337],\n",
       "       [-1.337],\n",
       "       [-1.287],\n",
       "       [-1.287],\n",
       "       [-1.214],\n",
       "       [-1.214],\n",
       "       [-1.191],\n",
       "       [-1.191],\n",
       "       [-0.659],\n",
       "       [-0.659],\n",
       "       [-0.566],\n",
       "       [-0.566],\n",
       "       [-0.53 ],\n",
       "       [-2.022],\n",
       "       [-2.148],\n",
       "       [-2.171],\n",
       "       [-1.882],\n",
       "       [-1.786],\n",
       "       [-1.624],\n",
       "       [-1.656],\n",
       "       [-1.393],\n",
       "       [-1.41 ],\n",
       "       [-1.427],\n",
       "       [-1.397],\n",
       "       [-1.138],\n",
       "       [-1.133],\n",
       "       [-0.993],\n",
       "       [-0.985],\n",
       "       [-0.625],\n",
       "       [-0.64 ],\n",
       "       [-0.722],\n",
       "       [ 0.738],\n",
       "       [ 1.097],\n",
       "       [ 1.097],\n",
       "       [ 1.117],\n",
       "       [ 1.117],\n",
       "       [ 1.494],\n",
       "       [ 1.494],\n",
       "       [ 1.463],\n",
       "       [ 1.463],\n",
       "       [ 1.545],\n",
       "       [ 1.546],\n",
       "       [ 1.438],\n",
       "       [ 1.438],\n",
       "       [ 1.522],\n",
       "       [ 1.522],\n",
       "       [ 1.616],\n",
       "       [ 1.616],\n",
       "       [ 1.656],\n",
       "       [ 1.656],\n",
       "       [ 1.739],\n",
       "       [ 1.739],\n",
       "       [ 1.807],\n",
       "       [ 1.807],\n",
       "       [ 2.013],\n",
       "       [ 2.013],\n",
       "       [ 2.05 ],\n",
       "       [ 2.05 ],\n",
       "       [ 2.092],\n",
       "       [ 2.092],\n",
       "       [ 3.265],\n",
       "       [ 3.265],\n",
       "       [ 3.3  ],\n",
       "       [ 3.3  ],\n",
       "       [ 3.278],\n",
       "       [ 3.278],\n",
       "       [ 2.415],\n",
       "       [ 2.415],\n",
       "       [ 2.156],\n",
       "       [ 2.156],\n",
       "       [ 2.206],\n",
       "       [ 2.206],\n",
       "       [ 4.016],\n",
       "       [ 4.016],\n",
       "       [ 3.839],\n",
       "       [ 3.839],\n",
       "       [ 2.263],\n",
       "       [ 2.263],\n",
       "       [ 2.286],\n",
       "       [ 2.286],\n",
       "       [ 2.172],\n",
       "       [ 2.172],\n",
       "       [ 4.059],\n",
       "       [ 2.427],\n",
       "       [ 2.289],\n",
       "       [ 2.289],\n",
       "       [ 2.243],\n",
       "       [ 2.243],\n",
       "       [ 2.454],\n",
       "       [ 2.473],\n",
       "       [ 2.389],\n",
       "       [ 2.389],\n",
       "       [ 2.359],\n",
       "       [ 2.359],\n",
       "       [ 2.574],\n",
       "       [ 2.574],\n",
       "       [ 2.509],\n",
       "       [ 2.509],\n",
       "       [ 2.416],\n",
       "       [ 2.416],\n",
       "       [ 2.593],\n",
       "       [ 2.593],\n",
       "       [ 2.636],\n",
       "       [ 3.682],\n",
       "       [ 3.728],\n",
       "       [ 3.728],\n",
       "       [ 4.05 ],\n",
       "       [ 4.05 ],\n",
       "       [ 4.146],\n",
       "       [ 4.146],\n",
       "       [ 3.966],\n",
       "       [ 3.966],\n",
       "       [ 2.848],\n",
       "       [ 2.848],\n",
       "       [ 2.755],\n",
       "       [ 2.755],\n",
       "       [ 2.796],\n",
       "       [ 2.796],\n",
       "       [ 2.85 ],\n",
       "       [ 2.85 ],\n",
       "       [ 2.735],\n",
       "       [ 2.735],\n",
       "       [ 2.608],\n",
       "       [ 2.608],\n",
       "       [ 2.675],\n",
       "       [ 2.675],\n",
       "       [ 2.7  ],\n",
       "       [ 2.692],\n",
       "       [ 4.501],\n",
       "       [ 4.501],\n",
       "       [ 4.632],\n",
       "       [ 4.632],\n",
       "       [ 4.741],\n",
       "       [ 4.741],\n",
       "       [ 4.739],\n",
       "       [ 3.047],\n",
       "       [ 3.046],\n",
       "       [ 3.046],\n",
       "       [ 2.795],\n",
       "       [ 2.795],\n",
       "       [ 3.005],\n",
       "       [ 3.005],\n",
       "       [ 3.067],\n",
       "       [ 3.067],\n",
       "       [ 3.036],\n",
       "       [ 3.036],\n",
       "       [ 3.011],\n",
       "       [ 3.011],\n",
       "       [ 4.88 ],\n",
       "       [ 4.88 ],\n",
       "       [ 4.821],\n",
       "       [ 4.821],\n",
       "       [ 4.802],\n",
       "       [ 4.802],\n",
       "       [ 5.025],\n",
       "       [ 5.025],\n",
       "       [ 5.167],\n",
       "       [ 5.167],\n",
       "       [ 3.305],\n",
       "       [ 3.305],\n",
       "       [ 3.338],\n",
       "       [ 4.244],\n",
       "       [ 4.213],\n",
       "       [ 4.213],\n",
       "       [ 4.091],\n",
       "       [ 3.213],\n",
       "       [ 3.374],\n",
       "       [ 3.374],\n",
       "       [ 3.491],\n",
       "       [ 3.491],\n",
       "       [ 3.394],\n",
       "       [ 3.405],\n",
       "       [ 3.486],\n",
       "       [ 3.486],\n",
       "       [ 3.464],\n",
       "       [ 3.464],\n",
       "       [ 3.433],\n",
       "       [ 3.658],\n",
       "       [ 3.512],\n",
       "       [ 3.512],\n",
       "       [ 1.823],\n",
       "       [ 2.126],\n",
       "       [ 2.082],\n",
       "       [ 3.359],\n",
       "       [ 4.589],\n",
       "       [ 4.589],\n",
       "       [ 4.509],\n",
       "       [ 4.509],\n",
       "       [ 4.63 ],\n",
       "       [ 3.712],\n",
       "       [ 4.   ],\n",
       "       [ 4.   ],\n",
       "       [ 5.298],\n",
       "       [ 5.298],\n",
       "       [ 5.346],\n",
       "       [ 5.346],\n",
       "       [ 5.67 ],\n",
       "       [ 5.647],\n",
       "       [ 5.452],\n",
       "       [ 4.651],\n",
       "       [ 3.658],\n",
       "       [ 3.658],\n",
       "       [ 3.669],\n",
       "       [ 3.669],\n",
       "       [ 3.783],\n",
       "       [ 3.799],\n",
       "       [ 3.612],\n",
       "       [ 3.612],\n",
       "       [ 3.57 ],\n",
       "       [ 3.57 ],\n",
       "       [ 4.067],\n",
       "       [ 5.876],\n",
       "       [ 5.876],\n",
       "       [ 5.831],\n",
       "       [ 5.831],\n",
       "       [ 5.977],\n",
       "       [ 5.977],\n",
       "       [ 5.836],\n",
       "       [ 5.836],\n",
       "       [ 5.571],\n",
       "       [ 5.571],\n",
       "       [ 5.685],\n",
       "       [ 3.941],\n",
       "       [ 6.053],\n",
       "       [ 6.053],\n",
       "       [ 5.936],\n",
       "       [ 5.936],\n",
       "       [ 4.021],\n",
       "       [ 4.021],\n",
       "       [ 4.037],\n",
       "       [ 3.985],\n",
       "       [ 4.112],\n",
       "       [ 4.112],\n",
       "       [ 3.916],\n",
       "       [ 3.916],\n",
       "       [ 5.303],\n",
       "       [ 5.303],\n",
       "       [ 5.326],\n",
       "       [ 5.124],\n",
       "       [ 6.135],\n",
       "       [ 6.135],\n",
       "       [ 5.727],\n",
       "       [ 5.727],\n",
       "       [ 4.048],\n",
       "       [ 4.048],\n",
       "       [ 4.485],\n",
       "       [ 4.485],\n",
       "       [ 4.295],\n",
       "       [ 4.295],\n",
       "       [ 6.114],\n",
       "       [ 6.114],\n",
       "       [ 6.359],\n",
       "       [ 6.359],\n",
       "       [ 5.767],\n",
       "       [ 4.271],\n",
       "       [ 4.411],\n",
       "       [ 4.411],\n",
       "       [ 4.526],\n",
       "       [ 4.526],\n",
       "       [ 4.606],\n",
       "       [ 4.606],\n",
       "       [ 4.769],\n",
       "       [ 4.769],\n",
       "       [ 4.547],\n",
       "       [ 4.422],\n",
       "       [ 4.534],\n",
       "       [ 4.534],\n",
       "       [ 4.831],\n",
       "       [ 4.831],\n",
       "       [ 5.021],\n",
       "       [ 4.901],\n",
       "       [ 4.708],\n",
       "       [ 4.708],\n",
       "       [ 4.596],\n",
       "       [ 4.167],\n",
       "       [ 4.722],\n",
       "       [ 4.722],\n",
       "       [ 4.139],\n",
       "       [ 4.139],\n",
       "       [ 4.1  ],\n",
       "       [ 4.1  ],\n",
       "       [ 4.5  ],\n",
       "       [ 4.5  ],\n",
       "       [ 4.668],\n",
       "       [ 4.584],\n",
       "       [ 4.297],\n",
       "       [ 4.297],\n",
       "       [ 4.163],\n",
       "       [ 4.816],\n",
       "       [ 6.502],\n",
       "       [ 6.502],\n",
       "       [ 5.05 ],\n",
       "       [ 5.05 ],\n",
       "       [ 4.759],\n",
       "       [ 4.759],\n",
       "       [ 4.642],\n",
       "       [ 4.592],\n",
       "       [ 4.893],\n",
       "       [ 4.893],\n",
       "       [ 6.83 ],\n",
       "       [ 6.83 ],\n",
       "       [ 4.692],\n",
       "       [ 4.692],\n",
       "       [ 4.633],\n",
       "       [ 4.991],\n",
       "       [ 4.707],\n",
       "       [ 4.707],\n",
       "       [ 4.83 ],\n",
       "       [ 4.83 ],\n",
       "       [ 4.888],\n",
       "       [ 4.888],\n",
       "       [ 5.049],\n",
       "       [ 5.208],\n",
       "       [ 5.27 ],\n",
       "       [ 5.213],\n",
       "       [ 5.111],\n",
       "       [ 5.111],\n",
       "       [ 5.043],\n",
       "       [ 5.043],\n",
       "       [ 5.294],\n",
       "       [ 5.294],\n",
       "       [ 5.512],\n",
       "       [ 5.275],\n",
       "       [ 6.841],\n",
       "       [ 6.841],\n",
       "       [ 7.185],\n",
       "       [ 7.185],\n",
       "       [ 7.138],\n",
       "       [ 7.138],\n",
       "       [ 5.2  ],\n",
       "       [ 5.2  ],\n",
       "       [ 5.316],\n",
       "       [ 5.316],\n",
       "       [ 4.9  ],\n",
       "       [ 5.035],\n",
       "       [ 5.164],\n",
       "       [ 4.919],\n",
       "       [ 5.415],\n",
       "       [ 5.415],\n",
       "       [ 5.492],\n",
       "       [ 5.492],\n",
       "       [ 7.387],\n",
       "       [ 7.387],\n",
       "       [ 7.564],\n",
       "       [ 5.462],\n",
       "       [ 5.269],\n",
       "       [ 7.469],\n",
       "       [ 7.395],\n",
       "       [ 7.395],\n",
       "       [ 6.809],\n",
       "       [ 6.809],\n",
       "       [ 7.257],\n",
       "       [ 7.257],\n",
       "       [ 7.305],\n",
       "       [ 7.305],\n",
       "       [ 7.325],\n",
       "       [ 5.784],\n",
       "       [ 5.205],\n",
       "       [ 5.205],\n",
       "       [ 5.43 ],\n",
       "       [ 5.511],\n",
       "       [ 5.489],\n",
       "       [ 6.01 ],\n",
       "       [ 5.36 ],\n",
       "       [ 5.71 ],\n",
       "       [ 5.459],\n",
       "       [ 5.459],\n",
       "       [ 5.664],\n",
       "       [ 5.664],\n",
       "       [ 5.831],\n",
       "       [ 5.831],\n",
       "       [ 6.048],\n",
       "       [ 5.896],\n",
       "       [ 5.915],\n",
       "       [ 5.669],\n",
       "       [ 5.229],\n",
       "       [ 5.716],\n",
       "       [ 5.727],\n",
       "       [ 5.257],\n",
       "       [ 5.31 ],\n",
       "       [ 5.226],\n",
       "       [ 5.449],\n",
       "       [ 5.511],\n",
       "       [ 5.426],\n",
       "       [ 5.691],\n",
       "       [ 5.691],\n",
       "       [ 5.753],\n",
       "       [ 5.88 ],\n",
       "       [ 5.913],\n",
       "       [ 5.893],\n",
       "       [ 6.392],\n",
       "       [ 5.78 ],\n",
       "       [ 6.027],\n",
       "       [ 6.099],\n",
       "       [ 7.937],\n",
       "       [ 6.155],\n",
       "       [ 5.774],\n",
       "       [ 5.871],\n",
       "       [ 5.871],\n",
       "       [ 5.975],\n",
       "       [ 5.968],\n",
       "       [ 5.853],\n",
       "       [ 6.139],\n",
       "       [ 6.518],\n",
       "       [ 5.897],\n",
       "       [ 5.717],\n",
       "       [ 6.401],\n",
       "       [ 7.612],\n",
       "       [ 5.907],\n",
       "       [ 5.907],\n",
       "       [ 6.316],\n",
       "       [ 7.011],\n",
       "       [ 6.792],\n",
       "       [ 6.532],\n",
       "       [ 7.741],\n",
       "       [ 6.816],\n",
       "       [ 6.724],\n",
       "       [ 6.014],\n",
       "       [ 5.95 ],\n",
       "       [ 5.95 ]], dtype=float32)"
      ]
     },
     "execution_count": 20,
     "metadata": {},
     "output_type": "execute_result"
    }
   ],
   "source": [
    "model.predict(test_features)"
   ]
  },
  {
   "cell_type": "code",
   "execution_count": 21,
   "metadata": {},
   "outputs": [],
   "source": [
    "model.compile(\n",
    "    optimizer=tf.optimizers.Adam(learning_rate=0.1),\n",
    "    loss='mean_absolute_error')"
   ]
  },
  {
   "cell_type": "code",
   "execution_count": 22,
   "metadata": {},
   "outputs": [
    {
     "name": "stdout",
     "output_type": "stream",
     "text": [
      "CPU times: user 5.88 s, sys: 823 ms, total: 6.71 s\n",
      "Wall time: 5.85 s\n"
     ]
    }
   ],
   "source": [
    "%%time\n",
    "history = model.fit(\n",
    "    train_features[['total_cpu_util', 'total_mem_util', 'responsetime']], train_labels,\n",
    "    epochs=100,\n",
    "    # suppress logging\n",
    "    verbose=0,\n",
    "    # Calculate validation results on 20% of the training data\n",
    "    validation_split = 0.2)"
   ]
  },
  {
   "cell_type": "code",
   "execution_count": 23,
   "metadata": {},
   "outputs": [
    {
     "data": {
      "text/html": [
       "<div>\n",
       "<style scoped>\n",
       "    .dataframe tbody tr th:only-of-type {\n",
       "        vertical-align: middle;\n",
       "    }\n",
       "\n",
       "    .dataframe tbody tr th {\n",
       "        vertical-align: top;\n",
       "    }\n",
       "\n",
       "    .dataframe thead th {\n",
       "        text-align: right;\n",
       "    }\n",
       "</style>\n",
       "<table border=\"1\" class=\"dataframe\">\n",
       "  <thead>\n",
       "    <tr style=\"text-align: right;\">\n",
       "      <th></th>\n",
       "      <th>loss</th>\n",
       "      <th>val_loss</th>\n",
       "      <th>epoch</th>\n",
       "    </tr>\n",
       "  </thead>\n",
       "  <tbody>\n",
       "    <tr>\n",
       "      <th>95</th>\n",
       "      <td>6.587667</td>\n",
       "      <td>5.939492</td>\n",
       "      <td>95</td>\n",
       "    </tr>\n",
       "    <tr>\n",
       "      <th>96</th>\n",
       "      <td>6.578541</td>\n",
       "      <td>5.933252</td>\n",
       "      <td>96</td>\n",
       "    </tr>\n",
       "    <tr>\n",
       "      <th>97</th>\n",
       "      <td>6.587464</td>\n",
       "      <td>5.957983</td>\n",
       "      <td>97</td>\n",
       "    </tr>\n",
       "    <tr>\n",
       "      <th>98</th>\n",
       "      <td>6.576860</td>\n",
       "      <td>5.963979</td>\n",
       "      <td>98</td>\n",
       "    </tr>\n",
       "    <tr>\n",
       "      <th>99</th>\n",
       "      <td>6.604640</td>\n",
       "      <td>5.963621</td>\n",
       "      <td>99</td>\n",
       "    </tr>\n",
       "  </tbody>\n",
       "</table>\n",
       "</div>"
      ],
      "text/plain": [
       "        loss  val_loss  epoch\n",
       "95  6.587667  5.939492     95\n",
       "96  6.578541  5.933252     96\n",
       "97  6.587464  5.957983     97\n",
       "98  6.576860  5.963979     98\n",
       "99  6.604640  5.963621     99"
      ]
     },
     "execution_count": 23,
     "metadata": {},
     "output_type": "execute_result"
    }
   ],
   "source": [
    "hist = pd.DataFrame(history.history)\n",
    "hist['epoch'] = history.epoch\n",
    "hist.tail()"
   ]
  },
  {
   "cell_type": "code",
   "execution_count": 38,
   "metadata": {},
   "outputs": [],
   "source": [
    "def plot_loss(history):\n",
    "  plt.plot(history.history['loss'], label='loss')\n",
    "  plt.plot(history.history['val_loss'], label='val_loss')\n",
    "  plt.ylim([0, 100])\n",
    "  plt.xlabel('Epoch')\n",
    "  plt.ylabel('Error [MPG]')\n",
    "  plt.legend()\n",
    "  plt.grid(True)"
   ]
  },
  {
   "cell_type": "code",
   "execution_count": 39,
   "metadata": {},
   "outputs": [
    {
     "data": {
      "image/png": "[encoded data removed]",
      "text/plain": [
       "<Figure size 432x288 with 1 Axes>"
      ]
     },
     "metadata": {
      "needs_background": "light"
     },
     "output_type": "display_data"
    }
   ],
   "source": [
    "plot_loss(history)"
   ]
  },
  {
   "cell_type": "code",
   "execution_count": 40,
   "metadata": {},
   "outputs": [],
   "source": [
    "test_results = {}\n",
    "\n",
    "test_results['model'] = model.evaluate(\n",
    "    val_features[['total_cpu_util', 'total_mem_util', 'responsetime']],\n",
    "    val_labels, verbose=0)"
   ]
  },
  {
   "cell_type": "code",
   "execution_count": 41,
   "metadata": {},
   "outputs": [],
   "source": [
    "def build_and_compile_model(norm):\n",
    "  model = keras.Sequential([\n",
    "      norm,\n",
    "      layers.Dense(64, activation='relu'),\n",
    "      layers.Dense(64, activation='relu'),\n",
    "      layers.Dense(1)\n",
    "  ])\n",
    "\n",
    "  model.compile(loss='mean_absolute_error',\n",
    "                optimizer=tf.keras.optimizers.Adam(0.001))\n",
    "  return model"
   ]
  },
  {
   "cell_type": "code",
   "execution_count": 42,
   "metadata": {},
   "outputs": [],
   "source": [
    "dnn_model = build_and_compile_model(input_normalizer)"
   ]
  },
  {
   "cell_type": "code",
   "execution_count": 43,
   "metadata": {},
   "outputs": [
    {
     "name": "stdout",
     "output_type": "stream",
     "text": [
      "Model: \"sequential_2\"\n",
      "_________________________________________________________________\n",
      "Layer (type)                 Output Shape              Param #   \n",
      "=================================================================\n",
      "normalization_1 (Normalizati (None, 3)                 7         \n",
      "_________________________________________________________________\n",
      "dense_4 (Dense)              (None, 64)                256       \n",
      "_________________________________________________________________\n",
      "dense_5 (Dense)              (None, 64)                4160      \n",
      "_________________________________________________________________\n",
      "dense_6 (Dense)              (None, 1)                 65        \n",
      "=================================================================\n",
      "Total params: 4,488\n",
      "Trainable params: 4,481\n",
      "Non-trainable params: 7\n",
      "_________________________________________________________________\n"
     ]
    }
   ],
   "source": [
    "dnn_model.summary()"
   ]
  },
  {
   "cell_type": "code",
   "execution_count": 44,
   "metadata": {},
   "outputs": [
    {
     "name": "stdout",
     "output_type": "stream",
     "text": [
      "CPU times: user 8.9 s, sys: 1.16 s, total: 10.1 s\n",
      "Wall time: 6.47 s\n"
     ]
    }
   ],
   "source": [
    "%%time\n",
    "history = dnn_model.fit(\n",
    "    train_features[['total_cpu_util', 'total_mem_util', 'responsetime']], train_labels,\n",
    "    validation_split=0.2,\n",
    "    verbose=0, epochs=100)"
   ]
  },
  {
   "cell_type": "code",
   "execution_count": 45,
   "metadata": {},
   "outputs": [
    {
     "data": {
      "image/png": "[encoded data removed]",
      "text/plain": [
       "<Figure size 432x288 with 1 Axes>"
      ]
     },
     "metadata": {
      "needs_background": "light"
     },
     "output_type": "display_data"
    }
   ],
   "source": [
    "plot_loss(history)"
   ]
  },
  {
   "cell_type": "code",
   "execution_count": 32,
   "metadata": {},
   "outputs": [],
   "source": [
    "test_results['dnn_model'] = dnn_model.evaluate(\n",
    "    val_features[['total_cpu_util', 'total_mem_util', 'responsetime']], val_labels,\n",
    "    verbose=0)"
   ]
  },
  {
   "cell_type": "code",
   "execution_count": 33,
   "metadata": {},
   "outputs": [
    {
     "data": {
      "text/html": [
       "<div>\n",
       "<style scoped>\n",
       "    .dataframe tbody tr th:only-of-type {\n",
       "        vertical-align: middle;\n",
       "    }\n",
       "\n",
       "    .dataframe tbody tr th {\n",
       "        vertical-align: top;\n",
       "    }\n",
       "\n",
       "    .dataframe thead th {\n",
       "        text-align: right;\n",
       "    }\n",
       "</style>\n",
       "<table border=\"1\" class=\"dataframe\">\n",
       "  <thead>\n",
       "    <tr style=\"text-align: right;\">\n",
       "      <th></th>\n",
       "      <th>requests</th>\n",
       "    </tr>\n",
       "  </thead>\n",
       "  <tbody>\n",
       "    <tr>\n",
       "      <th>model</th>\n",
       "      <td>6.445238</td>\n",
       "    </tr>\n",
       "    <tr>\n",
       "      <th>dnn_model</th>\n",
       "      <td>5.305232</td>\n",
       "    </tr>\n",
       "  </tbody>\n",
       "</table>\n",
       "</div>"
      ],
      "text/plain": [
       "           requests\n",
       "model      6.445238\n",
       "dnn_model  5.305232"
      ]
     },
     "execution_count": 33,
     "metadata": {},
     "output_type": "execute_result"
    }
   ],
   "source": [
    "pd.DataFrame(test_results, index=['requests']).T"
   ]
  },
  {
   "cell_type": "markdown",
   "metadata": {},
   "source": [
    "## Make Predictions"
   ]
  },
  {
   "cell_type": "code",
   "execution_count": 46,
   "metadata": {},
   "outputs": [
    {
     "data": {
      "image/png": "[encoded data removed]",
      "text/plain": [
       "<Figure size 432x288 with 1 Axes>"
      ]
     },
     "metadata": {
      "needs_background": "light"
     },
     "output_type": "display_data"
    }
   ],
   "source": [
    "test_predictions = dnn_model.predict(test_features).flatten()\n",
    "\n",
    "a = plt.axes(aspect='equal')\n",
    "plt.scatter(test_labels, test_predictions)\n",
    "plt.xlabel('True Values requests')\n",
    "plt.ylabel('Predictions requests')\n",
    "lims = [0, 600]\n",
    "plt.xlim(lims)\n",
    "plt.ylim(lims)\n",
    "_ = plt.plot(lims, lims)"
   ]
  },
  {
   "cell_type": "code",
   "execution_count": 35,
   "metadata": {},
   "outputs": [
    {
     "name": "stdout",
     "output_type": "stream",
     "text": [
      "R² : 0.9929045153593568\n"
     ]
    }
   ],
   "source": [
    "from sklearn.metrics import r2_score\n",
    "R = r2_score(test_labels, test_predictions)\n",
    "print ('R² :',R)"
   ]
  },
  {
   "cell_type": "code",
   "execution_count": 36,
   "metadata": {},
   "outputs": [
    {
     "data": {
      "image/png": "[encoded data removed]",
      "text/plain": [
       "<Figure size 432x288 with 1 Axes>"
      ]
     },
     "metadata": {
      "needs_background": "light"
     },
     "output_type": "display_data"
    }
   ],
   "source": [
    "error = test_predictions - test_labels\n",
    "plt.hist(error, bins=100)\n",
    "plt.xlabel('Prediction Error [requests]')\n",
    "_ = plt.ylabel('Count')"
   ]
  },
  {
   "cell_type": "code",
   "execution_count": null,
   "metadata": {},
   "outputs": [],
   "source": []
  }
 ],
 "metadata": {
  "kernelspec": {
   "display_name": "Python 3",
   "language": "python",
   "name": "python3"
  },
  "language_info": {
   "codemirror_mode": {
    "name": "ipython",
    "version": 3
   },
   "file_extension": ".py",
   "mimetype": "text/x-python",
   "name": "python",
   "nbconvert_exporter": "python",
   "pygments_lexer": "ipython3",
   "version": "3.6.9"
  }
 },
 "nbformat": 4,
 "nbformat_minor": 4
}
