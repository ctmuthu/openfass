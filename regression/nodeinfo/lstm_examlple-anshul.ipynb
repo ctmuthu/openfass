{
 "cells": [
  {
   "cell_type": "code",
   "execution_count": 2,
   "metadata": {},
   "outputs": [],
   "source": [
    "import os\n",
    "import datetime\n",
    "import matplotlib.pyplot as plt\n",
    "import numpy as np\n",
    "import pandas as pd\n",
    "import seaborn as sns\n",
    "from keras.models import Sequential\n",
    "from keras.layers.core import Activation, Dropout, Dense\n",
    "from keras.layers import Flatten, LSTM"
   ]
  },
  {
   "cell_type": "code",
   "execution_count": 3,
   "metadata": {},
   "outputs": [
    {
     "data": {
      "text/html": [
       "<div>\n",
       "<style scoped>\n",
       "    .dataframe tbody tr th:only-of-type {\n",
       "        vertical-align: middle;\n",
       "    }\n",
       "\n",
       "    .dataframe tbody tr th {\n",
       "        vertical-align: top;\n",
       "    }\n",
       "\n",
       "    .dataframe thead th {\n",
       "        text-align: right;\n",
       "    }\n",
       "</style>\n",
       "<table border=\"1\" class=\"dataframe\">\n",
       "  <thead>\n",
       "    <tr style=\"text-align: right;\">\n",
       "      <th></th>\n",
       "      <th>cpu</th>\n",
       "      <th>diskio</th>\n",
       "      <th>diskioRead</th>\n",
       "      <th>diskioWritten</th>\n",
       "      <th>mem</th>\n",
       "      <th>networkReceived</th>\n",
       "      <th>networkTransmitted</th>\n",
       "      <th>replica</th>\n",
       "      <th>requests</th>\n",
       "      <th>responsetime</th>\n",
       "      <th>totalcpu</th>\n",
       "      <th>totalcpuUtilization</th>\n",
       "      <th>totalmemory</th>\n",
       "      <th>totalmemoryUtilization</th>\n",
       "    </tr>\n",
       "  </thead>\n",
       "  <tbody>\n",
       "    <tr>\n",
       "      <th>0</th>\n",
       "      <td>0.543895</td>\n",
       "      <td>0.008625</td>\n",
       "      <td>924.236712</td>\n",
       "      <td>63156.175327</td>\n",
       "      <td>0.176144</td>\n",
       "      <td>2128.447148</td>\n",
       "      <td>10523.371640</td>\n",
       "      <td>1.0</td>\n",
       "      <td>50.0</td>\n",
       "      <td>0.103940</td>\n",
       "      <td>6.0</td>\n",
       "      <td>44.260521</td>\n",
       "      <td>1.240458e+10</td>\n",
       "      <td>36.548910</td>\n",
       "    </tr>\n",
       "    <tr>\n",
       "      <th>1</th>\n",
       "      <td>0.555150</td>\n",
       "      <td>0.011289</td>\n",
       "      <td>12651.807738</td>\n",
       "      <td>94205.906535</td>\n",
       "      <td>0.176144</td>\n",
       "      <td>6182.507055</td>\n",
       "      <td>20512.544166</td>\n",
       "      <td>1.0</td>\n",
       "      <td>192.0</td>\n",
       "      <td>0.108720</td>\n",
       "      <td>6.0</td>\n",
       "      <td>44.260521</td>\n",
       "      <td>1.240458e+10</td>\n",
       "      <td>37.249118</td>\n",
       "    </tr>\n",
       "    <tr>\n",
       "      <th>2</th>\n",
       "      <td>0.521781</td>\n",
       "      <td>0.010222</td>\n",
       "      <td>12652.088889</td>\n",
       "      <td>107315.200000</td>\n",
       "      <td>0.196314</td>\n",
       "      <td>7243.755556</td>\n",
       "      <td>20228.244444</td>\n",
       "      <td>1.0</td>\n",
       "      <td>333.0</td>\n",
       "      <td>0.105527</td>\n",
       "      <td>6.0</td>\n",
       "      <td>15.116667</td>\n",
       "      <td>1.240458e+10</td>\n",
       "      <td>37.249118</td>\n",
       "    </tr>\n",
       "    <tr>\n",
       "      <th>3</th>\n",
       "      <td>0.521781</td>\n",
       "      <td>0.009778</td>\n",
       "      <td>11832.888889</td>\n",
       "      <td>115234.133333</td>\n",
       "      <td>0.196314</td>\n",
       "      <td>8994.822222</td>\n",
       "      <td>25560.088889</td>\n",
       "      <td>1.0</td>\n",
       "      <td>474.0</td>\n",
       "      <td>0.108370</td>\n",
       "      <td>6.0</td>\n",
       "      <td>15.116667</td>\n",
       "      <td>1.240458e+10</td>\n",
       "      <td>37.201915</td>\n",
       "    </tr>\n",
       "    <tr>\n",
       "      <th>4</th>\n",
       "      <td>0.406110</td>\n",
       "      <td>0.008533</td>\n",
       "      <td>0.000000</td>\n",
       "      <td>97939.911111</td>\n",
       "      <td>0.196123</td>\n",
       "      <td>7063.244444</td>\n",
       "      <td>18804.822222</td>\n",
       "      <td>1.0</td>\n",
       "      <td>564.0</td>\n",
       "      <td>0.103987</td>\n",
       "      <td>6.0</td>\n",
       "      <td>10.733333</td>\n",
       "      <td>1.240458e+10</td>\n",
       "      <td>37.201915</td>\n",
       "    </tr>\n",
       "  </tbody>\n",
       "</table>\n",
       "</div>"
      ],
      "text/plain": [
       "        cpu    diskio    diskioRead  diskioWritten       mem  networkReceived  \\\n",
       "0  0.543895  0.008625    924.236712   63156.175327  0.176144      2128.447148   \n",
       "1  0.555150  0.011289  12651.807738   94205.906535  0.176144      6182.507055   \n",
       "2  0.521781  0.010222  12652.088889  107315.200000  0.196314      7243.755556   \n",
       "3  0.521781  0.009778  11832.888889  115234.133333  0.196314      8994.822222   \n",
       "4  0.406110  0.008533      0.000000   97939.911111  0.196123      7063.244444   \n",
       "\n",
       "   networkTransmitted  replica  requests  responsetime  totalcpu  \\\n",
       "0        10523.371640      1.0      50.0      0.103940       6.0   \n",
       "1        20512.544166      1.0     192.0      0.108720       6.0   \n",
       "2        20228.244444      1.0     333.0      0.105527       6.0   \n",
       "3        25560.088889      1.0     474.0      0.108370       6.0   \n",
       "4        18804.822222      1.0     564.0      0.103987       6.0   \n",
       "\n",
       "   totalcpuUtilization   totalmemory  totalmemoryUtilization  \n",
       "0            44.260521  1.240458e+10               36.548910  \n",
       "1            44.260521  1.240458e+10               37.249118  \n",
       "2            15.116667  1.240458e+10               37.249118  \n",
       "3            15.116667  1.240458e+10               37.201915  \n",
       "4            10.733333  1.240458e+10               37.201915  "
      ]
     },
     "execution_count": 3,
     "metadata": {},
     "output_type": "execute_result"
    }
   ],
   "source": [
    "cwd = os.getcwd()\n",
    "output_dir = os.path.join(cwd, \"../../data\")\n",
    "df = pd.read_csv(os.path.join(output_dir, \"combined_nodeinfo.csv\"))\n",
    "df_test = pd.read_csv(os.path.join(output_dir, \"combined_nodeinfotest.csv\"))\n",
    "#df_test = pd.read_csv(os.path.join(output_dir, \"figlet1599056546.006096_1599063766.431225.csv\"))\n",
    "df = df.drop(df[df.responsetime > 10].index)\n",
    "df.pop('Time')\n",
    "df_test = df_test.drop(df_test[df_test.responsetime > 10].index)\n",
    "df_test.pop('Time')\n",
    "df.head()"
   ]
  },
  {
   "cell_type": "code",
   "execution_count": 4,
   "metadata": {},
   "outputs": [],
   "source": [
    "# remove 2xlarge\n",
    "df = df.drop(df[df.totalcpu > 16].index)"
   ]
  },
  {
   "cell_type": "code",
   "execution_count": 5,
   "metadata": {},
   "outputs": [],
   "source": [
    "df_t = pd.DataFrame()\n",
    "df_ttest = pd.DataFrame()"
   ]
  },
  {
   "cell_type": "code",
   "execution_count": 6,
   "metadata": {},
   "outputs": [
    {
     "data": {
      "text/html": [
       "<div>\n",
       "<style scoped>\n",
       "    .dataframe tbody tr th:only-of-type {\n",
       "        vertical-align: middle;\n",
       "    }\n",
       "\n",
       "    .dataframe tbody tr th {\n",
       "        vertical-align: top;\n",
       "    }\n",
       "\n",
       "    .dataframe thead th {\n",
       "        text-align: right;\n",
       "    }\n",
       "</style>\n",
       "<table border=\"1\" class=\"dataframe\">\n",
       "  <thead>\n",
       "    <tr style=\"text-align: right;\">\n",
       "      <th></th>\n",
       "      <th>total_cpu_util</th>\n",
       "      <th>total_mem_util</th>\n",
       "      <th>responsetime</th>\n",
       "      <th>requests</th>\n",
       "    </tr>\n",
       "  </thead>\n",
       "  <tbody>\n",
       "    <tr>\n",
       "      <th>0</th>\n",
       "      <td>1.779273</td>\n",
       "      <td>453.373747</td>\n",
       "      <td>0.103940</td>\n",
       "      <td>50.0</td>\n",
       "    </tr>\n",
       "    <tr>\n",
       "      <th>1</th>\n",
       "      <td>1.779273</td>\n",
       "      <td>462.059520</td>\n",
       "      <td>0.108720</td>\n",
       "      <td>192.0</td>\n",
       "    </tr>\n",
       "    <tr>\n",
       "      <th>2</th>\n",
       "      <td>0.607690</td>\n",
       "      <td>462.059520</td>\n",
       "      <td>0.105527</td>\n",
       "      <td>333.0</td>\n",
       "    </tr>\n",
       "    <tr>\n",
       "      <th>3</th>\n",
       "      <td>0.607690</td>\n",
       "      <td>461.473997</td>\n",
       "      <td>0.108370</td>\n",
       "      <td>474.0</td>\n",
       "    </tr>\n",
       "    <tr>\n",
       "      <th>4</th>\n",
       "      <td>0.431480</td>\n",
       "      <td>461.473997</td>\n",
       "      <td>0.103987</td>\n",
       "      <td>564.0</td>\n",
       "    </tr>\n",
       "  </tbody>\n",
       "</table>\n",
       "</div>"
      ],
      "text/plain": [
       "   total_cpu_util  total_mem_util  responsetime  requests\n",
       "0        1.779273      453.373747      0.103940      50.0\n",
       "1        1.779273      462.059520      0.108720     192.0\n",
       "2        0.607690      462.059520      0.105527     333.0\n",
       "3        0.607690      461.473997      0.108370     474.0\n",
       "4        0.431480      461.473997      0.103987     564.0"
      ]
     },
     "execution_count": 6,
     "metadata": {},
     "output_type": "execute_result"
    }
   ],
   "source": [
    "df_t['total_cpu_util'] = (df['totalcpuUtilization']*(df['totalcpu']*0.67))/100                    \n",
    "df_t['total_mem_util'] = (df['totalmemoryUtilization']*df['totalmemory'])*1e-9\n",
    "df_t['responsetime'] = df['responsetime']\n",
    "df_t['requests'] = df['requests']\n",
    "#df_t['replica'] = df['replica']\n",
    "df_ttest['total_cpu_util'] = (df_test['totalcpuUtilization']*(df_test['totalcpu']*0.67))/100\n",
    "df_ttest['total_mem_util'] = (df_test['totalmemoryUtilization']*df_test['totalmemory'])*1e-9\n",
    "df_ttest['responsetime'] = df_test['responsetime']\n",
    "df_ttest['requests'] = df_test['requests']\n",
    "#df_ttest['replica'] = df_test['replica']\n",
    "df_t.head()"
   ]
  },
  {
   "cell_type": "code",
   "execution_count": 7,
   "metadata": {},
   "outputs": [],
   "source": [
    "training_set = df_t.iloc[:, 0:3].values\n",
    "training_set_y = df_t.iloc[:, 3:4].values\n",
    "testing_set = df_ttest.iloc[:, 0:3].values\n",
    "testing_set_y = df_ttest.iloc[:, 3:4].values"
   ]
  },
  {
   "cell_type": "code",
   "execution_count": 8,
   "metadata": {},
   "outputs": [
    {
     "data": {
      "text/plain": [
       "array([[1.77927293e+00, 4.53373747e+02, 1.03939538e-01],\n",
       "       [1.77927293e+00, 4.62059520e+02, 1.08720316e-01],\n",
       "       [6.07690000e-01, 4.62059520e+02, 1.05526871e-01],\n",
       "       ...,\n",
       "       [2.49038028e+00, 7.21752883e+02, 5.47381110e+00],\n",
       "       [2.47155231e+00, 7.22192179e+02, 5.47381110e+00],\n",
       "       [2.47155231e+00, 7.22192179e+02, 2.88976271e+00]])"
      ]
     },
     "execution_count": 8,
     "metadata": {},
     "output_type": "execute_result"
    }
   ],
   "source": [
    "training_set"
   ]
  },
  {
   "cell_type": "code",
   "execution_count": 9,
   "metadata": {},
   "outputs": [
    {
     "data": {
      "text/plain": [
       "array([[  50.],\n",
       "       [ 192.],\n",
       "       [ 333.],\n",
       "       ...,\n",
       "       [8662.],\n",
       "       [8558.],\n",
       "       [8319.]])"
      ]
     },
     "execution_count": 9,
     "metadata": {},
     "output_type": "execute_result"
    }
   ],
   "source": [
    "training_set_y"
   ]
  },
  {
   "cell_type": "code",
   "execution_count": 26,
   "metadata": {},
   "outputs": [],
   "source": [
    "from sklearn.preprocessing import normalize\n",
    "#sc = MinMaxScaler(feature_range = (0, 1))\n",
    "training_set_scaled = normalize(training_set, norm='l2')\n",
    "training_set_y_scaled = normalize(training_set_y, norm='l2')\n",
    "testing_set_scaled = normalize(testing_set, norm='l2')"
   ]
  },
  {
   "cell_type": "code",
   "execution_count": 27,
   "metadata": {},
   "outputs": [
    {
     "data": {
      "text/plain": [
       "(2754, 3)"
      ]
     },
     "execution_count": 27,
     "metadata": {},
     "output_type": "execute_result"
    }
   ],
   "source": [
    "training_set_scaled.shape"
   ]
  },
  {
   "cell_type": "code",
   "execution_count": 28,
   "metadata": {},
   "outputs": [
    {
     "data": {
      "text/plain": [
       "(478, 3)"
      ]
     },
     "execution_count": 28,
     "metadata": {},
     "output_type": "execute_result"
    }
   ],
   "source": [
    "testing_set_scaled.shape"
   ]
  },
  {
   "cell_type": "code",
   "execution_count": 29,
   "metadata": {},
   "outputs": [],
   "source": [
    "training_set_scaled = np.array(training_set_scaled).reshape(training_set_scaled.shape[0], 1, training_set_scaled.shape[1])\n",
    "testing_set_scaled = np.array(testing_set_scaled).reshape(testing_set_scaled.shape[0], 1, testing_set_scaled.shape[1])"
   ]
  },
  {
   "cell_type": "code",
   "execution_count": 30,
   "metadata": {},
   "outputs": [
    {
     "data": {
      "text/plain": [
       "(2754, 1, 3)"
      ]
     },
     "execution_count": 30,
     "metadata": {},
     "output_type": "execute_result"
    }
   ],
   "source": [
    "training_set_scaled.shape"
   ]
  },
  {
   "cell_type": "code",
   "execution_count": 31,
   "metadata": {},
   "outputs": [
    {
     "name": "stdout",
     "output_type": "stream",
     "text": [
      "Model: \"sequential_2\"\n",
      "_________________________________________________________________\n",
      "Layer (type)                 Output Shape              Param #   \n",
      "=================================================================\n",
      "lstm_8 (LSTM)                (None, 1, 200)            163200    \n",
      "_________________________________________________________________\n",
      "lstm_9 (LSTM)                (None, 1, 100)            120400    \n",
      "_________________________________________________________________\n",
      "lstm_10 (LSTM)               (None, 1, 50)             30200     \n",
      "_________________________________________________________________\n",
      "lstm_11 (LSTM)               (None, 25)                7600      \n",
      "_________________________________________________________________\n",
      "dense_6 (Dense)              (None, 20)                520       \n",
      "_________________________________________________________________\n",
      "dense_7 (Dense)              (None, 10)                210       \n",
      "_________________________________________________________________\n",
      "dense_8 (Dense)              (None, 1)                 11        \n",
      "=================================================================\n",
      "Total params: 322,141\n",
      "Trainable params: 322,141\n",
      "Non-trainable params: 0\n",
      "_________________________________________________________________\n",
      "None\n"
     ]
    }
   ],
   "source": [
    "model = Sequential()\n",
    "model.add(LSTM(200, activation='relu', return_sequences=True,input_shape=(1, 3)))\n",
    "model.add(LSTM(100, activation='relu', return_sequences=True))\n",
    "model.add(LSTM(50, activation='relu', return_sequences=True))\n",
    "model.add(LSTM(25, activation='relu'))\n",
    "model.add(Dense(20, activation='relu'))\n",
    "model.add(Dense(10, activation='relu'))\n",
    "model.add(Dense(1))\n",
    "model.compile(optimizer='adam', loss='mse')\n",
    "print(model.summary())"
   ]
  },
  {
   "cell_type": "code",
   "execution_count": 32,
   "metadata": {},
   "outputs": [
    {
     "name": "stdout",
     "output_type": "stream",
     "text": [
      "Epoch 1/50\n",
      "45/45 [==============================] - 1s 22ms/step - loss: 0.9178 - val_loss: 0.8219\n",
      "Epoch 2/50\n",
      "45/45 [==============================] - 1s 15ms/step - loss: 0.6809 - val_loss: 0.3250\n",
      "Epoch 3/50\n",
      "45/45 [==============================] - 1s 14ms/step - loss: 0.0401 - val_loss: 0.0022\n",
      "Epoch 4/50\n",
      "45/45 [==============================] - 0s 10ms/step - loss: 2.7518e-04 - val_loss: 1.6832e-05\n",
      "Epoch 5/50\n",
      "45/45 [==============================] - 1s 11ms/step - loss: 2.3339e-06 - val_loss: 1.4097e-07\n",
      "Epoch 6/50\n",
      "45/45 [==============================] - 0s 10ms/step - loss: 2.2833e-07 - val_loss: 1.1368e-07\n",
      "Epoch 7/50\n",
      "45/45 [==============================] - 1s 17ms/step - loss: 1.9489e-07 - val_loss: 1.1676e-07\n",
      "Epoch 8/50\n",
      "45/45 [==============================] - 1s 18ms/step - loss: 1.9159e-07 - val_loss: 1.1910e-07\n",
      "Epoch 9/50\n",
      "45/45 [==============================] - 1s 16ms/step - loss: 1.9310e-07 - val_loss: 1.3131e-07\n",
      "Epoch 10/50\n",
      "45/45 [==============================] - 1s 16ms/step - loss: 1.9095e-07 - val_loss: 1.1093e-07\n",
      "Epoch 11/50\n",
      "45/45 [==============================] - 1s 19ms/step - loss: 1.8850e-07 - val_loss: 1.2341e-07\n",
      "Epoch 12/50\n",
      "45/45 [==============================] - 1s 11ms/step - loss: 1.9189e-07 - val_loss: 1.1142e-07\n",
      "Epoch 13/50\n",
      "45/45 [==============================] - 1s 13ms/step - loss: 1.8208e-07 - val_loss: 1.4002e-07\n",
      "Epoch 14/50\n",
      "45/45 [==============================] - 1s 14ms/step - loss: 1.8330e-07 - val_loss: 1.0317e-07\n",
      "Epoch 15/50\n",
      "45/45 [==============================] - 1s 16ms/step - loss: 1.7767e-07 - val_loss: 1.0200e-07\n",
      "Epoch 16/50\n",
      "45/45 [==============================] - 1s 12ms/step - loss: 1.7640e-07 - val_loss: 1.0211e-07\n",
      "Epoch 17/50\n",
      "45/45 [==============================] - 1s 18ms/step - loss: 1.7371e-07 - val_loss: 1.0767e-07\n",
      "Epoch 18/50\n",
      "45/45 [==============================] - 1s 14ms/step - loss: 1.7269e-07 - val_loss: 1.0032e-07\n",
      "Epoch 19/50\n",
      "45/45 [==============================] - 0s 11ms/step - loss: 1.6981e-07 - val_loss: 9.5939e-08\n",
      "Epoch 20/50\n",
      "45/45 [==============================] - 1s 15ms/step - loss: 1.7022e-07 - val_loss: 9.4589e-08\n",
      "Epoch 21/50\n",
      "45/45 [==============================] - 1s 18ms/step - loss: 1.6683e-07 - val_loss: 9.3337e-08\n",
      "Epoch 22/50\n",
      "45/45 [==============================] - 1s 16ms/step - loss: 1.6506e-07 - val_loss: 9.4057e-08\n",
      "Epoch 23/50\n",
      "45/45 [==============================] - 1s 14ms/step - loss: 1.5994e-07 - val_loss: 1.1885e-07\n",
      "Epoch 24/50\n",
      "45/45 [==============================] - 1s 12ms/step - loss: 1.6826e-07 - val_loss: 1.4137e-07\n",
      "Epoch 25/50\n",
      "45/45 [==============================] - 1s 13ms/step - loss: 1.6549e-07 - val_loss: 8.7492e-08\n",
      "Epoch 26/50\n",
      "45/45 [==============================] - 1s 13ms/step - loss: 1.6174e-07 - val_loss: 8.6118e-08\n",
      "Epoch 27/50\n",
      "45/45 [==============================] - 1s 15ms/step - loss: 1.5297e-07 - val_loss: 8.4019e-08\n",
      "Epoch 28/50\n",
      "45/45 [==============================] - 1s 14ms/step - loss: 1.5473e-07 - val_loss: 1.4874e-07\n",
      "Epoch 29/50\n",
      "45/45 [==============================] - 1s 19ms/step - loss: 1.7742e-07 - val_loss: 8.6192e-08\n",
      "Epoch 30/50\n",
      "45/45 [==============================] - 1s 15ms/step - loss: 1.4936e-07 - val_loss: 8.7765e-08\n",
      "Epoch 31/50\n",
      "45/45 [==============================] - 0s 10ms/step - loss: 1.4812e-07 - val_loss: 8.0685e-08\n",
      "Epoch 32/50\n",
      "45/45 [==============================] - 0s 9ms/step - loss: 1.4159e-07 - val_loss: 7.6712e-08\n",
      "Epoch 33/50\n",
      "45/45 [==============================] - 1s 14ms/step - loss: 1.4107e-07 - val_loss: 8.1064e-08\n",
      "Epoch 34/50\n",
      "45/45 [==============================] - 0s 9ms/step - loss: 1.3628e-07 - val_loss: 7.6972e-08\n",
      "Epoch 35/50\n",
      "45/45 [==============================] - 0s 9ms/step - loss: 1.3748e-07 - val_loss: 8.1922e-08\n",
      "Epoch 36/50\n",
      "45/45 [==============================] - 0s 10ms/step - loss: 1.3309e-07 - val_loss: 7.3854e-08\n",
      "Epoch 37/50\n",
      "45/45 [==============================] - 1s 17ms/step - loss: 1.3477e-07 - val_loss: 1.3929e-07\n",
      "Epoch 38/50\n",
      "45/45 [==============================] - 1s 18ms/step - loss: 1.4189e-07 - val_loss: 8.9705e-08\n",
      "Epoch 39/50\n",
      "45/45 [==============================] - 1s 16ms/step - loss: 1.3395e-07 - val_loss: 7.5398e-08\n",
      "Epoch 40/50\n",
      "45/45 [==============================] - 1s 19ms/step - loss: 1.2514e-07 - val_loss: 6.5628e-08\n",
      "Epoch 41/50\n",
      "45/45 [==============================] - 0s 11ms/step - loss: 1.2450e-07 - val_loss: 6.5027e-08\n",
      "Epoch 42/50\n",
      "45/45 [==============================] - 0s 9ms/step - loss: 1.1931e-07 - val_loss: 6.3117e-08\n",
      "Epoch 43/50\n",
      "45/45 [==============================] - 1s 14ms/step - loss: 1.1962e-07 - val_loss: 8.4927e-08\n",
      "Epoch 44/50\n",
      "45/45 [==============================] - 1s 12ms/step - loss: 1.2276e-07 - val_loss: 9.5125e-08\n",
      "Epoch 45/50\n",
      "45/45 [==============================] - 1s 13ms/step - loss: 1.1753e-07 - val_loss: 8.3819e-08\n",
      "Epoch 46/50\n",
      "45/45 [==============================] - 1s 13ms/step - loss: 1.1446e-07 - val_loss: 6.1542e-08\n",
      "Epoch 47/50\n",
      "45/45 [==============================] - 1s 15ms/step - loss: 1.1326e-07 - val_loss: 6.2001e-08\n",
      "Epoch 48/50\n",
      "45/45 [==============================] - 1s 19ms/step - loss: 1.0611e-07 - val_loss: 5.7729e-08\n",
      "Epoch 49/50\n",
      "45/45 [==============================] - 1s 14ms/step - loss: 1.0833e-07 - val_loss: 5.4659e-08\n",
      "Epoch 50/50\n",
      "45/45 [==============================] - 1s 15ms/step - loss: 1.0226e-07 - val_loss: 1.0540e-07\n"
     ]
    }
   ],
   "source": [
    "history = model.fit(training_set_scaled, training_set_y_scaled, epochs=50, validation_split=0.2, batch_size=50, verbose=1)"
   ]
  },
  {
   "cell_type": "code",
   "execution_count": 35,
   "metadata": {},
   "outputs": [],
   "source": [
    "def plot_loss(history):\n",
    "  plt.plot(history.history['loss'], label='loss')\n",
    "  plt.plot(history.history['val_loss'], label='val_loss')\n",
    "  #plt.ylim([0, 10000])\n",
    "  plt.xlabel('Epoch')\n",
    "  plt.ylabel('Error [MPG]')\n",
    "  plt.legend()\n",
    "  plt.grid(True)"
   ]
  },
  {
   "cell_type": "code",
   "execution_count": 36,
   "metadata": {},
   "outputs": [
    {
     "data": {
      "image/png": "[encoded data removed]",
      "text/plain": [
       "<Figure size 432x288 with 1 Axes>"
      ]
     },
     "metadata": {
      "needs_background": "light"
     },
     "output_type": "display_data"
    }
   ],
   "source": [
    "plot_loss(history)"
   ]
  },
  {
   "cell_type": "code",
   "execution_count": 42,
   "metadata": {},
   "outputs": [
    {
     "data": {
      "image/png": "[encoded data removed]",
      "text/plain": [
       "<Figure size 432x288 with 1 Axes>"
      ]
     },
     "metadata": {
      "needs_background": "light"
     },
     "output_type": "display_data"
    }
   ],
   "source": [
    "test_predictions = model.predict(testing_set_scaled).flatten()\n",
    "\n",
    "a = plt.axes(aspect='equal')\n",
    "plt.scatter(normalize(testing_set_y, norm='l2'), test_predictions)\n",
    "plt.xlabel('True Values requests')\n",
    "plt.ylabel('Predictions requests')\n",
    "#lims = [0, 1600]\n",
    "\n",
    "_ = plt.plot(lims, lims)"
   ]
  },
  {
   "cell_type": "code",
   "execution_count": 19,
   "metadata": {},
   "outputs": [
    {
     "name": "stdout",
     "output_type": "stream",
     "text": [
      "R² : 0.23176119248423643\n"
     ]
    }
   ],
   "source": [
    "from sklearn.metrics import r2_score\n",
    "R = r2_score(testing_set_y, test_predictions)\n",
    "print ('R² :',R)"
   ]
  },
  {
   "cell_type": "code",
   "execution_count": null,
   "metadata": {},
   "outputs": [],
   "source": []
  }
 ],
 "metadata": {
  "kernelspec": {
   "display_name": "Python 3",
   "language": "python",
   "name": "python3"
  },
  "language_info": {
   "codemirror_mode": {
    "name": "ipython",
    "version": 3
   },
   "file_extension": ".py",
   "mimetype": "text/x-python",
   "name": "python",
   "nbconvert_exporter": "python",
   "pygments_lexer": "ipython3",
   "version": "3.6.9"
  }
 },
 "nbformat": 4,
 "nbformat_minor": 4
}
