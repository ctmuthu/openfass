{
 "cells": [
  {
   "cell_type": "code",
   "execution_count": 1,
   "metadata": {},
   "outputs": [],
   "source": [
    "import os\n",
    "import datetime\n",
    "import pandas as pd\n",
    "import numpy as np\n",
    "import matplotlib.pyplot as plt\n",
    "from sklearn import preprocessing as skpreprocessing\n",
    "from sklearn.model_selection import train_test_split, ParameterGrid, GridSearchCV\n",
    "from sklearn.linear_model import Ridge, Lasso, HuberRegressor, ElasticNet, LinearRegression\n",
    "from sklearn.preprocessing import PolynomialFeatures\n",
    "from sklearn.pipeline import make_pipeline\n",
    "from sklearn.ensemble import GradientBoostingRegressor, RandomForestRegressor\n",
    "np.set_printoptions(precision=3, suppress=True)\n",
    "import tensorflow as tf\n",
    "\n",
    "from tensorflow import keras\n",
    "from tensorflow.keras import layers\n",
    "from tensorflow.keras.layers.experimental import preprocessing\n",
    "from sklearn.model_selection import GridSearchCV\n",
    "from sklearn.model_selection import KFold\n",
    "from sklearn.metrics import r2_score\n",
    "from pylab import rcParams"
   ]
  },
  {
   "cell_type": "code",
   "execution_count": 2,
   "metadata": {},
   "outputs": [
    {
     "data": {
      "text/html": [
       "<div>\n",
       "<style scoped>\n",
       "    .dataframe tbody tr th:only-of-type {\n",
       "        vertical-align: middle;\n",
       "    }\n",
       "\n",
       "    .dataframe tbody tr th {\n",
       "        vertical-align: top;\n",
       "    }\n",
       "\n",
       "    .dataframe thead th {\n",
       "        text-align: right;\n",
       "    }\n",
       "</style>\n",
       "<table border=\"1\" class=\"dataframe\">\n",
       "  <thead>\n",
       "    <tr style=\"text-align: right;\">\n",
       "      <th></th>\n",
       "      <th>cpu</th>\n",
       "      <th>diskio</th>\n",
       "      <th>diskioRead</th>\n",
       "      <th>diskioWritten</th>\n",
       "      <th>mem</th>\n",
       "      <th>networkReceived</th>\n",
       "      <th>networkTransmitted</th>\n",
       "      <th>replica</th>\n",
       "      <th>requests</th>\n",
       "      <th>responsetime</th>\n",
       "      <th>totalcpu</th>\n",
       "      <th>totalcpuUtilization</th>\n",
       "      <th>totalmemory</th>\n",
       "      <th>totalmemoryUtilization</th>\n",
       "    </tr>\n",
       "  </thead>\n",
       "  <tbody>\n",
       "    <tr>\n",
       "      <th>0</th>\n",
       "      <td>0.543895</td>\n",
       "      <td>0.008625</td>\n",
       "      <td>924.236712</td>\n",
       "      <td>63156.175327</td>\n",
       "      <td>0.176144</td>\n",
       "      <td>2128.447148</td>\n",
       "      <td>10523.371640</td>\n",
       "      <td>1.0</td>\n",
       "      <td>50.0</td>\n",
       "      <td>0.103940</td>\n",
       "      <td>6.0</td>\n",
       "      <td>44.260521</td>\n",
       "      <td>1.240458e+10</td>\n",
       "      <td>36.548910</td>\n",
       "    </tr>\n",
       "    <tr>\n",
       "      <th>1</th>\n",
       "      <td>0.555150</td>\n",
       "      <td>0.011289</td>\n",
       "      <td>12651.807738</td>\n",
       "      <td>94205.906535</td>\n",
       "      <td>0.176144</td>\n",
       "      <td>6182.507055</td>\n",
       "      <td>20512.544166</td>\n",
       "      <td>1.0</td>\n",
       "      <td>192.0</td>\n",
       "      <td>0.108720</td>\n",
       "      <td>6.0</td>\n",
       "      <td>44.260521</td>\n",
       "      <td>1.240458e+10</td>\n",
       "      <td>37.249118</td>\n",
       "    </tr>\n",
       "    <tr>\n",
       "      <th>2</th>\n",
       "      <td>0.521781</td>\n",
       "      <td>0.010222</td>\n",
       "      <td>12652.088889</td>\n",
       "      <td>107315.200000</td>\n",
       "      <td>0.196314</td>\n",
       "      <td>7243.755556</td>\n",
       "      <td>20228.244444</td>\n",
       "      <td>1.0</td>\n",
       "      <td>333.0</td>\n",
       "      <td>0.105527</td>\n",
       "      <td>6.0</td>\n",
       "      <td>15.116667</td>\n",
       "      <td>1.240458e+10</td>\n",
       "      <td>37.249118</td>\n",
       "    </tr>\n",
       "    <tr>\n",
       "      <th>3</th>\n",
       "      <td>0.521781</td>\n",
       "      <td>0.009778</td>\n",
       "      <td>11832.888889</td>\n",
       "      <td>115234.133333</td>\n",
       "      <td>0.196314</td>\n",
       "      <td>8994.822222</td>\n",
       "      <td>25560.088889</td>\n",
       "      <td>1.0</td>\n",
       "      <td>474.0</td>\n",
       "      <td>0.108370</td>\n",
       "      <td>6.0</td>\n",
       "      <td>15.116667</td>\n",
       "      <td>1.240458e+10</td>\n",
       "      <td>37.201915</td>\n",
       "    </tr>\n",
       "    <tr>\n",
       "      <th>4</th>\n",
       "      <td>0.406110</td>\n",
       "      <td>0.008533</td>\n",
       "      <td>0.000000</td>\n",
       "      <td>97939.911111</td>\n",
       "      <td>0.196123</td>\n",
       "      <td>7063.244444</td>\n",
       "      <td>18804.822222</td>\n",
       "      <td>1.0</td>\n",
       "      <td>564.0</td>\n",
       "      <td>0.103987</td>\n",
       "      <td>6.0</td>\n",
       "      <td>10.733333</td>\n",
       "      <td>1.240458e+10</td>\n",
       "      <td>37.201915</td>\n",
       "    </tr>\n",
       "  </tbody>\n",
       "</table>\n",
       "</div>"
      ],
      "text/plain": [
       "        cpu    diskio    diskioRead  diskioWritten       mem  networkReceived  \\\n",
       "0  0.543895  0.008625    924.236712   63156.175327  0.176144      2128.447148   \n",
       "1  0.555150  0.011289  12651.807738   94205.906535  0.176144      6182.507055   \n",
       "2  0.521781  0.010222  12652.088889  107315.200000  0.196314      7243.755556   \n",
       "3  0.521781  0.009778  11832.888889  115234.133333  0.196314      8994.822222   \n",
       "4  0.406110  0.008533      0.000000   97939.911111  0.196123      7063.244444   \n",
       "\n",
       "   networkTransmitted  replica  requests  responsetime  totalcpu  \\\n",
       "0        10523.371640      1.0      50.0      0.103940       6.0   \n",
       "1        20512.544166      1.0     192.0      0.108720       6.0   \n",
       "2        20228.244444      1.0     333.0      0.105527       6.0   \n",
       "3        25560.088889      1.0     474.0      0.108370       6.0   \n",
       "4        18804.822222      1.0     564.0      0.103987       6.0   \n",
       "\n",
       "   totalcpuUtilization   totalmemory  totalmemoryUtilization  \n",
       "0            44.260521  1.240458e+10               36.548910  \n",
       "1            44.260521  1.240458e+10               37.249118  \n",
       "2            15.116667  1.240458e+10               37.249118  \n",
       "3            15.116667  1.240458e+10               37.201915  \n",
       "4            10.733333  1.240458e+10               37.201915  "
      ]
     },
     "execution_count": 2,
     "metadata": {},
     "output_type": "execute_result"
    }
   ],
   "source": [
    "cwd = os.getcwd()\n",
    "output_dir = os.path.join(cwd, \"../../data\")\n",
    "df = pd.read_csv(os.path.join(output_dir, \"combined_nodeinfo.csv\"))\n",
    "df_test = pd.read_csv(os.path.join(output_dir, \"combined_nodeinfotest.csv\"))\n",
    "#df_test = pd.read_csv(os.path.join(output_dir, \"figlet1599056546.006096_1599063766.431225.csv\"))\n",
    "df = df.drop(df[df.responsetime > 2].index)\n",
    "df.pop('Time')\n",
    "df_test = df_test.drop(df_test[df_test.responsetime > 2].index)\n",
    "df_test.pop('Time')\n",
    "df.head()"
   ]
  },
  {
   "cell_type": "code",
   "execution_count": 3,
   "metadata": {},
   "outputs": [],
   "source": [
    "# remove 2xlarge\n",
    "df = df.drop(df[df.totalcpu > 16].index)"
   ]
  },
  {
   "cell_type": "code",
   "execution_count": 4,
   "metadata": {},
   "outputs": [],
   "source": [
    "df_t = pd.DataFrame()\n",
    "df_ttest = pd.DataFrame()"
   ]
  },
  {
   "cell_type": "code",
   "execution_count": 5,
   "metadata": {},
   "outputs": [
    {
     "data": {
      "text/html": [
       "<div>\n",
       "<style scoped>\n",
       "    .dataframe tbody tr th:only-of-type {\n",
       "        vertical-align: middle;\n",
       "    }\n",
       "\n",
       "    .dataframe tbody tr th {\n",
       "        vertical-align: top;\n",
       "    }\n",
       "\n",
       "    .dataframe thead th {\n",
       "        text-align: right;\n",
       "    }\n",
       "</style>\n",
       "<table border=\"1\" class=\"dataframe\">\n",
       "  <thead>\n",
       "    <tr style=\"text-align: right;\">\n",
       "      <th></th>\n",
       "      <th>total_cpu_util</th>\n",
       "      <th>total_mem_util</th>\n",
       "      <th>responsetime</th>\n",
       "      <th>requests</th>\n",
       "    </tr>\n",
       "  </thead>\n",
       "  <tbody>\n",
       "    <tr>\n",
       "      <th>0</th>\n",
       "      <td>1.779273</td>\n",
       "      <td>453.373747</td>\n",
       "      <td>0.103940</td>\n",
       "      <td>50.0</td>\n",
       "    </tr>\n",
       "    <tr>\n",
       "      <th>1</th>\n",
       "      <td>1.779273</td>\n",
       "      <td>462.059520</td>\n",
       "      <td>0.108720</td>\n",
       "      <td>192.0</td>\n",
       "    </tr>\n",
       "    <tr>\n",
       "      <th>2</th>\n",
       "      <td>0.607690</td>\n",
       "      <td>462.059520</td>\n",
       "      <td>0.105527</td>\n",
       "      <td>333.0</td>\n",
       "    </tr>\n",
       "    <tr>\n",
       "      <th>3</th>\n",
       "      <td>0.607690</td>\n",
       "      <td>461.473997</td>\n",
       "      <td>0.108370</td>\n",
       "      <td>474.0</td>\n",
       "    </tr>\n",
       "    <tr>\n",
       "      <th>4</th>\n",
       "      <td>0.431480</td>\n",
       "      <td>461.473997</td>\n",
       "      <td>0.103987</td>\n",
       "      <td>564.0</td>\n",
       "    </tr>\n",
       "  </tbody>\n",
       "</table>\n",
       "</div>"
      ],
      "text/plain": [
       "   total_cpu_util  total_mem_util  responsetime  requests\n",
       "0        1.779273      453.373747      0.103940      50.0\n",
       "1        1.779273      462.059520      0.108720     192.0\n",
       "2        0.607690      462.059520      0.105527     333.0\n",
       "3        0.607690      461.473997      0.108370     474.0\n",
       "4        0.431480      461.473997      0.103987     564.0"
      ]
     },
     "execution_count": 5,
     "metadata": {},
     "output_type": "execute_result"
    }
   ],
   "source": [
    "df_t['total_cpu_util'] = (df['totalcpuUtilization']*(df['totalcpu']*0.67))/100                    \n",
    "df_t['total_mem_util'] = (df['totalmemoryUtilization']*df['totalmemory'])*1e-9\n",
    "df_t['responsetime'] = df['responsetime']\n",
    "df_t['requests'] = df['requests']\n",
    "#df_t['replica'] = df['replica']\n",
    "df_ttest['total_cpu_util'] = (df_test['totalcpuUtilization']*(df_test['totalcpu']*0.67))/100\n",
    "df_ttest['total_mem_util'] = (df_test['totalmemoryUtilization']*df_test['totalmemory'])*1e-9\n",
    "df_ttest['responsetime'] = df_test['responsetime']\n",
    "df_ttest['requests'] = df_test['requests']\n",
    "#df_ttest['replica'] = df_test['replica']\n",
    "df_t.head()"
   ]
  },
  {
   "cell_type": "code",
   "execution_count": 6,
   "metadata": {},
   "outputs": [],
   "source": [
    "x_train = df_t[[col for col in df_t.columns if col != 'requests']]\n",
    "y_train = df_t['requests']\n",
    "x_train = skpreprocessing.normalize(x_train, norm='l2')\n",
    "x_test = df_ttest[[col for col in df_ttest.columns if col != 'requests']]\n",
    "y_test = df_ttest['requests']\n",
    "x_test = skpreprocessing.normalize(x_test, norm='l2')\n",
    "#plt.scatter(df_ttest['requests'], df_ttest['total_cpu_util'] )\n",
    "#plt.show()\n",
    "#plt.scatter(df_t['requests'], df_t['total_cpu_util'] )\n",
    "#plt.show()"
   ]
  },
  {
   "cell_type": "markdown",
   "metadata": {},
   "source": [
    "# Linear Regression"
   ]
  },
  {
   "cell_type": "code",
   "execution_count": 7,
   "metadata": {},
   "outputs": [
    {
     "name": "stdout",
     "output_type": "stream",
     "text": [
      "Training Score  0.7287779658787263\n",
      "Testing Score  0.8294658504727022\n",
      "R² : 0.8294658504727022\n"
     ]
    },
    {
     "data": {
      "image/png": "[encoded data removed]",
      "text/plain": [
       "<Figure size 432x288 with 1 Axes>"
      ]
     },
     "metadata": {
      "needs_background": "light"
     },
     "output_type": "display_data"
    }
   ],
   "source": [
    "parameters = {'fit_intercept': [True,False],\n",
    "             'copy_X': [True,False]}\n",
    "linear = GridSearchCV(LinearRegression(),\n",
    "                      parameters, \n",
    "                      cv=7,\n",
    "                      scoring='r2',\n",
    "                      n_jobs=-1)\n",
    "#linear = LinearRegression(fit_intercept=False)\n",
    "linear.fit(x_train, y_train)\n",
    "\n",
    "y_tr_pred = linear.predict(x_train)\n",
    "lin_reg_y_te_pred = linear.predict(x_test)\n",
    "\n",
    "#print('linear reg score on our train data: {:.3f}'.format(sqrt(mse(y_train, y_tr_pred))))\n",
    "#print('linear reg score on our test data: {:.3f}'.format(sqrt(mse(y_test, y_te_pred))))\n",
    "\n",
    "print(\"Training Score \",linear.score(x_train,y_train))\n",
    "linear_score = linear.score(x_test,y_test)\n",
    "print(\"Testing Score \",linear_score)\n",
    "\n",
    "from sklearn.metrics import r2_score\n",
    "R = r2_score(y_test, lin_reg_y_te_pred)\n",
    "print ('R² :',R)\n",
    "#print('Best Score: ', linear.best_score_)\n",
    "#print('Best Params: ', linear.best_params_)\n",
    "\n",
    "plt.scatter(range(0,len(y_test)),y_test, color='red')\n",
    "plt.scatter(range(0,len(lin_reg_y_te_pred)),lin_reg_y_te_pred, color='blue')\n",
    "plt.show()\n",
    "#plt.plot(y_test)\n",
    "#plt.plot(lin_reg_y_te_pred)\n",
    "#plt.show()"
   ]
  },
  {
   "cell_type": "markdown",
   "metadata": {},
   "source": [
    "# Polynomial Regression"
   ]
  },
  {
   "cell_type": "code",
   "execution_count": 8,
   "metadata": {},
   "outputs": [
    {
     "name": "stdout",
     "output_type": "stream",
     "text": [
      "Training Score  0.8160865349992774\n",
      "Testing Score  0.8962114524776348\n",
      "R² : 0.8962114524776348\n",
      "Best Params:  {'linearregression__fit_intercept': False, 'polynomialfeatures__degree': 2}\n"
     ]
    },
    {
     "data": {
      "text/plain": [
       "<matplotlib.collections.PathCollection at 0x7f4fdaa1e710>"
      ]
     },
     "execution_count": 8,
     "metadata": {},
     "output_type": "execute_result"
    },
    {
     "data": {
      "image/png": "[encoded data removed]",
      "text/plain": [
       "<Figure size 432x288 with 1 Axes>"
      ]
     },
     "metadata": {
      "needs_background": "light"
     },
     "output_type": "display_data"
    }
   ],
   "source": [
    "def PolynomialRegression(**kwargs):\n",
    "    return make_pipeline(PolynomialFeatures(), LinearRegression(**kwargs))\n",
    "degrees = [2,3,4,5,6 ]\n",
    "param_grid = {'polynomialfeatures__degree': degrees, 'linearregression__fit_intercept': [False]}\n",
    "polynomial = GridSearchCV(PolynomialRegression(),\n",
    "                      param_grid, \n",
    "                      cv=5,\n",
    "                      scoring='r2',\n",
    "                      n_jobs=-1)\n",
    "polynomial.fit(x_train, y_train)\n",
    "\n",
    "y_tr_pred = polynomial.predict(x_train)\n",
    "poly_reg_y_te_pred = polynomial.predict(x_test)\n",
    "\n",
    "#print('linear reg score on our train data: {:.3f}'.format(sqrt(mse(y_train, y_tr_pred))))\n",
    "#print('linear reg score on our test data: {:.3f}'.format(sqrt(mse(y_test, y_te_pred))))\n",
    "\n",
    "print(\"Training Score \",polynomial.score(x_train,y_train))\n",
    "polynomial_score = polynomial.score(x_test,y_test)\n",
    "print(\"Testing Score \",polynomial_score)\n",
    "\n",
    "from sklearn.metrics import r2_score\n",
    "R = r2_score(y_test, poly_reg_y_te_pred)\n",
    "print ('R² :',R)\n",
    "#print('Best Score: ', polynomial.best_score_)\n",
    "print('Best Params: ', polynomial.best_params_)\n",
    "\n",
    "plt.scatter(range(0,len(y_test)),y_test, color='red')\n",
    "plt.scatter(range(0,len(poly_reg_y_te_pred)),poly_reg_y_te_pred, color='blue')"
   ]
  },
  {
   "cell_type": "markdown",
   "metadata": {},
   "source": [
    "# Ridge Regression"
   ]
  },
  {
   "cell_type": "code",
   "execution_count": 9,
   "metadata": {},
   "outputs": [
    {
     "name": "stdout",
     "output_type": "stream",
     "text": [
      "Training Score  0.7268414384734126\n",
      "Testing Score  0.8149712168853149\n",
      "Best Params:  {'alpha': 1.1288378916846883e-09, 'fit_intercept': True, 'max_iter': 10, 'solver': 'svd'}\n"
     ]
    },
    {
     "data": {
      "text/plain": [
       "<matplotlib.collections.PathCollection at 0x7f4fda901cf8>"
      ]
     },
     "execution_count": 9,
     "metadata": {},
     "output_type": "execute_result"
    },
    {
     "data": {
      "image/png": "[encoded data removed]",
      "text/plain": [
       "<Figure size 432x288 with 1 Axes>"
      ]
     },
     "metadata": {
      "needs_background": "light"
     },
     "output_type": "display_data"
    }
   ],
   "source": [
    "alphas = np.logspace(-20,10,num=20)\n",
    "param_grid = {'max_iter': np.arange(10,100,10),\n",
    "             'alpha': alphas,\n",
    "            'solver': ['auto', 'svd'],\n",
    "             'fit_intercept':[True, False]}\n",
    "ridge_cv = GridSearchCV(Ridge(),\n",
    "                       param_grid=param_grid,\n",
    "                         cv=3, \n",
    "                         scoring='r2',\n",
    "                         n_jobs=-1)\n",
    "\n",
    "ridge_cv.fit(x_train, y_train)\n",
    "\n",
    "y_tr_pred = ridge_cv.predict(x_train)\n",
    "ridge_cv_y_te_pred = ridge_cv.predict(x_test)\n",
    "\n",
    "print(\"Training Score \",ridge_cv.score(x_train,y_train))\n",
    "ridge_cv_score = ridge_cv.score(x_test,y_test)\n",
    "print(\"Testing Score \",ridge_cv_score)\n",
    "\n",
    "#from sklearn.metrics import r2_score\n",
    "#R = r2_score(y_test, y_te_pred)\n",
    "#print ('R² :',R)\n",
    "#print('Best Score: ', ridge_cv.best_score_)\n",
    "print('Best Params: ', ridge_cv.best_params_)\n",
    "\n",
    "plt.scatter(range(0,len(y_test)),y_test, color='red')\n",
    "plt.scatter(range(0,len(ridge_cv_y_te_pred)),ridge_cv_y_te_pred, color='blue')"
   ]
  },
  {
   "cell_type": "markdown",
   "metadata": {},
   "source": [
    "# Random Forrest"
   ]
  },
  {
   "cell_type": "code",
   "execution_count": 10,
   "metadata": {},
   "outputs": [
    {
     "name": "stdout",
     "output_type": "stream",
     "text": [
      "Training Score  0.9351024881256175\n",
      "Testing Score  0.9594755155228841\n",
      "Best Params:  {'max_depth': 5, 'max_features': 'auto', 'min_samples_leaf': 2, 'n_estimators': 100}\n"
     ]
    },
    {
     "data": {
      "text/plain": [
       "<matplotlib.collections.PathCollection at 0x7f4fda8e8c18>"
      ]
     },
     "execution_count": 10,
     "metadata": {},
     "output_type": "execute_result"
    },
    {
     "data": {
      "image/png": "[encoded data removed]",
      "text/plain": [
       "<Figure size 432x288 with 1 Axes>"
      ]
     },
     "metadata": {
      "needs_background": "light"
     },
     "output_type": "display_data"
    }
   ],
   "source": [
    "parameters = {  \n",
    "                 'min_samples_leaf': [2, 4, 6],\n",
    "                 'max_depth': np.arange(1,6,1),\n",
    "                 'n_estimators': [100],\n",
    "                'max_features': ['auto']\n",
    "}\n",
    "\n",
    "rf_cv = GridSearchCV( RandomForestRegressor(),\n",
    "                      param_grid=parameters, \n",
    "                      cv=3, \n",
    "                      scoring='r2',\n",
    "                      n_jobs=-1)\n",
    "\n",
    "rf_cv.fit(x_train, y_train)\n",
    "\n",
    "y_tr_pred = rf_cv.predict(x_train)\n",
    "rf_cv_y_te_pred = rf_cv.predict(x_test)\n",
    "\n",
    "\n",
    "print(\"Training Score \",rf_cv.score(x_train,y_train))\n",
    "rf_cv_score = rf_cv.score(x_test,y_test)\n",
    "print(\"Testing Score \",rf_cv_score)\n",
    "\n",
    "#from sklearn.metrics import r2_score\n",
    "#R = r2_score(y_test, y_te_pred)\n",
    "#print ('R² :',R)\n",
    "#print('Best Score: ', rf_cv.best_score_)\n",
    "print('Best Params: ', rf_cv.best_params_)\n",
    "\n",
    "plt.scatter(range(0,len(y_test)),y_test, color='red')\n",
    "plt.scatter(range(0,len(rf_cv_y_te_pred)),rf_cv_y_te_pred, color='blue')"
   ]
  },
  {
   "cell_type": "markdown",
   "metadata": {},
   "source": [
    "# Gradient Boosting Regressor"
   ]
  },
  {
   "cell_type": "code",
   "execution_count": 11,
   "metadata": {},
   "outputs": [
    {
     "name": "stdout",
     "output_type": "stream",
     "text": [
      "Fitting 5 folds for each of 1 candidates, totalling 5 fits\n"
     ]
    },
    {
     "name": "stderr",
     "output_type": "stream",
     "text": [
      "[Parallel(n_jobs=-1)]: Using backend LokyBackend with 4 concurrent workers.\n",
      "[Parallel(n_jobs=-1)]: Done   5 out of   5 | elapsed:   18.8s finished\n"
     ]
    },
    {
     "name": "stdout",
     "output_type": "stream",
     "text": [
      "Training Score  0.9533187739011401\n",
      "Testing Score  0.9833082651611587\n",
      "Best Params:  {'learning_rate': 0.02, 'loss': 'lad', 'max_depth': 5, 'max_features': 'sqrt', 'min_samples_leaf': 10, 'min_samples_split': 20, 'n_estimators': 1500}\n"
     ]
    },
    {
     "data": {
      "text/plain": [
       "<matplotlib.collections.PathCollection at 0x7f4fda7ef550>"
      ]
     },
     "execution_count": 11,
     "metadata": {},
     "output_type": "execute_result"
    },
    {
     "data": {
      "image/png": "[encoded data removed]",
      "text/plain": [
       "<Figure size 432x288 with 1 Axes>"
      ]
     },
     "metadata": {
      "needs_background": "light"
     },
     "output_type": "display_data"
    }
   ],
   "source": [
    "learning_rate = np.arange(0,0.2,0.001)\n",
    "parameters = {  \n",
    "                'learning_rate': [0.02], \n",
    "                'loss': ['lad'], \n",
    "                'max_depth': [5], \n",
    "                'max_features': ['sqrt'], \n",
    "                'min_samples_leaf': [10], \n",
    "                'min_samples_split': [20], \n",
    "                'n_estimators': [1500]\n",
    "             }\n",
    "\n",
    "\n",
    "GBoost_cv = GridSearchCV(GradientBoostingRegressor(), \n",
    "                         param_grid=parameters, \n",
    "                         n_jobs=-1, \n",
    "                         scoring='r2',\n",
    "                         cv=5,\n",
    "                        verbose=1)\n",
    "#GBoost_cv = GradientBoostingRegressor(learning_rate=0.02)\n",
    "\n",
    "GBoost_cv.fit(x_train, y_train)\n",
    "\n",
    "y_tr_pred = GBoost_cv.predict(x_train)\n",
    "GBoost_cv_y_te_pred = GBoost_cv.predict(x_test)\n",
    "\n",
    "print(\"Training Score \",GBoost_cv.score(x_train,y_train))\n",
    "GBoost_cv_score = GBoost_cv.score(x_test,y_test)\n",
    "print(\"Testing Score \",GBoost_cv_score)\n",
    "\n",
    "#from sklearn.metrics import r2_score\n",
    "#R = r2_score(y_test, y_te_pred)\n",
    "#print ('R² :',R)\n",
    "#print('Best Score: ', GBoost_cv.best_score_)\n",
    "print('Best Params: ', GBoost_cv.best_params_)\n",
    "\n",
    "plt.scatter(range(0,len(y_test)),y_test, color='red')\n",
    "plt.scatter(range(0,len(GBoost_cv_y_te_pred)),GBoost_cv_y_te_pred, color='blue')"
   ]
  },
  {
   "cell_type": "code",
   "execution_count": null,
   "metadata": {},
   "outputs": [
    {
     "name": "stdout",
     "output_type": "stream",
     "text": [
      "Model: \"sequential\"\n",
      "_________________________________________________________________\n",
      "Layer (type)                 Output Shape              Param #   \n",
      "=================================================================\n",
      "normalization (Normalization (None, 3)                 7         \n",
      "_________________________________________________________________\n",
      "dense_one (Dense)            (None, 64)                256       \n",
      "_________________________________________________________________\n",
      "dense_two (Dense)            (None, 64)                4160      \n",
      "_________________________________________________________________\n",
      "dense_three (Dense)          (None, 1)                 65        \n",
      "=================================================================\n",
      "Total params: 4,488\n",
      "Trainable params: 4,481\n",
      "Non-trainable params: 7\n",
      "_________________________________________________________________\n",
      "None\n"
     ]
    },
    {
     "data": {
      "image/png": "[encoded data removed]",
      "text/plain": [
       "<Figure size 432x288 with 1 Axes>"
      ]
     },
     "metadata": {
      "needs_background": "light"
     },
     "output_type": "display_data"
    },
    {
     "data": {
      "image/png": "[encoded data removed]",
      "text/plain": [
       "<Figure size 432x288 with 1 Axes>"
      ]
     },
     "metadata": {
      "needs_background": "light"
     },
     "output_type": "display_data"
    },
    {
     "name": "stdout",
     "output_type": "stream",
     "text": [
      "86.0248522756852\n",
      "Model: \"sequential_1\"\n",
      "_________________________________________________________________\n",
      "Layer (type)                 Output Shape              Param #   \n",
      "=================================================================\n",
      "normalization_1 (Normalizati (None, 3)                 7         \n",
      "_________________________________________________________________\n",
      "dense_one (Dense)            (None, 64)                256       \n",
      "_________________________________________________________________\n",
      "dense_two (Dense)            (None, 64)                4160      \n",
      "_________________________________________________________________\n",
      "dense_three (Dense)          (None, 1)                 65        \n",
      "=================================================================\n",
      "Total params: 4,488\n",
      "Trainable params: 4,481\n",
      "Non-trainable params: 7\n",
      "_________________________________________________________________\n",
      "None\n"
     ]
    },
    {
     "data": {
      "image/png": "[encoded data removed]",
      "text/plain": [
       "<Figure size 432x288 with 1 Axes>"
      ]
     },
     "metadata": {
      "needs_background": "light"
     },
     "output_type": "display_data"
    },
    {
     "data": {
      "image/png": "[encoded data removed]",
      "text/plain": [
       "<Figure size 432x288 with 1 Axes>"
      ]
     },
     "metadata": {
      "needs_background": "light"
     },
     "output_type": "display_data"
    },
    {
     "name": "stdout",
     "output_type": "stream",
     "text": [
      "90.62650960742506\n",
      "Model: \"sequential_2\"\n",
      "_________________________________________________________________\n",
      "Layer (type)                 Output Shape              Param #   \n",
      "=================================================================\n",
      "normalization_2 (Normalizati (None, 3)                 7         \n",
      "_________________________________________________________________\n",
      "dense_one (Dense)            (None, 64)                256       \n",
      "_________________________________________________________________\n",
      "dense_two (Dense)            (None, 64)                4160      \n",
      "_________________________________________________________________\n",
      "dense_three (Dense)          (None, 1)                 65        \n",
      "=================================================================\n",
      "Total params: 4,488\n",
      "Trainable params: 4,481\n",
      "Non-trainable params: 7\n",
      "_________________________________________________________________\n",
      "None\n"
     ]
    }
   ],
   "source": [
    "def plot_loss(history):\n",
    "  plt.plot(history.history['loss'], label='loss')\n",
    "  plt.plot(history.history['val_loss'], label='val_loss')\n",
    "  plt.ylim([0, max(history.history['loss']+history.history['val_loss'])+100])\n",
    "  plt.xlabel('Epoch')\n",
    "  plt.ylabel('Error [requests]')\n",
    "  plt.legend()\n",
    "  plt.grid(True)\n",
    "  return plt.show()\n",
    "\n",
    "def plot_prediction(test_labels, test_predictions):\n",
    "    a = plt.axes(aspect='equal')\n",
    "    plt.scatter(test_labels, test_predictions)\n",
    "    plt.xlabel('True Values requests')\n",
    "    plt.ylabel('Predictions requests')\n",
    "    lims = [0, max(list(test_labels)+list(test_predictions))+100]\n",
    "    plt.xlim(lims)\n",
    "    plt.ylim(lims)\n",
    "    _ = plt.plot(lims, lims)\n",
    "    return plt.show()\n",
    "\n",
    "callback = tf.keras.callbacks.EarlyStopping(monitor='loss', patience=5)\n",
    "def build_and_compile_model(norm):\n",
    "  model = None\n",
    "  model = keras.Sequential([\n",
    "      norm,\n",
    "      layers.Dense(64, activation='relu',name=\"dense_one\"),\n",
    "      layers.Dense(64, activation='relu',name=\"dense_two\"),\n",
    "      layers.Dense(1,name=\"dense_three\")\n",
    "  ])\n",
    "\n",
    "  model.compile(loss='mean_absolute_error',\n",
    "                optimizer=tf.keras.optimizers.Adam(0.001))\n",
    "  return model\n",
    "\n",
    "#%%time\n",
    "i = 0\n",
    "loss_exp = 0\n",
    "nn_score = 0\n",
    "test_dataset = df_ttest\n",
    "test_features = test_dataset.copy()\n",
    "test_labels = test_features.pop('requests')\n",
    "loss, score, model = [], [], []\n",
    "hist = np.empty([6,])\n",
    "# k fold\n",
    "X = df_t.loc[:,['total_cpu_util','total_mem_util', 'responsetime']].values\n",
    "y = df_t.loc[:,['requests']].values\n",
    "kf = KFold(n_splits=6, random_state=42, shuffle=True)\n",
    "for train_index, test_index in kf.split(X):\n",
    "    #print(\"TRAIN:\", train_index, \"TEST:\", test_index)\n",
    "    train_features, val_features = X[train_index], X[test_index]\n",
    "    train_labels, val_labels = y[train_index], y[test_index]\n",
    "\n",
    "# Divide dataset\n",
    "#train_dataset = df_t.sample(frac=0.8, random_state=0)\n",
    "#val_dataset = df_t.drop(train_dataset.index)\n",
    "#test_dataset = df_ttest\n",
    "\n",
    "#train_features = train_dataset.copy()\n",
    "#val_features = val_dataset.copy()\n",
    "#test_features = test_dataset.copy()\n",
    "\n",
    "# Create labels\n",
    "#train_labels = train_features.pop('requests')\n",
    "#val_labels = val_features.pop('requests')\n",
    "#test_labels = test_features.pop('requests')\n",
    "\n",
    "# Normalization\n",
    "    input = np.array(train_features)\n",
    "    input_normalizer = preprocessing.Normalization(input_shape=[3,])\n",
    "    input_normalizer.adapt(input)\n",
    "\n",
    "# Create Model\n",
    "    \n",
    "    dnn_model = build_and_compile_model(input_normalizer)\n",
    "\n",
    "    print(dnn_model.summary())\n",
    "\n",
    "    history = dnn_model.fit(\n",
    "        train_features, train_labels,\n",
    "        validation_split=0.2,\n",
    "        verbose=0, epochs=3000)\n",
    "    #print(history)\n",
    "    plot_loss(history)\n",
    "    loss_cal=dnn_model.evaluate(val_features, val_labels,verbose=0)\n",
    "    loss.append(loss_cal)\n",
    "    ## Make Predictions\n",
    "    test_predictions = dnn_model.predict(test_features).flatten()\n",
    "\n",
    "    plot_prediction(test_labels, test_predictions)\n",
    "    R = r2_score(test_labels, test_predictions)*100\n",
    "    print(R)\n",
    "    if(loss_cal<loss_exp) or (i==0):\n",
    "        nn_score = R\n",
    "        loss_exp = loss_cal\n",
    "        nn_prediction = test_predictions\n",
    "    model.append('dnn_model_'+str(i))\n",
    "    score.append(R)\n",
    "    i = i+1\n",
    "    #test_results['dnn_model_'+str(i)] = [dnn_model.evaluate(\n",
    "    #    val_features, val_labels,\n",
    "    #    verbose=0), R]\n",
    "model = np.array(model)\n",
    "score = np.array(score)\n",
    "loss = np.array(loss)\n",
    "\n",
    "data = np.array([model, loss, score]).T\n",
    "pd.DataFrame(data,columns=[\"model\", \"loss\", \"score\"])"
   ]
  },
  {
   "cell_type": "code",
   "execution_count": null,
   "metadata": {},
   "outputs": [],
   "source": [
    "rcParams['figure.figsize'] = 5, 5\n",
    "rcParams[\"legend.loc\"] = 'upper left'\n",
    "rcParams['axes.labelsize'] = 5\n",
    "rcParams['axes.titlesize'] = 5\n",
    "rcParams[\"font.size\"] = 10\n",
    "plt.plot(test_labels, color='green',label='True Value')\n",
    "plt.plot(lin_reg_y_te_pred, color='red', label='Linear Regression')\n",
    "plt.plot(poly_reg_y_te_pred, color='blue', label='Polynomial Linear Reg')\n",
    "plt.plot(ridge_cv_y_te_pred, color='brown', label='Ridge Reg')\n",
    "plt.plot(rf_cv_y_te_pred, color='grey', label='Random Forrest')\n",
    "plt.plot(nn_prediction, color='violet', label='Deep Neural Network')\n",
    "plt.legend(loc=\"lower right\")\n",
    "plt.show()"
   ]
  },
  {
   "cell_type": "code",
   "execution_count": null,
   "metadata": {},
   "outputs": [],
   "source": [
    "models = np.array(['Linear Regression', 'Polynomial Linear Reg', 'Ridge Reg', 'Random Forrest', 'Deep Neural Network'])\n",
    "model_score = np.array([linear_score*100, polynomial_score*100, ridge_cv_score*100, rf_cv_score*100, nn_score])\n",
    "data = np.array([models, model_score]).T\n",
    "pd.DataFrame(data,columns=[\"models\", \"model_score\"])"
   ]
  },
  {
   "cell_type": "code",
   "execution_count": null,
   "metadata": {},
   "outputs": [],
   "source": []
  }
 ],
 "metadata": {
  "kernelspec": {
   "display_name": "Python 3",
   "language": "python",
   "name": "python3"
  },
  "language_info": {
   "codemirror_mode": {
    "name": "ipython",
    "version": 3
   },
   "file_extension": ".py",
   "mimetype": "text/x-python",
   "name": "python",
   "nbconvert_exporter": "python",
   "pygments_lexer": "ipython3",
   "version": "3.6.9"
  }
 },
 "nbformat": 4,
 "nbformat_minor": 4
}
