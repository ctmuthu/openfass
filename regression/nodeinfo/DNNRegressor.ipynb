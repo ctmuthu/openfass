{
 "cells": [
  {
   "cell_type": "code",
   "execution_count": 1,
   "metadata": {},
   "outputs": [],
   "source": [
    "# https://medium.com/datadriveninvestor/linear-regression-using-tensorflow-estimator-9aa570914375"
   ]
  },
  {
   "cell_type": "code",
   "execution_count": 2,
   "metadata": {},
   "outputs": [],
   "source": [
    "import os\n",
    "import datetime\n",
    "import pandas as pd\n",
    "import numpy as np\n",
    "import tensorflow as tf\n",
    "import matplotlib.pyplot as plt\n",
    "from sklearn.metrics import explained_variance_score, \\\n",
    "    mean_absolute_error, \\\n",
    "    median_absolute_error\n",
    "from sklearn.model_selection import train_test_split\n",
    "from sklearn.model_selection import KFold\n",
    "from sklearn import preprocessing\n",
    "\n",
    "%matplotlib inline"
   ]
  },
  {
   "cell_type": "code",
   "execution_count": 3,
   "metadata": {},
   "outputs": [
    {
     "data": {
      "text/html": [
       "<div>\n",
       "<style scoped>\n",
       "    .dataframe tbody tr th:only-of-type {\n",
       "        vertical-align: middle;\n",
       "    }\n",
       "\n",
       "    .dataframe tbody tr th {\n",
       "        vertical-align: top;\n",
       "    }\n",
       "\n",
       "    .dataframe thead th {\n",
       "        text-align: right;\n",
       "    }\n",
       "</style>\n",
       "<table border=\"1\" class=\"dataframe\">\n",
       "  <thead>\n",
       "    <tr style=\"text-align: right;\">\n",
       "      <th></th>\n",
       "      <th>cpu</th>\n",
       "      <th>diskio</th>\n",
       "      <th>diskioRead</th>\n",
       "      <th>diskioWritten</th>\n",
       "      <th>mem</th>\n",
       "      <th>networkReceived</th>\n",
       "      <th>networkTransmitted</th>\n",
       "      <th>replica</th>\n",
       "      <th>requests</th>\n",
       "      <th>responsetime</th>\n",
       "      <th>totalcpu</th>\n",
       "      <th>totalcpuUtilization</th>\n",
       "      <th>totalmemory</th>\n",
       "      <th>totalmemoryUtilization</th>\n",
       "    </tr>\n",
       "  </thead>\n",
       "  <tbody>\n",
       "    <tr>\n",
       "      <th>0</th>\n",
       "      <td>0.543895</td>\n",
       "      <td>0.008625</td>\n",
       "      <td>924.236712</td>\n",
       "      <td>63156.175327</td>\n",
       "      <td>0.176144</td>\n",
       "      <td>2128.447148</td>\n",
       "      <td>10523.371640</td>\n",
       "      <td>1.0</td>\n",
       "      <td>50.0</td>\n",
       "      <td>0.103940</td>\n",
       "      <td>6.0</td>\n",
       "      <td>44.260521</td>\n",
       "      <td>1.240458e+10</td>\n",
       "      <td>36.548910</td>\n",
       "    </tr>\n",
       "    <tr>\n",
       "      <th>1</th>\n",
       "      <td>0.555150</td>\n",
       "      <td>0.011289</td>\n",
       "      <td>12651.807738</td>\n",
       "      <td>94205.906535</td>\n",
       "      <td>0.176144</td>\n",
       "      <td>6182.507055</td>\n",
       "      <td>20512.544166</td>\n",
       "      <td>1.0</td>\n",
       "      <td>192.0</td>\n",
       "      <td>0.108720</td>\n",
       "      <td>6.0</td>\n",
       "      <td>44.260521</td>\n",
       "      <td>1.240458e+10</td>\n",
       "      <td>37.249118</td>\n",
       "    </tr>\n",
       "    <tr>\n",
       "      <th>2</th>\n",
       "      <td>0.521781</td>\n",
       "      <td>0.010222</td>\n",
       "      <td>12652.088889</td>\n",
       "      <td>107315.200000</td>\n",
       "      <td>0.196314</td>\n",
       "      <td>7243.755556</td>\n",
       "      <td>20228.244444</td>\n",
       "      <td>1.0</td>\n",
       "      <td>333.0</td>\n",
       "      <td>0.105527</td>\n",
       "      <td>6.0</td>\n",
       "      <td>15.116667</td>\n",
       "      <td>1.240458e+10</td>\n",
       "      <td>37.249118</td>\n",
       "    </tr>\n",
       "    <tr>\n",
       "      <th>3</th>\n",
       "      <td>0.521781</td>\n",
       "      <td>0.009778</td>\n",
       "      <td>11832.888889</td>\n",
       "      <td>115234.133333</td>\n",
       "      <td>0.196314</td>\n",
       "      <td>8994.822222</td>\n",
       "      <td>25560.088889</td>\n",
       "      <td>1.0</td>\n",
       "      <td>474.0</td>\n",
       "      <td>0.108370</td>\n",
       "      <td>6.0</td>\n",
       "      <td>15.116667</td>\n",
       "      <td>1.240458e+10</td>\n",
       "      <td>37.201915</td>\n",
       "    </tr>\n",
       "    <tr>\n",
       "      <th>4</th>\n",
       "      <td>0.406110</td>\n",
       "      <td>0.008533</td>\n",
       "      <td>0.000000</td>\n",
       "      <td>97939.911111</td>\n",
       "      <td>0.196123</td>\n",
       "      <td>7063.244444</td>\n",
       "      <td>18804.822222</td>\n",
       "      <td>1.0</td>\n",
       "      <td>564.0</td>\n",
       "      <td>0.103987</td>\n",
       "      <td>6.0</td>\n",
       "      <td>10.733333</td>\n",
       "      <td>1.240458e+10</td>\n",
       "      <td>37.201915</td>\n",
       "    </tr>\n",
       "  </tbody>\n",
       "</table>\n",
       "</div>"
      ],
      "text/plain": [
       "        cpu    diskio    diskioRead  diskioWritten       mem  networkReceived  \\\n",
       "0  0.543895  0.008625    924.236712   63156.175327  0.176144      2128.447148   \n",
       "1  0.555150  0.011289  12651.807738   94205.906535  0.176144      6182.507055   \n",
       "2  0.521781  0.010222  12652.088889  107315.200000  0.196314      7243.755556   \n",
       "3  0.521781  0.009778  11832.888889  115234.133333  0.196314      8994.822222   \n",
       "4  0.406110  0.008533      0.000000   97939.911111  0.196123      7063.244444   \n",
       "\n",
       "   networkTransmitted  replica  requests  responsetime  totalcpu  \\\n",
       "0        10523.371640      1.0      50.0      0.103940       6.0   \n",
       "1        20512.544166      1.0     192.0      0.108720       6.0   \n",
       "2        20228.244444      1.0     333.0      0.105527       6.0   \n",
       "3        25560.088889      1.0     474.0      0.108370       6.0   \n",
       "4        18804.822222      1.0     564.0      0.103987       6.0   \n",
       "\n",
       "   totalcpuUtilization   totalmemory  totalmemoryUtilization  \n",
       "0            44.260521  1.240458e+10               36.548910  \n",
       "1            44.260521  1.240458e+10               37.249118  \n",
       "2            15.116667  1.240458e+10               37.249118  \n",
       "3            15.116667  1.240458e+10               37.201915  \n",
       "4            10.733333  1.240458e+10               37.201915  "
      ]
     },
     "execution_count": 3,
     "metadata": {},
     "output_type": "execute_result"
    }
   ],
   "source": [
    "cwd = os.getcwd()\n",
    "output_dir = os.path.join(cwd, \"../../data\")\n",
    "df = pd.read_csv(os.path.join(output_dir, \"combined_nodeinfo.csv\"))\n",
    "df_test = pd.read_csv(os.path.join(output_dir, \"combined_nodeinfotest.csv\"))\n",
    "#df_test = pd.read_csv(os.path.join(output_dir, \"figlet1599056546.006096_1599063766.431225.csv\"))\n",
    "df = df.drop(df[df.responsetime > 2].index)\n",
    "df.pop('Time')\n",
    "df_test = df_test.drop(df_test[df_test.responsetime > 2].index)\n",
    "df_test.pop('Time')\n",
    "df.head()"
   ]
  },
  {
   "cell_type": "code",
   "execution_count": 4,
   "metadata": {},
   "outputs": [],
   "source": [
    "df_t = pd.DataFrame()\n",
    "df_ttest = pd.DataFrame()"
   ]
  },
  {
   "cell_type": "code",
   "execution_count": 5,
   "metadata": {},
   "outputs": [
    {
     "data": {
      "text/html": [
       "<div>\n",
       "<style scoped>\n",
       "    .dataframe tbody tr th:only-of-type {\n",
       "        vertical-align: middle;\n",
       "    }\n",
       "\n",
       "    .dataframe tbody tr th {\n",
       "        vertical-align: top;\n",
       "    }\n",
       "\n",
       "    .dataframe thead th {\n",
       "        text-align: right;\n",
       "    }\n",
       "</style>\n",
       "<table border=\"1\" class=\"dataframe\">\n",
       "  <thead>\n",
       "    <tr style=\"text-align: right;\">\n",
       "      <th></th>\n",
       "      <th>total_cpu_util</th>\n",
       "      <th>requests</th>\n",
       "    </tr>\n",
       "  </thead>\n",
       "  <tbody>\n",
       "    <tr>\n",
       "      <th>0</th>\n",
       "      <td>2.655631</td>\n",
       "      <td>50.0</td>\n",
       "    </tr>\n",
       "    <tr>\n",
       "      <th>1</th>\n",
       "      <td>2.655631</td>\n",
       "      <td>192.0</td>\n",
       "    </tr>\n",
       "    <tr>\n",
       "      <th>2</th>\n",
       "      <td>0.907000</td>\n",
       "      <td>333.0</td>\n",
       "    </tr>\n",
       "    <tr>\n",
       "      <th>3</th>\n",
       "      <td>0.907000</td>\n",
       "      <td>474.0</td>\n",
       "    </tr>\n",
       "    <tr>\n",
       "      <th>4</th>\n",
       "      <td>0.644000</td>\n",
       "      <td>564.0</td>\n",
       "    </tr>\n",
       "  </tbody>\n",
       "</table>\n",
       "</div>"
      ],
      "text/plain": [
       "   total_cpu_util  requests\n",
       "0        2.655631      50.0\n",
       "1        2.655631     192.0\n",
       "2        0.907000     333.0\n",
       "3        0.907000     474.0\n",
       "4        0.644000     564.0"
      ]
     },
     "execution_count": 5,
     "metadata": {},
     "output_type": "execute_result"
    }
   ],
   "source": [
    "df_t['total_cpu_util'] = (df['totalcpuUtilization']*df['totalcpu'])/100\n",
    "#df_t['total_mem_util'] = (df['totalmemoryUtilization']*df['totalmemory'])*1e-9\n",
    "#df_t['responsetime'] = df['responsetime']\n",
    "df_t['requests'] = df['requests']\n",
    "#df_t['replica'] = df['replica']\n",
    "df_ttest['total_cpu_util'] = (df_test['totalcpuUtilization']*df_test['totalcpu'])/100\n",
    "#df_ttest['total_mem_util'] = (df_test['totalmemoryUtilization']*df_test['totalmemory'])*1e-9\n",
    "#df_ttest['responsetime'] = df_test['responsetime']\n",
    "df_ttest['requests'] = df_test['requests']\n",
    "#df_ttest['replica'] = df_test['replica']\n",
    "df_t.head()"
   ]
  },
  {
   "cell_type": "code",
   "execution_count": 6,
   "metadata": {},
   "outputs": [],
   "source": [
    "#muthu = df_t\n",
    "#X = muthu.loc[:,['total_cpu_util','total_mem_util','replica', 'requests']].values\n",
    "#X = preprocessing.normalize(X, norm='max')\n",
    "#y = muthu.loc[:,['responsetime']].values\n",
    "#kf = KFold(n_splits=7, random_state=42, shuffle=True)\n",
    "#for train_index, test_index in kf.split(X):\n",
    "#    print(\"TRAIN:\", train_index, \"TEST:\", test_index)\n",
    "#    X_train, X_test = X[train_index], X[test_index]\n",
    "#    y_train, y_test = y[train_index], y[test_index]\n",
    "#    print(X_train, '\\n', y_train)\n",
    "#    print(X_test, '\\n', y_test)"
   ]
  },
  {
   "cell_type": "code",
   "execution_count": 7,
   "metadata": {},
   "outputs": [
    {
     "data": {
      "text/plain": [
       "[<matplotlib.lines.Line2D at 0x7f11e32280b8>]"
      ]
     },
     "execution_count": 7,
     "metadata": {},
     "output_type": "execute_result"
    },
    {
     "data": {
      "image/png": "[encoded data removed]",
      "text/plain": [
       "<Figure size 432x288 with 1 Axes>"
      ]
     },
     "metadata": {
      "needs_background": "light"
     },
     "output_type": "display_data"
    }
   ],
   "source": [
    "plt.plot(df_t['total_cpu_util'])"
   ]
  },
  {
   "cell_type": "code",
   "execution_count": 8,
   "metadata": {},
   "outputs": [],
   "source": [
    "#plt.plot(df_t['responsetime'])"
   ]
  },
  {
   "cell_type": "code",
   "execution_count": 9,
   "metadata": {},
   "outputs": [
    {
     "data": {
      "text/plain": [
       "[<matplotlib.lines.Line2D at 0x7f11e31087f0>]"
      ]
     },
     "execution_count": 9,
     "metadata": {},
     "output_type": "execute_result"
    },
    {
     "data": {
      "image/png": "[encoded data removed]",
      "text/plain": [
       "<Figure size 432x288 with 1 Axes>"
      ]
     },
     "metadata": {
      "needs_background": "light"
     },
     "output_type": "display_data"
    }
   ],
   "source": [
    "plt.plot(df_t['requests'])"
   ]
  },
  {
   "cell_type": "code",
   "execution_count": 10,
   "metadata": {},
   "outputs": [],
   "source": [
    "n = len(df)\n",
    "train_df = df_t[0:int(n*0.8)]\n",
    "eval_df = df_t[int(n*0.8):]\n",
    "test_df = df_ttest[:]\n",
    "\n",
    "#train_mean = train_df.mean()\n",
    "#print(train_mean)\n",
    "#train_std = train_df.std()\n",
    "#print(train_std)\n",
    "\n",
    "#train_df = (train_df - train_mean) / train_std\n",
    "#test_df = (test_df - train_mean) / train_std\n",
    "#train_df"
   ]
  },
  {
   "cell_type": "code",
   "execution_count": 11,
   "metadata": {},
   "outputs": [],
   "source": [
    "#import seaborn as sns\n",
    "#df_std = (df_t - train_mean) / train_std\n",
    "##print(df_std)\n",
    "#df_std = df_std.melt(var_name='Column', value_name='Normalized')\n",
    "##print(df_std)\n",
    "#plt.figure(figsize=(12, 6))\n",
    "#ax = sns.violinplot(x='Column', y='Normalized', data=df_std)\n",
    "#_ = ax.set_xticklabels(df_t.keys(), rotation=90)"
   ]
  },
  {
   "cell_type": "code",
   "execution_count": 12,
   "metadata": {},
   "outputs": [],
   "source": [
    "from sklearn import preprocessing\n",
    "#df_new = df.drop(['cpu','mem','totalmemory','diskio', 'diskioRead', 'diskioWritten', 'networkReceived', 'networkTransmitted', 'totalcpuUtilization', 'totalmemoryUtilization'], axis=1)\n",
    "x_train = train_df[[col for col in train_df.columns if col != 'requests']]\n",
    "y_train = train_df['requests']\n",
    "x_val = eval_df[[col for col in eval_df.columns if col != 'requests']]\n",
    "y_val = eval_df['requests']\n",
    "x_test = test_df[[col for col in test_df.columns if col != 'requests']]\n",
    "y_test = test_df['requests']"
   ]
  },
  {
   "cell_type": "code",
   "execution_count": 13,
   "metadata": {},
   "outputs": [],
   "source": [
    "#x_data.describe(include='all')"
   ]
  },
  {
   "cell_type": "code",
   "execution_count": 14,
   "metadata": {},
   "outputs": [],
   "source": [
    "#x_train, x_test, y_train, y_test = train_test_split(x_data, y, test_size=0.3)"
   ]
  },
  {
   "cell_type": "code",
   "execution_count": 15,
   "metadata": {},
   "outputs": [],
   "source": [
    "feature_col = [tf.feature_column.numeric_column(col) for col in x_train.columns]"
   ]
  },
  {
   "cell_type": "code",
   "execution_count": 16,
   "metadata": {},
   "outputs": [],
   "source": [
    "opti = tf.optimizers.Adam(learning_rate = 0.02)"
   ]
  },
  {
   "cell_type": "code",
   "execution_count": 17,
   "metadata": {},
   "outputs": [
    {
     "name": "stdout",
     "output_type": "stream",
     "text": [
      "WARNING:tensorflow:From /home/ubuntu/.local/lib/python3.6/site-packages/tensorflow/python/util/lazy_loader.py:63: The name tf.estimator.inputs is deprecated. Please use tf.compat.v1.estimator.inputs instead.\n",
      "\n"
     ]
    }
   ],
   "source": [
    "input_func= tf.compat.v1.estimator.inputs.pandas_input_fn(x=x_train, \n",
    "                                                y= y_train, \n",
    "                                                batch_size=100, \n",
    "                                                num_epochs=1000, \n",
    "                                                shuffle=False)"
   ]
  },
  {
   "cell_type": "code",
   "execution_count": 18,
   "metadata": {},
   "outputs": [],
   "source": [
    "test_input_func = tf.compat.v1.estimator.inputs.pandas_input_fn(x= x_test,                                                   \n",
    "                                                 batch_size=10, \n",
    "                                                 num_epochs=1, \n",
    "                                                 shuffle=False)\n",
    "eval_input_func = tf.compat.v1.estimator.inputs.pandas_input_fn(x=x_val,\n",
    "                                                      y=y_val, \n",
    "                                                      batch_size=10, \n",
    "                                                      num_epochs=1, \n",
    "                                                      shuffle=False)"
   ]
  },
  {
   "cell_type": "code",
   "execution_count": 19,
   "metadata": {},
   "outputs": [
    {
     "name": "stdout",
     "output_type": "stream",
     "text": [
      "INFO:tensorflow:Using default config.\n",
      "WARNING:tensorflow:Using temporary folder as model directory: /tmp/tmpu6pn7lg2\n",
      "INFO:tensorflow:Using config: {'_model_dir': '/tmp/tmpu6pn7lg2', '_tf_random_seed': None, '_save_summary_steps': 100, '_save_checkpoints_steps': None, '_save_checkpoints_secs': 600, '_session_config': allow_soft_placement: true\n",
      "graph_options {\n",
      "  rewrite_options {\n",
      "    meta_optimizer_iterations: ONE\n",
      "  }\n",
      "}\n",
      ", '_keep_checkpoint_max': 5, '_keep_checkpoint_every_n_hours': 10000, '_log_step_count_steps': 100, '_train_distribute': None, '_device_fn': None, '_protocol': None, '_eval_distribute': None, '_experimental_distribute': None, '_experimental_max_worker_delay_secs': None, '_session_creation_timeout_secs': 7200, '_service': None, '_cluster_spec': ClusterSpec({}), '_task_type': 'worker', '_task_id': 0, '_global_id_in_cluster': 0, '_master': '', '_evaluation_master': '', '_is_chief': True, '_num_ps_replicas': 0, '_num_worker_replicas': 1}\n"
     ]
    }
   ],
   "source": [
    "estimator = tf.estimator.DNNRegressor(hidden_units=[4,4,1], feature_columns=feature_col, optimizer=opti)"
   ]
  },
  {
   "cell_type": "code",
   "execution_count": 20,
   "metadata": {},
   "outputs": [
    {
     "name": "stdout",
     "output_type": "stream",
     "text": [
      "WARNING:tensorflow:From /home/ubuntu/.local/lib/python3.6/site-packages/tensorflow/python/training/training_util.py:236: Variable.initialized_value (from tensorflow.python.ops.variables) is deprecated and will be removed in a future version.\n",
      "Instructions for updating:\n",
      "Use Variable.read_value. Variables in 2.X are initialized automatically both in eager and graph (inside tf.defun) contexts.\n",
      "WARNING:tensorflow:From /home/ubuntu/.local/lib/python3.6/site-packages/tensorflow_estimator/python/estimator/inputs/queues/feeding_queue_runner.py:65: QueueRunner.__init__ (from tensorflow.python.training.queue_runner_impl) is deprecated and will be removed in a future version.\n",
      "Instructions for updating:\n",
      "To construct input pipelines, use the `tf.data` module.\n",
      "WARNING:tensorflow:From /home/ubuntu/.local/lib/python3.6/site-packages/tensorflow_estimator/python/estimator/inputs/queues/feeding_functions.py:491: add_queue_runner (from tensorflow.python.training.queue_runner_impl) is deprecated and will be removed in a future version.\n",
      "Instructions for updating:\n",
      "To construct input pipelines, use the `tf.data` module.\n",
      "INFO:tensorflow:Calling model_fn.\n",
      "WARNING:tensorflow:Layer dnn is casting an input tensor from dtype float64 to the layer's dtype of float32, which is new behavior in TensorFlow 2.  The layer has dtype float32 because its dtype defaults to floatx.\n",
      "\n",
      "If you intended to run this layer in float32, you can safely ignore this warning. If in doubt, this warning is likely only an issue if you are porting a TensorFlow 1.X model to TensorFlow 2.\n",
      "\n",
      "To change all layers to have dtype float64 by default, call `tf.keras.backend.set_floatx('float64')`. To change just this layer, pass dtype='float64' to the layer constructor. If you are the author of this layer, you can disable autocasting by passing autocast=False to the base Layer constructor.\n",
      "\n",
      "INFO:tensorflow:Done calling model_fn.\n",
      "INFO:tensorflow:Create CheckpointSaverHook.\n",
      "INFO:tensorflow:Graph was finalized.\n",
      "INFO:tensorflow:Running local_init_op.\n",
      "INFO:tensorflow:Done running local_init_op.\n",
      "WARNING:tensorflow:From /home/ubuntu/.local/lib/python3.6/site-packages/tensorflow/python/training/monitored_session.py:906: start_queue_runners (from tensorflow.python.training.queue_runner_impl) is deprecated and will be removed in a future version.\n",
      "Instructions for updating:\n",
      "To construct input pipelines, use the `tf.data` module.\n",
      "INFO:tensorflow:Calling checkpoint listeners before saving checkpoint 0...\n",
      "INFO:tensorflow:Saving checkpoints for 0 into /tmp/tmpu6pn7lg2/model.ckpt.\n",
      "INFO:tensorflow:Calling checkpoint listeners after saving checkpoint 0...\n",
      "INFO:tensorflow:loss = 58479464.0, step = 0\n",
      "WARNING:tensorflow:It seems that global step (tf.train.get_global_step) has not been increased. Current value (could be stable): 77 vs previous value: 77. You could increase the global step by passing tf.train.get_global_step() to Optimizer.apply_gradients or Optimizer.minimize.\n",
      "INFO:tensorflow:global_step/sec: 255.752\n",
      "INFO:tensorflow:loss = 169135470.0, step = 100 (0.396 sec)\n",
      "WARNING:tensorflow:It seems that global step (tf.train.get_global_step) has not been increased. Current value (could be stable): 127 vs previous value: 127. You could increase the global step by passing tf.train.get_global_step() to Optimizer.apply_gradients or Optimizer.minimize.\n",
      "WARNING:tensorflow:It seems that global step (tf.train.get_global_step) has not been increased. Current value (could be stable): 139 vs previous value: 139. You could increase the global step by passing tf.train.get_global_step() to Optimizer.apply_gradients or Optimizer.minimize.\n",
      "INFO:tensorflow:global_step/sec: 326.913\n",
      "INFO:tensorflow:loss = 1163287300.0, step = 200 (0.304 sec)\n",
      "INFO:tensorflow:global_step/sec: 251.792\n",
      "INFO:tensorflow:loss = 1159197000.0, step = 300 (0.395 sec)\n",
      "WARNING:tensorflow:It seems that global step (tf.train.get_global_step) has not been increased. Current value (could be stable): 308 vs previous value: 308. You could increase the global step by passing tf.train.get_global_step() to Optimizer.apply_gradients or Optimizer.minimize.\n",
      "WARNING:tensorflow:It seems that global step (tf.train.get_global_step) has not been increased. Current value (could be stable): 328 vs previous value: 328. You could increase the global step by passing tf.train.get_global_step() to Optimizer.apply_gradients or Optimizer.minimize.\n",
      "INFO:tensorflow:global_step/sec: 547.953\n",
      "INFO:tensorflow:loss = 1299606800.0, step = 400 (0.185 sec)\n",
      "INFO:tensorflow:global_step/sec: 598.592\n",
      "INFO:tensorflow:loss = 1288162800.0, step = 500 (0.169 sec)\n",
      "INFO:tensorflow:global_step/sec: 583.232\n",
      "INFO:tensorflow:loss = 1272343300.0, step = 600 (0.168 sec)\n",
      "INFO:tensorflow:global_step/sec: 569.36\n",
      "INFO:tensorflow:loss = 1540461000.0, step = 700 (0.177 sec)\n",
      "INFO:tensorflow:global_step/sec: 408.743\n",
      "INFO:tensorflow:loss = 1310055200.0, step = 800 (0.244 sec)\n",
      "INFO:tensorflow:global_step/sec: 456.489\n",
      "INFO:tensorflow:loss = 109609950.0, step = 900 (0.235 sec)\n",
      "INFO:tensorflow:global_step/sec: 156.829\n",
      "INFO:tensorflow:loss = 788078400.0, step = 1000 (0.619 sec)\n",
      "INFO:tensorflow:global_step/sec: 308.398\n",
      "INFO:tensorflow:loss = 465952220.0, step = 1100 (0.326 sec)\n",
      "INFO:tensorflow:global_step/sec: 348.862\n",
      "INFO:tensorflow:loss = 1551793000.0, step = 1200 (0.288 sec)\n",
      "INFO:tensorflow:global_step/sec: 297.65\n",
      "INFO:tensorflow:loss = 601107840.0, step = 1300 (0.334 sec)\n",
      "INFO:tensorflow:global_step/sec: 304.599\n",
      "INFO:tensorflow:loss = 3371764200.0, step = 1400 (0.331 sec)\n",
      "INFO:tensorflow:global_step/sec: 167.885\n",
      "INFO:tensorflow:loss = 628212200.0, step = 1500 (0.593 sec)\n",
      "INFO:tensorflow:global_step/sec: 265.988\n",
      "INFO:tensorflow:loss = 3356454100.0, step = 1600 (0.380 sec)\n",
      "INFO:tensorflow:global_step/sec: 244.651\n",
      "INFO:tensorflow:loss = 599799200.0, step = 1700 (0.412 sec)\n",
      "INFO:tensorflow:global_step/sec: 273.244\n",
      "INFO:tensorflow:loss = 3443373600.0, step = 1800 (0.368 sec)\n",
      "INFO:tensorflow:global_step/sec: 688.157\n",
      "INFO:tensorflow:loss = 612008200.0, step = 1900 (0.134 sec)\n",
      "INFO:tensorflow:global_step/sec: 708.454\n",
      "INFO:tensorflow:loss = 800299650.0, step = 2000 (0.146 sec)\n",
      "INFO:tensorflow:global_step/sec: 741.153\n",
      "INFO:tensorflow:loss = 323314240.0, step = 2100 (0.132 sec)\n",
      "INFO:tensorflow:global_step/sec: 764.362\n",
      "INFO:tensorflow:loss = 218404060.0, step = 2200 (0.129 sec)\n",
      "INFO:tensorflow:global_step/sec: 666.393\n",
      "INFO:tensorflow:loss = 1800577500.0, step = 2300 (0.150 sec)\n",
      "INFO:tensorflow:global_step/sec: 548.865\n",
      "INFO:tensorflow:loss = 203424460.0, step = 2400 (0.183 sec)\n",
      "INFO:tensorflow:global_step/sec: 732.408\n",
      "INFO:tensorflow:loss = 2217488100.0, step = 2500 (0.136 sec)\n",
      "INFO:tensorflow:global_step/sec: 548.888\n",
      "INFO:tensorflow:loss = 198039280.0, step = 2600 (0.189 sec)\n",
      "INFO:tensorflow:global_step/sec: 456.493\n",
      "INFO:tensorflow:loss = 2197359600.0, step = 2700 (0.212 sec)\n",
      "INFO:tensorflow:global_step/sec: 327.769\n",
      "INFO:tensorflow:loss = 180893420.0, step = 2800 (0.305 sec)\n",
      "INFO:tensorflow:global_step/sec: 446.823\n",
      "INFO:tensorflow:loss = 2256384800.0, step = 2900 (0.223 sec)\n",
      "INFO:tensorflow:global_step/sec: 401.602\n",
      "INFO:tensorflow:loss = 179946130.0, step = 3000 (0.253 sec)\n",
      "INFO:tensorflow:global_step/sec: 233.564\n",
      "INFO:tensorflow:loss = 1384167600.0, step = 3100 (0.424 sec)\n",
      "INFO:tensorflow:global_step/sec: 352.538\n",
      "INFO:tensorflow:loss = 57741110.0, step = 3200 (0.284 sec)\n",
      "INFO:tensorflow:global_step/sec: 293.278\n",
      "INFO:tensorflow:loss = 168119900.0, step = 3300 (0.341 sec)\n",
      "INFO:tensorflow:global_step/sec: 366.387\n",
      "INFO:tensorflow:loss = 1159433200.0, step = 3400 (0.272 sec)\n",
      "INFO:tensorflow:global_step/sec: 339.089\n",
      "INFO:tensorflow:loss = 1156795900.0, step = 3500 (0.295 sec)\n",
      "INFO:tensorflow:global_step/sec: 359.899\n",
      "INFO:tensorflow:loss = 1295537900.0, step = 3600 (0.278 sec)\n",
      "INFO:tensorflow:global_step/sec: 377.151\n",
      "INFO:tensorflow:loss = 1285568400.0, step = 3700 (0.265 sec)\n",
      "INFO:tensorflow:global_step/sec: 527.642\n",
      "INFO:tensorflow:loss = 1268319500.0, step = 3800 (0.192 sec)\n",
      "INFO:tensorflow:global_step/sec: 340.161\n",
      "INFO:tensorflow:loss = 1537507000.0, step = 3900 (0.292 sec)\n",
      "INFO:tensorflow:global_step/sec: 309.614\n",
      "INFO:tensorflow:loss = 1305972400.0, step = 4000 (0.323 sec)\n",
      "INFO:tensorflow:global_step/sec: 415.236\n",
      "INFO:tensorflow:loss = 108733670.0, step = 4100 (0.240 sec)\n"
     ]
    },
    {
     "name": "stdout",
     "output_type": "stream",
     "text": [
      "INFO:tensorflow:global_step/sec: 450.731\n",
      "INFO:tensorflow:loss = 784916540.0, step = 4200 (0.222 sec)\n",
      "INFO:tensorflow:global_step/sec: 446.345\n",
      "INFO:tensorflow:loss = 463759550.0, step = 4300 (0.224 sec)\n",
      "INFO:tensorflow:global_step/sec: 256.382\n",
      "INFO:tensorflow:loss = 1547613400.0, step = 4400 (0.391 sec)\n",
      "INFO:tensorflow:global_step/sec: 344.037\n",
      "INFO:tensorflow:loss = 598356900.0, step = 4500 (0.292 sec)\n",
      "INFO:tensorflow:global_step/sec: 262.132\n",
      "INFO:tensorflow:loss = 3365185000.0, step = 4600 (0.381 sec)\n",
      "INFO:tensorflow:global_step/sec: 350.582\n",
      "INFO:tensorflow:loss = 625405000.0, step = 4700 (0.285 sec)\n",
      "INFO:tensorflow:global_step/sec: 303.963\n",
      "INFO:tensorflow:loss = 3349890600.0, step = 4800 (0.329 sec)\n",
      "INFO:tensorflow:global_step/sec: 292.186\n",
      "INFO:tensorflow:loss = 597058750.0, step = 4900 (0.342 sec)\n",
      "INFO:tensorflow:global_step/sec: 351.636\n",
      "INFO:tensorflow:loss = 3436725200.0, step = 5000 (0.284 sec)\n",
      "INFO:tensorflow:global_step/sec: 364.653\n",
      "INFO:tensorflow:loss = 609241860.0, step = 5100 (0.274 sec)\n",
      "INFO:tensorflow:global_step/sec: 316.903\n",
      "INFO:tensorflow:loss = 797451140.0, step = 5200 (0.316 sec)\n",
      "INFO:tensorflow:global_step/sec: 308.222\n",
      "INFO:tensorflow:loss = 321324540.0, step = 5300 (0.324 sec)\n",
      "INFO:tensorflow:global_step/sec: 349.624\n",
      "INFO:tensorflow:loss = 216790670.0, step = 5400 (0.286 sec)\n",
      "INFO:tensorflow:global_step/sec: 325.051\n",
      "INFO:tensorflow:loss = 1795769900.0, step = 5500 (0.308 sec)\n",
      "INFO:tensorflow:global_step/sec: 357.475\n",
      "INFO:tensorflow:loss = 201871060.0, step = 5600 (0.279 sec)\n",
      "INFO:tensorflow:global_step/sec: 336.775\n",
      "INFO:tensorflow:loss = 2212161500.0, step = 5700 (0.297 sec)\n",
      "INFO:tensorflow:global_step/sec: 367.176\n",
      "INFO:tensorflow:loss = 196513340.0, step = 5800 (0.272 sec)\n",
      "INFO:tensorflow:global_step/sec: 316.453\n",
      "INFO:tensorflow:loss = 2192057900.0, step = 5900 (0.316 sec)\n",
      "INFO:tensorflow:global_step/sec: 340.189\n",
      "INFO:tensorflow:loss = 179442240.0, step = 6000 (0.294 sec)\n",
      "INFO:tensorflow:global_step/sec: 411.433\n",
      "INFO:tensorflow:loss = 2251012600.0, step = 6100 (0.243 sec)\n",
      "INFO:tensorflow:global_step/sec: 606.502\n",
      "INFO:tensorflow:loss = 178501730.0, step = 6200 (0.166 sec)\n",
      "INFO:tensorflow:global_step/sec: 570.311\n",
      "INFO:tensorflow:loss = 1379959800.0, step = 6300 (0.174 sec)\n",
      "INFO:tensorflow:global_step/sec: 547.012\n",
      "INFO:tensorflow:loss = 57010130.0, step = 6400 (0.183 sec)\n",
      "INFO:tensorflow:global_step/sec: 504.019\n",
      "INFO:tensorflow:loss = 167111500.0, step = 6500 (0.198 sec)\n",
      "INFO:tensorflow:global_step/sec: 577.009\n",
      "INFO:tensorflow:loss = 1155588000.0, step = 6600 (0.173 sec)\n",
      "INFO:tensorflow:global_step/sec: 639.48\n",
      "INFO:tensorflow:loss = 1154402800.0, step = 6700 (0.157 sec)\n",
      "INFO:tensorflow:global_step/sec: 536.642\n",
      "INFO:tensorflow:loss = 1291478400.0, step = 6800 (0.186 sec)\n",
      "INFO:tensorflow:global_step/sec: 572.194\n",
      "INFO:tensorflow:loss = 1282982100.0, step = 6900 (0.175 sec)\n",
      "INFO:tensorflow:global_step/sec: 288.356\n",
      "INFO:tensorflow:loss = 1264304500.0, step = 7000 (0.347 sec)\n",
      "INFO:tensorflow:global_step/sec: 439.943\n",
      "INFO:tensorflow:loss = 1534561000.0, step = 7100 (0.226 sec)\n",
      "INFO:tensorflow:global_step/sec: 386.411\n",
      "INFO:tensorflow:loss = 1301898200.0, step = 7200 (0.260 sec)\n",
      "INFO:tensorflow:global_step/sec: 519.687\n",
      "INFO:tensorflow:loss = 107864330.0, step = 7300 (0.192 sec)\n",
      "INFO:tensorflow:global_step/sec: 337.802\n",
      "INFO:tensorflow:loss = 781762940.0, step = 7400 (0.296 sec)\n",
      "INFO:tensorflow:global_step/sec: 434.116\n",
      "INFO:tensorflow:loss = 461574530.0, step = 7500 (0.230 sec)\n",
      "INFO:tensorflow:global_step/sec: 382.933\n",
      "INFO:tensorflow:loss = 1543442400.0, step = 7600 (0.262 sec)\n",
      "INFO:tensorflow:global_step/sec: 369.337\n",
      "INFO:tensorflow:loss = 595614000.0, step = 7700 (0.271 sec)\n",
      "INFO:tensorflow:global_step/sec: 325.144\n",
      "INFO:tensorflow:loss = 3358615600.0, step = 7800 (0.308 sec)\n",
      "INFO:tensorflow:global_step/sec: 611.522\n",
      "INFO:tensorflow:loss = 622605700.0, step = 7900 (0.163 sec)\n",
      "INFO:tensorflow:global_step/sec: 612.749\n",
      "INFO:tensorflow:loss = 3343336700.0, step = 8000 (0.164 sec)\n",
      "INFO:tensorflow:global_step/sec: 374.971\n",
      "INFO:tensorflow:loss = 594326400.0, step = 8100 (0.267 sec)\n",
      "INFO:tensorflow:global_step/sec: 310.295\n",
      "INFO:tensorflow:loss = 3430087400.0, step = 8200 (0.322 sec)\n",
      "INFO:tensorflow:global_step/sec: 289.969\n",
      "INFO:tensorflow:loss = 606483200.0, step = 8300 (0.345 sec)\n",
      "INFO:tensorflow:global_step/sec: 396.067\n",
      "INFO:tensorflow:loss = 794610400.0, step = 8400 (0.252 sec)\n",
      "INFO:tensorflow:global_step/sec: 423.167\n",
      "INFO:tensorflow:loss = 319342270.0, step = 8500 (0.236 sec)\n",
      "INFO:tensorflow:global_step/sec: 430.084\n",
      "INFO:tensorflow:loss = 215184510.0, step = 8600 (0.232 sec)\n",
      "INFO:tensorflow:global_step/sec: 323.908\n",
      "INFO:tensorflow:loss = 1790970800.0, step = 8700 (0.309 sec)\n",
      "INFO:tensorflow:global_step/sec: 350.688\n",
      "INFO:tensorflow:loss = 200324800.0, step = 8800 (0.285 sec)\n",
      "INFO:tensorflow:global_step/sec: 560.268\n",
      "INFO:tensorflow:loss = 2206844000.0, step = 8900 (0.178 sec)\n",
      "INFO:tensorflow:global_step/sec: 610.074\n",
      "INFO:tensorflow:loss = 194994600.0, step = 9000 (0.166 sec)\n",
      "INFO:tensorflow:global_step/sec: 615.588\n",
      "INFO:tensorflow:loss = 2186765000.0, step = 9100 (0.161 sec)\n",
      "INFO:tensorflow:global_step/sec: 607.12\n",
      "INFO:tensorflow:loss = 177998140.0, step = 9200 (0.165 sec)\n",
      "INFO:tensorflow:global_step/sec: 617.477\n",
      "INFO:tensorflow:loss = 2245649000.0, step = 9300 (0.161 sec)\n",
      "INFO:tensorflow:global_step/sec: 307.564\n",
      "INFO:tensorflow:loss = 177064400.0, step = 9400 (0.329 sec)\n",
      "INFO:tensorflow:global_step/sec: 346.697\n",
      "INFO:tensorflow:loss = 1375760300.0, step = 9500 (0.286 sec)\n",
      "INFO:tensorflow:global_step/sec: 412.471\n",
      "INFO:tensorflow:loss = 56285916.0, step = 9600 (0.242 sec)\n",
      "INFO:tensorflow:global_step/sec: 427.553\n",
      "INFO:tensorflow:loss = 166110020.0, step = 9700 (0.237 sec)\n",
      "INFO:tensorflow:global_step/sec: 524.608\n",
      "INFO:tensorflow:loss = 1151751000.0, step = 9800 (0.188 sec)\n",
      "INFO:tensorflow:global_step/sec: 347.307\n",
      "INFO:tensorflow:loss = 1152017400.0, step = 9900 (0.291 sec)\n",
      "INFO:tensorflow:Calling checkpoint listeners before saving checkpoint 10000...\n",
      "INFO:tensorflow:Saving checkpoints for 10000 into /tmp/tmpu6pn7lg2/model.ckpt.\n",
      "INFO:tensorflow:Calling checkpoint listeners after saving checkpoint 10000...\n",
      "INFO:tensorflow:Loss for final step: 491122140.0.\n"
     ]
    },
    {
     "data": {
      "text/plain": [
       "<tensorflow_estimator.python.estimator.canned.dnn.DNNRegressorV2 at 0x7f11e30b33c8>"
      ]
     },
     "execution_count": 20,
     "metadata": {},
     "output_type": "execute_result"
    }
   ],
   "source": [
    "estimator.train(input_fn=input_func,steps=10000)"
   ]
  },
  {
   "cell_type": "code",
   "execution_count": 21,
   "metadata": {},
   "outputs": [
    {
     "name": "stdout",
     "output_type": "stream",
     "text": [
      "INFO:tensorflow:Calling model_fn.\n",
      "WARNING:tensorflow:Layer dnn is casting an input tensor from dtype float64 to the layer's dtype of float32, which is new behavior in TensorFlow 2.  The layer has dtype float32 because its dtype defaults to floatx.\n",
      "\n",
      "If you intended to run this layer in float32, you can safely ignore this warning. If in doubt, this warning is likely only an issue if you are porting a TensorFlow 1.X model to TensorFlow 2.\n",
      "\n",
      "To change all layers to have dtype float64 by default, call `tf.keras.backend.set_floatx('float64')`. To change just this layer, pass dtype='float64' to the layer constructor. If you are the author of this layer, you can disable autocasting by passing autocast=False to the base Layer constructor.\n",
      "\n",
      "INFO:tensorflow:Done calling model_fn.\n",
      "INFO:tensorflow:Starting evaluation at 2020-10-09T09:55:35Z\n",
      "INFO:tensorflow:Graph was finalized.\n",
      "INFO:tensorflow:Restoring parameters from /tmp/tmpu6pn7lg2/model.ckpt-10000\n",
      "INFO:tensorflow:Running local_init_op.\n",
      "INFO:tensorflow:Done running local_init_op.\n",
      "INFO:tensorflow:Inference Time : 0.40714s\n",
      "INFO:tensorflow:Finished evaluation at 2020-10-09-09:55:36\n",
      "INFO:tensorflow:Saving dict for global step 10000: average_loss = 1087599500.0, global_step = 10000, label/mean = 29709.092, loss = 1073628900.0, prediction/mean = 177.49826\n",
      "INFO:tensorflow:Saving 'checkpoint_path' summary for global step 10000: /tmp/tmpu6pn7lg2/model.ckpt-10000\n"
     ]
    }
   ],
   "source": [
    "result_eval = estimator.evaluate(input_fn=eval_input_func)"
   ]
  },
  {
   "cell_type": "code",
   "execution_count": 22,
   "metadata": {},
   "outputs": [
    {
     "data": {
      "text/plain": [
       "{'average_loss': 1087599500.0,\n",
       " 'label/mean': 29709.092,\n",
       " 'loss': 1073628900.0,\n",
       " 'prediction/mean': 177.49826,\n",
       " 'global_step': 10000}"
      ]
     },
     "execution_count": 22,
     "metadata": {},
     "output_type": "execute_result"
    }
   ],
   "source": [
    "result_eval"
   ]
  },
  {
   "cell_type": "code",
   "execution_count": 23,
   "metadata": {},
   "outputs": [
    {
     "name": "stdout",
     "output_type": "stream",
     "text": [
      "INFO:tensorflow:Calling model_fn.\n",
      "WARNING:tensorflow:Layer dnn is casting an input tensor from dtype float64 to the layer's dtype of float32, which is new behavior in TensorFlow 2.  The layer has dtype float32 because its dtype defaults to floatx.\n",
      "\n",
      "If you intended to run this layer in float32, you can safely ignore this warning. If in doubt, this warning is likely only an issue if you are porting a TensorFlow 1.X model to TensorFlow 2.\n",
      "\n",
      "To change all layers to have dtype float64 by default, call `tf.keras.backend.set_floatx('float64')`. To change just this layer, pass dtype='float64' to the layer constructor. If you are the author of this layer, you can disable autocasting by passing autocast=False to the base Layer constructor.\n",
      "\n",
      "INFO:tensorflow:Done calling model_fn.\n",
      "INFO:tensorflow:Graph was finalized.\n",
      "INFO:tensorflow:Restoring parameters from /tmp/tmpu6pn7lg2/model.ckpt-10000\n",
      "INFO:tensorflow:Running local_init_op.\n",
      "INFO:tensorflow:Done running local_init_op.\n"
     ]
    },
    {
     "data": {
      "text/plain": [
       "Text(0, 0.5, 'predicted values')"
      ]
     },
     "execution_count": 23,
     "metadata": {},
     "output_type": "execute_result"
    },
    {
     "data": {
      "image/png": "[encoded data removed]",
      "text/plain": [
       "<Figure size 432x288 with 1 Axes>"
      ]
     },
     "metadata": {
      "needs_background": "light"
     },
     "output_type": "display_data"
    }
   ],
   "source": [
    "predictions=[]\n",
    "for pred in estimator.predict(input_fn=test_input_func):\n",
    "    predictions.append(np.array(pred['predictions']).astype(float))\n",
    "plt.plot(y_test, predictions, 'r*')\n",
    "plt.xlabel('Actual values')\n",
    "plt.ylabel('predicted values')"
   ]
  },
  {
   "cell_type": "code",
   "execution_count": 24,
   "metadata": {},
   "outputs": [
    {
     "data": {
      "text/plain": [
       "198.7934977228698"
      ]
     },
     "execution_count": 24,
     "metadata": {},
     "output_type": "execute_result"
    }
   ],
   "source": [
    "from sklearn.metrics import mean_squared_error\n",
    "np.sqrt(mean_squared_error(y_test, predictions))**0.5"
   ]
  },
  {
   "cell_type": "code",
   "execution_count": 25,
   "metadata": {},
   "outputs": [
    {
     "data": {
      "text/plain": [
       "<matplotlib.collections.PathCollection at 0x7f11d95d3e10>"
      ]
     },
     "execution_count": 25,
     "metadata": {},
     "output_type": "execute_result"
    },
    {
     "data": {
      "image/png": "[encoded data removed]",
      "text/plain": [
       "<Figure size 432x288 with 1 Axes>"
      ]
     },
     "metadata": {
      "needs_background": "light"
     },
     "output_type": "display_data"
    }
   ],
   "source": [
    "plt.scatter(range(0,len(y_test)),y_test, color='red')\n",
    "plt.scatter(range(0,len(predictions)),predictions, color='blue')"
   ]
  },
  {
   "cell_type": "code",
   "execution_count": 26,
   "metadata": {},
   "outputs": [
    {
     "name": "stdout",
     "output_type": "stream",
     "text": [
      "R² : -2.8860435005776175\n"
     ]
    }
   ],
   "source": [
    "from sklearn.metrics import r2_score\n",
    "R = r2_score(y_test, predictions)\n",
    "print ('R² :',R)"
   ]
  },
  {
   "cell_type": "code",
   "execution_count": 27,
   "metadata": {},
   "outputs": [
    {
     "name": "stdout",
     "output_type": "stream",
     "text": [
      "0         67.0\n",
      "1        211.0\n",
      "2        356.0\n",
      "3        500.0\n",
      "4        577.0\n",
      "        ...   \n",
      "473    68420.0\n",
      "474    68579.0\n",
      "475    68706.0\n",
      "476    68838.0\n",
      "477    69005.0\n",
      "Name: requests, Length: 478, dtype: float64 [array([177.49815369]), array([177.49815369]), array([177.49815369]), array([177.49815369]), array([177.49815369]), array([177.49815369]), array([177.49815369]), array([177.49815369]), array([177.49815369]), array([177.49815369]), array([177.49815369]), array([177.49815369]), array([177.49815369]), array([177.49815369]), array([177.49815369]), array([177.49815369]), array([177.49815369]), array([177.49815369]), array([177.49815369]), array([177.49815369]), array([177.49815369]), array([177.49815369]), array([177.49815369]), array([177.49815369]), array([177.49815369]), array([177.49815369]), array([177.49815369]), array([177.49815369]), array([177.49815369]), array([177.49815369]), array([177.49815369]), array([177.49815369]), array([177.49815369]), array([177.49815369]), array([177.49815369]), array([177.49815369]), array([177.49815369]), array([177.49815369]), array([177.49815369]), array([177.49815369]), array([177.49815369]), array([177.49815369]), array([177.49815369]), array([177.49815369]), array([177.49815369]), array([177.49815369]), array([177.49815369]), array([177.49815369]), array([177.49815369]), array([177.49815369]), array([177.49815369]), array([177.49815369]), array([177.49815369]), array([177.49815369]), array([177.49815369]), array([177.49815369]), array([177.49815369]), array([177.49815369]), array([177.49815369]), array([177.49815369]), array([177.49815369]), array([177.49815369]), array([177.49815369]), array([177.49815369]), array([177.49815369]), array([177.49815369]), array([177.49815369]), array([177.49815369]), array([177.49815369]), array([177.49815369]), array([177.49815369]), array([177.49815369]), array([177.49815369]), array([177.49815369]), array([177.49815369]), array([177.49815369]), array([177.49815369]), array([177.49815369]), array([177.49815369]), array([177.49815369]), array([177.49815369]), array([177.49815369]), array([177.49815369]), array([177.49815369]), array([177.49815369]), array([177.49815369]), array([177.49815369]), array([177.49815369]), array([177.49815369]), array([177.49815369]), array([177.49815369]), array([177.49815369]), array([177.49815369]), array([177.49815369]), array([177.49815369]), array([177.49815369]), array([177.49815369]), array([177.49815369]), array([177.49815369]), array([177.49815369]), array([177.49815369]), array([177.49815369]), array([177.49815369]), array([177.49815369]), array([177.49815369]), array([177.49815369]), array([177.49815369]), array([177.49815369]), array([177.49815369]), array([177.49815369]), array([177.49815369]), array([177.49815369]), array([177.49815369]), array([177.49815369]), array([177.49815369]), array([177.49815369]), array([177.49815369]), array([177.49815369]), array([177.49815369]), array([177.49815369]), array([177.49815369]), array([177.49815369]), array([177.49815369]), array([177.49815369]), array([177.49815369]), array([177.49815369]), array([177.49815369]), array([177.49815369]), array([177.49815369]), array([177.49815369]), array([177.49815369]), array([177.49815369]), array([177.49815369]), array([177.49815369]), array([177.49815369]), array([177.49815369]), array([177.49815369]), array([177.49815369]), array([177.49815369]), array([177.49815369]), array([177.49815369]), array([177.49815369]), array([177.49815369]), array([177.49815369]), array([177.49815369]), array([177.49815369]), array([177.49815369]), array([177.49815369]), array([177.49815369]), array([177.49815369]), array([177.49815369]), array([177.49815369]), array([177.49815369]), array([177.49815369]), array([177.49815369]), array([177.49815369]), array([177.49815369]), array([177.49815369]), array([177.49815369]), array([177.49815369]), array([177.49815369]), array([177.49815369]), array([177.49815369]), array([177.49815369]), array([177.49815369]), array([177.49815369]), array([177.49815369]), array([177.49815369]), array([177.49815369]), array([177.49815369]), array([177.49815369]), array([177.49815369]), array([177.49815369]), array([177.49815369]), array([177.49815369]), array([177.49815369]), array([177.49815369]), array([177.49815369]), array([177.49815369]), array([177.49815369]), array([177.49815369]), array([177.49815369]), array([177.49815369]), array([177.49815369]), array([177.49815369]), array([177.49815369]), array([177.49815369]), array([177.49815369]), array([177.49815369]), array([177.49815369]), array([177.49815369]), array([177.49815369]), array([177.49815369]), array([177.49815369]), array([177.49815369]), array([177.49815369]), array([177.49815369]), array([177.49815369]), array([177.49815369]), array([177.49815369]), array([177.49815369]), array([177.49815369]), array([177.49815369]), array([177.49815369]), array([177.49815369]), array([177.49815369]), array([177.49815369]), array([177.49815369]), array([177.49815369]), array([177.49815369]), array([177.49815369]), array([177.49815369]), array([177.49815369]), array([177.49815369]), array([177.49815369]), array([177.49815369]), array([177.49815369]), array([177.49815369]), array([177.49815369]), array([177.49815369]), array([177.49815369]), array([177.49815369]), array([177.49815369]), array([177.49815369]), array([177.49815369]), array([177.49815369]), array([177.49815369]), array([177.49815369]), array([177.49815369]), array([177.49815369]), array([177.49815369]), array([177.49815369]), array([177.49815369]), array([177.49815369]), array([177.49815369]), array([177.49815369]), array([177.49815369]), array([177.49815369]), array([177.49815369]), array([177.49815369]), array([177.49815369]), array([177.49815369]), array([177.49815369]), array([177.49815369]), array([177.49815369]), array([177.49815369]), array([177.49815369]), array([177.49815369]), array([177.49815369]), array([177.49815369]), array([177.49815369]), array([177.49815369]), array([177.49815369]), array([177.49815369]), array([177.49815369]), array([177.49815369]), array([177.49815369]), array([177.49815369]), array([177.49815369]), array([177.49815369]), array([177.49815369]), array([177.49815369]), array([177.49815369]), array([177.49815369]), array([177.49815369]), array([177.49815369]), array([177.49815369]), array([177.49815369]), array([177.49815369]), array([177.49815369]), array([177.49815369]), array([177.49815369]), array([177.49815369]), array([177.49815369]), array([177.49815369]), array([177.49815369]), array([177.49815369]), array([177.49815369]), array([177.49815369]), array([177.49815369]), array([177.49815369]), array([177.49815369]), array([177.49815369]), array([177.49815369]), array([177.49815369]), array([177.49815369]), array([177.49815369]), array([177.49815369]), array([177.49815369]), array([177.49815369]), array([177.49815369]), array([177.49815369]), array([177.49815369]), array([177.49815369]), array([177.49815369]), array([177.49815369]), array([177.49815369]), array([177.49815369]), array([177.49815369]), array([177.49815369]), array([177.49815369]), array([177.49815369]), array([177.49815369]), array([177.49815369]), array([177.49815369]), array([177.49815369]), array([177.49815369]), array([177.49815369]), array([177.49815369]), array([177.49815369]), array([177.49815369]), array([177.49815369]), array([177.49815369]), array([177.49815369]), array([177.49815369]), array([177.49815369]), array([177.49815369]), array([177.49815369]), array([177.49815369]), array([177.49815369]), array([177.49815369]), array([177.49815369]), array([177.49815369]), array([177.49815369]), array([177.49815369]), array([177.49815369]), array([177.49815369]), array([177.49815369]), array([177.49815369]), array([177.49815369]), array([177.49815369]), array([177.49815369]), array([177.49815369]), array([177.49815369]), array([177.49815369]), array([177.49815369]), array([177.49815369]), array([177.49815369]), array([177.49815369]), array([177.49815369]), array([177.49815369]), array([177.49815369]), array([177.49815369]), array([177.49815369]), array([177.49815369]), array([177.49815369]), array([177.49815369]), array([177.49815369]), array([177.49815369]), array([177.49815369]), array([177.49815369]), array([177.49815369]), array([177.49815369]), array([177.49815369]), array([177.49815369]), array([177.49815369]), array([177.49815369]), array([177.49815369]), array([177.49815369]), array([177.49815369]), array([177.49815369]), array([177.49815369]), array([177.49815369]), array([177.49815369]), array([177.49815369]), array([177.49815369]), array([177.49815369]), array([177.49815369]), array([177.49815369]), array([177.49815369]), array([177.49815369]), array([177.49815369]), array([177.49815369]), array([177.49815369]), array([177.49815369]), array([177.49815369]), array([177.49815369]), array([177.49815369]), array([177.49815369]), array([177.49815369]), array([177.49815369]), array([177.49815369]), array([177.49815369]), array([177.49815369]), array([177.49815369]), array([177.49815369]), array([177.49815369]), array([177.49815369]), array([177.49815369]), array([177.49815369]), array([177.49815369]), array([177.49815369]), array([177.49815369]), array([177.49815369]), array([177.49815369]), array([177.49815369]), array([177.49815369]), array([177.49815369]), array([177.49815369]), array([177.49815369]), array([177.49815369]), array([177.49815369]), array([177.49815369]), array([177.49815369]), array([177.49815369]), array([177.49815369]), array([177.49815369]), array([177.49815369]), array([177.49815369]), array([177.49815369]), array([177.49815369]), array([177.49815369]), array([177.49815369]), array([177.49815369]), array([177.49815369]), array([177.49815369]), array([177.49815369]), array([177.49815369]), array([177.49815369]), array([177.49815369]), array([177.49815369]), array([177.49815369]), array([177.49815369]), array([177.49815369]), array([177.49815369]), array([177.49815369]), array([177.49815369]), array([177.49815369]), array([177.49815369]), array([177.49815369]), array([177.49815369]), array([177.49815369]), array([177.49815369]), array([177.49815369]), array([177.49815369]), array([177.49815369]), array([177.49815369]), array([177.49815369]), array([177.49815369]), array([177.49815369]), array([177.49815369]), array([177.49815369]), array([177.49815369]), array([177.49815369]), array([177.49815369]), array([177.49815369]), array([177.49815369]), array([177.49815369]), array([177.49815369]), array([177.49815369]), array([177.49815369]), array([177.49815369]), array([177.49815369]), array([177.49815369]), array([177.49815369]), array([177.49815369]), array([177.49815369]), array([177.49815369]), array([177.49815369]), array([177.49815369]), array([177.49815369]), array([177.49815369]), array([177.49815369]), array([177.49815369]), array([177.49815369]), array([177.49815369]), array([177.49815369]), array([177.49815369]), array([177.49815369]), array([177.49815369]), array([177.49815369]), array([177.49815369]), array([177.49815369]), array([177.49815369]), array([177.49815369]), array([177.49815369]), array([177.49815369]), array([177.49815369])]\n"
     ]
    }
   ],
   "source": [
    "print(y_test,predictions )"
   ]
  },
  {
   "cell_type": "markdown",
   "metadata": {},
   "source": [
    "# Kfold - data split"
   ]
  },
  {
   "cell_type": "code",
   "execution_count": null,
   "metadata": {},
   "outputs": [],
   "source": []
  }
 ],
 "metadata": {
  "kernelspec": {
   "display_name": "Python 3",
   "language": "python",
   "name": "python3"
  },
  "language_info": {
   "codemirror_mode": {
    "name": "ipython",
    "version": 3
   },
   "file_extension": ".py",
   "mimetype": "text/x-python",
   "name": "python",
   "nbconvert_exporter": "python",
   "pygments_lexer": "ipython3",
   "version": "3.6.9"
  }
 },
 "nbformat": 4,
 "nbformat_minor": 4
}
