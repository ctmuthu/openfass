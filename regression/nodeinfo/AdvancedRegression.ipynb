{
 "cells": [
  {
   "cell_type": "code",
   "execution_count": 1,
   "metadata": {},
   "outputs": [],
   "source": [
    "import os\n",
    "import datetime\n",
    "import pandas as pd\n",
    "import numpy as np\n",
    "import matplotlib.pyplot as plt\n",
    "from sklearn import preprocessing\n",
    "from sklearn.model_selection import train_test_split, ParameterGrid, GridSearchCV\n",
    "from sklearn.linear_model import Ridge, Lasso, HuberRegressor, ElasticNet, LinearRegression\n",
    "from sklearn.preprocessing import PolynomialFeatures\n",
    "from sklearn.pipeline import make_pipeline\n",
    "from sklearn.ensemble import GradientBoostingRegressor, RandomForestRegressor"
   ]
  },
  {
   "cell_type": "code",
   "execution_count": 2,
   "metadata": {},
   "outputs": [
    {
     "data": {
      "text/html": [
       "<div>\n",
       "<style scoped>\n",
       "    .dataframe tbody tr th:only-of-type {\n",
       "        vertical-align: middle;\n",
       "    }\n",
       "\n",
       "    .dataframe tbody tr th {\n",
       "        vertical-align: top;\n",
       "    }\n",
       "\n",
       "    .dataframe thead th {\n",
       "        text-align: right;\n",
       "    }\n",
       "</style>\n",
       "<table border=\"1\" class=\"dataframe\">\n",
       "  <thead>\n",
       "    <tr style=\"text-align: right;\">\n",
       "      <th></th>\n",
       "      <th>cpu</th>\n",
       "      <th>diskio</th>\n",
       "      <th>diskioRead</th>\n",
       "      <th>diskioWritten</th>\n",
       "      <th>mem</th>\n",
       "      <th>networkReceived</th>\n",
       "      <th>networkTransmitted</th>\n",
       "      <th>replica</th>\n",
       "      <th>requests</th>\n",
       "      <th>responsetime</th>\n",
       "      <th>totalcpu</th>\n",
       "      <th>totalcpuUtilization</th>\n",
       "      <th>totalmemory</th>\n",
       "      <th>totalmemoryUtilization</th>\n",
       "    </tr>\n",
       "  </thead>\n",
       "  <tbody>\n",
       "    <tr>\n",
       "      <th>0</th>\n",
       "      <td>0.543895</td>\n",
       "      <td>0.008625</td>\n",
       "      <td>924.236712</td>\n",
       "      <td>63156.175327</td>\n",
       "      <td>0.176144</td>\n",
       "      <td>2128.447148</td>\n",
       "      <td>10523.371640</td>\n",
       "      <td>1.0</td>\n",
       "      <td>50.0</td>\n",
       "      <td>0.103940</td>\n",
       "      <td>6.0</td>\n",
       "      <td>44.260521</td>\n",
       "      <td>1.240458e+10</td>\n",
       "      <td>36.548910</td>\n",
       "    </tr>\n",
       "    <tr>\n",
       "      <th>1</th>\n",
       "      <td>0.555150</td>\n",
       "      <td>0.011289</td>\n",
       "      <td>12651.807738</td>\n",
       "      <td>94205.906535</td>\n",
       "      <td>0.176144</td>\n",
       "      <td>6182.507055</td>\n",
       "      <td>20512.544166</td>\n",
       "      <td>1.0</td>\n",
       "      <td>192.0</td>\n",
       "      <td>0.108720</td>\n",
       "      <td>6.0</td>\n",
       "      <td>44.260521</td>\n",
       "      <td>1.240458e+10</td>\n",
       "      <td>37.249118</td>\n",
       "    </tr>\n",
       "    <tr>\n",
       "      <th>2</th>\n",
       "      <td>0.521781</td>\n",
       "      <td>0.010222</td>\n",
       "      <td>12652.088889</td>\n",
       "      <td>107315.200000</td>\n",
       "      <td>0.196314</td>\n",
       "      <td>7243.755556</td>\n",
       "      <td>20228.244444</td>\n",
       "      <td>1.0</td>\n",
       "      <td>333.0</td>\n",
       "      <td>0.105527</td>\n",
       "      <td>6.0</td>\n",
       "      <td>15.116667</td>\n",
       "      <td>1.240458e+10</td>\n",
       "      <td>37.249118</td>\n",
       "    </tr>\n",
       "    <tr>\n",
       "      <th>3</th>\n",
       "      <td>0.521781</td>\n",
       "      <td>0.009778</td>\n",
       "      <td>11832.888889</td>\n",
       "      <td>115234.133333</td>\n",
       "      <td>0.196314</td>\n",
       "      <td>8994.822222</td>\n",
       "      <td>25560.088889</td>\n",
       "      <td>1.0</td>\n",
       "      <td>474.0</td>\n",
       "      <td>0.108370</td>\n",
       "      <td>6.0</td>\n",
       "      <td>15.116667</td>\n",
       "      <td>1.240458e+10</td>\n",
       "      <td>37.201915</td>\n",
       "    </tr>\n",
       "    <tr>\n",
       "      <th>4</th>\n",
       "      <td>0.406110</td>\n",
       "      <td>0.008533</td>\n",
       "      <td>0.000000</td>\n",
       "      <td>97939.911111</td>\n",
       "      <td>0.196123</td>\n",
       "      <td>7063.244444</td>\n",
       "      <td>18804.822222</td>\n",
       "      <td>1.0</td>\n",
       "      <td>564.0</td>\n",
       "      <td>0.103987</td>\n",
       "      <td>6.0</td>\n",
       "      <td>10.733333</td>\n",
       "      <td>1.240458e+10</td>\n",
       "      <td>37.201915</td>\n",
       "    </tr>\n",
       "  </tbody>\n",
       "</table>\n",
       "</div>"
      ],
      "text/plain": [
       "        cpu    diskio    diskioRead  diskioWritten       mem  networkReceived  \\\n",
       "0  0.543895  0.008625    924.236712   63156.175327  0.176144      2128.447148   \n",
       "1  0.555150  0.011289  12651.807738   94205.906535  0.176144      6182.507055   \n",
       "2  0.521781  0.010222  12652.088889  107315.200000  0.196314      7243.755556   \n",
       "3  0.521781  0.009778  11832.888889  115234.133333  0.196314      8994.822222   \n",
       "4  0.406110  0.008533      0.000000   97939.911111  0.196123      7063.244444   \n",
       "\n",
       "   networkTransmitted  replica  requests  responsetime  totalcpu  \\\n",
       "0        10523.371640      1.0      50.0      0.103940       6.0   \n",
       "1        20512.544166      1.0     192.0      0.108720       6.0   \n",
       "2        20228.244444      1.0     333.0      0.105527       6.0   \n",
       "3        25560.088889      1.0     474.0      0.108370       6.0   \n",
       "4        18804.822222      1.0     564.0      0.103987       6.0   \n",
       "\n",
       "   totalcpuUtilization   totalmemory  totalmemoryUtilization  \n",
       "0            44.260521  1.240458e+10               36.548910  \n",
       "1            44.260521  1.240458e+10               37.249118  \n",
       "2            15.116667  1.240458e+10               37.249118  \n",
       "3            15.116667  1.240458e+10               37.201915  \n",
       "4            10.733333  1.240458e+10               37.201915  "
      ]
     },
     "execution_count": 2,
     "metadata": {},
     "output_type": "execute_result"
    }
   ],
   "source": [
    "cwd = os.getcwd()\n",
    "output_dir = os.path.join(cwd, \"../../data\")\n",
    "df = pd.read_csv(os.path.join(output_dir, \"combined_nodeinfo.csv\"))\n",
    "df_test = pd.read_csv(os.path.join(output_dir, \"combined_nodeinfotest.csv\"))\n",
    "#df_test = pd.read_csv(os.path.join(output_dir, \"figlet1599056546.006096_1599063766.431225.csv\"))\n",
    "df = df.drop(df[df.responsetime > 1].index)\n",
    "df.pop('Time')\n",
    "df_test = df_test.drop(df_test[df_test.responsetime > 1].index)\n",
    "df_test.pop('Time')\n",
    "df.head()"
   ]
  },
  {
   "cell_type": "code",
   "execution_count": 3,
   "metadata": {},
   "outputs": [],
   "source": [
    "# remove 2xlarge\n",
    "df = df.drop(df[df.totalcpu > 16].index)"
   ]
  },
  {
   "cell_type": "code",
   "execution_count": 4,
   "metadata": {},
   "outputs": [],
   "source": [
    "df_t = pd.DataFrame()\n",
    "df_ttest = pd.DataFrame()"
   ]
  },
  {
   "cell_type": "code",
   "execution_count": 5,
   "metadata": {},
   "outputs": [
    {
     "data": {
      "text/html": [
       "<div>\n",
       "<style scoped>\n",
       "    .dataframe tbody tr th:only-of-type {\n",
       "        vertical-align: middle;\n",
       "    }\n",
       "\n",
       "    .dataframe tbody tr th {\n",
       "        vertical-align: top;\n",
       "    }\n",
       "\n",
       "    .dataframe thead th {\n",
       "        text-align: right;\n",
       "    }\n",
       "</style>\n",
       "<table border=\"1\" class=\"dataframe\">\n",
       "  <thead>\n",
       "    <tr style=\"text-align: right;\">\n",
       "      <th></th>\n",
       "      <th>total_cpu_util</th>\n",
       "      <th>total_mem_util</th>\n",
       "      <th>responsetime</th>\n",
       "      <th>requests</th>\n",
       "    </tr>\n",
       "  </thead>\n",
       "  <tbody>\n",
       "    <tr>\n",
       "      <th>0</th>\n",
       "      <td>1.779273</td>\n",
       "      <td>453.373747</td>\n",
       "      <td>0.103940</td>\n",
       "      <td>50.0</td>\n",
       "    </tr>\n",
       "    <tr>\n",
       "      <th>1</th>\n",
       "      <td>1.779273</td>\n",
       "      <td>462.059520</td>\n",
       "      <td>0.108720</td>\n",
       "      <td>192.0</td>\n",
       "    </tr>\n",
       "    <tr>\n",
       "      <th>2</th>\n",
       "      <td>0.607690</td>\n",
       "      <td>462.059520</td>\n",
       "      <td>0.105527</td>\n",
       "      <td>333.0</td>\n",
       "    </tr>\n",
       "    <tr>\n",
       "      <th>3</th>\n",
       "      <td>0.607690</td>\n",
       "      <td>461.473997</td>\n",
       "      <td>0.108370</td>\n",
       "      <td>474.0</td>\n",
       "    </tr>\n",
       "    <tr>\n",
       "      <th>4</th>\n",
       "      <td>0.431480</td>\n",
       "      <td>461.473997</td>\n",
       "      <td>0.103987</td>\n",
       "      <td>564.0</td>\n",
       "    </tr>\n",
       "  </tbody>\n",
       "</table>\n",
       "</div>"
      ],
      "text/plain": [
       "   total_cpu_util  total_mem_util  responsetime  requests\n",
       "0        1.779273      453.373747      0.103940      50.0\n",
       "1        1.779273      462.059520      0.108720     192.0\n",
       "2        0.607690      462.059520      0.105527     333.0\n",
       "3        0.607690      461.473997      0.108370     474.0\n",
       "4        0.431480      461.473997      0.103987     564.0"
      ]
     },
     "execution_count": 5,
     "metadata": {},
     "output_type": "execute_result"
    }
   ],
   "source": [
    "df_t['total_cpu_util'] = (df['totalcpuUtilization']*(df['totalcpu']*0.67))/100                    \n",
    "df_t['total_mem_util'] = (df['totalmemoryUtilization']*df['totalmemory'])*1e-9\n",
    "df_t['responsetime'] = df['responsetime']\n",
    "df_t['requests'] = df['requests']\n",
    "#df_t['replica'] = df['replica']\n",
    "df_ttest['total_cpu_util'] = (df_test['totalcpuUtilization']*(df_test['totalcpu']*0.67))/100\n",
    "df_ttest['total_mem_util'] = (df_test['totalmemoryUtilization']*df_test['totalmemory'])*1e-9\n",
    "df_ttest['responsetime'] = df_test['responsetime']\n",
    "df_ttest['requests'] = df_test['requests']\n",
    "#df_ttest['replica'] = df_test['replica']\n",
    "df_t.head()"
   ]
  },
  {
   "cell_type": "code",
   "execution_count": 6,
   "metadata": {},
   "outputs": [],
   "source": [
    "x_train = df_t[[col for col in df_t.columns if col != 'requests']]\n",
    "y_train = df_t['requests']\n",
    "#x_train = preprocessing.normalize(x_train, norm='max')\n",
    "x_test = df_ttest[[col for col in df_ttest.columns if col != 'requests']]\n",
    "y_test = df_ttest['requests']\n",
    "#x_test = preprocessing.normalize(x_test, norm='max')"
   ]
  },
  {
   "cell_type": "code",
   "execution_count": 7,
   "metadata": {},
   "outputs": [
    {
     "data": {
      "text/plain": [
       "<matplotlib.collections.PathCollection at 0x7fdc1c11ea58>"
      ]
     },
     "execution_count": 7,
     "metadata": {},
     "output_type": "execute_result"
    },
    {
     "data": {
      "image/png": "[encoded data removed]",
      "text/plain": [
       "<Figure size 432x288 with 1 Axes>"
      ]
     },
     "metadata": {
      "needs_background": "light"
     },
     "output_type": "display_data"
    }
   ],
   "source": [
    "plt.scatter(df_ttest['requests'], df_ttest['total_cpu_util'] )"
   ]
  },
  {
   "cell_type": "code",
   "execution_count": 8,
   "metadata": {},
   "outputs": [
    {
     "data": {
      "text/plain": [
       "<matplotlib.collections.PathCollection at 0x7fdc1a025160>"
      ]
     },
     "execution_count": 8,
     "metadata": {},
     "output_type": "execute_result"
    },
    {
     "data": {
      "image/png": "[encoded data removed]",
      "text/plain": [
       "<Figure size 432x288 with 1 Axes>"
      ]
     },
     "metadata": {
      "needs_background": "light"
     },
     "output_type": "display_data"
    }
   ],
   "source": [
    "plt.scatter(df_t['requests'], df_t['total_cpu_util'] )"
   ]
  },
  {
   "cell_type": "markdown",
   "metadata": {},
   "source": [
    "## Linear Regression"
   ]
  },
  {
   "cell_type": "code",
   "execution_count": 9,
   "metadata": {},
   "outputs": [
    {
     "name": "stdout",
     "output_type": "stream",
     "text": [
      "Training Score  0.7169578794119835\n",
      "Testing Score  0.7876149459908922\n"
     ]
    },
    {
     "data": {
      "text/plain": [
       "<matplotlib.collections.PathCollection at 0x7fdc19fa3550>"
      ]
     },
     "execution_count": 9,
     "metadata": {},
     "output_type": "execute_result"
    },
    {
     "data": {
      "image/png": "[encoded data removed]",
      "text/plain": [
       "<Figure size 432x288 with 1 Axes>"
      ]
     },
     "metadata": {
      "needs_background": "light"
     },
     "output_type": "display_data"
    }
   ],
   "source": [
    "parameters = {'fit_intercept': [True,False],\n",
    "             'copy_X': [True,False]}\n",
    "#linear = GridSearchCV(LinearRegression(),\n",
    "#                      parameters, \n",
    "#                      cv=7,\n",
    "#                      scoring='r2',\n",
    "#                      n_jobs=-1)\n",
    "linear = LinearRegression(fit_intercept=False)\n",
    "linear.fit(x_train, y_train)\n",
    "\n",
    "y_tr_pred = linear.predict(x_train)\n",
    "y_te_pred = linear.predict(x_test)\n",
    "\n",
    "#print('linear reg score on our train data: {:.3f}'.format(sqrt(mse(y_train, y_tr_pred))))\n",
    "#print('linear reg score on our test data: {:.3f}'.format(sqrt(mse(y_test, y_te_pred))))\n",
    "\n",
    "print(\"Training Score \",linear.score(x_train,y_train))\n",
    "print(\"Testing Score \",linear.score(x_test,y_test))\n",
    "\n",
    "#from sklearn.metrics import r2_score\n",
    "#R = r2_score(y_test, y_te_pred)\n",
    "#print ('R² :',R)\n",
    "#print('Best Score: ', linear.best_score_)\n",
    "#print('Best Params: ', linear.best_params_)\n",
    "\n",
    "plt.scatter(range(0,len(y_test)),y_test, color='red')\n",
    "plt.scatter(range(0,len(y_te_pred)),y_te_pred, color='blue')"
   ]
  },
  {
   "cell_type": "code",
   "execution_count": 10,
   "metadata": {},
   "outputs": [
    {
     "data": {
      "text/plain": [
       "[<matplotlib.lines.Line2D at 0x7fdc19f44da0>]"
      ]
     },
     "execution_count": 10,
     "metadata": {},
     "output_type": "execute_result"
    },
    {
     "data": {
      "image/png": "[encoded data removed]",
      "text/plain": [
       "<Figure size 432x288 with 1 Axes>"
      ]
     },
     "metadata": {
      "needs_background": "light"
     },
     "output_type": "display_data"
    }
   ],
   "source": [
    "plt.plot(y_test)\n",
    "plt.plot(y_te_pred)"
   ]
  },
  {
   "cell_type": "markdown",
   "metadata": {},
   "source": [
    "## Polynomial Regression"
   ]
  },
  {
   "cell_type": "code",
   "execution_count": 11,
   "metadata": {},
   "outputs": [
    {
     "name": "stdout",
     "output_type": "stream",
     "text": [
      "Training Score  0.8933489591031037\n",
      "Testing Score  0.23401725525421868\n",
      "Best Params:  {'linearregression__fit_intercept': False, 'polynomialfeatures__degree': 2}\n"
     ]
    },
    {
     "data": {
      "text/plain": [
       "<matplotlib.collections.PathCollection at 0x7fdc18e31860>"
      ]
     },
     "execution_count": 11,
     "metadata": {},
     "output_type": "execute_result"
    },
    {
     "data": {
      "image/png": "[encoded data removed]",
      "text/plain": [
       "<Figure size 432x288 with 1 Axes>"
      ]
     },
     "metadata": {
      "needs_background": "light"
     },
     "output_type": "display_data"
    }
   ],
   "source": [
    "def PolynomialRegression(**kwargs):\n",
    "    return make_pipeline(PolynomialFeatures(), LinearRegression(**kwargs))\n",
    "degrees = [2,3,4,5,6 ]\n",
    "param_grid = {'polynomialfeatures__degree': degrees, 'linearregression__fit_intercept': [False]}\n",
    "polynomial = GridSearchCV(PolynomialRegression(),\n",
    "                      param_grid, \n",
    "                      cv=5,\n",
    "                      scoring='r2',\n",
    "                      n_jobs=-1)\n",
    "polynomial.fit(x_train, y_train)\n",
    "\n",
    "y_tr_pred = polynomial.predict(x_train)\n",
    "y_te_pred = polynomial.predict(x_test)\n",
    "\n",
    "#print('linear reg score on our train data: {:.3f}'.format(sqrt(mse(y_train, y_tr_pred))))\n",
    "#print('linear reg score on our test data: {:.3f}'.format(sqrt(mse(y_test, y_te_pred))))\n",
    "\n",
    "print(\"Training Score \",polynomial.score(x_train,y_train))\n",
    "print(\"Testing Score \",polynomial.score(x_test,y_test))\n",
    "\n",
    "#from sklearn.metrics import r2_score\n",
    "#R = r2_score(y_test, y_te_pred)\n",
    "#print ('R² :',R)\n",
    "#print('Best Score: ', polynomial.best_score_)\n",
    "print('Best Params: ', polynomial.best_params_)\n",
    "\n",
    "plt.scatter(range(0,len(y_test)),y_test, color='red')\n",
    "plt.scatter(range(0,len(y_te_pred)),y_te_pred, color='blue')"
   ]
  },
  {
   "cell_type": "markdown",
   "metadata": {},
   "source": [
    "## Ridge Regression"
   ]
  },
  {
   "cell_type": "code",
   "execution_count": 12,
   "metadata": {},
   "outputs": [
    {
     "name": "stdout",
     "output_type": "stream",
     "text": [
      "Training Score  0.8185836666946129\n",
      "Testing Score  0.3901578559676595\n",
      "Best Params:  {'alpha': 3.359818286283788, 'fit_intercept': True, 'max_iter': 10, 'solver': 'svd'}\n"
     ]
    },
    {
     "data": {
      "text/plain": [
       "<matplotlib.collections.PathCollection at 0x7fdc18d67a20>"
      ]
     },
     "execution_count": 12,
     "metadata": {},
     "output_type": "execute_result"
    },
    {
     "data": {
      "image/png": "[encoded data removed]",
      "text/plain": [
       "<Figure size 432x288 with 1 Axes>"
      ]
     },
     "metadata": {
      "needs_background": "light"
     },
     "output_type": "display_data"
    }
   ],
   "source": [
    "alphas = np.logspace(-20,10,num=20)\n",
    "param_grid = {'max_iter': np.arange(10,100,10),\n",
    "             'alpha': alphas,\n",
    "            'solver': ['auto', 'svd'],\n",
    "             'fit_intercept':[True, False]}\n",
    "ridge_cv = GridSearchCV(Ridge(),\n",
    "                       param_grid=param_grid,\n",
    "                         cv=3, \n",
    "                         scoring='r2',\n",
    "                         n_jobs=-1)\n",
    "\n",
    "ridge_cv.fit(x_train, y_train)\n",
    "\n",
    "y_tr_pred = ridge_cv.predict(x_train)\n",
    "y_te_pred = ridge_cv.predict(x_test)\n",
    "\n",
    "print(\"Training Score \",ridge_cv.score(x_train,y_train))\n",
    "print(\"Testing Score \",ridge_cv.score(x_test,y_test))\n",
    "\n",
    "#from sklearn.metrics import r2_score\n",
    "#R = r2_score(y_test, y_te_pred)\n",
    "#print ('R² :',R)\n",
    "#print('Best Score: ', ridge_cv.best_score_)\n",
    "print('Best Params: ', ridge_cv.best_params_)\n",
    "\n",
    "plt.scatter(range(0,len(y_test)),y_test, color='red')\n",
    "plt.scatter(range(0,len(y_te_pred)),y_te_pred, color='blue')"
   ]
  },
  {
   "cell_type": "markdown",
   "metadata": {},
   "source": [
    "## Lasso Regression"
   ]
  },
  {
   "cell_type": "code",
   "execution_count": 13,
   "metadata": {},
   "outputs": [
    {
     "name": "stdout",
     "output_type": "stream",
     "text": [
      "Fitting 3 folds for each of 5760 candidates, totalling 17280 fits\n"
     ]
    },
    {
     "name": "stderr",
     "output_type": "stream",
     "text": [
      "[Parallel(n_jobs=-1)]: Using backend LokyBackend with 4 concurrent workers.\n",
      "[Parallel(n_jobs=-1)]: Done 280 tasks      | elapsed:    0.9s\n",
      "[Parallel(n_jobs=-1)]: Done 2680 tasks      | elapsed:    6.7s\n",
      "[Parallel(n_jobs=-1)]: Done 6680 tasks      | elapsed:   16.5s\n",
      "[Parallel(n_jobs=-1)]: Done 12280 tasks      | elapsed:   29.9s\n",
      "[Parallel(n_jobs=-1)]: Done 17280 out of 17280 | elapsed:   41.6s finished\n",
      "/home/ubuntu/.local/lib/python3.6/site-packages/sklearn/linear_model/_coordinate_descent.py:531: ConvergenceWarning: Objective did not converge. You might want to increase the number of iterations. Duality gap: 68125247545.55969, tolerance: 75413024.45834357\n",
      "  positive)\n"
     ]
    },
    {
     "name": "stdout",
     "output_type": "stream",
     "text": [
      "Training Score  -29.867412717810105\n",
      "Testing Score  0.3402622493255848\n",
      "Best Params:  {'alpha': 1.4384498882876658e-17, 'copy_X': False, 'fit_intercept': True, 'max_iter': 10, 'positive': False, 'selection': 'random', 'warm_start': True}\n"
     ]
    },
    {
     "data": {
      "text/plain": [
       "<matplotlib.collections.PathCollection at 0x7fdc18e5e630>"
      ]
     },
     "execution_count": 13,
     "metadata": {},
     "output_type": "execute_result"
    },
    {
     "data": {
      "image/png": "[encoded data removed]",
      "text/plain": [
       "<Figure size 432x288 with 1 Axes>"
      ]
     },
     "metadata": {
      "needs_background": "light"
     },
     "output_type": "display_data"
    }
   ],
   "source": [
    "alphas = np.logspace(-20,10,num=20)\n",
    "\n",
    "param_grid = {'max_iter': np.arange(10,100,10),\n",
    "             'alpha': alphas,\n",
    "             'fit_intercept':[True, False],\n",
    "             'selection': ['cyclic', 'random'],\n",
    "             'positive':[True, False],\n",
    "             'warm_start':[True, False],\n",
    "             'copy_X':[True, False]}\n",
    "\n",
    "lasso_cv = GridSearchCV(Lasso(),\n",
    "                       param_grid=param_grid,\n",
    "                         cv=3, \n",
    "                        scoring='r2',\n",
    "                         n_jobs=-1,\n",
    "                       verbose=1)\n",
    "\n",
    "lasso_cv.fit(x_train, y_train)\n",
    "\n",
    "y_tr_pred = lasso_cv.predict(x_train)\n",
    "y_te_pred = lasso_cv.predict(x_test)\n",
    "\n",
    "print(\"Training Score \",lasso_cv.score(x_train,y_train))\n",
    "print(\"Testing Score \",lasso_cv.score(x_test,y_test))\n",
    "\n",
    "#from sklearn.metrics import r2_score\n",
    "#R = r2_score(y_test, y_te_pred)\n",
    "#print ('R² :',R)\n",
    "#print('Best Score: ', lasso_cv.best_score_)\n",
    "print('Best Params: ', lasso_cv.best_params_)\n",
    "\n",
    "plt.scatter(range(0,len(y_test)),y_test, color='red')\n",
    "plt.scatter(range(0,len(y_te_pred)),y_te_pred, color='blue')"
   ]
  },
  {
   "cell_type": "markdown",
   "metadata": {},
   "source": [
    "## Huber Regressor"
   ]
  },
  {
   "cell_type": "code",
   "execution_count": 14,
   "metadata": {},
   "outputs": [
    {
     "name": "stdout",
     "output_type": "stream",
     "text": [
      "Fitting 3 folds for each of 7200 candidates, totalling 21600 fits\n"
     ]
    },
    {
     "name": "stderr",
     "output_type": "stream",
     "text": [
      "[Parallel(n_jobs=-1)]: Using backend LokyBackend with 4 concurrent workers.\n",
      "[Parallel(n_jobs=-1)]: Done 128 tasks      | elapsed:    1.4s\n",
      "[Parallel(n_jobs=-1)]: Done 728 tasks      | elapsed:    7.0s\n",
      "[Parallel(n_jobs=-1)]: Done 1728 tasks      | elapsed:   16.3s\n",
      "[Parallel(n_jobs=-1)]: Done 3128 tasks      | elapsed:   32.6s\n",
      "[Parallel(n_jobs=-1)]: Done 4928 tasks      | elapsed:   49.4s\n",
      "[Parallel(n_jobs=-1)]: Done 7128 tasks      | elapsed:  1.2min\n",
      "[Parallel(n_jobs=-1)]: Done 9728 tasks      | elapsed:  1.6min\n",
      "[Parallel(n_jobs=-1)]: Done 12728 tasks      | elapsed:  2.0min\n",
      "[Parallel(n_jobs=-1)]: Done 18104 tasks      | elapsed:  2.7min\n",
      "[Parallel(n_jobs=-1)]: Done 21600 out of 21600 | elapsed:  2.9min finished\n"
     ]
    },
    {
     "name": "stdout",
     "output_type": "stream",
     "text": [
      "Training Score  0.7169930507555304\n",
      "Testing Score  -10.423292940181474\n",
      "Best Params:  {'alpha': 0.002335721469090121, 'epsilon': 1.4500000000000004, 'fit_intercept': True, 'max_iter': 30, 'warm_start': True}\n"
     ]
    },
    {
     "name": "stderr",
     "output_type": "stream",
     "text": [
      "/home/ubuntu/.local/lib/python3.6/site-packages/sklearn/linear_model/_huber.py:296: ConvergenceWarning: lbfgs failed to converge (status=1):\n",
      "STOP: TOTAL NO. of ITERATIONS REACHED LIMIT.\n",
      "\n",
      "Increase the number of iterations (max_iter) or scale the data as shown in:\n",
      "    https://scikit-learn.org/stable/modules/preprocessing.html\n",
      "  self.n_iter_ = _check_optimize_result(\"lbfgs\", opt_res, self.max_iter)\n"
     ]
    },
    {
     "data": {
      "text/plain": [
       "<matplotlib.collections.PathCollection at 0x7fdc13eba518>"
      ]
     },
     "execution_count": 14,
     "metadata": {},
     "output_type": "execute_result"
    },
    {
     "data": {
      "image/png": "[encoded data removed]",
      "text/plain": [
       "<Figure size 432x288 with 1 Axes>"
      ]
     },
     "metadata": {
      "needs_background": "light"
     },
     "output_type": "display_data"
    }
   ],
   "source": [
    "epsilon = np.arange(1, 1.5, 0.05)\n",
    "\n",
    "param_grid = {'max_iter': np.arange(10,100,10),\n",
    "             'alpha': alphas,\n",
    "              'epsilon': epsilon,\n",
    "             'fit_intercept':[True, False],\n",
    "             'warm_start':[True, False]}\n",
    "\n",
    "huber_cv = GridSearchCV(HuberRegressor(),\n",
    "                       param_grid=param_grid,\n",
    "                         cv=3, \n",
    "                         scoring='r2',\n",
    "                         n_jobs=-1,\n",
    "                       verbose=1)\n",
    "\n",
    "huber_cv.fit(x_train, y_train)\n",
    "\n",
    "y_tr_pred = huber_cv.predict(x_train)\n",
    "y_te_pred = huber_cv.predict(x_test)\n",
    "\n",
    "print(\"Training Score \",huber_cv.score(x_train,y_train))\n",
    "print(\"Testing Score \",huber_cv.score(x_test,y_test))\n",
    "\n",
    "\n",
    "\n",
    "#from sklearn.metrics import r2_score\n",
    "#R = r2_score(y_test, y_te_pred)\n",
    "#print ('R² :',R)\n",
    "#print('Best Score: ', huber_cv.best_score_)\n",
    "print('Best Params: ', huber_cv.best_params_)\n",
    "\n",
    "plt.scatter(range(0,len(y_test)),y_test, color='red')\n",
    "plt.scatter(range(0,len(y_te_pred)),y_te_pred, color='blue')"
   ]
  },
  {
   "cell_type": "markdown",
   "metadata": {},
   "source": [
    "## Random Forrest Regressor"
   ]
  },
  {
   "cell_type": "code",
   "execution_count": 15,
   "metadata": {},
   "outputs": [
    {
     "name": "stdout",
     "output_type": "stream",
     "text": [
      "Training Score  0.9569733816334827\n",
      "Testing Score  -1.935976757129895\n",
      "Best Params:  {'max_depth': 5, 'max_features': 'auto', 'min_samples_leaf': 2, 'n_estimators': 550}\n"
     ]
    },
    {
     "data": {
      "text/plain": [
       "<matplotlib.collections.PathCollection at 0x7fdc13edd748>"
      ]
     },
     "execution_count": 15,
     "metadata": {},
     "output_type": "execute_result"
    },
    {
     "data": {
      "image/png": "[encoded data removed]",
      "text/plain": [
       "<Figure size 432x288 with 1 Axes>"
      ]
     },
     "metadata": {
      "needs_background": "light"
     },
     "output_type": "display_data"
    }
   ],
   "source": [
    "parameters = {  \n",
    "                 'min_samples_leaf': [2, 4, 6],\n",
    "                 'max_depth': np.arange(1,6,1),\n",
    "                 'n_estimators': np.arange(0,600,50),\n",
    "                'max_features': ['auto']\n",
    "}\n",
    "\n",
    "rf_cv = GridSearchCV( RandomForestRegressor(),\n",
    "                      param_grid=parameters, \n",
    "                      cv=3, \n",
    "                      scoring='r2',\n",
    "                      n_jobs=-1)\n",
    "\n",
    "rf_cv.fit(x_train, y_train)\n",
    "\n",
    "y_tr_pred = rf_cv.predict(x_train)\n",
    "y_te_pred = rf_cv.predict(x_test)\n",
    "\n",
    "\n",
    "print(\"Training Score \",rf_cv.score(x_train,y_train))\n",
    "print(\"Testing Score \",rf_cv.score(x_test,y_test))\n",
    "\n",
    "#from sklearn.metrics import r2_score\n",
    "#R = r2_score(y_test, y_te_pred)\n",
    "#print ('R² :',R)\n",
    "#print('Best Score: ', rf_cv.best_score_)\n",
    "print('Best Params: ', rf_cv.best_params_)\n",
    "\n",
    "plt.scatter(range(0,len(y_test)),y_test, color='red')\n",
    "plt.scatter(range(0,len(y_te_pred)),y_te_pred, color='blue')"
   ]
  },
  {
   "cell_type": "code",
   "execution_count": 16,
   "metadata": {},
   "outputs": [
    {
     "name": "stdout",
     "output_type": "stream",
     "text": [
      "Test R² : -2.2074656135574124\n",
      "Train R² : 0.9836353795188524\n"
     ]
    },
    {
     "data": {
      "text/plain": [
       "<matplotlib.collections.PathCollection at 0x7fdc18594518>"
      ]
     },
     "execution_count": 16,
     "metadata": {},
     "output_type": "execute_result"
    },
    {
     "data": {
      "image/png": "[encoded data removed]",
      "text/plain": [
       "<Figure size 432x288 with 1 Axes>"
      ]
     },
     "metadata": {
      "needs_background": "light"
     },
     "output_type": "display_data"
    }
   ],
   "source": [
    "finalrf_cv = RandomForestRegressor(max_depth=20, min_samples_leaf=6, n_estimators=150)\n",
    "finalrf_cv.fit(x_train, y_train)\n",
    "y_tr_pred = finalrf_cv.predict(x_train)\n",
    "y_te_pred = finalrf_cv.predict(x_test)\n",
    "\n",
    "from sklearn.metrics import r2_score\n",
    "R = r2_score(y_test, y_te_pred)\n",
    "print ('Test R² :',R)\n",
    "\n",
    "R = r2_score(y_train, y_tr_pred)\n",
    "print ('Train R² :',R)\n",
    "\n",
    "plt.scatter(range(0,len(y_test)),y_test, color='red')\n",
    "plt.scatter(range(0,len(y_te_pred)),y_te_pred, color='blue')"
   ]
  },
  {
   "cell_type": "markdown",
   "metadata": {},
   "source": [
    "## ElasticNet"
   ]
  },
  {
   "cell_type": "code",
   "execution_count": 17,
   "metadata": {},
   "outputs": [
    {
     "name": "stdout",
     "output_type": "stream",
     "text": [
      "Training Score  0.8189983817944262\n",
      "Testing Score  -27.0595848942915\n",
      "Best Params:  {'alpha': 0.002335721469090121, 'l1_ratio': 0.6}\n"
     ]
    },
    {
     "data": {
      "text/plain": [
       "<matplotlib.collections.PathCollection at 0x7fdc184d4898>"
      ]
     },
     "execution_count": 17,
     "metadata": {},
     "output_type": "execute_result"
    },
    {
     "data": {
      "image/png": "[encoded data removed]",
      "text/plain": [
       "<Figure size 432x288 with 1 Axes>"
      ]
     },
     "metadata": {
      "needs_background": "light"
     },
     "output_type": "display_data"
    }
   ],
   "source": [
    "# find optimal alpha with grid search\n",
    "alpha = np.logspace(-20,10,num=20)\n",
    "l1_ratio = [0, 0.1, 0.2, 0.3, 0.4, 0.5, 0.6, 0.7, 0.8, 0.9, 1]\n",
    "param_grid = dict(alpha=alpha, l1_ratio=l1_ratio)\n",
    "grid = GridSearchCV(ElasticNet(), \n",
    "                    param_grid=param_grid,\n",
    "                    cv=7,\n",
    "                    scoring='r2', \n",
    "                    n_jobs=-1)\n",
    "\n",
    "grid_result = grid.fit(x_train, y_train)\n",
    "\n",
    "y_tr_pred = grid.predict(x_train)\n",
    "y_te_pred = grid.predict(x_test)\n",
    "\n",
    "print(\"Training Score \",grid_result.score(x_train,y_train))\n",
    "print(\"Testing Score \",grid_result.score(x_test,y_test))\n",
    "\n",
    "#from sklearn.metrics import r2_score\n",
    "#R = r2_score(y_test, y_te_pred)\n",
    "#print ('R² :',R)\n",
    "#print('Best Score: ', grid_result.best_score_)\n",
    "print('Best Params: ', grid_result.best_params_)\n",
    "\n",
    "plt.scatter(range(0,len(y_test)),y_test, color='red')\n",
    "plt.scatter(range(0,len(y_te_pred)),y_te_pred, color='blue')"
   ]
  },
  {
   "cell_type": "markdown",
   "metadata": {},
   "source": [
    "## Gradient Boosting Regressor"
   ]
  },
  {
   "cell_type": "code",
   "execution_count": null,
   "metadata": {},
   "outputs": [
    {
     "name": "stdout",
     "output_type": "stream",
     "text": [
      "Fitting 5 folds for each of 324 candidates, totalling 1620 fits\n"
     ]
    },
    {
     "name": "stderr",
     "output_type": "stream",
     "text": [
      "[Parallel(n_jobs=-1)]: Using backend LokyBackend with 4 concurrent workers.\n",
      "[Parallel(n_jobs=-1)]: Done  42 tasks      | elapsed:   27.9s\n",
      "[Parallel(n_jobs=-1)]: Done 192 tasks      | elapsed:  2.3min\n",
      "[Parallel(n_jobs=-1)]: Done 442 tasks      | elapsed:  6.4min\n",
      "[Parallel(n_jobs=-1)]: Done 792 tasks      | elapsed: 14.1min\n"
     ]
    }
   ],
   "source": [
    "learning_rate = np.arange(0,0.2,0.001)\n",
    "parameters = {  \n",
    "                 'learning_rate': [0.02],\n",
    "                 'min_samples_split': [10, 15, 20],\n",
    "                 'min_samples_leaf': [10, 15, 20],\n",
    "                 'max_depth': [3, 4, 5],\n",
    "                 'n_estimators': [1000, 1500, 2000],\n",
    "                 'loss': ['ls', 'lad', 'huber', 'quantile'],\n",
    "                 'max_features': ['sqrt']\n",
    "             }\n",
    "\n",
    "\n",
    "GBoost_cv = GridSearchCV(GradientBoostingRegressor(), \n",
    "                         param_grid=parameters, \n",
    "                         n_jobs=-1, \n",
    "                         scoring='r2',\n",
    "                         cv=5,\n",
    "                        verbose=1)\n",
    "#GBoost_cv = GradientBoostingRegressor(learning_rate=0.02)\n",
    "\n",
    "GBoost_cv.fit(x_train, y_train)\n",
    "\n",
    "y_tr_pred = GBoost_cv.predict(x_train)\n",
    "y_te_pred = GBoost_cv.predict(x_test)\n",
    "\n",
    "print(\"Training Score \",grid_result.score(x_train,y_train))\n",
    "print(\"Testing Score \",grid_result.score(x_test,y_test))\n",
    "\n",
    "#from sklearn.metrics import r2_score\n",
    "#R = r2_score(y_test, y_te_pred)\n",
    "#print ('R² :',R)\n",
    "#print('Best Score: ', GBoost_cv.best_score_)\n",
    "print('Best Params: ', GBoost_cv.best_params_)\n",
    "\n",
    "plt.scatter(range(0,len(y_test)),y_test, color='red')\n",
    "plt.scatter(range(0,len(y_te_pred)),y_te_pred, color='blue')"
   ]
  },
  {
   "cell_type": "code",
   "execution_count": null,
   "metadata": {},
   "outputs": [],
   "source": []
  }
 ],
 "metadata": {
  "kernelspec": {
   "display_name": "Python 3",
   "language": "python",
   "name": "python3"
  },
  "language_info": {
   "codemirror_mode": {
    "name": "ipython",
    "version": 3
   },
   "file_extension": ".py",
   "mimetype": "text/x-python",
   "name": "python",
   "nbconvert_exporter": "python",
   "pygments_lexer": "ipython3",
   "version": "3.6.9"
  }
 },
 "nbformat": 4,
 "nbformat_minor": 4
}
