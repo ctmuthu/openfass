{
 "cells": [
  {
   "cell_type": "code",
   "execution_count": 1,
   "metadata": {},
   "outputs": [],
   "source": [
    "import matplotlib.pyplot as plt\n",
    "import matplotlib as mpl\n",
    "import pandas as pd\n",
    "import seaborn as sns\n",
    "import sklearn\n",
    "import numpy as np\n",
    "import os"
   ]
  },
  {
   "cell_type": "code",
   "execution_count": 2,
   "metadata": {
    "scrolled": true
   },
   "outputs": [
    {
     "data": {
      "text/html": [
       "<div>\n",
       "<style scoped>\n",
       "    .dataframe tbody tr th:only-of-type {\n",
       "        vertical-align: middle;\n",
       "    }\n",
       "\n",
       "    .dataframe tbody tr th {\n",
       "        vertical-align: top;\n",
       "    }\n",
       "\n",
       "    .dataframe thead th {\n",
       "        text-align: right;\n",
       "    }\n",
       "</style>\n",
       "<table border=\"1\" class=\"dataframe\">\n",
       "  <thead>\n",
       "    <tr style=\"text-align: right;\">\n",
       "      <th></th>\n",
       "      <th>Time</th>\n",
       "      <th>cpu</th>\n",
       "      <th>diskio</th>\n",
       "      <th>diskioRead</th>\n",
       "      <th>diskioWritten</th>\n",
       "      <th>mem</th>\n",
       "      <th>networkReceived</th>\n",
       "      <th>networkTransmitted</th>\n",
       "      <th>replica</th>\n",
       "      <th>requests</th>\n",
       "      <th>responsetime</th>\n",
       "      <th>totalcpu</th>\n",
       "      <th>totalcpuUtilization</th>\n",
       "      <th>totalmemory</th>\n",
       "      <th>totalmemoryUtilization</th>\n",
       "      <th>ts</th>\n",
       "    </tr>\n",
       "  </thead>\n",
       "  <tbody>\n",
       "    <tr>\n",
       "      <th>0</th>\n",
       "      <td>2020-09-14 17:01:34.398</td>\n",
       "      <td>0.257392</td>\n",
       "      <td>0.000089</td>\n",
       "      <td>0.0</td>\n",
       "      <td>33951.288889</td>\n",
       "      <td>0.066471</td>\n",
       "      <td>15747.533333</td>\n",
       "      <td>54180.222222</td>\n",
       "      <td>1.0</td>\n",
       "      <td>426.0</td>\n",
       "      <td>0.107691</td>\n",
       "      <td>6.0</td>\n",
       "      <td>11.811111</td>\n",
       "      <td>1.240458e+10</td>\n",
       "      <td>37.251644</td>\n",
       "      <td>1600102894</td>\n",
       "    </tr>\n",
       "    <tr>\n",
       "      <th>1</th>\n",
       "      <td>2020-09-14 17:01:49.398</td>\n",
       "      <td>0.348676</td>\n",
       "      <td>0.000000</td>\n",
       "      <td>0.0</td>\n",
       "      <td>14745.600000</td>\n",
       "      <td>0.076580</td>\n",
       "      <td>13445.644444</td>\n",
       "      <td>48827.111111</td>\n",
       "      <td>1.0</td>\n",
       "      <td>854.0</td>\n",
       "      <td>0.107901</td>\n",
       "      <td>6.0</td>\n",
       "      <td>10.716667</td>\n",
       "      <td>1.240458e+10</td>\n",
       "      <td>37.440750</td>\n",
       "      <td>1600102909</td>\n",
       "    </tr>\n",
       "    <tr>\n",
       "      <th>2</th>\n",
       "      <td>2020-09-14 17:02:04.398</td>\n",
       "      <td>1.103442</td>\n",
       "      <td>0.000000</td>\n",
       "      <td>0.0</td>\n",
       "      <td>14290.488889</td>\n",
       "      <td>0.076580</td>\n",
       "      <td>15635.400000</td>\n",
       "      <td>52507.400000</td>\n",
       "      <td>1.0</td>\n",
       "      <td>1420.0</td>\n",
       "      <td>0.103107</td>\n",
       "      <td>6.0</td>\n",
       "      <td>10.716667</td>\n",
       "      <td>1.240458e+10</td>\n",
       "      <td>37.440750</td>\n",
       "      <td>1600102924</td>\n",
       "    </tr>\n",
       "    <tr>\n",
       "      <th>3</th>\n",
       "      <td>2020-09-14 17:02:19.398</td>\n",
       "      <td>1.328542</td>\n",
       "      <td>0.000089</td>\n",
       "      <td>0.0</td>\n",
       "      <td>24576.000000</td>\n",
       "      <td>0.082302</td>\n",
       "      <td>13571.600000</td>\n",
       "      <td>48802.888889</td>\n",
       "      <td>1.0</td>\n",
       "      <td>2018.0</td>\n",
       "      <td>0.108230</td>\n",
       "      <td>6.0</td>\n",
       "      <td>12.738889</td>\n",
       "      <td>1.240458e+10</td>\n",
       "      <td>36.465056</td>\n",
       "      <td>1600102939</td>\n",
       "    </tr>\n",
       "    <tr>\n",
       "      <th>4</th>\n",
       "      <td>2020-09-14 17:02:34.398</td>\n",
       "      <td>2.251209</td>\n",
       "      <td>0.000089</td>\n",
       "      <td>0.0</td>\n",
       "      <td>11741.866667</td>\n",
       "      <td>0.082302</td>\n",
       "      <td>15876.311111</td>\n",
       "      <td>54117.933333</td>\n",
       "      <td>1.0</td>\n",
       "      <td>2645.0</td>\n",
       "      <td>0.102428</td>\n",
       "      <td>6.0</td>\n",
       "      <td>12.738889</td>\n",
       "      <td>1.240458e+10</td>\n",
       "      <td>36.465056</td>\n",
       "      <td>1600102954</td>\n",
       "    </tr>\n",
       "  </tbody>\n",
       "</table>\n",
       "</div>"
      ],
      "text/plain": [
       "                     Time       cpu    diskio  diskioRead  diskioWritten  \\\n",
       "0 2020-09-14 17:01:34.398  0.257392  0.000089         0.0   33951.288889   \n",
       "1 2020-09-14 17:01:49.398  0.348676  0.000000         0.0   14745.600000   \n",
       "2 2020-09-14 17:02:04.398  1.103442  0.000000         0.0   14290.488889   \n",
       "3 2020-09-14 17:02:19.398  1.328542  0.000089         0.0   24576.000000   \n",
       "4 2020-09-14 17:02:34.398  2.251209  0.000089         0.0   11741.866667   \n",
       "\n",
       "        mem  networkReceived  networkTransmitted  replica  requests  \\\n",
       "0  0.066471     15747.533333        54180.222222      1.0     426.0   \n",
       "1  0.076580     13445.644444        48827.111111      1.0     854.0   \n",
       "2  0.076580     15635.400000        52507.400000      1.0    1420.0   \n",
       "3  0.082302     13571.600000        48802.888889      1.0    2018.0   \n",
       "4  0.082302     15876.311111        54117.933333      1.0    2645.0   \n",
       "\n",
       "   responsetime  totalcpu  totalcpuUtilization   totalmemory  \\\n",
       "0      0.107691       6.0            11.811111  1.240458e+10   \n",
       "1      0.107901       6.0            10.716667  1.240458e+10   \n",
       "2      0.103107       6.0            10.716667  1.240458e+10   \n",
       "3      0.108230       6.0            12.738889  1.240458e+10   \n",
       "4      0.102428       6.0            12.738889  1.240458e+10   \n",
       "\n",
       "   totalmemoryUtilization          ts  \n",
       "0               37.251644  1600102894  \n",
       "1               37.440750  1600102909  \n",
       "2               37.440750  1600102924  \n",
       "3               36.465056  1600102939  \n",
       "4               36.465056  1600102954  "
      ]
     },
     "execution_count": 2,
     "metadata": {},
     "output_type": "execute_result"
    }
   ],
   "source": [
    "cwd = os.getcwd()\n",
    "output_dir = os.path.join(cwd, \"../data\")\n",
    "df = pd.read_csv(os.path.join(output_dir, \"combined_csv.csv\"))\n",
    "df['Time'] = df['Time'].astype('datetime64[ns]')\n",
    "df['ts'] = df[['Time']].apply(lambda x: x[0].timestamp(), axis=1).astype(int)\n",
    "df.head()"
   ]
  },
  {
   "cell_type": "code",
   "execution_count": 3,
   "metadata": {},
   "outputs": [
    {
     "data": {
      "image/png": "[encoded data removed]",
      "text/plain": [
       "<Figure size 432x288 with 1 Axes>"
      ]
     },
     "metadata": {
      "needs_background": "light"
     },
     "output_type": "display_data"
    }
   ],
   "source": [
    "#plt.scatter(df['requests'],df['mem'])\n",
    "#plt.scatter(df['requests'],df['cpu']) # remove responsetime > 10\n",
    "plt.scatter(df['requests'],df['responsetime'])\n",
    "plt.show()"
   ]
  },
  {
   "cell_type": "code",
   "execution_count": 4,
   "metadata": {},
   "outputs": [],
   "source": [
    "from sklearn.model_selection import train_test_split\n",
    "from sklearn.preprocessing import StandardScaler"
   ]
  },
  {
   "cell_type": "code",
   "execution_count": 7,
   "metadata": {},
   "outputs": [
    {
     "name": "stdout",
     "output_type": "stream",
     "text": [
      "SVR()\n",
      "-0.13184801117791434 \n",
      "\n",
      "SGDRegressor()\n",
      "-8.811269677643181e+30 \n",
      "\n",
      "BayesianRidge()\n",
      "0.4297519622462712 \n",
      "\n",
      "LassoLars()\n",
      "-0.003773926273202166 \n",
      "\n",
      "ARDRegression()\n",
      "0.40024510818386616 \n",
      "\n",
      "PassiveAggressiveRegressor()\n",
      "-16.900896289057084 \n",
      "\n",
      "LinearRegression()\n",
      "0.42917333394665447 \n",
      "\n"
     ]
    }
   ],
   "source": [
    "from sklearn.model_selection import train_test_split\n",
    "\n",
    "X_train, X_test, y_train, y_test = np.asarray(train_test_split(df[['cpu', 'mem', 'replica', 'requests', 'totalcpu']], df['responsetime'], test_size=0.2))\n",
    "\n",
    "\n",
    "from sklearn import linear_model\n",
    "from sklearn import svm\n",
    "\n",
    "classifiers = [\n",
    "    svm.SVR(),\n",
    "    linear_model.SGDRegressor(),\n",
    "    linear_model.BayesianRidge(),\n",
    "    linear_model.LassoLars(),\n",
    "    linear_model.ARDRegression(),\n",
    "    linear_model.PassiveAggressiveRegressor(),\n",
    "    linear_model.LinearRegression()]\n",
    "\n",
    "for item in classifiers:\n",
    "    print(item)\n",
    "    clf = item\n",
    "    clf.fit(X_train.values.reshape(-1,5), y_train)\n",
    "    print(clf.score(X_test.values.reshape(-1,5), y_test.values.reshape(-1,1)),'\\n')\n",
    "    plt.show()"
   ]
  },
  {
   "cell_type": "code",
   "execution_count": null,
   "metadata": {},
   "outputs": [],
   "source": [
    "from sklearn import svm\n",
    "\n",
    "reg = svm.SVR()\n",
    "reg.fit(X_train.values.reshape(-1,5), y_train)"
   ]
  },
  {
   "cell_type": "code",
   "execution_count": null,
   "metadata": {},
   "outputs": [],
   "source": [
    "print('Score: ', reg.score(X_test.values.reshape(-1,5), y_test.values.reshape(-1,1)))"
   ]
  },
  {
   "cell_type": "code",
   "execution_count": null,
   "metadata": {},
   "outputs": [],
   "source": [
    "from sklearn.model_selection import train_test_split\n",
    "\n",
    "X_train, X_test, y_train, y_test = np.asarray(train_test_split(df['cpu'], df['responsetime'], test_size=0.1))\n",
    "\n",
    "from sklearn import svm\n",
    "\n",
    "reg = svm.SVR()\n",
    "reg.fit(X_train.values.reshape(-1,1), y_train)\n",
    "print('Score: ', reg.score(X_test.values.reshape(-1,1), y_test.values.reshape(-1,1)))\n",
    "x_line = np.arange(0,60).reshape(-1,1)\n",
    "sns.regplot('cpu','responsetime', data=df, fit_reg=False)\n",
    "plt.plot(x_line, reg.predict(x_line))\n",
    "plt.show()"
   ]
  },
  {
   "cell_type": "code",
   "execution_count": null,
   "metadata": {},
   "outputs": [],
   "source": [
    "from sklearn.model_selection import train_test_split\n",
    "\n",
    "X_train, X_test, y_train, y_test = np.asarray(train_test_split(df['mem'], df['responsetime'], test_size=0.1))\n",
    "\n",
    "from sklearn import svm\n",
    "\n",
    "reg = svm.SVR()\n",
    "reg.fit(X_train.values.reshape(-1,1), y_train)\n",
    "print('Score: ', reg.score(X_test.values.reshape(-1,1), y_test.values.reshape(-1,1)))\n",
    "x_line = np.arange(0,15).reshape(-1,1)\n",
    "sns.regplot('mem','responsetime', data=df, fit_reg=False)\n",
    "plt.plot(x_line, reg.predict(x_line))\n",
    "plt.show()"
   ]
  },
  {
   "cell_type": "code",
   "execution_count": null,
   "metadata": {},
   "outputs": [],
   "source": [
    "from sklearn.model_selection import train_test_split\n",
    "\n",
    "X_train, X_test, y_train, y_test = np.asarray(train_test_split(df['replica'], df['responsetime'], test_size=0.1))\n",
    "\n",
    "from sklearn import svm\n",
    "\n",
    "reg = svm.SVR()\n",
    "reg.fit(X_train.values.reshape(-1,1), y_train)\n",
    "print('Score: ', reg.score(X_test.values.reshape(-1,1), y_test.values.reshape(-1,1)))\n",
    "x_line = np.arange(0,50).reshape(-1,1)\n",
    "sns.regplot('replica','responsetime', data=df, fit_reg=False)\n",
    "plt.plot(x_line, reg.predict(x_line))\n",
    "plt.show()"
   ]
  },
  {
   "cell_type": "code",
   "execution_count": null,
   "metadata": {},
   "outputs": [],
   "source": [
    "from sklearn.model_selection import train_test_split\n",
    "\n",
    "X_train, X_test, y_train, y_test = np.asarray(train_test_split(df['requests'], df['responsetime'], test_size=0.1))\n",
    "\n",
    "from sklearn import svm\n",
    "\n",
    "reg = svm.SVR()\n",
    "reg.fit(X_train.values.reshape(-1,1), y_train)\n",
    "print('Score: ', reg.score(X_test.values.reshape(-1,1), y_test.values.reshape(-1,1)))\n",
    "x_line = np.arange(0,80000).reshape(-1,1)\n",
    "sns.regplot('requests','responsetime', data=df, fit_reg=False)\n",
    "plt.plot(x_line, reg.predict(x_line))\n",
    "plt.show()"
   ]
  },
  {
   "cell_type": "code",
   "execution_count": null,
   "metadata": {},
   "outputs": [],
   "source": [
    "%matplotlib notebook "
   ]
  },
  {
   "cell_type": "code",
   "execution_count": null,
   "metadata": {
    "scrolled": false
   },
   "outputs": [],
   "source": [
    "from mpl_toolkits.mplot3d import Axes3D\n",
    "\n",
    "fig = plt.figure()\n",
    "fig.set_size_inches(12.5, 7.5)\n",
    "ax = fig.add_subplot(111, projection='3d')\n",
    "ax.scatter(xs=df['mem'], ys=df['cpu'], zs=df['requests'])"
   ]
  },
  {
   "cell_type": "code",
   "execution_count": null,
   "metadata": {},
   "outputs": [],
   "source": [
    "cwd = os.getcwd()\n",
    "output_dir = os.path.join(cwd, \"../data\")\n",
    "df = pd.read_csv(os.path.join(output_dir, \"combined_csv.csv\"))"
   ]
  },
  {
   "cell_type": "code",
   "execution_count": null,
   "metadata": {},
   "outputs": [],
   "source": [
    "df.head()"
   ]
  },
  {
   "cell_type": "code",
   "execution_count": null,
   "metadata": {},
   "outputs": [],
   "source": [
    "data = df.loc[:, ['Time','cpu']]\n",
    "#data=data.set_index(df.Time)"
   ]
  },
  {
   "cell_type": "code",
   "execution_count": null,
   "metadata": {},
   "outputs": [],
   "source": [
    "data.head()"
   ]
  },
  {
   "cell_type": "code",
   "execution_count": null,
   "metadata": {},
   "outputs": [],
   "source": [
    "data.plot()"
   ]
  },
  {
   "cell_type": "code",
   "execution_count": null,
   "metadata": {},
   "outputs": [],
   "source": [
    "import fbprophet"
   ]
  },
  {
   "cell_type": "code",
   "execution_count": null,
   "metadata": {},
   "outputs": [],
   "source": [
    "data = data.rename(columns={'Time': 'ds', 'cpu': 'y'})\n",
    "df_prophet = fbprophet.Prophet(changepoint_prior_scale=0.10)\n",
    "df_prophet.fit(data)"
   ]
  },
  {
   "cell_type": "code",
   "execution_count": null,
   "metadata": {},
   "outputs": [],
   "source": [
    "from sklearn.preprocessing import StandardScaler\n"
   ]
  },
  {
   "cell_type": "code",
   "execution_count": null,
   "metadata": {},
   "outputs": [],
   "source": []
  }
 ],
 "metadata": {
  "kernelspec": {
   "display_name": "Python 3",
   "language": "python",
   "name": "python3"
  },
  "language_info": {
   "codemirror_mode": {
    "name": "ipython",
    "version": 3
   },
   "file_extension": ".py",
   "mimetype": "text/x-python",
   "name": "python",
   "nbconvert_exporter": "python",
   "pygments_lexer": "ipython3",
   "version": "3.6.9"
  }
 },
 "nbformat": 4,
 "nbformat_minor": 2
}
