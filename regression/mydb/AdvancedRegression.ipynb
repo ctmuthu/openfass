{
 "cells": [
  {
   "cell_type": "code",
   "execution_count": 1,
   "metadata": {},
   "outputs": [],
   "source": [
    "import os\n",
    "import datetime\n",
    "import pandas as pd\n",
    "import numpy as np\n",
    "import matplotlib.pyplot as plt\n",
    "from sklearn import preprocessing\n",
    "from sklearn.model_selection import train_test_split, ParameterGrid, GridSearchCV\n",
    "from sklearn.linear_model import Ridge, Lasso, HuberRegressor, ElasticNet, LinearRegression\n",
    "from sklearn.preprocessing import PolynomialFeatures\n",
    "from sklearn.pipeline import make_pipeline\n",
    "from sklearn.ensemble import GradientBoostingRegressor, RandomForestRegressor"
   ]
  },
  {
   "cell_type": "code",
   "execution_count": 2,
   "metadata": {},
   "outputs": [
    {
     "data": {
      "text/html": [
       "<div>\n",
       "<style scoped>\n",
       "    .dataframe tbody tr th:only-of-type {\n",
       "        vertical-align: middle;\n",
       "    }\n",
       "\n",
       "    .dataframe tbody tr th {\n",
       "        vertical-align: top;\n",
       "    }\n",
       "\n",
       "    .dataframe thead th {\n",
       "        text-align: right;\n",
       "    }\n",
       "</style>\n",
       "<table border=\"1\" class=\"dataframe\">\n",
       "  <thead>\n",
       "    <tr style=\"text-align: right;\">\n",
       "      <th></th>\n",
       "      <th>cpu</th>\n",
       "      <th>diskio</th>\n",
       "      <th>diskioRead</th>\n",
       "      <th>diskioWritten</th>\n",
       "      <th>mem</th>\n",
       "      <th>networkReceived</th>\n",
       "      <th>networkTransmitted</th>\n",
       "      <th>replica</th>\n",
       "      <th>requests</th>\n",
       "      <th>responsetime</th>\n",
       "      <th>totalcpu</th>\n",
       "      <th>totalcpuUtilization</th>\n",
       "      <th>totalmemory</th>\n",
       "      <th>totalmemoryUtilization</th>\n",
       "    </tr>\n",
       "  </thead>\n",
       "  <tbody>\n",
       "    <tr>\n",
       "      <th>0</th>\n",
       "      <td>8.204384</td>\n",
       "      <td>0.011638</td>\n",
       "      <td>949.166080</td>\n",
       "      <td>91963.646862</td>\n",
       "      <td>0.17128</td>\n",
       "      <td>2633.096494</td>\n",
       "      <td>20891.798384</td>\n",
       "      <td>1.0</td>\n",
       "      <td>7.0</td>\n",
       "      <td>1.549383</td>\n",
       "      <td>6.0</td>\n",
       "      <td>44.756118</td>\n",
       "      <td>1.240458e+10</td>\n",
       "      <td>36.551238</td>\n",
       "    </tr>\n",
       "    <tr>\n",
       "      <th>1</th>\n",
       "      <td>8.897366</td>\n",
       "      <td>0.017067</td>\n",
       "      <td>133165.511111</td>\n",
       "      <td>140629.333333</td>\n",
       "      <td>0.17128</td>\n",
       "      <td>9030.622222</td>\n",
       "      <td>31243.777778</td>\n",
       "      <td>1.0</td>\n",
       "      <td>17.0</td>\n",
       "      <td>1.546823</td>\n",
       "      <td>6.0</td>\n",
       "      <td>44.756118</td>\n",
       "      <td>1.240458e+10</td>\n",
       "      <td>36.551238</td>\n",
       "    </tr>\n",
       "    <tr>\n",
       "      <th>2</th>\n",
       "      <td>8.897366</td>\n",
       "      <td>0.014578</td>\n",
       "      <td>133165.511111</td>\n",
       "      <td>154464.711111</td>\n",
       "      <td>0.17128</td>\n",
       "      <td>8602.355556</td>\n",
       "      <td>34176.288889</td>\n",
       "      <td>1.0</td>\n",
       "      <td>26.0</td>\n",
       "      <td>1.557788</td>\n",
       "      <td>6.0</td>\n",
       "      <td>32.868146</td>\n",
       "      <td>1.240458e+10</td>\n",
       "      <td>37.614600</td>\n",
       "    </tr>\n",
       "    <tr>\n",
       "      <th>3</th>\n",
       "      <td>8.740364</td>\n",
       "      <td>0.013956</td>\n",
       "      <td>132346.311111</td>\n",
       "      <td>172942.222222</td>\n",
       "      <td>0.06938</td>\n",
       "      <td>8507.444444</td>\n",
       "      <td>32006.488889</td>\n",
       "      <td>1.0</td>\n",
       "      <td>36.0</td>\n",
       "      <td>1.531037</td>\n",
       "      <td>6.0</td>\n",
       "      <td>32.868146</td>\n",
       "      <td>1.240458e+10</td>\n",
       "      <td>37.614600</td>\n",
       "    </tr>\n",
       "    <tr>\n",
       "      <th>4</th>\n",
       "      <td>11.053357</td>\n",
       "      <td>0.010844</td>\n",
       "      <td>0.000000</td>\n",
       "      <td>135259.022222</td>\n",
       "      <td>0.06938</td>\n",
       "      <td>2428.933333</td>\n",
       "      <td>23826.488889</td>\n",
       "      <td>1.0</td>\n",
       "      <td>38.0</td>\n",
       "      <td>1.521409</td>\n",
       "      <td>6.0</td>\n",
       "      <td>25.194444</td>\n",
       "      <td>1.240458e+10</td>\n",
       "      <td>37.446396</td>\n",
       "    </tr>\n",
       "  </tbody>\n",
       "</table>\n",
       "</div>"
      ],
      "text/plain": [
       "         cpu    diskio     diskioRead  diskioWritten      mem  \\\n",
       "0   8.204384  0.011638     949.166080   91963.646862  0.17128   \n",
       "1   8.897366  0.017067  133165.511111  140629.333333  0.17128   \n",
       "2   8.897366  0.014578  133165.511111  154464.711111  0.17128   \n",
       "3   8.740364  0.013956  132346.311111  172942.222222  0.06938   \n",
       "4  11.053357  0.010844       0.000000  135259.022222  0.06938   \n",
       "\n",
       "   networkReceived  networkTransmitted  replica  requests  responsetime  \\\n",
       "0      2633.096494        20891.798384      1.0       7.0      1.549383   \n",
       "1      9030.622222        31243.777778      1.0      17.0      1.546823   \n",
       "2      8602.355556        34176.288889      1.0      26.0      1.557788   \n",
       "3      8507.444444        32006.488889      1.0      36.0      1.531037   \n",
       "4      2428.933333        23826.488889      1.0      38.0      1.521409   \n",
       "\n",
       "   totalcpu  totalcpuUtilization   totalmemory  totalmemoryUtilization  \n",
       "0       6.0            44.756118  1.240458e+10               36.551238  \n",
       "1       6.0            44.756118  1.240458e+10               36.551238  \n",
       "2       6.0            32.868146  1.240458e+10               37.614600  \n",
       "3       6.0            32.868146  1.240458e+10               37.614600  \n",
       "4       6.0            25.194444  1.240458e+10               37.446396  "
      ]
     },
     "execution_count": 2,
     "metadata": {},
     "output_type": "execute_result"
    }
   ],
   "source": [
    "cwd = os.getcwd()\n",
    "output_dir = os.path.join(cwd, \"../../data\")\n",
    "df = pd.read_csv(os.path.join(output_dir, \"combined_mydb.csv\"))\n",
    "df_test = pd.read_csv(os.path.join(output_dir, \"combined_mydbtest.csv\"))\n",
    "#df_test = pd.read_csv(os.path.join(output_dir, \"figlet1599056546.006096_1599063766.431225.csv\"))\n",
    "df = df.drop(df[df.responsetime > 5].index)\n",
    "df.pop('Time')\n",
    "df_test = df_test.drop(df_test[df_test.responsetime > 5].index)\n",
    "df_test.pop('Time')\n",
    "df.head()"
   ]
  },
  {
   "cell_type": "code",
   "execution_count": 3,
   "metadata": {},
   "outputs": [],
   "source": [
    "# remove 2xlarge\n",
    "df = df.drop(df[df.totalcpu > 16].index)"
   ]
  },
  {
   "cell_type": "code",
   "execution_count": 4,
   "metadata": {},
   "outputs": [],
   "source": [
    "df_t = pd.DataFrame()\n",
    "df_ttest = pd.DataFrame()"
   ]
  },
  {
   "cell_type": "code",
   "execution_count": 5,
   "metadata": {},
   "outputs": [
    {
     "data": {
      "text/html": [
       "<div>\n",
       "<style scoped>\n",
       "    .dataframe tbody tr th:only-of-type {\n",
       "        vertical-align: middle;\n",
       "    }\n",
       "\n",
       "    .dataframe tbody tr th {\n",
       "        vertical-align: top;\n",
       "    }\n",
       "\n",
       "    .dataframe thead th {\n",
       "        text-align: right;\n",
       "    }\n",
       "</style>\n",
       "<table border=\"1\" class=\"dataframe\">\n",
       "  <thead>\n",
       "    <tr style=\"text-align: right;\">\n",
       "      <th></th>\n",
       "      <th>total_cpu_util</th>\n",
       "      <th>total_mem_util</th>\n",
       "      <th>responsetime</th>\n",
       "      <th>requests</th>\n",
       "    </tr>\n",
       "  </thead>\n",
       "  <tbody>\n",
       "    <tr>\n",
       "      <th>0</th>\n",
       "      <td>1.799196</td>\n",
       "      <td>453.402624</td>\n",
       "      <td>1.549383</td>\n",
       "      <td>7.0</td>\n",
       "    </tr>\n",
       "    <tr>\n",
       "      <th>1</th>\n",
       "      <td>1.799196</td>\n",
       "      <td>453.402624</td>\n",
       "      <td>1.546823</td>\n",
       "      <td>17.0</td>\n",
       "    </tr>\n",
       "    <tr>\n",
       "      <th>2</th>\n",
       "      <td>1.321299</td>\n",
       "      <td>466.593178</td>\n",
       "      <td>1.557788</td>\n",
       "      <td>26.0</td>\n",
       "    </tr>\n",
       "    <tr>\n",
       "      <th>3</th>\n",
       "      <td>1.321299</td>\n",
       "      <td>466.593178</td>\n",
       "      <td>1.531037</td>\n",
       "      <td>36.0</td>\n",
       "    </tr>\n",
       "    <tr>\n",
       "      <th>4</th>\n",
       "      <td>1.012817</td>\n",
       "      <td>464.506675</td>\n",
       "      <td>1.521409</td>\n",
       "      <td>38.0</td>\n",
       "    </tr>\n",
       "  </tbody>\n",
       "</table>\n",
       "</div>"
      ],
      "text/plain": [
       "   total_cpu_util  total_mem_util  responsetime  requests\n",
       "0        1.799196      453.402624      1.549383       7.0\n",
       "1        1.799196      453.402624      1.546823      17.0\n",
       "2        1.321299      466.593178      1.557788      26.0\n",
       "3        1.321299      466.593178      1.531037      36.0\n",
       "4        1.012817      464.506675      1.521409      38.0"
      ]
     },
     "execution_count": 5,
     "metadata": {},
     "output_type": "execute_result"
    }
   ],
   "source": [
    "df_t['total_cpu_util'] = (df['totalcpuUtilization']*(df['totalcpu']*0.67))/100                    \n",
    "df_t['total_mem_util'] = (df['totalmemoryUtilization']*df['totalmemory'])*1e-9\n",
    "df_t['responsetime'] = df['responsetime']\n",
    "df_t['requests'] = df['requests']\n",
    "#df_t['replica'] = df['replica']\n",
    "df_ttest['total_cpu_util'] = (df_test['totalcpuUtilization']*(df_test['totalcpu']*0.67))/100\n",
    "df_ttest['total_mem_util'] = (df_test['totalmemoryUtilization']*df_test['totalmemory'])*1e-9\n",
    "df_ttest['responsetime'] = df_test['responsetime']\n",
    "df_ttest['requests'] = df_test['requests']\n",
    "#df_ttest['replica'] = df_test['replica']\n",
    "df_t.head()"
   ]
  },
  {
   "cell_type": "code",
   "execution_count": 6,
   "metadata": {},
   "outputs": [
    {
     "data": {
      "text/html": [
       "<div>\n",
       "<style scoped>\n",
       "    .dataframe tbody tr th:only-of-type {\n",
       "        vertical-align: middle;\n",
       "    }\n",
       "\n",
       "    .dataframe tbody tr th {\n",
       "        vertical-align: top;\n",
       "    }\n",
       "\n",
       "    .dataframe thead th {\n",
       "        text-align: right;\n",
       "    }\n",
       "</style>\n",
       "<table border=\"1\" class=\"dataframe\">\n",
       "  <thead>\n",
       "    <tr style=\"text-align: right;\">\n",
       "      <th></th>\n",
       "      <th>cpu</th>\n",
       "      <th>diskio</th>\n",
       "      <th>diskioRead</th>\n",
       "      <th>diskioWritten</th>\n",
       "      <th>mem</th>\n",
       "      <th>networkReceived</th>\n",
       "      <th>networkTransmitted</th>\n",
       "      <th>replica</th>\n",
       "      <th>requests</th>\n",
       "      <th>responsetime</th>\n",
       "      <th>totalcpu</th>\n",
       "      <th>totalcpuUtilization</th>\n",
       "      <th>totalmemory</th>\n",
       "      <th>totalmemoryUtilization</th>\n",
       "    </tr>\n",
       "  </thead>\n",
       "  <tbody>\n",
       "    <tr>\n",
       "      <th>0</th>\n",
       "      <td>1.449934</td>\n",
       "      <td>0.000626</td>\n",
       "      <td>0.000000</td>\n",
       "      <td>1.153475e+04</td>\n",
       "      <td>0.019389</td>\n",
       "      <td>1.366457e+03</td>\n",
       "      <td>1511.016450</td>\n",
       "      <td>1.0</td>\n",
       "      <td>9.0</td>\n",
       "      <td>1.450211</td>\n",
       "      <td>24.0</td>\n",
       "      <td>75.768523</td>\n",
       "      <td>1.011896e+11</td>\n",
       "      <td>5.746038</td>\n",
       "    </tr>\n",
       "    <tr>\n",
       "      <th>1</th>\n",
       "      <td>1.944347</td>\n",
       "      <td>0.086311</td>\n",
       "      <td>910.222222</td>\n",
       "      <td>9.943996e+06</td>\n",
       "      <td>0.019389</td>\n",
       "      <td>4.544481e+06</td>\n",
       "      <td>33137.688889</td>\n",
       "      <td>1.0</td>\n",
       "      <td>19.0</td>\n",
       "      <td>1.437184</td>\n",
       "      <td>24.0</td>\n",
       "      <td>75.768523</td>\n",
       "      <td>1.011896e+11</td>\n",
       "      <td>5.746038</td>\n",
       "    </tr>\n",
       "    <tr>\n",
       "      <th>2</th>\n",
       "      <td>2.044362</td>\n",
       "      <td>0.108622</td>\n",
       "      <td>1001.244444</td>\n",
       "      <td>1.251592e+07</td>\n",
       "      <td>0.010353</td>\n",
       "      <td>4.545398e+06</td>\n",
       "      <td>33047.866667</td>\n",
       "      <td>1.0</td>\n",
       "      <td>29.0</td>\n",
       "      <td>1.471517</td>\n",
       "      <td>24.0</td>\n",
       "      <td>6.834722</td>\n",
       "      <td>1.011896e+11</td>\n",
       "      <td>5.842281</td>\n",
       "    </tr>\n",
       "    <tr>\n",
       "      <th>3</th>\n",
       "      <td>2.044362</td>\n",
       "      <td>0.108000</td>\n",
       "      <td>1001.244444</td>\n",
       "      <td>1.251455e+07</td>\n",
       "      <td>0.010353</td>\n",
       "      <td>4.546039e+06</td>\n",
       "      <td>34004.244444</td>\n",
       "      <td>1.0</td>\n",
       "      <td>39.0</td>\n",
       "      <td>1.455670</td>\n",
       "      <td>24.0</td>\n",
       "      <td>6.834722</td>\n",
       "      <td>1.011896e+11</td>\n",
       "      <td>5.842281</td>\n",
       "    </tr>\n",
       "    <tr>\n",
       "      <th>4</th>\n",
       "      <td>1.953206</td>\n",
       "      <td>0.022489</td>\n",
       "      <td>91.022222</td>\n",
       "      <td>2.590948e+06</td>\n",
       "      <td>0.037712</td>\n",
       "      <td>3.665311e+03</td>\n",
       "      <td>3325.622222</td>\n",
       "      <td>1.0</td>\n",
       "      <td>40.0</td>\n",
       "      <td>1.511934</td>\n",
       "      <td>24.0</td>\n",
       "      <td>6.351389</td>\n",
       "      <td>1.011896e+11</td>\n",
       "      <td>5.886502</td>\n",
       "    </tr>\n",
       "  </tbody>\n",
       "</table>\n",
       "</div>"
      ],
      "text/plain": [
       "        cpu    diskio   diskioRead  diskioWritten       mem  networkReceived  \\\n",
       "0  1.449934  0.000626     0.000000   1.153475e+04  0.019389     1.366457e+03   \n",
       "1  1.944347  0.086311   910.222222   9.943996e+06  0.019389     4.544481e+06   \n",
       "2  2.044362  0.108622  1001.244444   1.251592e+07  0.010353     4.545398e+06   \n",
       "3  2.044362  0.108000  1001.244444   1.251455e+07  0.010353     4.546039e+06   \n",
       "4  1.953206  0.022489    91.022222   2.590948e+06  0.037712     3.665311e+03   \n",
       "\n",
       "   networkTransmitted  replica  requests  responsetime  totalcpu  \\\n",
       "0         1511.016450      1.0       9.0      1.450211      24.0   \n",
       "1        33137.688889      1.0      19.0      1.437184      24.0   \n",
       "2        33047.866667      1.0      29.0      1.471517      24.0   \n",
       "3        34004.244444      1.0      39.0      1.455670      24.0   \n",
       "4         3325.622222      1.0      40.0      1.511934      24.0   \n",
       "\n",
       "   totalcpuUtilization   totalmemory  totalmemoryUtilization  \n",
       "0            75.768523  1.011896e+11                5.746038  \n",
       "1            75.768523  1.011896e+11                5.746038  \n",
       "2             6.834722  1.011896e+11                5.842281  \n",
       "3             6.834722  1.011896e+11                5.842281  \n",
       "4             6.351389  1.011896e+11                5.886502  "
      ]
     },
     "execution_count": 6,
     "metadata": {},
     "output_type": "execute_result"
    }
   ],
   "source": [
    "df_test.head()"
   ]
  },
  {
   "cell_type": "code",
   "execution_count": 7,
   "metadata": {},
   "outputs": [],
   "source": [
    "x_train = df_t[[col for col in df_t.columns if col != 'requests']]\n",
    "y_train = df_t['requests']\n",
    "#x_train = preprocessing.normalize(x_train, norm='max')\n",
    "x_test = df_ttest[[col for col in df_ttest.columns if col != 'requests']]\n",
    "y_test = df_ttest['requests']\n",
    "#x_test = preprocessing.normalize(x_test, norm='max')"
   ]
  },
  {
   "cell_type": "code",
   "execution_count": 8,
   "metadata": {},
   "outputs": [
    {
     "data": {
      "text/plain": [
       "<matplotlib.collections.PathCollection at 0x7f3d7e829048>"
      ]
     },
     "execution_count": 8,
     "metadata": {},
     "output_type": "execute_result"
    },
    {
     "data": {
      "image/png": "[encoded data removed]",
      "text/plain": [
       "<Figure size 432x288 with 1 Axes>"
      ]
     },
     "metadata": {
      "needs_background": "light"
     },
     "output_type": "display_data"
    }
   ],
   "source": [
    "plt.scatter(df_ttest['requests'], df_ttest['total_cpu_util'] )"
   ]
  },
  {
   "cell_type": "code",
   "execution_count": 9,
   "metadata": {},
   "outputs": [
    {
     "data": {
      "text/plain": [
       "<matplotlib.collections.PathCollection at 0x7f3d7c71fc88>"
      ]
     },
     "execution_count": 9,
     "metadata": {},
     "output_type": "execute_result"
    },
    {
     "data": {
      "image/png": "[encoded data removed]",
      "text/plain": [
       "<Figure size 432x288 with 1 Axes>"
      ]
     },
     "metadata": {
      "needs_background": "light"
     },
     "output_type": "display_data"
    }
   ],
   "source": [
    "plt.scatter(df_t['requests'], df_t['total_cpu_util'] )"
   ]
  },
  {
   "cell_type": "markdown",
   "metadata": {},
   "source": [
    "## Linear Regression"
   ]
  },
  {
   "cell_type": "code",
   "execution_count": 10,
   "metadata": {},
   "outputs": [
    {
     "name": "stdout",
     "output_type": "stream",
     "text": [
      "Training Score  0.9610043250167619\n",
      "Testing Score  0.9102078173102154\n"
     ]
    },
    {
     "data": {
      "text/plain": [
       "<matplotlib.collections.PathCollection at 0x7f3d7c6a9208>"
      ]
     },
     "execution_count": 10,
     "metadata": {},
     "output_type": "execute_result"
    },
    {
     "data": {
      "image/png": "[encoded data removed]",
      "text/plain": [
       "<Figure size 432x288 with 1 Axes>"
      ]
     },
     "metadata": {
      "needs_background": "light"
     },
     "output_type": "display_data"
    }
   ],
   "source": [
    "parameters = {'fit_intercept': [True,False],\n",
    "             'copy_X': [True,False]}\n",
    "#linear = GridSearchCV(LinearRegression(),\n",
    "#                      parameters, \n",
    "#                      cv=7,\n",
    "#                      scoring='r2',\n",
    "#                      n_jobs=-1)\n",
    "linear = LinearRegression(fit_intercept=False)\n",
    "linear.fit(x_train, y_train)\n",
    "\n",
    "y_tr_pred = linear.predict(x_train)\n",
    "y_te_pred = linear.predict(x_test)\n",
    "\n",
    "#print('linear reg score on our train data: {:.3f}'.format(sqrt(mse(y_train, y_tr_pred))))\n",
    "#print('linear reg score on our test data: {:.3f}'.format(sqrt(mse(y_test, y_te_pred))))\n",
    "\n",
    "print(\"Training Score \",linear.score(x_train,y_train))\n",
    "print(\"Testing Score \",linear.score(x_test,y_test))\n",
    "\n",
    "#from sklearn.metrics import r2_score\n",
    "#R = r2_score(y_test, y_te_pred)\n",
    "#print ('R² :',R)\n",
    "#print('Best Score: ', linear.best_score_)\n",
    "#print('Best Params: ', linear.best_params_)\n",
    "\n",
    "plt.scatter(range(0,len(y_test)),y_test, color='red')\n",
    "plt.scatter(range(0,len(y_te_pred)),y_te_pred, color='blue')"
   ]
  },
  {
   "cell_type": "code",
   "execution_count": 11,
   "metadata": {},
   "outputs": [
    {
     "data": {
      "text/plain": [
       "[<matplotlib.lines.Line2D at 0x7f3d7c652588>]"
      ]
     },
     "execution_count": 11,
     "metadata": {},
     "output_type": "execute_result"
    },
    {
     "data": {
      "image/png": "[encoded data removed]",
      "text/plain": [
       "<Figure size 432x288 with 1 Axes>"
      ]
     },
     "metadata": {
      "needs_background": "light"
     },
     "output_type": "display_data"
    }
   ],
   "source": [
    "plt.plot(y_test)\n",
    "plt.plot(y_te_pred)"
   ]
  },
  {
   "cell_type": "markdown",
   "metadata": {},
   "source": [
    "## Polynomial Regression"
   ]
  },
  {
   "cell_type": "code",
   "execution_count": 12,
   "metadata": {},
   "outputs": [
    {
     "name": "stdout",
     "output_type": "stream",
     "text": [
      "Training Score  0.9811310477042331\n",
      "Testing Score  0.9234094570845556\n",
      "Best Params:  {'linearregression__fit_intercept': False, 'polynomialfeatures__degree': 2}\n"
     ]
    },
    {
     "data": {
      "text/plain": [
       "<matplotlib.collections.PathCollection at 0x7f3d7c53e9b0>"
      ]
     },
     "execution_count": 12,
     "metadata": {},
     "output_type": "execute_result"
    },
    {
     "data": {
      "image/png": "[encoded data removed]",
      "text/plain": [
       "<Figure size 432x288 with 1 Axes>"
      ]
     },
     "metadata": {
      "needs_background": "light"
     },
     "output_type": "display_data"
    }
   ],
   "source": [
    "def PolynomialRegression(**kwargs):\n",
    "    return make_pipeline(PolynomialFeatures(), LinearRegression(**kwargs))\n",
    "degrees = [2,3,4,5,6 ]\n",
    "param_grid = {'polynomialfeatures__degree': degrees, 'linearregression__fit_intercept': [False]}\n",
    "polynomial = GridSearchCV(PolynomialRegression(),\n",
    "                      param_grid, \n",
    "                      cv=5,\n",
    "                      scoring='r2',\n",
    "                      n_jobs=-1)\n",
    "polynomial.fit(x_train, y_train)\n",
    "\n",
    "y_tr_pred = polynomial.predict(x_train)\n",
    "y_te_pred = polynomial.predict(x_test)\n",
    "\n",
    "#print('linear reg score on our train data: {:.3f}'.format(sqrt(mse(y_train, y_tr_pred))))\n",
    "#print('linear reg score on our test data: {:.3f}'.format(sqrt(mse(y_test, y_te_pred))))\n",
    "\n",
    "print(\"Training Score \",polynomial.score(x_train,y_train))\n",
    "print(\"Testing Score \",polynomial.score(x_test,y_test))\n",
    "\n",
    "#from sklearn.metrics import r2_score\n",
    "#R = r2_score(y_test, y_te_pred)\n",
    "#print ('R² :',R)\n",
    "#print('Best Score: ', polynomial.best_score_)\n",
    "print('Best Params: ', polynomial.best_params_)\n",
    "\n",
    "plt.scatter(range(0,len(y_test)),y_test, color='red')\n",
    "plt.scatter(range(0,len(y_te_pred)),y_te_pred, color='blue')"
   ]
  },
  {
   "cell_type": "markdown",
   "metadata": {},
   "source": [
    "## Ridge Regression"
   ]
  },
  {
   "cell_type": "code",
   "execution_count": 13,
   "metadata": {},
   "outputs": [
    {
     "name": "stdout",
     "output_type": "stream",
     "text": [
      "Training Score  0.9609964161817596\n",
      "Testing Score  0.9099403204247489\n",
      "Best Params:  {'alpha': 3.359818286283788, 'fit_intercept': False, 'max_iter': 10, 'solver': 'svd'}\n"
     ]
    },
    {
     "data": {
      "text/plain": [
       "<matplotlib.collections.PathCollection at 0x7f3d7c3f3748>"
      ]
     },
     "execution_count": 13,
     "metadata": {},
     "output_type": "execute_result"
    },
    {
     "data": {
      "image/png": "[encoded data removed]",
      "text/plain": [
       "<Figure size 432x288 with 1 Axes>"
      ]
     },
     "metadata": {
      "needs_background": "light"
     },
     "output_type": "display_data"
    }
   ],
   "source": [
    "alphas = np.logspace(-20,10,num=20)\n",
    "param_grid = {'max_iter': np.arange(10,100,10),\n",
    "             'alpha': alphas,\n",
    "            'solver': ['auto', 'svd'],\n",
    "             'fit_intercept':[True, False]}\n",
    "ridge_cv = GridSearchCV(Ridge(),\n",
    "                       param_grid=param_grid,\n",
    "                         cv=3, \n",
    "                         scoring='r2',\n",
    "                         n_jobs=-1)\n",
    "\n",
    "ridge_cv.fit(x_train, y_train)\n",
    "\n",
    "y_tr_pred = ridge_cv.predict(x_train)\n",
    "y_te_pred = ridge_cv.predict(x_test)\n",
    "\n",
    "print(\"Training Score \",ridge_cv.score(x_train,y_train))\n",
    "print(\"Testing Score \",ridge_cv.score(x_test,y_test))\n",
    "\n",
    "#from sklearn.metrics import r2_score\n",
    "#R = r2_score(y_test, y_te_pred)\n",
    "#print ('R² :',R)\n",
    "#print('Best Score: ', ridge_cv.best_score_)\n",
    "print('Best Params: ', ridge_cv.best_params_)\n",
    "\n",
    "plt.scatter(range(0,len(y_test)),y_test, color='red')\n",
    "plt.scatter(range(0,len(y_te_pred)),y_te_pred, color='blue')"
   ]
  },
  {
   "cell_type": "markdown",
   "metadata": {},
   "source": [
    "## Lasso Regression"
   ]
  },
  {
   "cell_type": "code",
   "execution_count": 14,
   "metadata": {},
   "outputs": [
    {
     "name": "stdout",
     "output_type": "stream",
     "text": [
      "Fitting 3 folds for each of 5760 candidates, totalling 17280 fits\n"
     ]
    },
    {
     "name": "stderr",
     "output_type": "stream",
     "text": [
      "[Parallel(n_jobs=-1)]: Using backend LokyBackend with 4 concurrent workers.\n",
      "[Parallel(n_jobs=-1)]: Done 128 tasks      | elapsed:    1.0s\n",
      "[Parallel(n_jobs=-1)]: Done 1320 tasks      | elapsed:    8.3s\n",
      "[Parallel(n_jobs=-1)]: Done 3320 tasks      | elapsed:   18.3s\n",
      "[Parallel(n_jobs=-1)]: Done 6120 tasks      | elapsed:   39.4s\n",
      "[Parallel(n_jobs=-1)]: Done 9720 tasks      | elapsed:  1.1min\n",
      "[Parallel(n_jobs=-1)]: Done 14120 tasks      | elapsed:  1.5min\n",
      "[Parallel(n_jobs=-1)]: Done 17280 out of 17280 | elapsed:  1.8min finished\n"
     ]
    },
    {
     "name": "stdout",
     "output_type": "stream",
     "text": [
      "Training Score  0.9603129061893432\n",
      "Testing Score  0.9090747869926615\n",
      "Best Params:  {'alpha': 1.1288378916846883e-09, 'copy_X': True, 'fit_intercept': False, 'max_iter': 30, 'positive': False, 'selection': 'random', 'warm_start': False}\n"
     ]
    },
    {
     "name": "stderr",
     "output_type": "stream",
     "text": [
      "/home/ubuntu/.local/lib/python3.6/site-packages/sklearn/linear_model/_coordinate_descent.py:531: ConvergenceWarning: Objective did not converge. You might want to increase the number of iterations. Duality gap: 674902.1427998401, tolerance: 8982.352700000001\n",
      "  positive)\n"
     ]
    },
    {
     "data": {
      "text/plain": [
       "<matplotlib.collections.PathCollection at 0x7f3d7c577be0>"
      ]
     },
     "execution_count": 14,
     "metadata": {},
     "output_type": "execute_result"
    },
    {
     "data": {
      "image/png": "[encoded data removed]",
      "text/plain": [
       "<Figure size 432x288 with 1 Axes>"
      ]
     },
     "metadata": {
      "needs_background": "light"
     },
     "output_type": "display_data"
    }
   ],
   "source": [
    "alphas = np.logspace(-20,10,num=20)\n",
    "\n",
    "param_grid = {'max_iter': np.arange(10,100,10),\n",
    "             'alpha': alphas,\n",
    "             'fit_intercept':[True, False],\n",
    "             'selection': ['cyclic', 'random'],\n",
    "             'positive':[True, False],\n",
    "             'warm_start':[True, False],\n",
    "             'copy_X':[True, False]}\n",
    "\n",
    "lasso_cv = GridSearchCV(Lasso(),\n",
    "                       param_grid=param_grid,\n",
    "                         cv=3, \n",
    "                        scoring='r2',\n",
    "                         n_jobs=-1,\n",
    "                       verbose=1)\n",
    "\n",
    "lasso_cv.fit(x_train, y_train)\n",
    "\n",
    "y_tr_pred = lasso_cv.predict(x_train)\n",
    "y_te_pred = lasso_cv.predict(x_test)\n",
    "\n",
    "print(\"Training Score \",lasso_cv.score(x_train,y_train))\n",
    "print(\"Testing Score \",lasso_cv.score(x_test,y_test))\n",
    "\n",
    "#from sklearn.metrics import r2_score\n",
    "#R = r2_score(y_test, y_te_pred)\n",
    "#print ('R² :',R)\n",
    "#print('Best Score: ', lasso_cv.best_score_)\n",
    "print('Best Params: ', lasso_cv.best_params_)\n",
    "\n",
    "plt.scatter(range(0,len(y_test)),y_test, color='red')\n",
    "plt.scatter(range(0,len(y_te_pred)),y_te_pred, color='blue')"
   ]
  },
  {
   "cell_type": "markdown",
   "metadata": {},
   "source": [
    "## Huber Regressor"
   ]
  },
  {
   "cell_type": "code",
   "execution_count": 15,
   "metadata": {},
   "outputs": [
    {
     "name": "stdout",
     "output_type": "stream",
     "text": [
      "Fitting 3 folds for each of 7200 candidates, totalling 21600 fits\n"
     ]
    },
    {
     "name": "stderr",
     "output_type": "stream",
     "text": [
      "[Parallel(n_jobs=-1)]: Using backend LokyBackend with 4 concurrent workers.\n",
      "[Parallel(n_jobs=-1)]: Done  76 tasks      | elapsed:    2.0s\n",
      "[Parallel(n_jobs=-1)]: Done 376 tasks      | elapsed:    8.8s\n",
      "[Parallel(n_jobs=-1)]: Done 876 tasks      | elapsed:   19.3s\n",
      "[Parallel(n_jobs=-1)]: Done 1576 tasks      | elapsed:   34.7s\n",
      "[Parallel(n_jobs=-1)]: Done 2476 tasks      | elapsed:   55.3s\n",
      "[Parallel(n_jobs=-1)]: Done 4640 tasks      | elapsed:  1.6min\n",
      "[Parallel(n_jobs=-1)]: Done 7240 tasks      | elapsed:  2.3min\n",
      "[Parallel(n_jobs=-1)]: Done 10240 tasks      | elapsed:  3.5min\n",
      "[Parallel(n_jobs=-1)]: Done 13640 tasks      | elapsed:  4.8min\n",
      "[Parallel(n_jobs=-1)]: Done 17440 tasks      | elapsed:  6.1min\n",
      "[Parallel(n_jobs=-1)]: Done 21600 out of 21600 | elapsed:  7.0min finished\n",
      "/home/ubuntu/.local/lib/python3.6/site-packages/sklearn/linear_model/_huber.py:296: ConvergenceWarning: lbfgs failed to converge (status=1):\n",
      "STOP: TOTAL NO. of ITERATIONS REACHED LIMIT.\n",
      "\n",
      "Increase the number of iterations (max_iter) or scale the data as shown in:\n",
      "    https://scikit-learn.org/stable/modules/preprocessing.html\n",
      "  self.n_iter_ = _check_optimize_result(\"lbfgs\", opt_res, self.max_iter)\n"
     ]
    },
    {
     "name": "stdout",
     "output_type": "stream",
     "text": [
      "Training Score  0.9566412966575468\n",
      "Testing Score  0.9055248165089557\n",
      "Best Params:  {'alpha': 6.15848211066028e-05, 'epsilon': 1.4500000000000004, 'fit_intercept': False, 'max_iter': 30, 'warm_start': True}\n"
     ]
    },
    {
     "data": {
      "text/plain": [
       "<matplotlib.collections.PathCollection at 0x7f3d77521470>"
      ]
     },
     "execution_count": 15,
     "metadata": {},
     "output_type": "execute_result"
    },
    {
     "data": {
      "image/png": "[encoded data removed]",
      "text/plain": [
       "<Figure size 432x288 with 1 Axes>"
      ]
     },
     "metadata": {
      "needs_background": "light"
     },
     "output_type": "display_data"
    }
   ],
   "source": [
    "epsilon = np.arange(1, 1.5, 0.05)\n",
    "\n",
    "param_grid = {'max_iter': np.arange(10,100,10),\n",
    "             'alpha': alphas,\n",
    "              'epsilon': epsilon,\n",
    "             'fit_intercept':[True, False],\n",
    "             'warm_start':[True, False]}\n",
    "\n",
    "huber_cv = GridSearchCV(HuberRegressor(),\n",
    "                       param_grid=param_grid,\n",
    "                         cv=3, \n",
    "                         scoring='r2',\n",
    "                         n_jobs=-1,\n",
    "                       verbose=1)\n",
    "\n",
    "huber_cv.fit(x_train, y_train)\n",
    "\n",
    "y_tr_pred = huber_cv.predict(x_train)\n",
    "y_te_pred = huber_cv.predict(x_test)\n",
    "\n",
    "print(\"Training Score \",huber_cv.score(x_train,y_train))\n",
    "print(\"Testing Score \",huber_cv.score(x_test,y_test))\n",
    "\n",
    "\n",
    "\n",
    "#from sklearn.metrics import r2_score\n",
    "#R = r2_score(y_test, y_te_pred)\n",
    "#print ('R² :',R)\n",
    "#print('Best Score: ', huber_cv.best_score_)\n",
    "print('Best Params: ', huber_cv.best_params_)\n",
    "\n",
    "plt.scatter(range(0,len(y_test)),y_test, color='red')\n",
    "plt.scatter(range(0,len(y_te_pred)),y_te_pred, color='blue')"
   ]
  },
  {
   "cell_type": "markdown",
   "metadata": {},
   "source": [
    "## Random Forrest Regressor"
   ]
  },
  {
   "cell_type": "code",
   "execution_count": 16,
   "metadata": {},
   "outputs": [
    {
     "name": "stdout",
     "output_type": "stream",
     "text": [
      "Training Score  0.9882168732458984\n",
      "Testing Score  0.4577632058760901\n",
      "Best Params:  {'max_depth': 5, 'max_features': 'auto', 'min_samples_leaf': 6, 'n_estimators': 100}\n"
     ]
    },
    {
     "data": {
      "text/plain": [
       "<matplotlib.collections.PathCollection at 0x7f3d7767f160>"
      ]
     },
     "execution_count": 16,
     "metadata": {},
     "output_type": "execute_result"
    },
    {
     "data": {
      "image/png": "[encoded data removed]",
      "text/plain": [
       "<Figure size 432x288 with 1 Axes>"
      ]
     },
     "metadata": {
      "needs_background": "light"
     },
     "output_type": "display_data"
    }
   ],
   "source": [
    "parameters = {  \n",
    "                 'min_samples_leaf': [2, 4, 6],\n",
    "                 'max_depth': np.arange(1,6,1),\n",
    "                 'n_estimators': [100],\n",
    "                'max_features': ['auto']\n",
    "}\n",
    "\n",
    "rf_cv = GridSearchCV( RandomForestRegressor(),\n",
    "                      param_grid=parameters, \n",
    "                      cv=3, \n",
    "                      scoring='r2',\n",
    "                      n_jobs=-1)\n",
    "\n",
    "rf_cv.fit(x_train, y_train)\n",
    "\n",
    "y_tr_pred = rf_cv.predict(x_train)\n",
    "y_te_pred = rf_cv.predict(x_test)\n",
    "\n",
    "\n",
    "print(\"Training Score \",rf_cv.score(x_train,y_train))\n",
    "print(\"Testing Score \",rf_cv.score(x_test,y_test))\n",
    "\n",
    "#from sklearn.metrics import r2_score\n",
    "#R = r2_score(y_test, y_te_pred)\n",
    "#print ('R² :',R)\n",
    "#print('Best Score: ', rf_cv.best_score_)\n",
    "print('Best Params: ', rf_cv.best_params_)\n",
    "\n",
    "plt.scatter(range(0,len(y_test)),y_test, color='red')\n",
    "plt.scatter(range(0,len(y_te_pred)),y_te_pred, color='blue')"
   ]
  },
  {
   "cell_type": "code",
   "execution_count": 17,
   "metadata": {},
   "outputs": [
    {
     "name": "stdout",
     "output_type": "stream",
     "text": [
      "Test R² : 0.4510205430382833\n",
      "Train R² : 0.9903082220267868\n"
     ]
    },
    {
     "data": {
      "text/plain": [
       "<matplotlib.collections.PathCollection at 0x7f3d776fd198>"
      ]
     },
     "execution_count": 17,
     "metadata": {},
     "output_type": "execute_result"
    },
    {
     "data": {
      "image/png": "[encoded data removed]",
      "text/plain": [
       "<Figure size 432x288 with 1 Axes>"
      ]
     },
     "metadata": {
      "needs_background": "light"
     },
     "output_type": "display_data"
    }
   ],
   "source": [
    "finalrf_cv = RandomForestRegressor(max_depth=20, min_samples_leaf=6, n_estimators=150)\n",
    "finalrf_cv.fit(x_train, y_train)\n",
    "y_tr_pred = finalrf_cv.predict(x_train)\n",
    "y_te_pred = finalrf_cv.predict(x_test)\n",
    "\n",
    "from sklearn.metrics import r2_score\n",
    "R = r2_score(y_test, y_te_pred)\n",
    "print ('Test R² :',R)\n",
    "\n",
    "R = r2_score(y_train, y_tr_pred)\n",
    "print ('Train R² :',R)\n",
    "\n",
    "plt.scatter(range(0,len(y_test)),y_test, color='red')\n",
    "plt.scatter(range(0,len(y_te_pred)),y_te_pred, color='blue')"
   ]
  },
  {
   "cell_type": "markdown",
   "metadata": {},
   "source": [
    "## ElasticNet"
   ]
  },
  {
   "cell_type": "code",
   "execution_count": 18,
   "metadata": {},
   "outputs": [
    {
     "name": "stdout",
     "output_type": "stream",
     "text": [
      "Training Score  0.9672738410325925\n",
      "Testing Score  0.8812135565199348\n",
      "Best Params:  {'alpha': 0.08858667904100796, 'l1_ratio': 1}\n"
     ]
    },
    {
     "data": {
      "text/plain": [
       "<matplotlib.collections.PathCollection at 0x7f3d7798ae48>"
      ]
     },
     "execution_count": 18,
     "metadata": {},
     "output_type": "execute_result"
    },
    {
     "data": {
      "image/png": "[encoded data removed]",
      "text/plain": [
       "<Figure size 432x288 with 1 Axes>"
      ]
     },
     "metadata": {
      "needs_background": "light"
     },
     "output_type": "display_data"
    }
   ],
   "source": [
    "# find optimal alpha with grid search\n",
    "alpha = np.logspace(-20,10,num=20)\n",
    "l1_ratio = [0, 0.1, 0.2, 0.3, 0.4, 0.5, 0.6, 0.7, 0.8, 0.9, 1]\n",
    "param_grid = dict(alpha=alpha, l1_ratio=l1_ratio)\n",
    "grid = GridSearchCV(ElasticNet(), \n",
    "                    param_grid=param_grid,\n",
    "                    cv=7,\n",
    "                    scoring='r2', \n",
    "                    n_jobs=-1)\n",
    "\n",
    "grid_result = grid.fit(x_train, y_train)\n",
    "\n",
    "y_tr_pred = grid.predict(x_train)\n",
    "y_te_pred = grid.predict(x_test)\n",
    "\n",
    "print(\"Training Score \",grid_result.score(x_train,y_train))\n",
    "print(\"Testing Score \",grid_result.score(x_test,y_test))\n",
    "\n",
    "#from sklearn.metrics import r2_score\n",
    "#R = r2_score(y_test, y_te_pred)\n",
    "#print ('R² :',R)\n",
    "#print('Best Score: ', grid_result.best_score_)\n",
    "print('Best Params: ', grid_result.best_params_)\n",
    "\n",
    "plt.scatter(range(0,len(y_test)),y_test, color='red')\n",
    "plt.scatter(range(0,len(y_te_pred)),y_te_pred, color='blue')"
   ]
  },
  {
   "cell_type": "markdown",
   "metadata": {},
   "source": [
    "## Gradient Boosting Regressor"
   ]
  },
  {
   "cell_type": "code",
   "execution_count": 19,
   "metadata": {},
   "outputs": [
    {
     "name": "stdout",
     "output_type": "stream",
     "text": [
      "Fitting 5 folds for each of 324 candidates, totalling 1620 fits\n"
     ]
    },
    {
     "name": "stderr",
     "output_type": "stream",
     "text": [
      "[Parallel(n_jobs=-1)]: Using backend LokyBackend with 4 concurrent workers.\n",
      "[Parallel(n_jobs=-1)]: Done  42 tasks      | elapsed:   27.3s\n",
      "[Parallel(n_jobs=-1)]: Done 192 tasks      | elapsed:  2.2min\n",
      "[Parallel(n_jobs=-1)]: Done 442 tasks      | elapsed:  6.2min\n",
      "[Parallel(n_jobs=-1)]: Done 792 tasks      | elapsed: 19.9min\n",
      "[Parallel(n_jobs=-1)]: Done 1242 tasks      | elapsed: 38.6min\n",
      "[Parallel(n_jobs=-1)]: Done 1620 out of 1620 | elapsed: 51.7min finished\n"
     ]
    },
    {
     "name": "stdout",
     "output_type": "stream",
     "text": [
      "Training Score  0.9672738410325925\n",
      "Testing Score  0.8812135565199348\n",
      "Best Params:  {'learning_rate': 0.02, 'loss': 'lad', 'max_depth': 4, 'max_features': 'sqrt', 'min_samples_leaf': 10, 'min_samples_split': 15, 'n_estimators': 2000}\n"
     ]
    },
    {
     "data": {
      "text/plain": [
       "<matplotlib.collections.PathCollection at 0x7f3d77d44b38>"
      ]
     },
     "execution_count": 19,
     "metadata": {},
     "output_type": "execute_result"
    },
    {
     "data": {
      "image/png": "[encoded data removed]",
      "text/plain": [
       "<Figure size 432x288 with 1 Axes>"
      ]
     },
     "metadata": {
      "needs_background": "light"
     },
     "output_type": "display_data"
    }
   ],
   "source": [
    "learning_rate = np.arange(0,0.2,0.001)\n",
    "parameters = {  \n",
    "                 'learning_rate': [0.02],\n",
    "                 'min_samples_split': [10, 15, 20],\n",
    "                 'min_samples_leaf': [10, 15, 20],\n",
    "                 'max_depth': [3, 4, 5],\n",
    "                 'n_estimators': [1000, 1500, 2000],\n",
    "                 'loss': ['ls', 'lad', 'huber', 'quantile'],\n",
    "                 'max_features': ['sqrt']\n",
    "             }\n",
    "\n",
    "\n",
    "GBoost_cv = GridSearchCV(GradientBoostingRegressor(), \n",
    "                         param_grid=parameters, \n",
    "                         n_jobs=-1, \n",
    "                         scoring='r2',\n",
    "                         cv=5,\n",
    "                        verbose=1)\n",
    "#GBoost_cv = GradientBoostingRegressor(learning_rate=0.02)\n",
    "\n",
    "GBoost_cv.fit(x_train, y_train)\n",
    "\n",
    "y_tr_pred = GBoost_cv.predict(x_train)\n",
    "y_te_pred = GBoost_cv.predict(x_test)\n",
    "\n",
    "print(\"Training Score \",grid_result.score(x_train,y_train))\n",
    "print(\"Testing Score \",grid_result.score(x_test,y_test))\n",
    "\n",
    "#from sklearn.metrics import r2_score\n",
    "#R = r2_score(y_test, y_te_pred)\n",
    "#print ('R² :',R)\n",
    "#print('Best Score: ', GBoost_cv.best_score_)\n",
    "print('Best Params: ', GBoost_cv.best_params_)\n",
    "\n",
    "plt.scatter(range(0,len(y_test)),y_test, color='red')\n",
    "plt.scatter(range(0,len(y_te_pred)),y_te_pred, color='blue')"
   ]
  },
  {
   "cell_type": "code",
   "execution_count": null,
   "metadata": {},
   "outputs": [],
   "source": []
  }
 ],
 "metadata": {
  "kernelspec": {
   "display_name": "Python 3",
   "language": "python",
   "name": "python3"
  },
  "language_info": {
   "codemirror_mode": {
    "name": "ipython",
    "version": 3
   },
   "file_extension": ".py",
   "mimetype": "text/x-python",
   "name": "python",
   "nbconvert_exporter": "python",
   "pygments_lexer": "ipython3",
   "version": "3.6.9"
  }
 },
 "nbformat": 4,
 "nbformat_minor": 4
}
