{
 "cells": [
  {
   "cell_type": "code",
   "execution_count": 1,
   "metadata": {},
   "outputs": [],
   "source": [
    "import os\n",
    "import datetime\n",
    "import matplotlib.pyplot as plt\n",
    "import numpy as np\n",
    "import pandas as pd\n",
    "import seaborn as sns\n",
    "# Make numpy printouts easier to read.\n",
    "np.set_printoptions(precision=3, suppress=True)\n",
    "import tensorflow as tf\n",
    "\n",
    "from tensorflow import keras\n",
    "from tensorflow.keras import layers\n",
    "from tensorflow.keras.layers.experimental import preprocessing"
   ]
  },
  {
   "cell_type": "code",
   "execution_count": 2,
   "metadata": {},
   "outputs": [
    {
     "data": {
      "text/html": [
       "<div>\n",
       "<style scoped>\n",
       "    .dataframe tbody tr th:only-of-type {\n",
       "        vertical-align: middle;\n",
       "    }\n",
       "\n",
       "    .dataframe tbody tr th {\n",
       "        vertical-align: top;\n",
       "    }\n",
       "\n",
       "    .dataframe thead th {\n",
       "        text-align: right;\n",
       "    }\n",
       "</style>\n",
       "<table border=\"1\" class=\"dataframe\">\n",
       "  <thead>\n",
       "    <tr style=\"text-align: right;\">\n",
       "      <th></th>\n",
       "      <th>cpu</th>\n",
       "      <th>diskio</th>\n",
       "      <th>diskioRead</th>\n",
       "      <th>diskioWritten</th>\n",
       "      <th>mem</th>\n",
       "      <th>networkReceived</th>\n",
       "      <th>networkTransmitted</th>\n",
       "      <th>replica</th>\n",
       "      <th>requests</th>\n",
       "      <th>responsetime</th>\n",
       "      <th>totalcpu</th>\n",
       "      <th>totalcpuUtilization</th>\n",
       "      <th>totalmemory</th>\n",
       "      <th>totalmemoryUtilization</th>\n",
       "    </tr>\n",
       "  </thead>\n",
       "  <tbody>\n",
       "    <tr>\n",
       "      <th>0</th>\n",
       "      <td>8.204384</td>\n",
       "      <td>0.011638</td>\n",
       "      <td>949.166080</td>\n",
       "      <td>91963.646862</td>\n",
       "      <td>0.17128</td>\n",
       "      <td>2633.096494</td>\n",
       "      <td>20891.798384</td>\n",
       "      <td>1.0</td>\n",
       "      <td>7.0</td>\n",
       "      <td>1.549383</td>\n",
       "      <td>6.0</td>\n",
       "      <td>44.756118</td>\n",
       "      <td>1.240458e+10</td>\n",
       "      <td>36.551238</td>\n",
       "    </tr>\n",
       "    <tr>\n",
       "      <th>1</th>\n",
       "      <td>8.897366</td>\n",
       "      <td>0.017067</td>\n",
       "      <td>133165.511111</td>\n",
       "      <td>140629.333333</td>\n",
       "      <td>0.17128</td>\n",
       "      <td>9030.622222</td>\n",
       "      <td>31243.777778</td>\n",
       "      <td>1.0</td>\n",
       "      <td>17.0</td>\n",
       "      <td>1.546823</td>\n",
       "      <td>6.0</td>\n",
       "      <td>44.756118</td>\n",
       "      <td>1.240458e+10</td>\n",
       "      <td>36.551238</td>\n",
       "    </tr>\n",
       "    <tr>\n",
       "      <th>2</th>\n",
       "      <td>8.897366</td>\n",
       "      <td>0.014578</td>\n",
       "      <td>133165.511111</td>\n",
       "      <td>154464.711111</td>\n",
       "      <td>0.17128</td>\n",
       "      <td>8602.355556</td>\n",
       "      <td>34176.288889</td>\n",
       "      <td>1.0</td>\n",
       "      <td>26.0</td>\n",
       "      <td>1.557788</td>\n",
       "      <td>6.0</td>\n",
       "      <td>32.868146</td>\n",
       "      <td>1.240458e+10</td>\n",
       "      <td>37.614600</td>\n",
       "    </tr>\n",
       "    <tr>\n",
       "      <th>3</th>\n",
       "      <td>8.740364</td>\n",
       "      <td>0.013956</td>\n",
       "      <td>132346.311111</td>\n",
       "      <td>172942.222222</td>\n",
       "      <td>0.06938</td>\n",
       "      <td>8507.444444</td>\n",
       "      <td>32006.488889</td>\n",
       "      <td>1.0</td>\n",
       "      <td>36.0</td>\n",
       "      <td>1.531037</td>\n",
       "      <td>6.0</td>\n",
       "      <td>32.868146</td>\n",
       "      <td>1.240458e+10</td>\n",
       "      <td>37.614600</td>\n",
       "    </tr>\n",
       "    <tr>\n",
       "      <th>4</th>\n",
       "      <td>11.053357</td>\n",
       "      <td>0.010844</td>\n",
       "      <td>0.000000</td>\n",
       "      <td>135259.022222</td>\n",
       "      <td>0.06938</td>\n",
       "      <td>2428.933333</td>\n",
       "      <td>23826.488889</td>\n",
       "      <td>1.0</td>\n",
       "      <td>38.0</td>\n",
       "      <td>1.521409</td>\n",
       "      <td>6.0</td>\n",
       "      <td>25.194444</td>\n",
       "      <td>1.240458e+10</td>\n",
       "      <td>37.446396</td>\n",
       "    </tr>\n",
       "  </tbody>\n",
       "</table>\n",
       "</div>"
      ],
      "text/plain": [
       "         cpu    diskio     diskioRead  diskioWritten      mem  \\\n",
       "0   8.204384  0.011638     949.166080   91963.646862  0.17128   \n",
       "1   8.897366  0.017067  133165.511111  140629.333333  0.17128   \n",
       "2   8.897366  0.014578  133165.511111  154464.711111  0.17128   \n",
       "3   8.740364  0.013956  132346.311111  172942.222222  0.06938   \n",
       "4  11.053357  0.010844       0.000000  135259.022222  0.06938   \n",
       "\n",
       "   networkReceived  networkTransmitted  replica  requests  responsetime  \\\n",
       "0      2633.096494        20891.798384      1.0       7.0      1.549383   \n",
       "1      9030.622222        31243.777778      1.0      17.0      1.546823   \n",
       "2      8602.355556        34176.288889      1.0      26.0      1.557788   \n",
       "3      8507.444444        32006.488889      1.0      36.0      1.531037   \n",
       "4      2428.933333        23826.488889      1.0      38.0      1.521409   \n",
       "\n",
       "   totalcpu  totalcpuUtilization   totalmemory  totalmemoryUtilization  \n",
       "0       6.0            44.756118  1.240458e+10               36.551238  \n",
       "1       6.0            44.756118  1.240458e+10               36.551238  \n",
       "2       6.0            32.868146  1.240458e+10               37.614600  \n",
       "3       6.0            32.868146  1.240458e+10               37.614600  \n",
       "4       6.0            25.194444  1.240458e+10               37.446396  "
      ]
     },
     "execution_count": 2,
     "metadata": {},
     "output_type": "execute_result"
    }
   ],
   "source": [
    "cwd = os.getcwd()\n",
    "output_dir = os.path.join(cwd, \"../../data\")\n",
    "df = pd.read_csv(os.path.join(output_dir, \"combined_mydb.csv\"))\n",
    "df_test = pd.read_csv(os.path.join(output_dir, \"combined_mydbtest.csv\"))\n",
    "#df_test = pd.read_csv(os.path.join(output_dir, \"figlet1599056546.006096_1599063766.431225.csv\"))\n",
    "df = df.drop(df[df.responsetime > 2].index)\n",
    "df.pop('Time')\n",
    "df_test = df_test.drop(df_test[df_test.responsetime > 2].index)\n",
    "df_test.pop('Time')\n",
    "df.head()"
   ]
  },
  {
   "cell_type": "code",
   "execution_count": 3,
   "metadata": {},
   "outputs": [],
   "source": [
    "# remove 2xlarge\n",
    "df = df.drop(df[df.totalcpu > 16].index)"
   ]
  },
  {
   "cell_type": "code",
   "execution_count": 4,
   "metadata": {},
   "outputs": [],
   "source": [
    "df_t = pd.DataFrame()\n",
    "df_ttest = pd.DataFrame()"
   ]
  },
  {
   "cell_type": "code",
   "execution_count": 5,
   "metadata": {},
   "outputs": [
    {
     "data": {
      "text/html": [
       "<div>\n",
       "<style scoped>\n",
       "    .dataframe tbody tr th:only-of-type {\n",
       "        vertical-align: middle;\n",
       "    }\n",
       "\n",
       "    .dataframe tbody tr th {\n",
       "        vertical-align: top;\n",
       "    }\n",
       "\n",
       "    .dataframe thead th {\n",
       "        text-align: right;\n",
       "    }\n",
       "</style>\n",
       "<table border=\"1\" class=\"dataframe\">\n",
       "  <thead>\n",
       "    <tr style=\"text-align: right;\">\n",
       "      <th></th>\n",
       "      <th>total_cpu_util</th>\n",
       "      <th>total_mem_util</th>\n",
       "      <th>responsetime</th>\n",
       "      <th>requests</th>\n",
       "    </tr>\n",
       "  </thead>\n",
       "  <tbody>\n",
       "    <tr>\n",
       "      <th>0</th>\n",
       "      <td>1.799196</td>\n",
       "      <td>453.402624</td>\n",
       "      <td>1.549383</td>\n",
       "      <td>7.0</td>\n",
       "    </tr>\n",
       "    <tr>\n",
       "      <th>1</th>\n",
       "      <td>1.799196</td>\n",
       "      <td>453.402624</td>\n",
       "      <td>1.546823</td>\n",
       "      <td>17.0</td>\n",
       "    </tr>\n",
       "    <tr>\n",
       "      <th>2</th>\n",
       "      <td>1.321299</td>\n",
       "      <td>466.593178</td>\n",
       "      <td>1.557788</td>\n",
       "      <td>26.0</td>\n",
       "    </tr>\n",
       "    <tr>\n",
       "      <th>3</th>\n",
       "      <td>1.321299</td>\n",
       "      <td>466.593178</td>\n",
       "      <td>1.531037</td>\n",
       "      <td>36.0</td>\n",
       "    </tr>\n",
       "    <tr>\n",
       "      <th>4</th>\n",
       "      <td>1.012817</td>\n",
       "      <td>464.506675</td>\n",
       "      <td>1.521409</td>\n",
       "      <td>38.0</td>\n",
       "    </tr>\n",
       "  </tbody>\n",
       "</table>\n",
       "</div>"
      ],
      "text/plain": [
       "   total_cpu_util  total_mem_util  responsetime  requests\n",
       "0        1.799196      453.402624      1.549383       7.0\n",
       "1        1.799196      453.402624      1.546823      17.0\n",
       "2        1.321299      466.593178      1.557788      26.0\n",
       "3        1.321299      466.593178      1.531037      36.0\n",
       "4        1.012817      464.506675      1.521409      38.0"
      ]
     },
     "execution_count": 5,
     "metadata": {},
     "output_type": "execute_result"
    }
   ],
   "source": [
    "df_t['total_cpu_util'] = (df['totalcpuUtilization']*(df['totalcpu']*0.67))/100                    \n",
    "df_t['total_mem_util'] = (df['totalmemoryUtilization']*df['totalmemory'])*1e-9\n",
    "df_t['responsetime'] = df['responsetime']\n",
    "df_t['requests'] = df['requests']\n",
    "#df_t['replica'] = df['replica']\n",
    "df_ttest['total_cpu_util'] = (df_test['totalcpuUtilization']*(df_test['totalcpu']*0.67))/100\n",
    "df_ttest['total_mem_util'] = (df_test['totalmemoryUtilization']*df_test['totalmemory'])*1e-9\n",
    "df_ttest['responsetime'] = df_test['responsetime']\n",
    "df_ttest['requests'] = df_test['requests']\n",
    "#df_ttest['replica'] = df_test['replica']\n",
    "df_t.head()"
   ]
  },
  {
   "cell_type": "code",
   "execution_count": 6,
   "metadata": {},
   "outputs": [
    {
     "data": {
      "text/html": [
       "<div>\n",
       "<style scoped>\n",
       "    .dataframe tbody tr th:only-of-type {\n",
       "        vertical-align: middle;\n",
       "    }\n",
       "\n",
       "    .dataframe tbody tr th {\n",
       "        vertical-align: top;\n",
       "    }\n",
       "\n",
       "    .dataframe thead th {\n",
       "        text-align: right;\n",
       "    }\n",
       "</style>\n",
       "<table border=\"1\" class=\"dataframe\">\n",
       "  <thead>\n",
       "    <tr style=\"text-align: right;\">\n",
       "      <th></th>\n",
       "      <th>total_cpu_util</th>\n",
       "      <th>total_mem_util</th>\n",
       "      <th>responsetime</th>\n",
       "      <th>requests</th>\n",
       "    </tr>\n",
       "  </thead>\n",
       "  <tbody>\n",
       "    <tr>\n",
       "      <th>2711</th>\n",
       "      <td>0.281102</td>\n",
       "      <td>275.203277</td>\n",
       "      <td>0.0</td>\n",
       "      <td>153.0</td>\n",
       "    </tr>\n",
       "    <tr>\n",
       "      <th>2712</th>\n",
       "      <td>0.278124</td>\n",
       "      <td>275.000115</td>\n",
       "      <td>0.0</td>\n",
       "      <td>153.0</td>\n",
       "    </tr>\n",
       "    <tr>\n",
       "      <th>2713</th>\n",
       "      <td>0.278124</td>\n",
       "      <td>275.000115</td>\n",
       "      <td>0.0</td>\n",
       "      <td>154.0</td>\n",
       "    </tr>\n",
       "    <tr>\n",
       "      <th>2714</th>\n",
       "      <td>0.270829</td>\n",
       "      <td>274.102682</td>\n",
       "      <td>0.0</td>\n",
       "      <td>150.0</td>\n",
       "    </tr>\n",
       "    <tr>\n",
       "      <th>2715</th>\n",
       "      <td>0.270829</td>\n",
       "      <td>411.154022</td>\n",
       "      <td>0.0</td>\n",
       "      <td>157.0</td>\n",
       "    </tr>\n",
       "  </tbody>\n",
       "</table>\n",
       "</div>"
      ],
      "text/plain": [
       "      total_cpu_util  total_mem_util  responsetime  requests\n",
       "2711        0.281102      275.203277           0.0     153.0\n",
       "2712        0.278124      275.000115           0.0     153.0\n",
       "2713        0.278124      275.000115           0.0     154.0\n",
       "2714        0.270829      274.102682           0.0     150.0\n",
       "2715        0.270829      411.154022           0.0     157.0"
      ]
     },
     "execution_count": 6,
     "metadata": {},
     "output_type": "execute_result"
    }
   ],
   "source": [
    "df_t.tail()"
   ]
  },
  {
   "cell_type": "code",
   "execution_count": 7,
   "metadata": {},
   "outputs": [],
   "source": [
    "df_t = pd.get_dummies(df_t, prefix='', prefix_sep='')"
   ]
  },
  {
   "cell_type": "code",
   "execution_count": 8,
   "metadata": {},
   "outputs": [
    {
     "data": {
      "text/plain": [
       "(406, 4)"
      ]
     },
     "execution_count": 8,
     "metadata": {},
     "output_type": "execute_result"
    }
   ],
   "source": [
    "df_t.shape"
   ]
  },
  {
   "cell_type": "code",
   "execution_count": 9,
   "metadata": {},
   "outputs": [],
   "source": [
    "train_dataset = df_t.sample(frac=0.8, random_state=0)\n",
    "val_dataset = df_t.drop(train_dataset.index)\n",
    "test_dataset = df_ttest"
   ]
  },
  {
   "cell_type": "code",
   "execution_count": 10,
   "metadata": {},
   "outputs": [
    {
     "data": {
      "text/plain": [
       "<seaborn.axisgrid.PairGrid at 0x7fcfa42f02e8>"
      ]
     },
     "execution_count": 10,
     "metadata": {},
     "output_type": "execute_result"
    },
    {
     "data": {
      "image/png": "[encoded data removed]",
      "text/plain": [
       "<Figure size 720x720 with 20 Axes>"
      ]
     },
     "metadata": {
      "needs_background": "light"
     },
     "output_type": "display_data"
    }
   ],
   "source": [
    "sns.pairplot(train_dataset[['total_cpu_util', 'total_mem_util', 'responsetime', 'requests']], diag_kind='kde')"
   ]
  },
  {
   "cell_type": "code",
   "execution_count": 11,
   "metadata": {},
   "outputs": [
    {
     "data": {
      "text/html": [
       "<div>\n",
       "<style scoped>\n",
       "    .dataframe tbody tr th:only-of-type {\n",
       "        vertical-align: middle;\n",
       "    }\n",
       "\n",
       "    .dataframe tbody tr th {\n",
       "        vertical-align: top;\n",
       "    }\n",
       "\n",
       "    .dataframe thead th {\n",
       "        text-align: right;\n",
       "    }\n",
       "</style>\n",
       "<table border=\"1\" class=\"dataframe\">\n",
       "  <thead>\n",
       "    <tr style=\"text-align: right;\">\n",
       "      <th></th>\n",
       "      <th>count</th>\n",
       "      <th>mean</th>\n",
       "      <th>std</th>\n",
       "      <th>min</th>\n",
       "      <th>25%</th>\n",
       "      <th>50%</th>\n",
       "      <th>75%</th>\n",
       "      <th>max</th>\n",
       "    </tr>\n",
       "  </thead>\n",
       "  <tbody>\n",
       "    <tr>\n",
       "      <th>total_cpu_util</th>\n",
       "      <td>325.0</td>\n",
       "      <td>3.024387</td>\n",
       "      <td>2.449380</td>\n",
       "      <td>0.261747</td>\n",
       "      <td>1.029120</td>\n",
       "      <td>2.108490</td>\n",
       "      <td>4.945493</td>\n",
       "      <td>8.102533</td>\n",
       "    </tr>\n",
       "    <tr>\n",
       "      <th>total_mem_util</th>\n",
       "      <td>325.0</td>\n",
       "      <td>506.194817</td>\n",
       "      <td>100.824692</td>\n",
       "      <td>274.987827</td>\n",
       "      <td>466.593178</td>\n",
       "      <td>507.326054</td>\n",
       "      <td>573.620429</td>\n",
       "      <td>669.589094</td>\n",
       "    </tr>\n",
       "    <tr>\n",
       "      <th>responsetime</th>\n",
       "      <td>325.0</td>\n",
       "      <td>1.440604</td>\n",
       "      <td>0.514268</td>\n",
       "      <td>0.000000</td>\n",
       "      <td>1.521409</td>\n",
       "      <td>1.554416</td>\n",
       "      <td>1.645840</td>\n",
       "      <td>1.993447</td>\n",
       "    </tr>\n",
       "    <tr>\n",
       "      <th>requests</th>\n",
       "      <td>325.0</td>\n",
       "      <td>307.286154</td>\n",
       "      <td>250.918402</td>\n",
       "      <td>7.000000</td>\n",
       "      <td>133.000000</td>\n",
       "      <td>194.000000</td>\n",
       "      <td>517.000000</td>\n",
       "      <td>810.000000</td>\n",
       "    </tr>\n",
       "  </tbody>\n",
       "</table>\n",
       "</div>"
      ],
      "text/plain": [
       "                count        mean         std         min         25%  \\\n",
       "total_cpu_util  325.0    3.024387    2.449380    0.261747    1.029120   \n",
       "total_mem_util  325.0  506.194817  100.824692  274.987827  466.593178   \n",
       "responsetime    325.0    1.440604    0.514268    0.000000    1.521409   \n",
       "requests        325.0  307.286154  250.918402    7.000000  133.000000   \n",
       "\n",
       "                       50%         75%         max  \n",
       "total_cpu_util    2.108490    4.945493    8.102533  \n",
       "total_mem_util  507.326054  573.620429  669.589094  \n",
       "responsetime      1.554416    1.645840    1.993447  \n",
       "requests        194.000000  517.000000  810.000000  "
      ]
     },
     "execution_count": 11,
     "metadata": {},
     "output_type": "execute_result"
    }
   ],
   "source": [
    "train_dataset.describe().transpose()"
   ]
  },
  {
   "cell_type": "code",
   "execution_count": 12,
   "metadata": {},
   "outputs": [],
   "source": [
    "train_features = train_dataset.copy()\n",
    "val_features = val_dataset.copy()\n",
    "test_features = test_dataset.copy()"
   ]
  },
  {
   "cell_type": "code",
   "execution_count": 13,
   "metadata": {},
   "outputs": [
    {
     "data": {
      "text/html": [
       "<div>\n",
       "<style scoped>\n",
       "    .dataframe tbody tr th:only-of-type {\n",
       "        vertical-align: middle;\n",
       "    }\n",
       "\n",
       "    .dataframe tbody tr th {\n",
       "        vertical-align: top;\n",
       "    }\n",
       "\n",
       "    .dataframe thead th {\n",
       "        text-align: right;\n",
       "    }\n",
       "</style>\n",
       "<table border=\"1\" class=\"dataframe\">\n",
       "  <thead>\n",
       "    <tr style=\"text-align: right;\">\n",
       "      <th></th>\n",
       "      <th>total_cpu_util</th>\n",
       "      <th>total_mem_util</th>\n",
       "      <th>responsetime</th>\n",
       "      <th>requests</th>\n",
       "    </tr>\n",
       "  </thead>\n",
       "  <tbody>\n",
       "    <tr>\n",
       "      <th>1634</th>\n",
       "      <td>0.676295</td>\n",
       "      <td>484.059955</td>\n",
       "      <td>1.507232</td>\n",
       "      <td>39.0</td>\n",
       "    </tr>\n",
       "    <tr>\n",
       "      <th>2096</th>\n",
       "      <td>2.305247</td>\n",
       "      <td>485.513011</td>\n",
       "      <td>1.971115</td>\n",
       "      <td>237.0</td>\n",
       "    </tr>\n",
       "    <tr>\n",
       "      <th>374</th>\n",
       "      <td>2.448180</td>\n",
       "      <td>506.028442</td>\n",
       "      <td>1.590667</td>\n",
       "      <td>255.0</td>\n",
       "    </tr>\n",
       "    <tr>\n",
       "      <th>2084</th>\n",
       "      <td>1.750263</td>\n",
       "      <td>473.932800</td>\n",
       "      <td>1.794421</td>\n",
       "      <td>184.0</td>\n",
       "    </tr>\n",
       "    <tr>\n",
       "      <th>456</th>\n",
       "      <td>7.903767</td>\n",
       "      <td>669.120307</td>\n",
       "      <td>1.748552</td>\n",
       "      <td>787.0</td>\n",
       "    </tr>\n",
       "  </tbody>\n",
       "</table>\n",
       "</div>"
      ],
      "text/plain": [
       "      total_cpu_util  total_mem_util  responsetime  requests\n",
       "1634        0.676295      484.059955      1.507232      39.0\n",
       "2096        2.305247      485.513011      1.971115     237.0\n",
       "374         2.448180      506.028442      1.590667     255.0\n",
       "2084        1.750263      473.932800      1.794421     184.0\n",
       "456         7.903767      669.120307      1.748552     787.0"
      ]
     },
     "execution_count": 13,
     "metadata": {},
     "output_type": "execute_result"
    }
   ],
   "source": [
    "train_features.head()"
   ]
  },
  {
   "cell_type": "code",
   "execution_count": 14,
   "metadata": {},
   "outputs": [],
   "source": [
    "train_labels = train_features.pop('requests')\n",
    "val_labels = val_features.pop('requests')\n",
    "test_labels = test_features.pop('requests')"
   ]
  },
  {
   "cell_type": "code",
   "execution_count": 15,
   "metadata": {},
   "outputs": [],
   "source": [
    "normalizer = preprocessing.Normalization()"
   ]
  },
  {
   "cell_type": "code",
   "execution_count": 16,
   "metadata": {},
   "outputs": [],
   "source": [
    "normalizer.adapt(np.array(train_features))"
   ]
  },
  {
   "cell_type": "code",
   "execution_count": 17,
   "metadata": {},
   "outputs": [
    {
     "name": "stdout",
     "output_type": "stream",
     "text": [
      "[  3.024 506.195   1.441]\n"
     ]
    }
   ],
   "source": [
    "print(normalizer.mean.numpy())"
   ]
  },
  {
   "cell_type": "markdown",
   "metadata": {},
   "source": [
    "## Linear Regression"
   ]
  },
  {
   "cell_type": "code",
   "execution_count": 18,
   "metadata": {},
   "outputs": [],
   "source": [
    "input = np.array(train_features[['total_cpu_util', 'total_mem_util', 'responsetime']])\n",
    "\n",
    "input_normalizer = preprocessing.Normalization(input_shape=[3,])\n",
    "input_normalizer.adapt(input)"
   ]
  },
  {
   "cell_type": "code",
   "execution_count": 19,
   "metadata": {},
   "outputs": [
    {
     "name": "stdout",
     "output_type": "stream",
     "text": [
      "Model: \"sequential\"\n",
      "_________________________________________________________________\n",
      "Layer (type)                 Output Shape              Param #   \n",
      "=================================================================\n",
      "normalization_1 (Normalizati (None, 3)                 7         \n",
      "_________________________________________________________________\n",
      "dense (Dense)                (None, 1)                 4         \n",
      "=================================================================\n",
      "Total params: 11\n",
      "Trainable params: 4\n",
      "Non-trainable params: 7\n",
      "_________________________________________________________________\n"
     ]
    }
   ],
   "source": [
    "model = tf.keras.Sequential([\n",
    "    input_normalizer,\n",
    "    layers.Dense(units=1)\n",
    "])\n",
    "model.summary()"
   ]
  },
  {
   "cell_type": "code",
   "execution_count": 20,
   "metadata": {},
   "outputs": [
    {
     "data": {
      "text/plain": [
       "array([[-4.812],\n",
       "       [-4.839],\n",
       "       [ 0.71 ],\n",
       "       [ 0.676],\n",
       "       [ 0.817],\n",
       "       [ 0.676],\n",
       "       [ 0.903],\n",
       "       [ 0.913],\n",
       "       [ 0.89 ],\n",
       "       [ 0.92 ],\n",
       "       [ 0.959],\n",
       "       [ 0.828],\n",
       "       [ 0.816],\n",
       "       [ 0.88 ],\n",
       "       [ 0.753],\n",
       "       [ 0.768],\n",
       "       [ 0.631],\n",
       "       [ 0.643],\n",
       "       [ 0.595],\n",
       "       [ 0.634],\n",
       "       [ 0.479],\n",
       "       [ 0.504],\n",
       "       [ 0.413],\n",
       "       [ 0.36 ],\n",
       "       [ 0.558],\n",
       "       [ 0.207],\n",
       "       [ 0.23 ],\n",
       "       [ 0.157],\n",
       "       [ 0.074],\n",
       "       [ 0.128],\n",
       "       [-0.217],\n",
       "       [-0.22 ],\n",
       "       [-0.051],\n",
       "       [-0.152],\n",
       "       [-0.262],\n",
       "       [-0.252],\n",
       "       [-0.399],\n",
       "       [-0.48 ],\n",
       "       [-0.485],\n",
       "       [-0.547],\n",
       "       [-0.601],\n",
       "       [-0.646],\n",
       "       [-0.787],\n",
       "       [-0.721],\n",
       "       [-0.871],\n",
       "       [-0.882],\n",
       "       [-0.98 ],\n",
       "       [-0.856],\n",
       "       [-1.006],\n",
       "       [-1.083],\n",
       "       [-1.242],\n",
       "       [-1.218],\n",
       "       [-1.24 ],\n",
       "       [-1.124],\n",
       "       [-1.403],\n",
       "       [-1.395],\n",
       "       [-1.587],\n",
       "       [-1.654],\n",
       "       [-1.645],\n",
       "       [-1.782],\n",
       "       [-1.694],\n",
       "       [-1.846],\n",
       "       [-1.888],\n",
       "       [-1.784],\n",
       "       [-1.838],\n",
       "       [-1.806],\n",
       "       [-1.958],\n",
       "       [-1.908],\n",
       "       [-2.107],\n",
       "       [-2.072],\n",
       "       [-2.067],\n",
       "       [-2.216],\n",
       "       [-2.283],\n",
       "       [-2.259],\n",
       "       [-2.417],\n",
       "       [-2.358],\n",
       "       [-2.496],\n",
       "       [-2.517],\n",
       "       [-2.445],\n",
       "       [-2.515],\n",
       "       [-2.253],\n",
       "       [-2.602],\n",
       "       [-2.678],\n",
       "       [-2.171],\n",
       "       [-2.736],\n",
       "       [-2.723],\n",
       "       [-2.852],\n",
       "       [-2.773],\n",
       "       [-2.839],\n",
       "       [-2.752],\n",
       "       [-3.069],\n",
       "       [-3.041],\n",
       "       [-3.125],\n",
       "       [-3.161],\n",
       "       [-3.208],\n",
       "       [-3.339],\n",
       "       [-3.302],\n",
       "       [-3.431],\n",
       "       [-3.444],\n",
       "       [-3.418],\n",
       "       [-3.583],\n",
       "       [-3.53 ],\n",
       "       [-3.558],\n",
       "       [-3.547],\n",
       "       [-3.49 ],\n",
       "       [-3.39 ],\n",
       "       [-3.783],\n",
       "       [-3.707],\n",
       "       [-3.892],\n",
       "       [-3.648],\n",
       "       [-3.926],\n",
       "       [-3.644],\n",
       "       [-4.118],\n",
       "       [-3.521],\n",
       "       [-4.044],\n",
       "       [-3.799],\n",
       "       [-4.187],\n",
       "       [-4.23 ],\n",
       "       [-4.179],\n",
       "       [-4.332],\n",
       "       [-3.891],\n",
       "       [-3.671],\n",
       "       [-4.453],\n",
       "       [-4.368],\n",
       "       [-3.676],\n",
       "       [-4.132],\n",
       "       [-4.602],\n",
       "       [-4.227],\n",
       "       [-3.946],\n",
       "       [-4.341],\n",
       "       [-4.102],\n",
       "       [-4.542],\n",
       "       [-4.692],\n",
       "       [-4.251],\n",
       "       [-4.876],\n",
       "       [-4.706],\n",
       "       [-4.886],\n",
       "       [-4.921],\n",
       "       [-4.922],\n",
       "       [-4.365],\n",
       "       [-5.117],\n",
       "       [-4.873],\n",
       "       [-5.101],\n",
       "       [-5.051],\n",
       "       [-4.492],\n",
       "       [-4.822],\n",
       "       [-4.741],\n",
       "       [-5.273],\n",
       "       [-5.278],\n",
       "       [-4.63 ],\n",
       "       [-4.384],\n",
       "       [-4.885],\n",
       "       [-5.296],\n",
       "       [-4.834],\n",
       "       [-5.242],\n",
       "       [-4.907],\n",
       "       [-4.517],\n",
       "       [-5.031],\n",
       "       [-5.01 ],\n",
       "       [-5.529],\n",
       "       [-5.3  ],\n",
       "       [-5.544],\n",
       "       [-5.689],\n",
       "       [-5.75 ],\n",
       "       [-5.109],\n",
       "       [-5.176],\n",
       "       [-5.827],\n",
       "       [-5.678],\n",
       "       [-5.955],\n",
       "       [-4.853],\n",
       "       [-5.573],\n",
       "       [-5.339],\n",
       "       [-5.689],\n",
       "       [-5.289],\n",
       "       [-5.114],\n",
       "       [-5.445],\n",
       "       [-5.658],\n",
       "       [-5.635],\n",
       "       [-6.063],\n",
       "       [-5.906],\n",
       "       [-5.437]], dtype=float32)"
      ]
     },
     "execution_count": 20,
     "metadata": {},
     "output_type": "execute_result"
    }
   ],
   "source": [
    "model.predict(test_features)"
   ]
  },
  {
   "cell_type": "code",
   "execution_count": 21,
   "metadata": {},
   "outputs": [],
   "source": [
    "model.compile(\n",
    "    optimizer=tf.optimizers.Adam(learning_rate=0.1),\n",
    "    loss='mean_absolute_error')"
   ]
  },
  {
   "cell_type": "code",
   "execution_count": 22,
   "metadata": {},
   "outputs": [
    {
     "name": "stdout",
     "output_type": "stream",
     "text": [
      "CPU times: user 2.71 s, sys: 266 ms, total: 2.98 s\n",
      "Wall time: 2.29 s\n"
     ]
    }
   ],
   "source": [
    "%%time\n",
    "history = model.fit(\n",
    "    train_features[['total_cpu_util', 'total_mem_util', 'responsetime']], train_labels,\n",
    "    epochs=100,\n",
    "    # suppress logging\n",
    "    verbose=0,\n",
    "    # Calculate validation results on 20% of the training data\n",
    "    validation_split = 0.2)"
   ]
  },
  {
   "cell_type": "code",
   "execution_count": 23,
   "metadata": {},
   "outputs": [
    {
     "data": {
      "text/html": [
       "<div>\n",
       "<style scoped>\n",
       "    .dataframe tbody tr th:only-of-type {\n",
       "        vertical-align: middle;\n",
       "    }\n",
       "\n",
       "    .dataframe tbody tr th {\n",
       "        vertical-align: top;\n",
       "    }\n",
       "\n",
       "    .dataframe thead th {\n",
       "        text-align: right;\n",
       "    }\n",
       "</style>\n",
       "<table border=\"1\" class=\"dataframe\">\n",
       "  <thead>\n",
       "    <tr style=\"text-align: right;\">\n",
       "      <th></th>\n",
       "      <th>loss</th>\n",
       "      <th>val_loss</th>\n",
       "      <th>epoch</th>\n",
       "    </tr>\n",
       "  </thead>\n",
       "  <tbody>\n",
       "    <tr>\n",
       "      <th>95</th>\n",
       "      <td>236.992279</td>\n",
       "      <td>217.253571</td>\n",
       "      <td>95</td>\n",
       "    </tr>\n",
       "    <tr>\n",
       "      <th>96</th>\n",
       "      <td>236.210953</td>\n",
       "      <td>216.592834</td>\n",
       "      <td>96</td>\n",
       "    </tr>\n",
       "    <tr>\n",
       "      <th>97</th>\n",
       "      <td>235.458344</td>\n",
       "      <td>215.915573</td>\n",
       "      <td>97</td>\n",
       "    </tr>\n",
       "    <tr>\n",
       "      <th>98</th>\n",
       "      <td>234.681702</td>\n",
       "      <td>215.233444</td>\n",
       "      <td>98</td>\n",
       "    </tr>\n",
       "    <tr>\n",
       "      <th>99</th>\n",
       "      <td>233.952469</td>\n",
       "      <td>214.542267</td>\n",
       "      <td>99</td>\n",
       "    </tr>\n",
       "  </tbody>\n",
       "</table>\n",
       "</div>"
      ],
      "text/plain": [
       "          loss    val_loss  epoch\n",
       "95  236.992279  217.253571     95\n",
       "96  236.210953  216.592834     96\n",
       "97  235.458344  215.915573     97\n",
       "98  234.681702  215.233444     98\n",
       "99  233.952469  214.542267     99"
      ]
     },
     "execution_count": 23,
     "metadata": {},
     "output_type": "execute_result"
    }
   ],
   "source": [
    "hist = pd.DataFrame(history.history)\n",
    "hist['epoch'] = history.epoch\n",
    "hist.tail()"
   ]
  },
  {
   "cell_type": "code",
   "execution_count": 24,
   "metadata": {},
   "outputs": [],
   "source": [
    "def plot_loss(history):\n",
    "  plt.plot(history.history['loss'], label='loss')\n",
    "  plt.plot(history.history['val_loss'], label='val_loss')\n",
    "  plt.ylim([0, 500])\n",
    "  plt.xlabel('Epoch')\n",
    "  plt.ylabel('Error [MPG]')\n",
    "  plt.legend()\n",
    "  plt.grid(True)"
   ]
  },
  {
   "cell_type": "code",
   "execution_count": 25,
   "metadata": {},
   "outputs": [
    {
     "data": {
      "image/png": "[encoded data removed]",
      "text/plain": [
       "<Figure size 432x288 with 1 Axes>"
      ]
     },
     "metadata": {
      "needs_background": "light"
     },
     "output_type": "display_data"
    }
   ],
   "source": [
    "plot_loss(history)"
   ]
  },
  {
   "cell_type": "code",
   "execution_count": 26,
   "metadata": {},
   "outputs": [],
   "source": [
    "test_results = {}\n",
    "\n",
    "test_results['model'] = model.evaluate(\n",
    "    val_features[['total_cpu_util', 'total_mem_util', 'responsetime']],\n",
    "    val_labels, verbose=0)"
   ]
  },
  {
   "cell_type": "code",
   "execution_count": 27,
   "metadata": {},
   "outputs": [],
   "source": [
    "def build_and_compile_model(norm):\n",
    "  model = keras.Sequential([\n",
    "      norm,\n",
    "      layers.Dense(64, activation='relu'),\n",
    "      layers.Dense(64, activation='relu'),\n",
    "      layers.Dense(1)\n",
    "  ])\n",
    "\n",
    "  model.compile(loss='mean_absolute_error',\n",
    "                optimizer=tf.keras.optimizers.Adam(0.001))\n",
    "  return model"
   ]
  },
  {
   "cell_type": "code",
   "execution_count": 28,
   "metadata": {},
   "outputs": [],
   "source": [
    "dnn_model = build_and_compile_model(input_normalizer)"
   ]
  },
  {
   "cell_type": "code",
   "execution_count": 29,
   "metadata": {},
   "outputs": [
    {
     "name": "stdout",
     "output_type": "stream",
     "text": [
      "Model: \"sequential_1\"\n",
      "_________________________________________________________________\n",
      "Layer (type)                 Output Shape              Param #   \n",
      "=================================================================\n",
      "normalization_1 (Normalizati (None, 3)                 7         \n",
      "_________________________________________________________________\n",
      "dense_1 (Dense)              (None, 64)                256       \n",
      "_________________________________________________________________\n",
      "dense_2 (Dense)              (None, 64)                4160      \n",
      "_________________________________________________________________\n",
      "dense_3 (Dense)              (None, 1)                 65        \n",
      "=================================================================\n",
      "Total params: 4,488\n",
      "Trainable params: 4,481\n",
      "Non-trainable params: 7\n",
      "_________________________________________________________________\n"
     ]
    }
   ],
   "source": [
    "dnn_model.summary()"
   ]
  },
  {
   "cell_type": "code",
   "execution_count": 30,
   "metadata": {},
   "outputs": [
    {
     "name": "stdout",
     "output_type": "stream",
     "text": [
      "CPU times: user 6.01 s, sys: 845 ms, total: 6.85 s\n",
      "Wall time: 4.91 s\n"
     ]
    }
   ],
   "source": [
    "%%time\n",
    "history = dnn_model.fit(\n",
    "    train_features[['total_cpu_util', 'total_mem_util', 'responsetime']], train_labels,\n",
    "    validation_split=0.2,\n",
    "    verbose=0, epochs=200)"
   ]
  },
  {
   "cell_type": "code",
   "execution_count": 31,
   "metadata": {},
   "outputs": [
    {
     "data": {
      "image/png": "[encoded data removed]",
      "text/plain": [
       "<Figure size 432x288 with 1 Axes>"
      ]
     },
     "metadata": {
      "needs_background": "light"
     },
     "output_type": "display_data"
    }
   ],
   "source": [
    "plot_loss(history)"
   ]
  },
  {
   "cell_type": "code",
   "execution_count": 32,
   "metadata": {},
   "outputs": [],
   "source": [
    "test_results['dnn_model'] = dnn_model.evaluate(\n",
    "    val_features[['total_cpu_util', 'total_mem_util', 'responsetime']], val_labels,\n",
    "    verbose=0)"
   ]
  },
  {
   "cell_type": "code",
   "execution_count": 33,
   "metadata": {},
   "outputs": [
    {
     "data": {
      "text/html": [
       "<div>\n",
       "<style scoped>\n",
       "    .dataframe tbody tr th:only-of-type {\n",
       "        vertical-align: middle;\n",
       "    }\n",
       "\n",
       "    .dataframe tbody tr th {\n",
       "        vertical-align: top;\n",
       "    }\n",
       "\n",
       "    .dataframe thead th {\n",
       "        text-align: right;\n",
       "    }\n",
       "</style>\n",
       "<table border=\"1\" class=\"dataframe\">\n",
       "  <thead>\n",
       "    <tr style=\"text-align: right;\">\n",
       "      <th></th>\n",
       "      <th>requests</th>\n",
       "    </tr>\n",
       "  </thead>\n",
       "  <tbody>\n",
       "    <tr>\n",
       "      <th>model</th>\n",
       "      <td>244.674835</td>\n",
       "    </tr>\n",
       "    <tr>\n",
       "      <th>dnn_model</th>\n",
       "      <td>13.778139</td>\n",
       "    </tr>\n",
       "  </tbody>\n",
       "</table>\n",
       "</div>"
      ],
      "text/plain": [
       "             requests\n",
       "model      244.674835\n",
       "dnn_model   13.778139"
      ]
     },
     "execution_count": 33,
     "metadata": {},
     "output_type": "execute_result"
    }
   ],
   "source": [
    "pd.DataFrame(test_results, index=['requests']).T"
   ]
  },
  {
   "cell_type": "markdown",
   "metadata": {},
   "source": [
    "## Make Predictions"
   ]
  },
  {
   "cell_type": "code",
   "execution_count": 34,
   "metadata": {},
   "outputs": [
    {
     "data": {
      "image/png": "[encoded data removed]",
      "text/plain": [
       "<Figure size 432x288 with 1 Axes>"
      ]
     },
     "metadata": {
      "needs_background": "light"
     },
     "output_type": "display_data"
    }
   ],
   "source": [
    "test_predictions = dnn_model.predict(test_features).flatten()\n",
    "\n",
    "a = plt.axes(aspect='equal')\n",
    "plt.scatter(test_labels, test_predictions)\n",
    "plt.xlabel('True Values requests')\n",
    "plt.ylabel('Predictions requests')\n",
    "lims = [0, 1750]\n",
    "plt.xlim(lims)\n",
    "plt.ylim(lims)\n",
    "_ = plt.plot(lims, lims)"
   ]
  },
  {
   "cell_type": "code",
   "execution_count": 35,
   "metadata": {},
   "outputs": [
    {
     "name": "stdout",
     "output_type": "stream",
     "text": [
      "R² : 0.9116815065070397\n"
     ]
    }
   ],
   "source": [
    "from sklearn.metrics import r2_score\n",
    "R = r2_score(test_labels, test_predictions)\n",
    "print ('R² :',R)"
   ]
  },
  {
   "cell_type": "code",
   "execution_count": 36,
   "metadata": {},
   "outputs": [
    {
     "data": {
      "image/png": "[encoded data removed]",
      "text/plain": [
       "<Figure size 432x288 with 1 Axes>"
      ]
     },
     "metadata": {
      "needs_background": "light"
     },
     "output_type": "display_data"
    }
   ],
   "source": [
    "error = test_predictions - test_labels\n",
    "plt.hist(error, bins=100)\n",
    "plt.xlabel('Prediction Error [requests]')\n",
    "_ = plt.ylabel('Count')"
   ]
  },
  {
   "cell_type": "code",
   "execution_count": null,
   "metadata": {},
   "outputs": [],
   "source": []
  }
 ],
 "metadata": {
  "kernelspec": {
   "display_name": "Python 3",
   "language": "python",
   "name": "python3"
  },
  "language_info": {
   "codemirror_mode": {
    "name": "ipython",
    "version": 3
   },
   "file_extension": ".py",
   "mimetype": "text/x-python",
   "name": "python",
   "nbconvert_exporter": "python",
   "pygments_lexer": "ipython3",
   "version": "3.6.9"
  }
 },
 "nbformat": 4,
 "nbformat_minor": 4
}
