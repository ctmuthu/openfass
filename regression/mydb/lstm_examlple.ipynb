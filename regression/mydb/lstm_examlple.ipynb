{
 "cells": [
  {
   "cell_type": "code",
   "execution_count": 1,
   "metadata": {},
   "outputs": [],
   "source": [
    "import os\n",
    "import datetime\n",
    "import matplotlib.pyplot as plt\n",
    "import numpy as np\n",
    "import pandas as pd\n",
    "import seaborn as sns\n",
    "from keras.models import Sequential\n",
    "from keras.layers.core import Activation, Dropout, Dense\n",
    "from keras.layers import Flatten, LSTM"
   ]
  },
  {
   "cell_type": "code",
   "execution_count": 2,
   "metadata": {},
   "outputs": [
    {
     "data": {
      "text/html": [
       "<div>\n",
       "<style scoped>\n",
       "    .dataframe tbody tr th:only-of-type {\n",
       "        vertical-align: middle;\n",
       "    }\n",
       "\n",
       "    .dataframe tbody tr th {\n",
       "        vertical-align: top;\n",
       "    }\n",
       "\n",
       "    .dataframe thead th {\n",
       "        text-align: right;\n",
       "    }\n",
       "</style>\n",
       "<table border=\"1\" class=\"dataframe\">\n",
       "  <thead>\n",
       "    <tr style=\"text-align: right;\">\n",
       "      <th></th>\n",
       "      <th>cpu</th>\n",
       "      <th>diskio</th>\n",
       "      <th>diskioRead</th>\n",
       "      <th>diskioWritten</th>\n",
       "      <th>mem</th>\n",
       "      <th>networkReceived</th>\n",
       "      <th>networkTransmitted</th>\n",
       "      <th>replica</th>\n",
       "      <th>requests</th>\n",
       "      <th>responsetime</th>\n",
       "      <th>totalcpu</th>\n",
       "      <th>totalcpuUtilization</th>\n",
       "      <th>totalmemory</th>\n",
       "      <th>totalmemoryUtilization</th>\n",
       "    </tr>\n",
       "  </thead>\n",
       "  <tbody>\n",
       "    <tr>\n",
       "      <th>0</th>\n",
       "      <td>9.958133</td>\n",
       "      <td>0.000000</td>\n",
       "      <td>0.000000</td>\n",
       "      <td>2.922424e+03</td>\n",
       "      <td>0.019789</td>\n",
       "      <td>8.295819e+02</td>\n",
       "      <td>891.377388</td>\n",
       "      <td>1.0</td>\n",
       "      <td>16.0</td>\n",
       "      <td>0.912022</td>\n",
       "      <td>2.0</td>\n",
       "      <td>63.873122</td>\n",
       "      <td>1.240458e+10</td>\n",
       "      <td>7.330045</td>\n",
       "    </tr>\n",
       "    <tr>\n",
       "      <th>1</th>\n",
       "      <td>13.589864</td>\n",
       "      <td>0.006419</td>\n",
       "      <td>922.528427</td>\n",
       "      <td>8.798615e+04</td>\n",
       "      <td>0.019789</td>\n",
       "      <td>7.448670e+05</td>\n",
       "      <td>6527.744480</td>\n",
       "      <td>1.0</td>\n",
       "      <td>32.0</td>\n",
       "      <td>0.905742</td>\n",
       "      <td>6.0</td>\n",
       "      <td>63.873122</td>\n",
       "      <td>1.240458e+10</td>\n",
       "      <td>37.569958</td>\n",
       "    </tr>\n",
       "    <tr>\n",
       "      <th>2</th>\n",
       "      <td>13.539800</td>\n",
       "      <td>0.151911</td>\n",
       "      <td>1001.244444</td>\n",
       "      <td>1.183198e+07</td>\n",
       "      <td>0.019789</td>\n",
       "      <td>3.649453e+06</td>\n",
       "      <td>15798.111111</td>\n",
       "      <td>1.0</td>\n",
       "      <td>49.0</td>\n",
       "      <td>0.888829</td>\n",
       "      <td>6.0</td>\n",
       "      <td>26.283558</td>\n",
       "      <td>1.240458e+10</td>\n",
       "      <td>37.569958</td>\n",
       "    </tr>\n",
       "    <tr>\n",
       "      <th>3</th>\n",
       "      <td>5.633917</td>\n",
       "      <td>0.151914</td>\n",
       "      <td>1001.266695</td>\n",
       "      <td>1.183060e+07</td>\n",
       "      <td>0.203466</td>\n",
       "      <td>3.661378e+06</td>\n",
       "      <td>16975.310562</td>\n",
       "      <td>1.0</td>\n",
       "      <td>65.0</td>\n",
       "      <td>0.901064</td>\n",
       "      <td>6.0</td>\n",
       "      <td>26.283558</td>\n",
       "      <td>1.240458e+10</td>\n",
       "      <td>37.396603</td>\n",
       "    </tr>\n",
       "    <tr>\n",
       "      <th>4</th>\n",
       "      <td>7.244292</td>\n",
       "      <td>0.146933</td>\n",
       "      <td>273.066667</td>\n",
       "      <td>1.176899e+07</td>\n",
       "      <td>0.203466</td>\n",
       "      <td>3.087269e+06</td>\n",
       "      <td>13670.911111</td>\n",
       "      <td>1.0</td>\n",
       "      <td>66.0</td>\n",
       "      <td>0.893493</td>\n",
       "      <td>6.0</td>\n",
       "      <td>23.183333</td>\n",
       "      <td>1.240458e+10</td>\n",
       "      <td>37.396603</td>\n",
       "    </tr>\n",
       "  </tbody>\n",
       "</table>\n",
       "</div>"
      ],
      "text/plain": [
       "         cpu    diskio   diskioRead  diskioWritten       mem  networkReceived  \\\n",
       "0   9.958133  0.000000     0.000000   2.922424e+03  0.019789     8.295819e+02   \n",
       "1  13.589864  0.006419   922.528427   8.798615e+04  0.019789     7.448670e+05   \n",
       "2  13.539800  0.151911  1001.244444   1.183198e+07  0.019789     3.649453e+06   \n",
       "3   5.633917  0.151914  1001.266695   1.183060e+07  0.203466     3.661378e+06   \n",
       "4   7.244292  0.146933   273.066667   1.176899e+07  0.203466     3.087269e+06   \n",
       "\n",
       "   networkTransmitted  replica  requests  responsetime  totalcpu  \\\n",
       "0          891.377388      1.0      16.0      0.912022       2.0   \n",
       "1         6527.744480      1.0      32.0      0.905742       6.0   \n",
       "2        15798.111111      1.0      49.0      0.888829       6.0   \n",
       "3        16975.310562      1.0      65.0      0.901064       6.0   \n",
       "4        13670.911111      1.0      66.0      0.893493       6.0   \n",
       "\n",
       "   totalcpuUtilization   totalmemory  totalmemoryUtilization  \n",
       "0            63.873122  1.240458e+10                7.330045  \n",
       "1            63.873122  1.240458e+10               37.569958  \n",
       "2            26.283558  1.240458e+10               37.569958  \n",
       "3            26.283558  1.240458e+10               37.396603  \n",
       "4            23.183333  1.240458e+10               37.396603  "
      ]
     },
     "execution_count": 2,
     "metadata": {},
     "output_type": "execute_result"
    }
   ],
   "source": [
    "cwd = os.getcwd()\n",
    "output_dir = os.path.join(cwd, \"../../data\")\n",
    "df = pd.read_csv(os.path.join(output_dir, \"combined_miniodb.csv\"))\n",
    "df_test = pd.read_csv(os.path.join(output_dir, \"combined_miniodbtest.csv\"))\n",
    "#df_test = pd.read_csv(os.path.join(output_dir, \"figlet1599056546.006096_1599063766.431225.csv\"))\n",
    "df = df.drop(df[df.responsetime > 10].index)\n",
    "df.pop('Time')\n",
    "df_test = df_test.drop(df_test[df_test.responsetime > 10].index)\n",
    "df_test.pop('Time')\n",
    "df.head()"
   ]
  },
  {
   "cell_type": "code",
   "execution_count": 3,
   "metadata": {},
   "outputs": [],
   "source": [
    "# remove 2xlarge\n",
    "df = df.drop(df[df.totalcpu > 16].index)"
   ]
  },
  {
   "cell_type": "code",
   "execution_count": 4,
   "metadata": {},
   "outputs": [],
   "source": [
    "df_t = pd.DataFrame()\n",
    "df_ttest = pd.DataFrame()"
   ]
  },
  {
   "cell_type": "code",
   "execution_count": 5,
   "metadata": {},
   "outputs": [
    {
     "data": {
      "text/html": [
       "<div>\n",
       "<style scoped>\n",
       "    .dataframe tbody tr th:only-of-type {\n",
       "        vertical-align: middle;\n",
       "    }\n",
       "\n",
       "    .dataframe tbody tr th {\n",
       "        vertical-align: top;\n",
       "    }\n",
       "\n",
       "    .dataframe thead th {\n",
       "        text-align: right;\n",
       "    }\n",
       "</style>\n",
       "<table border=\"1\" class=\"dataframe\">\n",
       "  <thead>\n",
       "    <tr style=\"text-align: right;\">\n",
       "      <th></th>\n",
       "      <th>total_cpu_util</th>\n",
       "      <th>total_mem_util</th>\n",
       "      <th>responsetime</th>\n",
       "      <th>requests</th>\n",
       "    </tr>\n",
       "  </thead>\n",
       "  <tbody>\n",
       "    <tr>\n",
       "      <th>0</th>\n",
       "      <td>0.855900</td>\n",
       "      <td>90.926165</td>\n",
       "      <td>0.912022</td>\n",
       "      <td>16.0</td>\n",
       "    </tr>\n",
       "    <tr>\n",
       "      <th>1</th>\n",
       "      <td>2.567700</td>\n",
       "      <td>466.039717</td>\n",
       "      <td>0.905742</td>\n",
       "      <td>32.0</td>\n",
       "    </tr>\n",
       "    <tr>\n",
       "      <th>2</th>\n",
       "      <td>1.056599</td>\n",
       "      <td>466.039717</td>\n",
       "      <td>0.888829</td>\n",
       "      <td>49.0</td>\n",
       "    </tr>\n",
       "    <tr>\n",
       "      <th>3</th>\n",
       "      <td>1.056599</td>\n",
       "      <td>463.889317</td>\n",
       "      <td>0.901064</td>\n",
       "      <td>65.0</td>\n",
       "    </tr>\n",
       "    <tr>\n",
       "      <th>4</th>\n",
       "      <td>0.931970</td>\n",
       "      <td>463.889317</td>\n",
       "      <td>0.893493</td>\n",
       "      <td>66.0</td>\n",
       "    </tr>\n",
       "  </tbody>\n",
       "</table>\n",
       "</div>"
      ],
      "text/plain": [
       "   total_cpu_util  total_mem_util  responsetime  requests\n",
       "0        0.855900       90.926165      0.912022      16.0\n",
       "1        2.567700      466.039717      0.905742      32.0\n",
       "2        1.056599      466.039717      0.888829      49.0\n",
       "3        1.056599      463.889317      0.901064      65.0\n",
       "4        0.931970      463.889317      0.893493      66.0"
      ]
     },
     "execution_count": 5,
     "metadata": {},
     "output_type": "execute_result"
    }
   ],
   "source": [
    "df_t['total_cpu_util'] = (df['totalcpuUtilization']*(df['totalcpu']*0.67))/100                    \n",
    "df_t['total_mem_util'] = (df['totalmemoryUtilization']*df['totalmemory'])*1e-9\n",
    "df_t['responsetime'] = df['responsetime']\n",
    "df_t['requests'] = df['requests']\n",
    "#df_t['replica'] = df['replica']\n",
    "df_ttest['total_cpu_util'] = (df_test['totalcpuUtilization']*(df_test['totalcpu']*0.67))/100\n",
    "df_ttest['total_mem_util'] = (df_test['totalmemoryUtilization']*df_test['totalmemory'])*1e-9\n",
    "df_ttest['responsetime'] = df_test['responsetime']\n",
    "df_ttest['requests'] = df_test['requests']\n",
    "#df_ttest['replica'] = df_test['replica']\n",
    "df_t.head()"
   ]
  },
  {
   "cell_type": "code",
   "execution_count": 6,
   "metadata": {},
   "outputs": [],
   "source": [
    "training_set = df_t.iloc[:, 0:3].values\n",
    "training_set_y = df_t.iloc[:, 3:4].values\n",
    "testing_set = df_ttest.iloc[:, 0:3].values\n",
    "testing_set_y = df_ttest.iloc[:, 3:4].values"
   ]
  },
  {
   "cell_type": "code",
   "execution_count": 7,
   "metadata": {},
   "outputs": [
    {
     "data": {
      "text/plain": [
       "array([[  0.85589984,  90.9261647 ,   0.91202162],\n",
       "       [  2.56769952, 466.03971662,   0.90574158],\n",
       "       [  1.05659903, 466.03971662,   0.8888294 ],\n",
       "       ...,\n",
       "       [  4.16003   , 607.3516032 ,   5.31572966],\n",
       "       [  4.16003   , 607.3516032 ,   5.45206002],\n",
       "       [  4.16230484, 615.4051584 ,   6.12542381]])"
      ]
     },
     "execution_count": 7,
     "metadata": {},
     "output_type": "execute_result"
    }
   ],
   "source": [
    "training_set"
   ]
  },
  {
   "cell_type": "code",
   "execution_count": 8,
   "metadata": {},
   "outputs": [
    {
     "data": {
      "text/plain": [
       "array([[ 16.],\n",
       "       [ 32.],\n",
       "       [ 49.],\n",
       "       ...,\n",
       "       [369.],\n",
       "       [363.],\n",
       "       [366.]])"
      ]
     },
     "execution_count": 8,
     "metadata": {},
     "output_type": "execute_result"
    }
   ],
   "source": [
    "training_set_y"
   ]
  },
  {
   "cell_type": "code",
   "execution_count": 9,
   "metadata": {},
   "outputs": [],
   "source": [
    "from sklearn.preprocessing import MinMaxScaler\n",
    "sc = MinMaxScaler(feature_range = (0, 1))\n",
    "training_set_scaled = sc.fit_transform(training_set)\n",
    "testing_set_scaled = sc.fit_transform(testing_set)"
   ]
  },
  {
   "cell_type": "code",
   "execution_count": 10,
   "metadata": {},
   "outputs": [
    {
     "data": {
      "text/plain": [
       "(1072, 3)"
      ]
     },
     "execution_count": 10,
     "metadata": {},
     "output_type": "execute_result"
    }
   ],
   "source": [
    "training_set_scaled.shape"
   ]
  },
  {
   "cell_type": "code",
   "execution_count": 11,
   "metadata": {},
   "outputs": [
    {
     "data": {
      "text/plain": [
       "(296, 3)"
      ]
     },
     "execution_count": 11,
     "metadata": {},
     "output_type": "execute_result"
    }
   ],
   "source": [
    "testing_set_scaled.shape"
   ]
  },
  {
   "cell_type": "code",
   "execution_count": 12,
   "metadata": {},
   "outputs": [],
   "source": [
    "training_set_scaled = np.array(training_set_scaled).reshape(training_set_scaled.shape[0], 1, training_set_scaled.shape[1])\n",
    "testing_set_scaled = np.array(testing_set_scaled).reshape(testing_set_scaled.shape[0], 1, testing_set_scaled.shape[1])"
   ]
  },
  {
   "cell_type": "code",
   "execution_count": 13,
   "metadata": {},
   "outputs": [
    {
     "data": {
      "text/plain": [
       "(1072, 1, 3)"
      ]
     },
     "execution_count": 13,
     "metadata": {},
     "output_type": "execute_result"
    }
   ],
   "source": [
    "training_set_scaled.shape"
   ]
  },
  {
   "cell_type": "code",
   "execution_count": 14,
   "metadata": {},
   "outputs": [
    {
     "name": "stdout",
     "output_type": "stream",
     "text": [
      "Model: \"sequential\"\n",
      "_________________________________________________________________\n",
      "Layer (type)                 Output Shape              Param #   \n",
      "=================================================================\n",
      "lstm (LSTM)                  (None, 1, 200)            163200    \n",
      "_________________________________________________________________\n",
      "lstm_1 (LSTM)                (None, 1, 100)            120400    \n",
      "_________________________________________________________________\n",
      "lstm_2 (LSTM)                (None, 1, 50)             30200     \n",
      "_________________________________________________________________\n",
      "lstm_3 (LSTM)                (None, 25)                7600      \n",
      "_________________________________________________________________\n",
      "dense (Dense)                (None, 20)                520       \n",
      "_________________________________________________________________\n",
      "dense_1 (Dense)              (None, 10)                210       \n",
      "_________________________________________________________________\n",
      "dense_2 (Dense)              (None, 1)                 11        \n",
      "=================================================================\n",
      "Total params: 322,141\n",
      "Trainable params: 322,141\n",
      "Non-trainable params: 0\n",
      "_________________________________________________________________\n",
      "None\n"
     ]
    }
   ],
   "source": [
    "model = Sequential()\n",
    "model.add(LSTM(200, activation='relu', return_sequences=True,input_shape=(1, 3)))\n",
    "model.add(LSTM(100, activation='relu', return_sequences=True))\n",
    "model.add(LSTM(50, activation='relu', return_sequences=True))\n",
    "model.add(LSTM(25, activation='relu'))\n",
    "model.add(Dense(20, activation='relu'))\n",
    "model.add(Dense(10, activation='relu'))\n",
    "model.add(Dense(1))\n",
    "model.compile(optimizer='adam', loss='mse')\n",
    "print(model.summary())"
   ]
  },
  {
   "cell_type": "code",
   "execution_count": 15,
   "metadata": {},
   "outputs": [],
   "source": [
    "history = model.fit(training_set_scaled, training_set_y, epochs=5000, validation_split=0.2, batch_size=50, verbose=0)"
   ]
  },
  {
   "cell_type": "code",
   "execution_count": 22,
   "metadata": {},
   "outputs": [],
   "source": [
    "def plot_loss(history):\n",
    "  plt.plot(history.history['loss'], label='loss')\n",
    "  plt.plot(history.history['val_loss'], label='val_loss')\n",
    "  plt.ylim([0, 10000])\n",
    "  plt.xlabel('Epoch')\n",
    "  plt.ylabel('Error [MPG]')\n",
    "  plt.legend()\n",
    "  plt.grid(True)"
   ]
  },
  {
   "cell_type": "code",
   "execution_count": 23,
   "metadata": {},
   "outputs": [
    {
     "data": {
      "image/png": "[encoded data removed]",
      "text/plain": [
       "<Figure size 432x288 with 1 Axes>"
      ]
     },
     "metadata": {
      "needs_background": "light"
     },
     "output_type": "display_data"
    }
   ],
   "source": [
    "plot_loss(history)"
   ]
  },
  {
   "cell_type": "code",
   "execution_count": 18,
   "metadata": {},
   "outputs": [
    {
     "data": {
      "image/png": "[encoded data removed]",
      "text/plain": [
       "<Figure size 432x288 with 1 Axes>"
      ]
     },
     "metadata": {
      "needs_background": "light"
     },
     "output_type": "display_data"
    }
   ],
   "source": [
    "test_predictions = model.predict(testing_set_scaled).flatten()\n",
    "\n",
    "a = plt.axes(aspect='equal')\n",
    "plt.scatter(testing_set_y, test_predictions)\n",
    "plt.xlabel('True Values requests')\n",
    "plt.ylabel('Predictions requests')\n",
    "lims = [0, 1600]\n",
    "plt.xlim(lims)\n",
    "plt.ylim(lims)\n",
    "_ = plt.plot(lims, lims)"
   ]
  },
  {
   "cell_type": "code",
   "execution_count": 19,
   "metadata": {},
   "outputs": [
    {
     "name": "stdout",
     "output_type": "stream",
     "text": [
      "R² : 0.23176119248423643\n"
     ]
    }
   ],
   "source": [
    "from sklearn.metrics import r2_score\n",
    "R = r2_score(testing_set_y, test_predictions)\n",
    "print ('R² :',R)"
   ]
  },
  {
   "cell_type": "code",
   "execution_count": null,
   "metadata": {},
   "outputs": [],
   "source": []
  }
 ],
 "metadata": {
  "kernelspec": {
   "display_name": "Python 3",
   "language": "python",
   "name": "python3"
  },
  "language_info": {
   "codemirror_mode": {
    "name": "ipython",
    "version": 3
   },
   "file_extension": ".py",
   "mimetype": "text/x-python",
   "name": "python",
   "nbconvert_exporter": "python",
   "pygments_lexer": "ipython3",
   "version": "3.6.9"
  }
 },
 "nbformat": 4,
 "nbformat_minor": 4
}
