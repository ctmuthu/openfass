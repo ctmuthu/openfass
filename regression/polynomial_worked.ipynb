{
 "cells": [
  {
   "cell_type": "code",
   "execution_count": 1,
   "metadata": {},
   "outputs": [],
   "source": [
    "# https://iq.opengenus.org/polynomial-regression-using-scikit-learn/"
   ]
  },
  {
   "cell_type": "code",
   "execution_count": 2,
   "metadata": {},
   "outputs": [],
   "source": [
    "import os\n",
    "import datetime\n",
    "import numpy as np\n",
    "import pandas as pd\n",
    "import matplotlib.pyplot as plt\n",
    "%matplotlib inline\n",
    "from sklearn import preprocessing\n",
    "from sklearn.model_selection import train_test_split"
   ]
  },
  {
   "cell_type": "code",
   "execution_count": 3,
   "metadata": {},
   "outputs": [
    {
     "data": {
      "text/html": [
       "<div>\n",
       "<style scoped>\n",
       "    .dataframe tbody tr th:only-of-type {\n",
       "        vertical-align: middle;\n",
       "    }\n",
       "\n",
       "    .dataframe tbody tr th {\n",
       "        vertical-align: top;\n",
       "    }\n",
       "\n",
       "    .dataframe thead th {\n",
       "        text-align: right;\n",
       "    }\n",
       "</style>\n",
       "<table border=\"1\" class=\"dataframe\">\n",
       "  <thead>\n",
       "    <tr style=\"text-align: right;\">\n",
       "      <th></th>\n",
       "      <th>cpu</th>\n",
       "      <th>diskio</th>\n",
       "      <th>diskioRead</th>\n",
       "      <th>diskioWritten</th>\n",
       "      <th>mem</th>\n",
       "      <th>networkReceived</th>\n",
       "      <th>networkTransmitted</th>\n",
       "      <th>replica</th>\n",
       "      <th>requests</th>\n",
       "      <th>responsetime</th>\n",
       "      <th>totalcpu</th>\n",
       "      <th>totalcpuUtilization</th>\n",
       "      <th>totalmemory</th>\n",
       "      <th>totalmemoryUtilization</th>\n",
       "    </tr>\n",
       "  </thead>\n",
       "  <tbody>\n",
       "    <tr>\n",
       "      <th>0</th>\n",
       "      <td>7.452470</td>\n",
       "      <td>0.000129</td>\n",
       "      <td>0.000000</td>\n",
       "      <td>1.484572e+04</td>\n",
       "      <td>0.006211</td>\n",
       "      <td>7.686411e+02</td>\n",
       "      <td>690.618472</td>\n",
       "      <td>1.0</td>\n",
       "      <td>7.0</td>\n",
       "      <td>0.427801</td>\n",
       "      <td>12.0</td>\n",
       "      <td>76.330988</td>\n",
       "      <td>5.045532e+10</td>\n",
       "      <td>10.168922</td>\n",
       "    </tr>\n",
       "    <tr>\n",
       "      <th>1</th>\n",
       "      <td>6.314931</td>\n",
       "      <td>0.056578</td>\n",
       "      <td>903.680000</td>\n",
       "      <td>7.635895e+06</td>\n",
       "      <td>0.006211</td>\n",
       "      <td>4.423151e+06</td>\n",
       "      <td>44196.825694</td>\n",
       "      <td>1.0</td>\n",
       "      <td>42.0</td>\n",
       "      <td>0.441701</td>\n",
       "      <td>12.0</td>\n",
       "      <td>76.330988</td>\n",
       "      <td>5.045532e+10</td>\n",
       "      <td>10.168922</td>\n",
       "    </tr>\n",
       "    <tr>\n",
       "      <th>2</th>\n",
       "      <td>9.499113</td>\n",
       "      <td>0.073244</td>\n",
       "      <td>1001.244444</td>\n",
       "      <td>9.543407e+06</td>\n",
       "      <td>0.006211</td>\n",
       "      <td>4.011359e+06</td>\n",
       "      <td>41064.000000</td>\n",
       "      <td>1.0</td>\n",
       "      <td>76.0</td>\n",
       "      <td>0.429230</td>\n",
       "      <td>12.0</td>\n",
       "      <td>13.216667</td>\n",
       "      <td>5.045532e+10</td>\n",
       "      <td>10.329697</td>\n",
       "    </tr>\n",
       "    <tr>\n",
       "      <th>3</th>\n",
       "      <td>6.085528</td>\n",
       "      <td>0.073156</td>\n",
       "      <td>1001.244444</td>\n",
       "      <td>9.533212e+06</td>\n",
       "      <td>0.026095</td>\n",
       "      <td>4.012145e+06</td>\n",
       "      <td>42053.311111</td>\n",
       "      <td>1.0</td>\n",
       "      <td>112.0</td>\n",
       "      <td>0.421655</td>\n",
       "      <td>12.0</td>\n",
       "      <td>13.216667</td>\n",
       "      <td>5.045532e+10</td>\n",
       "      <td>10.329697</td>\n",
       "    </tr>\n",
       "    <tr>\n",
       "      <th>4</th>\n",
       "      <td>9.452724</td>\n",
       "      <td>0.021956</td>\n",
       "      <td>182.044444</td>\n",
       "      <td>2.628813e+06</td>\n",
       "      <td>0.119376</td>\n",
       "      <td>3.909378e+03</td>\n",
       "      <td>3469.288889</td>\n",
       "      <td>1.0</td>\n",
       "      <td>140.0</td>\n",
       "      <td>0.439443</td>\n",
       "      <td>12.0</td>\n",
       "      <td>14.213889</td>\n",
       "      <td>5.045532e+10</td>\n",
       "      <td>10.159327</td>\n",
       "    </tr>\n",
       "  </tbody>\n",
       "</table>\n",
       "</div>"
      ],
      "text/plain": [
       "        cpu    diskio   diskioRead  diskioWritten       mem  networkReceived  \\\n",
       "0  7.452470  0.000129     0.000000   1.484572e+04  0.006211     7.686411e+02   \n",
       "1  6.314931  0.056578   903.680000   7.635895e+06  0.006211     4.423151e+06   \n",
       "2  9.499113  0.073244  1001.244444   9.543407e+06  0.006211     4.011359e+06   \n",
       "3  6.085528  0.073156  1001.244444   9.533212e+06  0.026095     4.012145e+06   \n",
       "4  9.452724  0.021956   182.044444   2.628813e+06  0.119376     3.909378e+03   \n",
       "\n",
       "   networkTransmitted  replica  requests  responsetime  totalcpu  \\\n",
       "0          690.618472      1.0       7.0      0.427801      12.0   \n",
       "1        44196.825694      1.0      42.0      0.441701      12.0   \n",
       "2        41064.000000      1.0      76.0      0.429230      12.0   \n",
       "3        42053.311111      1.0     112.0      0.421655      12.0   \n",
       "4         3469.288889      1.0     140.0      0.439443      12.0   \n",
       "\n",
       "   totalcpuUtilization   totalmemory  totalmemoryUtilization  \n",
       "0            76.330988  5.045532e+10               10.168922  \n",
       "1            76.330988  5.045532e+10               10.168922  \n",
       "2            13.216667  5.045532e+10               10.329697  \n",
       "3            13.216667  5.045532e+10               10.329697  \n",
       "4            14.213889  5.045532e+10               10.159327  "
      ]
     },
     "execution_count": 3,
     "metadata": {},
     "output_type": "execute_result"
    }
   ],
   "source": [
    "cwd = os.getcwd()\n",
    "output_dir = os.path.join(cwd, \"../data\")\n",
    "df = pd.read_csv(os.path.join(output_dir, \"combined_sentimentanalysis.csv\"))\n",
    "df_test = pd.read_csv(os.path.join(output_dir, \"combined_sentimentanalysistest.csv\"))\n",
    "#df_test = pd.read_csv(os.path.join(output_dir, \"figlet1599056546.006096_1599063766.431225.csv\"))\n",
    "df = df.drop(df[df.responsetime > 2].index)\n",
    "df.pop('Time')\n",
    "df_test = df_test.drop(df_test[df_test.responsetime > 2].index)\n",
    "df_test.pop('Time')\n",
    "df.head()"
   ]
  },
  {
   "cell_type": "code",
   "execution_count": 4,
   "metadata": {},
   "outputs": [],
   "source": [
    "df_t = pd.DataFrame()\n",
    "df_ttest = pd.DataFrame()"
   ]
  },
  {
   "cell_type": "code",
   "execution_count": 5,
   "metadata": {},
   "outputs": [
    {
     "data": {
      "text/html": [
       "<div>\n",
       "<style scoped>\n",
       "    .dataframe tbody tr th:only-of-type {\n",
       "        vertical-align: middle;\n",
       "    }\n",
       "\n",
       "    .dataframe tbody tr th {\n",
       "        vertical-align: top;\n",
       "    }\n",
       "\n",
       "    .dataframe thead th {\n",
       "        text-align: right;\n",
       "    }\n",
       "</style>\n",
       "<table border=\"1\" class=\"dataframe\">\n",
       "  <thead>\n",
       "    <tr style=\"text-align: right;\">\n",
       "      <th></th>\n",
       "      <th>total_cpu_util</th>\n",
       "      <th>total_mem_util</th>\n",
       "      <th>responsetime</th>\n",
       "      <th>requests</th>\n",
       "      <th>replica</th>\n",
       "    </tr>\n",
       "  </thead>\n",
       "  <tbody>\n",
       "    <tr>\n",
       "      <th>0</th>\n",
       "      <td>9.159719</td>\n",
       "      <td>513.076211</td>\n",
       "      <td>0.427801</td>\n",
       "      <td>7.0</td>\n",
       "      <td>1.0</td>\n",
       "    </tr>\n",
       "    <tr>\n",
       "      <th>1</th>\n",
       "      <td>9.159719</td>\n",
       "      <td>513.076211</td>\n",
       "      <td>0.441701</td>\n",
       "      <td>42.0</td>\n",
       "      <td>1.0</td>\n",
       "    </tr>\n",
       "    <tr>\n",
       "      <th>2</th>\n",
       "      <td>1.586000</td>\n",
       "      <td>521.188136</td>\n",
       "      <td>0.429230</td>\n",
       "      <td>76.0</td>\n",
       "      <td>1.0</td>\n",
       "    </tr>\n",
       "    <tr>\n",
       "      <th>3</th>\n",
       "      <td>1.586000</td>\n",
       "      <td>521.188136</td>\n",
       "      <td>0.421655</td>\n",
       "      <td>112.0</td>\n",
       "      <td>1.0</td>\n",
       "    </tr>\n",
       "    <tr>\n",
       "      <th>4</th>\n",
       "      <td>1.705667</td>\n",
       "      <td>512.592066</td>\n",
       "      <td>0.439443</td>\n",
       "      <td>140.0</td>\n",
       "      <td>1.0</td>\n",
       "    </tr>\n",
       "  </tbody>\n",
       "</table>\n",
       "</div>"
      ],
      "text/plain": [
       "   total_cpu_util  total_mem_util  responsetime  requests  replica\n",
       "0        9.159719      513.076211      0.427801       7.0      1.0\n",
       "1        9.159719      513.076211      0.441701      42.0      1.0\n",
       "2        1.586000      521.188136      0.429230      76.0      1.0\n",
       "3        1.586000      521.188136      0.421655     112.0      1.0\n",
       "4        1.705667      512.592066      0.439443     140.0      1.0"
      ]
     },
     "execution_count": 5,
     "metadata": {},
     "output_type": "execute_result"
    }
   ],
   "source": [
    "df_t['total_cpu_util'] = (df['totalcpuUtilization']*df['totalcpu'])/100\n",
    "df_t['total_mem_util'] = (df['totalmemoryUtilization']*df['totalmemory'])*1e-9\n",
    "df_t['responsetime'] = df['responsetime']\n",
    "df_t['requests'] = df['requests']\n",
    "df_t['replica'] = df['replica']\n",
    "df_ttest['total_cpu_util'] = (df_test['totalcpuUtilization']*df_test['totalcpu'])/100\n",
    "df_ttest['total_mem_util'] = (df_test['totalmemoryUtilization']*df_test['totalmemory'])*1e-9\n",
    "df_ttest['responsetime'] = df_test['responsetime']\n",
    "df_ttest['requests'] = df_test['requests']\n",
    "df_ttest['replica'] = df_test['replica']\n",
    "df_t.head()"
   ]
  },
  {
   "cell_type": "code",
   "execution_count": 6,
   "metadata": {},
   "outputs": [
    {
     "data": {
      "text/plain": [
       "[<matplotlib.lines.Line2D at 0x7fac278ce9b0>]"
      ]
     },
     "execution_count": 6,
     "metadata": {},
     "output_type": "execute_result"
    },
    {
     "data": {
      "image/png": "[encoded data removed]",
      "text/plain": [
       "<Figure size 432x288 with 1 Axes>"
      ]
     },
     "metadata": {
      "needs_background": "light"
     },
     "output_type": "display_data"
    }
   ],
   "source": [
    "plt.plot(df_t['total_cpu_util'])"
   ]
  },
  {
   "cell_type": "code",
   "execution_count": 7,
   "metadata": {},
   "outputs": [
    {
     "data": {
      "text/plain": [
       "[<matplotlib.lines.Line2D at 0x7fac2783a1d0>]"
      ]
     },
     "execution_count": 7,
     "metadata": {},
     "output_type": "execute_result"
    },
    {
     "data": {
      "image/png": "[encoded data removed]",
      "text/plain": [
       "<Figure size 432x288 with 1 Axes>"
      ]
     },
     "metadata": {
      "needs_background": "light"
     },
     "output_type": "display_data"
    }
   ],
   "source": [
    "plt.plot(df_t['responsetime'])"
   ]
  },
  {
   "cell_type": "code",
   "execution_count": 8,
   "metadata": {},
   "outputs": [
    {
     "data": {
      "text/plain": [
       "[<matplotlib.lines.Line2D at 0x7fac278001d0>]"
      ]
     },
     "execution_count": 8,
     "metadata": {},
     "output_type": "execute_result"
    },
    {
     "data": {
      "image/png": "[encoded data removed]",
      "text/plain": [
       "<Figure size 432x288 with 1 Axes>"
      ]
     },
     "metadata": {
      "needs_background": "light"
     },
     "output_type": "display_data"
    }
   ],
   "source": [
    "plt.plot(df_t['requests'])"
   ]
  },
  {
   "cell_type": "code",
   "execution_count": 9,
   "metadata": {},
   "outputs": [],
   "source": [
    "X_train = df_t[[col for col in df_t.columns if col != 'responsetime']]\n",
    "y_train = df_t['responsetime']\n",
    "X_train = preprocessing.normalize(X_train, norm='l2')\n",
    "X_test = df_ttest[[col for col in df_ttest.columns if col != 'responsetime']]\n",
    "y_test = df_ttest['responsetime']\n",
    "X_test = preprocessing.normalize(X_test, norm='l2')"
   ]
  },
  {
   "cell_type": "code",
   "execution_count": 10,
   "metadata": {},
   "outputs": [],
   "source": [
    "from sklearn.model_selection import cross_val_score\n",
    "# function to get cross validation scores\n",
    "def get_cv_scores(model):\n",
    "    scores = cross_val_score(model,\n",
    "                             X_train,\n",
    "                             y_train,\n",
    "                             cv=7,\n",
    "                             scoring='r2')\n",
    "    \n",
    "    print('CV Mean: ', np.mean(scores))\n",
    "    print('STD: ', np.std(scores))\n",
    "    print('\\n')"
   ]
  },
  {
   "cell_type": "markdown",
   "metadata": {},
   "source": [
    "# fitting the linear regression model to the dataset"
   ]
  },
  {
   "cell_type": "code",
   "execution_count": 11,
   "metadata": {},
   "outputs": [
    {
     "name": "stdout",
     "output_type": "stream",
     "text": [
      "CV Mean:  0.10642641387345507\n",
      "STD:  0.1996879327148941\n",
      "\n",
      "\n"
     ]
    }
   ],
   "source": [
    "from sklearn.linear_model import LinearRegression\n",
    "lin_reg=LinearRegression()\n",
    "lin_reg.fit(X_train,y_train)\n",
    "get_cv_scores(lin_reg)"
   ]
  },
  {
   "cell_type": "markdown",
   "metadata": {},
   "source": [
    "# fitting the polynomial regression model to the dataset"
   ]
  },
  {
   "cell_type": "code",
   "execution_count": 12,
   "metadata": {},
   "outputs": [
    {
     "name": "stdout",
     "output_type": "stream",
     "text": [
      "CV Mean:  0.10642641387345507\n",
      "STD:  0.1996879327148941\n",
      "\n",
      "\n"
     ]
    }
   ],
   "source": [
    "from sklearn.preprocessing import PolynomialFeatures\n",
    "poly_reg=PolynomialFeatures(degree=4) # plot from 2 to 5 \n",
    "X_poly=poly_reg.fit_transform(X_train)\n",
    "poly_reg.fit(X_poly,y_train)\n",
    "lin_reg2=LinearRegression()\n",
    "lin_reg2.fit(X_poly,y_train)\n",
    "get_cv_scores(lin_reg2)"
   ]
  },
  {
   "cell_type": "code",
   "execution_count": 13,
   "metadata": {},
   "outputs": [
    {
     "data": {
      "image/png": "[encoded data removed]",
      "text/plain": [
       "<Figure size 432x288 with 1 Axes>"
      ]
     },
     "metadata": {
      "needs_background": "light"
     },
     "output_type": "display_data"
    },
    {
     "name": "stdout",
     "output_type": "stream",
     "text": [
      "R² : -0.1428303032935474\n"
     ]
    }
   ],
   "source": [
    "#plt.scatter(X,y,color='red')\n",
    "y_perd= lin_reg.predict(X_test)\n",
    "plt.scatter(range(0,len(y_test)),y_test,color='red')\n",
    "plt.scatter(range(0,len(y_perd)),y_perd,color='blue')\n",
    "plt.show()\n",
    "from sklearn.metrics import r2_score, f1_score\n",
    "R = r2_score(y_test, y_perd)\n",
    "print ('R² :',R)"
   ]
  },
  {
   "cell_type": "code",
   "execution_count": 14,
   "metadata": {},
   "outputs": [
    {
     "data": {
      "image/png": "[encoded data removed]",
      "text/plain": [
       "<Figure size 432x288 with 1 Axes>"
      ]
     },
     "metadata": {
      "needs_background": "light"
     },
     "output_type": "display_data"
    },
    {
     "name": "stdout",
     "output_type": "stream",
     "text": [
      "R² : -4.710549488375964\n"
     ]
    }
   ],
   "source": [
    "# plt.scatter(X,y,color='red')\n",
    "y_perd= lin_reg2.predict(poly_reg.fit_transform(X_test))\n",
    "plt.scatter(range(0,len(y_test)),y_test,color='red')\n",
    "plt.scatter(range(0,len(y_perd)),y_perd,color='blue')\n",
    "plt.show()\n",
    "from sklearn.metrics import r2_score\n",
    "R = r2_score(y_test, y_perd)\n",
    "print ('R² :',R)"
   ]
  },
  {
   "cell_type": "markdown",
   "metadata": {},
   "source": [
    "# sklearn.neural_network.MLPRegressor"
   ]
  },
  {
   "cell_type": "code",
   "execution_count": 15,
   "metadata": {},
   "outputs": [
    {
     "name": "stdout",
     "output_type": "stream",
     "text": [
      "{'activation': 'relu', 'alpha': 0.0001, 'batch_size': 'auto', 'beta_1': 0.9, 'beta_2': 0.999, 'early_stopping': False, 'epsilon': 1e-08, 'hidden_layer_sizes': (100,), 'learning_rate': 'constant', 'learning_rate_init': 0.001, 'max_fun': 15000, 'max_iter': 500, 'momentum': 0.9, 'n_iter_no_change': 10, 'nesterovs_momentum': True, 'power_t': 0.5, 'random_state': 1, 'shuffle': True, 'solver': 'adam', 'tol': 0.0001, 'validation_fraction': 0.1, 'verbose': False, 'warm_start': False}\n"
     ]
    },
    {
     "data": {
      "image/png": "[encoded data removed]",
      "text/plain": [
       "<Figure size 432x288 with 1 Axes>"
      ]
     },
     "metadata": {
      "needs_background": "light"
     },
     "output_type": "display_data"
    },
    {
     "name": "stdout",
     "output_type": "stream",
     "text": [
      "-0.13457945687497874\n",
      "R² : -0.13457945687497874\n"
     ]
    }
   ],
   "source": [
    "from sklearn.neural_network import MLPRegressor\n",
    "\n",
    "regr = MLPRegressor(random_state=1, max_iter=500).fit(X_train, y_train)\n",
    "\n",
    "#y_perd = regr.predict(X_eval)\n",
    "#plt.scatter(range(0,len(y_perd)),y_perd,color='blue')\n",
    "#plt.scatter(range(0,len(y_test)),y_test,color='red')\n",
    "#plt.show()\n",
    "#print(regr.score(X_eval, y_eval))\n",
    "\n",
    "print(regr.get_params(deep=True))\n",
    "\n",
    "y_perd = regr.predict(X_test)\n",
    "plt.scatter(range(0,len(y_test)),y_test,color='red')\n",
    "plt.scatter(range(0,len(y_perd)),y_perd,color='blue')\n",
    "plt.show()\n",
    "print(regr.score(X_test, y_test))\n",
    "from sklearn.metrics import r2_score\n",
    "R = r2_score(y_test, y_perd)\n",
    "print ('R² :',R)"
   ]
  },
  {
   "cell_type": "code",
   "execution_count": 16,
   "metadata": {},
   "outputs": [
    {
     "name": "stdout",
     "output_type": "stream",
     "text": [
      "{'activation': 'relu', 'alpha': 0.0001, 'batch_size': 50, 'beta_1': 0.9, 'beta_2': 0.999, 'early_stopping': False, 'epsilon': 1e-08, 'hidden_layer_sizes': (100,), 'learning_rate': 'constant', 'learning_rate_init': 0.001, 'max_fun': 15000, 'max_iter': 1000, 'momentum': 0.9, 'n_iter_no_change': 10, 'nesterovs_momentum': True, 'power_t': 0.5, 'random_state': 10, 'shuffle': True, 'solver': 'adam', 'tol': 0.0001, 'validation_fraction': 0.1, 'verbose': False, 'warm_start': False}\n"
     ]
    },
    {
     "data": {
      "image/png": "[encoded data removed]",
      "text/plain": [
       "<Figure size 432x288 with 1 Axes>"
      ]
     },
     "metadata": {
      "needs_background": "light"
     },
     "output_type": "display_data"
    },
    {
     "name": "stdout",
     "output_type": "stream",
     "text": [
      "-0.1506404066833864\n",
      "R² : -0.1506404066833864\n"
     ]
    }
   ],
   "source": [
    "from sklearn.neural_network import MLPRegressor\n",
    "\n",
    "regr = MLPRegressor(random_state=10, max_iter=1000, batch_size=50).fit(X_train, y_train)\n",
    "\n",
    "#y_perd = regr.predict(X_eval)\n",
    "#plt.scatter(range(0,len(y_perd)),y_perd,color='blue')\n",
    "#plt.scatter(range(0,len(y_test)),y_test,color='red')\n",
    "#plt.show()\n",
    "#print(regr.score(X_eval, y_eval))\n",
    "\n",
    "print(regr.get_params(deep=True))\n",
    "\n",
    "y_perd = regr.predict(X_test)\n",
    "plt.scatter(range(0,len(y_test)),y_test,color='red')\n",
    "plt.scatter(range(0,len(y_perd)),y_perd,color='blue')\n",
    "plt.show()\n",
    "print(regr.score(X_test, y_test))\n",
    "from sklearn.metrics import r2_score\n",
    "R = r2_score(y_test, y_perd)\n",
    "print ('R² :',R)"
   ]
  },
  {
   "cell_type": "code",
   "execution_count": null,
   "metadata": {},
   "outputs": [],
   "source": []
  }
 ],
 "metadata": {
  "kernelspec": {
   "display_name": "Python 3",
   "language": "python",
   "name": "python3"
  },
  "language_info": {
   "codemirror_mode": {
    "name": "ipython",
    "version": 3
   },
   "file_extension": ".py",
   "mimetype": "text/x-python",
   "name": "python",
   "nbconvert_exporter": "python",
   "pygments_lexer": "ipython3",
   "version": "3.6.9"
  }
 },
 "nbformat": 4,
 "nbformat_minor": 4
}
