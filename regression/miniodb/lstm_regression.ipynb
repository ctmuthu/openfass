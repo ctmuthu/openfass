{
 "cells": [
  {
   "cell_type": "code",
   "execution_count": 1,
   "metadata": {},
   "outputs": [],
   "source": [
    "import os\n",
    "import datetime\n",
    "import matplotlib.pyplot as plt\n",
    "import numpy as np\n",
    "import pandas as pd\n",
    "import seaborn as sns\n",
    "# Make numpy printouts easier to read.\n",
    "np.set_printoptions(precision=3, suppress=True)\n",
    "import tensorflow as tf\n",
    "\n",
    "from tensorflow import keras\n",
    "from tensorflow.keras import layers\n",
    "from tensorflow.keras.layers.experimental import preprocessing"
   ]
  },
  {
   "cell_type": "code",
   "execution_count": 2,
   "metadata": {},
   "outputs": [
    {
     "data": {
      "text/html": [
       "<div>\n",
       "<style scoped>\n",
       "    .dataframe tbody tr th:only-of-type {\n",
       "        vertical-align: middle;\n",
       "    }\n",
       "\n",
       "    .dataframe tbody tr th {\n",
       "        vertical-align: top;\n",
       "    }\n",
       "\n",
       "    .dataframe thead th {\n",
       "        text-align: right;\n",
       "    }\n",
       "</style>\n",
       "<table border=\"1\" class=\"dataframe\">\n",
       "  <thead>\n",
       "    <tr style=\"text-align: right;\">\n",
       "      <th></th>\n",
       "      <th>cpu</th>\n",
       "      <th>diskio</th>\n",
       "      <th>diskioRead</th>\n",
       "      <th>diskioWritten</th>\n",
       "      <th>mem</th>\n",
       "      <th>networkReceived</th>\n",
       "      <th>networkTransmitted</th>\n",
       "      <th>replica</th>\n",
       "      <th>requests</th>\n",
       "      <th>responsetime</th>\n",
       "      <th>totalcpu</th>\n",
       "      <th>totalcpuUtilization</th>\n",
       "      <th>totalmemory</th>\n",
       "      <th>totalmemoryUtilization</th>\n",
       "    </tr>\n",
       "  </thead>\n",
       "  <tbody>\n",
       "    <tr>\n",
       "      <th>0</th>\n",
       "      <td>0.003067</td>\n",
       "      <td>0.009778</td>\n",
       "      <td>0.0</td>\n",
       "      <td>62623.288889</td>\n",
       "      <td>0.004166</td>\n",
       "      <td>1470.377778</td>\n",
       "      <td>11168.111111</td>\n",
       "      <td>1.0</td>\n",
       "      <td>11.0</td>\n",
       "      <td>0.975484</td>\n",
       "      <td>24.0</td>\n",
       "      <td>2.337500</td>\n",
       "      <td>1.011896e+11</td>\n",
       "      <td>5.927541</td>\n",
       "    </tr>\n",
       "    <tr>\n",
       "      <th>1</th>\n",
       "      <td>0.259077</td>\n",
       "      <td>0.010044</td>\n",
       "      <td>0.0</td>\n",
       "      <td>64625.777778</td>\n",
       "      <td>0.025773</td>\n",
       "      <td>1462.133333</td>\n",
       "      <td>10695.822222</td>\n",
       "      <td>1.0</td>\n",
       "      <td>26.0</td>\n",
       "      <td>0.984795</td>\n",
       "      <td>24.0</td>\n",
       "      <td>2.337500</td>\n",
       "      <td>1.011896e+11</td>\n",
       "      <td>5.927541</td>\n",
       "    </tr>\n",
       "    <tr>\n",
       "      <th>2</th>\n",
       "      <td>0.414789</td>\n",
       "      <td>0.009778</td>\n",
       "      <td>0.0</td>\n",
       "      <td>63624.533333</td>\n",
       "      <td>0.025773</td>\n",
       "      <td>1693.177778</td>\n",
       "      <td>11801.533333</td>\n",
       "      <td>1.0</td>\n",
       "      <td>41.0</td>\n",
       "      <td>0.959531</td>\n",
       "      <td>24.0</td>\n",
       "      <td>3.061111</td>\n",
       "      <td>1.011896e+11</td>\n",
       "      <td>5.795086</td>\n",
       "    </tr>\n",
       "    <tr>\n",
       "      <th>3</th>\n",
       "      <td>1.086331</td>\n",
       "      <td>0.012089</td>\n",
       "      <td>0.0</td>\n",
       "      <td>60256.711111</td>\n",
       "      <td>0.018704</td>\n",
       "      <td>1706.288889</td>\n",
       "      <td>10612.777778</td>\n",
       "      <td>1.0</td>\n",
       "      <td>57.0</td>\n",
       "      <td>0.944408</td>\n",
       "      <td>24.0</td>\n",
       "      <td>3.061111</td>\n",
       "      <td>1.011896e+11</td>\n",
       "      <td>5.795086</td>\n",
       "    </tr>\n",
       "    <tr>\n",
       "      <th>4</th>\n",
       "      <td>1.505856</td>\n",
       "      <td>0.011911</td>\n",
       "      <td>0.0</td>\n",
       "      <td>60256.711111</td>\n",
       "      <td>0.018704</td>\n",
       "      <td>1940.933333</td>\n",
       "      <td>11811.822222</td>\n",
       "      <td>1.0</td>\n",
       "      <td>61.0</td>\n",
       "      <td>0.955360</td>\n",
       "      <td>24.0</td>\n",
       "      <td>4.214100</td>\n",
       "      <td>1.011896e+11</td>\n",
       "      <td>5.769857</td>\n",
       "    </tr>\n",
       "  </tbody>\n",
       "</table>\n",
       "</div>"
      ],
      "text/plain": [
       "        cpu    diskio  diskioRead  diskioWritten       mem  networkReceived  \\\n",
       "0  0.003067  0.009778         0.0   62623.288889  0.004166      1470.377778   \n",
       "1  0.259077  0.010044         0.0   64625.777778  0.025773      1462.133333   \n",
       "2  0.414789  0.009778         0.0   63624.533333  0.025773      1693.177778   \n",
       "3  1.086331  0.012089         0.0   60256.711111  0.018704      1706.288889   \n",
       "4  1.505856  0.011911         0.0   60256.711111  0.018704      1940.933333   \n",
       "\n",
       "   networkTransmitted  replica  requests  responsetime  totalcpu  \\\n",
       "0        11168.111111      1.0      11.0      0.975484      24.0   \n",
       "1        10695.822222      1.0      26.0      0.984795      24.0   \n",
       "2        11801.533333      1.0      41.0      0.959531      24.0   \n",
       "3        10612.777778      1.0      57.0      0.944408      24.0   \n",
       "4        11811.822222      1.0      61.0      0.955360      24.0   \n",
       "\n",
       "   totalcpuUtilization   totalmemory  totalmemoryUtilization  \n",
       "0             2.337500  1.011896e+11                5.927541  \n",
       "1             2.337500  1.011896e+11                5.927541  \n",
       "2             3.061111  1.011896e+11                5.795086  \n",
       "3             3.061111  1.011896e+11                5.795086  \n",
       "4             4.214100  1.011896e+11                5.769857  "
      ]
     },
     "execution_count": 2,
     "metadata": {},
     "output_type": "execute_result"
    }
   ],
   "source": [
    "cwd = os.getcwd()\n",
    "output_dir = os.path.join(cwd, \"../../data\")\n",
    "df = pd.read_csv(os.path.join(output_dir, \"combined_miniodb.csv\"))\n",
    "df_test = pd.read_csv(os.path.join(output_dir, \"combined_miniodbtest.csv\"))\n",
    "#df_test = pd.read_csv(os.path.join(output_dir, \"figlet1599056546.006096_1599063766.431225.csv\"))\n",
    "df = df.drop(df[df.responsetime > 5].index)\n",
    "df.pop('Time')\n",
    "df_test = df_test.drop(df_test[df_test.responsetime > 5].index)\n",
    "df_test.pop('Time')\n",
    "df.head()"
   ]
  },
  {
   "cell_type": "code",
   "execution_count": 3,
   "metadata": {},
   "outputs": [],
   "source": [
    "# remove 2xlarge\n",
    "df = df.drop(df[df.totalcpu > 16].index)"
   ]
  },
  {
   "cell_type": "code",
   "execution_count": 4,
   "metadata": {},
   "outputs": [],
   "source": [
    "df_t = pd.DataFrame()\n",
    "df_ttest = pd.DataFrame()"
   ]
  },
  {
   "cell_type": "code",
   "execution_count": 5,
   "metadata": {},
   "outputs": [
    {
     "data": {
      "text/html": [
       "<div>\n",
       "<style scoped>\n",
       "    .dataframe tbody tr th:only-of-type {\n",
       "        vertical-align: middle;\n",
       "    }\n",
       "\n",
       "    .dataframe tbody tr th {\n",
       "        vertical-align: top;\n",
       "    }\n",
       "\n",
       "    .dataframe thead th {\n",
       "        text-align: right;\n",
       "    }\n",
       "</style>\n",
       "<table border=\"1\" class=\"dataframe\">\n",
       "  <thead>\n",
       "    <tr style=\"text-align: right;\">\n",
       "      <th></th>\n",
       "      <th>total_cpu_util</th>\n",
       "      <th>total_mem_util</th>\n",
       "      <th>responsetime</th>\n",
       "      <th>requests</th>\n",
       "    </tr>\n",
       "  </thead>\n",
       "  <tbody>\n",
       "    <tr>\n",
       "      <th>460</th>\n",
       "      <td>0.413613</td>\n",
       "      <td>497.947238</td>\n",
       "      <td>0.962448</td>\n",
       "      <td>11.0</td>\n",
       "    </tr>\n",
       "    <tr>\n",
       "      <th>461</th>\n",
       "      <td>0.413613</td>\n",
       "      <td>497.947238</td>\n",
       "      <td>0.952769</td>\n",
       "      <td>26.0</td>\n",
       "    </tr>\n",
       "    <tr>\n",
       "      <th>462</th>\n",
       "      <td>0.450463</td>\n",
       "      <td>499.714253</td>\n",
       "      <td>0.974892</td>\n",
       "      <td>42.0</td>\n",
       "    </tr>\n",
       "    <tr>\n",
       "      <th>463</th>\n",
       "      <td>0.450463</td>\n",
       "      <td>499.714253</td>\n",
       "      <td>0.951142</td>\n",
       "      <td>57.0</td>\n",
       "    </tr>\n",
       "    <tr>\n",
       "      <th>464</th>\n",
       "      <td>0.632927</td>\n",
       "      <td>499.421798</td>\n",
       "      <td>0.986462</td>\n",
       "      <td>61.0</td>\n",
       "    </tr>\n",
       "  </tbody>\n",
       "</table>\n",
       "</div>"
      ],
      "text/plain": [
       "     total_cpu_util  total_mem_util  responsetime  requests\n",
       "460        0.413613      497.947238      0.962448      11.0\n",
       "461        0.413613      497.947238      0.952769      26.0\n",
       "462        0.450463      499.714253      0.974892      42.0\n",
       "463        0.450463      499.714253      0.951142      57.0\n",
       "464        0.632927      499.421798      0.986462      61.0"
      ]
     },
     "execution_count": 5,
     "metadata": {},
     "output_type": "execute_result"
    }
   ],
   "source": [
    "df_t['total_cpu_util'] = (df['totalcpuUtilization']*(df['totalcpu']*0.67))/100                    \n",
    "df_t['total_mem_util'] = (df['totalmemoryUtilization']*df['totalmemory'])*1e-9\n",
    "df_t['responsetime'] = df['responsetime']\n",
    "df_t['requests'] = df['requests']\n",
    "#df_t['replica'] = df['replica']\n",
    "df_ttest['total_cpu_util'] = (df_test['totalcpuUtilization']*(df_test['totalcpu']*0.67))/100\n",
    "df_ttest['total_mem_util'] = (df_test['totalmemoryUtilization']*df_test['totalmemory'])*1e-9\n",
    "df_ttest['responsetime'] = df_test['responsetime']\n",
    "df_ttest['requests'] = df_test['requests']\n",
    "#df_ttest['replica'] = df_test['replica']\n",
    "df_t.head()"
   ]
  },
  {
   "cell_type": "code",
   "execution_count": 6,
   "metadata": {},
   "outputs": [
    {
     "data": {
      "text/plain": [
       "[<matplotlib.lines.Line2D at 0x7f1f9db942b0>]"
      ]
     },
     "execution_count": 6,
     "metadata": {},
     "output_type": "execute_result"
    },
    {
     "data": {
      "image/png": "[encoded data removed]",
      "text/plain": [
       "<Figure size 432x288 with 1 Axes>"
      ]
     },
     "metadata": {
      "needs_background": "light"
     },
     "output_type": "display_data"
    }
   ],
   "source": [
    "plt.plot(df_t['responsetime'])"
   ]
  },
  {
   "cell_type": "code",
   "execution_count": 7,
   "metadata": {},
   "outputs": [
    {
     "data": {
      "text/html": [
       "<div>\n",
       "<style scoped>\n",
       "    .dataframe tbody tr th:only-of-type {\n",
       "        vertical-align: middle;\n",
       "    }\n",
       "\n",
       "    .dataframe tbody tr th {\n",
       "        vertical-align: top;\n",
       "    }\n",
       "\n",
       "    .dataframe thead th {\n",
       "        text-align: right;\n",
       "    }\n",
       "</style>\n",
       "<table border=\"1\" class=\"dataframe\">\n",
       "  <thead>\n",
       "    <tr style=\"text-align: right;\">\n",
       "      <th></th>\n",
       "      <th>total_cpu_util</th>\n",
       "      <th>total_mem_util</th>\n",
       "      <th>responsetime</th>\n",
       "      <th>requests</th>\n",
       "    </tr>\n",
       "  </thead>\n",
       "  <tbody>\n",
       "    <tr>\n",
       "      <th>2740</th>\n",
       "      <td>3.096766</td>\n",
       "      <td>586.417766</td>\n",
       "      <td>1.808856</td>\n",
       "      <td>606.0</td>\n",
       "    </tr>\n",
       "    <tr>\n",
       "      <th>2741</th>\n",
       "      <td>3.089141</td>\n",
       "      <td>582.841344</td>\n",
       "      <td>3.649269</td>\n",
       "      <td>606.0</td>\n",
       "    </tr>\n",
       "    <tr>\n",
       "      <th>2742</th>\n",
       "      <td>3.089141</td>\n",
       "      <td>582.841344</td>\n",
       "      <td>1.720043</td>\n",
       "      <td>604.0</td>\n",
       "    </tr>\n",
       "    <tr>\n",
       "      <th>2743</th>\n",
       "      <td>3.106525</td>\n",
       "      <td>582.632448</td>\n",
       "      <td>2.502394</td>\n",
       "      <td>606.0</td>\n",
       "    </tr>\n",
       "    <tr>\n",
       "      <th>2744</th>\n",
       "      <td>3.106525</td>\n",
       "      <td>582.632448</td>\n",
       "      <td>1.555946</td>\n",
       "      <td>608.0</td>\n",
       "    </tr>\n",
       "  </tbody>\n",
       "</table>\n",
       "</div>"
      ],
      "text/plain": [
       "      total_cpu_util  total_mem_util  responsetime  requests\n",
       "2740        3.096766      586.417766      1.808856     606.0\n",
       "2741        3.089141      582.841344      3.649269     606.0\n",
       "2742        3.089141      582.841344      1.720043     604.0\n",
       "2743        3.106525      582.632448      2.502394     606.0\n",
       "2744        3.106525      582.632448      1.555946     608.0"
      ]
     },
     "execution_count": 7,
     "metadata": {},
     "output_type": "execute_result"
    }
   ],
   "source": [
    "df_t.tail()"
   ]
  },
  {
   "cell_type": "code",
   "execution_count": 8,
   "metadata": {},
   "outputs": [],
   "source": [
    "df_t = pd.get_dummies(df_t, prefix='', prefix_sep='')"
   ]
  },
  {
   "cell_type": "code",
   "execution_count": 9,
   "metadata": {},
   "outputs": [
    {
     "data": {
      "text/plain": [
       "(667, 4)"
      ]
     },
     "execution_count": 9,
     "metadata": {},
     "output_type": "execute_result"
    }
   ],
   "source": [
    "df_t.shape"
   ]
  },
  {
   "cell_type": "code",
   "execution_count": 10,
   "metadata": {},
   "outputs": [],
   "source": [
    "train_dataset = df_t.sample(frac=0.8, random_state=0)\n",
    "val_dataset = df_t.drop(train_dataset.index)\n",
    "test_dataset = df_ttest"
   ]
  },
  {
   "cell_type": "code",
   "execution_count": 11,
   "metadata": {},
   "outputs": [
    {
     "data": {
      "text/plain": [
       "<seaborn.axisgrid.PairGrid at 0x7f1f9db40550>"
      ]
     },
     "execution_count": 11,
     "metadata": {},
     "output_type": "execute_result"
    },
    {
     "data": {
      "image/png": "[encoded data removed]",
      "text/plain": [
       "<Figure size 720x720 with 20 Axes>"
      ]
     },
     "metadata": {
      "needs_background": "light"
     },
     "output_type": "display_data"
    }
   ],
   "source": [
    "sns.pairplot(train_dataset[['total_cpu_util', 'total_mem_util', 'responsetime', 'requests']], diag_kind='kde')"
   ]
  },
  {
   "cell_type": "code",
   "execution_count": 12,
   "metadata": {},
   "outputs": [
    {
     "data": {
      "text/html": [
       "<div>\n",
       "<style scoped>\n",
       "    .dataframe tbody tr th:only-of-type {\n",
       "        vertical-align: middle;\n",
       "    }\n",
       "\n",
       "    .dataframe tbody tr th {\n",
       "        vertical-align: top;\n",
       "    }\n",
       "\n",
       "    .dataframe thead th {\n",
       "        text-align: right;\n",
       "    }\n",
       "</style>\n",
       "<table border=\"1\" class=\"dataframe\">\n",
       "  <thead>\n",
       "    <tr style=\"text-align: right;\">\n",
       "      <th></th>\n",
       "      <th>count</th>\n",
       "      <th>mean</th>\n",
       "      <th>std</th>\n",
       "      <th>min</th>\n",
       "      <th>25%</th>\n",
       "      <th>50%</th>\n",
       "      <th>75%</th>\n",
       "      <th>max</th>\n",
       "    </tr>\n",
       "  </thead>\n",
       "  <tbody>\n",
       "    <tr>\n",
       "      <th>total_cpu_util</th>\n",
       "      <td>534.0</td>\n",
       "      <td>3.066378</td>\n",
       "      <td>1.708932</td>\n",
       "      <td>0.320483</td>\n",
       "      <td>1.581870</td>\n",
       "      <td>2.967095</td>\n",
       "      <td>4.169659</td>\n",
       "      <td>7.939723</td>\n",
       "    </tr>\n",
       "    <tr>\n",
       "      <th>total_mem_util</th>\n",
       "      <td>534.0</td>\n",
       "      <td>539.073233</td>\n",
       "      <td>61.621459</td>\n",
       "      <td>445.255070</td>\n",
       "      <td>491.830886</td>\n",
       "      <td>523.818981</td>\n",
       "      <td>591.755356</td>\n",
       "      <td>672.068198</td>\n",
       "    </tr>\n",
       "    <tr>\n",
       "      <th>responsetime</th>\n",
       "      <td>534.0</td>\n",
       "      <td>1.469717</td>\n",
       "      <td>0.612843</td>\n",
       "      <td>0.942699</td>\n",
       "      <td>1.001953</td>\n",
       "      <td>1.198480</td>\n",
       "      <td>1.802157</td>\n",
       "      <td>4.360729</td>\n",
       "    </tr>\n",
       "    <tr>\n",
       "      <th>requests</th>\n",
       "      <td>534.0</td>\n",
       "      <td>622.237828</td>\n",
       "      <td>364.983581</td>\n",
       "      <td>10.000000</td>\n",
       "      <td>343.000000</td>\n",
       "      <td>592.500000</td>\n",
       "      <td>820.500000</td>\n",
       "      <td>1586.000000</td>\n",
       "    </tr>\n",
       "  </tbody>\n",
       "</table>\n",
       "</div>"
      ],
      "text/plain": [
       "                count        mean         std         min         25%  \\\n",
       "total_cpu_util  534.0    3.066378    1.708932    0.320483    1.581870   \n",
       "total_mem_util  534.0  539.073233   61.621459  445.255070  491.830886   \n",
       "responsetime    534.0    1.469717    0.612843    0.942699    1.001953   \n",
       "requests        534.0  622.237828  364.983581   10.000000  343.000000   \n",
       "\n",
       "                       50%         75%          max  \n",
       "total_cpu_util    2.967095    4.169659     7.939723  \n",
       "total_mem_util  523.818981  591.755356   672.068198  \n",
       "responsetime      1.198480    1.802157     4.360729  \n",
       "requests        592.500000  820.500000  1586.000000  "
      ]
     },
     "execution_count": 12,
     "metadata": {},
     "output_type": "execute_result"
    }
   ],
   "source": [
    "train_dataset.describe().transpose()"
   ]
  },
  {
   "cell_type": "code",
   "execution_count": 13,
   "metadata": {},
   "outputs": [],
   "source": [
    "train_features = train_dataset.copy()\n",
    "val_features = val_dataset.copy()\n",
    "test_features = test_dataset.copy()"
   ]
  },
  {
   "cell_type": "code",
   "execution_count": 14,
   "metadata": {},
   "outputs": [
    {
     "data": {
      "text/html": [
       "<div>\n",
       "<style scoped>\n",
       "    .dataframe tbody tr th:only-of-type {\n",
       "        vertical-align: middle;\n",
       "    }\n",
       "\n",
       "    .dataframe tbody tr th {\n",
       "        vertical-align: top;\n",
       "    }\n",
       "\n",
       "    .dataframe thead th {\n",
       "        text-align: right;\n",
       "    }\n",
       "</style>\n",
       "<table border=\"1\" class=\"dataframe\">\n",
       "  <thead>\n",
       "    <tr style=\"text-align: right;\">\n",
       "      <th></th>\n",
       "      <th>total_cpu_util</th>\n",
       "      <th>total_mem_util</th>\n",
       "      <th>responsetime</th>\n",
       "      <th>requests</th>\n",
       "    </tr>\n",
       "  </thead>\n",
       "  <tbody>\n",
       "    <tr>\n",
       "      <th>2368</th>\n",
       "      <td>4.186607</td>\n",
       "      <td>585.440827</td>\n",
       "      <td>2.313604</td>\n",
       "      <td>809.0</td>\n",
       "    </tr>\n",
       "    <tr>\n",
       "      <th>1433</th>\n",
       "      <td>2.807295</td>\n",
       "      <td>518.857097</td>\n",
       "      <td>1.410276</td>\n",
       "      <td>533.0</td>\n",
       "    </tr>\n",
       "    <tr>\n",
       "      <th>474</th>\n",
       "      <td>0.996737</td>\n",
       "      <td>503.174554</td>\n",
       "      <td>0.982432</td>\n",
       "      <td>165.0</td>\n",
       "    </tr>\n",
       "    <tr>\n",
       "      <th>2330</th>\n",
       "      <td>3.756690</td>\n",
       "      <td>529.188826</td>\n",
       "      <td>1.660606</td>\n",
       "      <td>747.0</td>\n",
       "    </tr>\n",
       "    <tr>\n",
       "      <th>536</th>\n",
       "      <td>4.645402</td>\n",
       "      <td>592.766362</td>\n",
       "      <td>1.063196</td>\n",
       "      <td>1001.0</td>\n",
       "    </tr>\n",
       "  </tbody>\n",
       "</table>\n",
       "</div>"
      ],
      "text/plain": [
       "      total_cpu_util  total_mem_util  responsetime  requests\n",
       "2368        4.186607      585.440827      2.313604     809.0\n",
       "1433        2.807295      518.857097      1.410276     533.0\n",
       "474         0.996737      503.174554      0.982432     165.0\n",
       "2330        3.756690      529.188826      1.660606     747.0\n",
       "536         4.645402      592.766362      1.063196    1001.0"
      ]
     },
     "execution_count": 14,
     "metadata": {},
     "output_type": "execute_result"
    }
   ],
   "source": [
    "train_features.head()"
   ]
  },
  {
   "cell_type": "code",
   "execution_count": 15,
   "metadata": {},
   "outputs": [],
   "source": [
    "train_labels = train_features.pop('requests')\n",
    "val_labels = val_features.pop('requests')\n",
    "test_labels = test_features.pop('requests')"
   ]
  },
  {
   "cell_type": "code",
   "execution_count": 16,
   "metadata": {},
   "outputs": [
    {
     "data": {
      "text/plain": [
       "2368     809.0\n",
       "1433     533.0\n",
       "474      165.0\n",
       "2330     747.0\n",
       "536     1001.0\n",
       "Name: requests, dtype: float64"
      ]
     },
     "execution_count": 16,
     "metadata": {},
     "output_type": "execute_result"
    }
   ],
   "source": [
    "train_labels.head()"
   ]
  },
  {
   "cell_type": "code",
   "execution_count": 17,
   "metadata": {},
   "outputs": [],
   "source": [
    "normalizer = preprocessing.Normalization()"
   ]
  },
  {
   "cell_type": "code",
   "execution_count": 18,
   "metadata": {},
   "outputs": [],
   "source": [
    "normalizer.adapt(np.array(train_features))"
   ]
  },
  {
   "cell_type": "code",
   "execution_count": 19,
   "metadata": {},
   "outputs": [
    {
     "name": "stdout",
     "output_type": "stream",
     "text": [
      "[  3.066 539.073   1.47 ]\n"
     ]
    }
   ],
   "source": [
    "print(normalizer.mean.numpy())"
   ]
  },
  {
   "cell_type": "markdown",
   "metadata": {},
   "source": [
    "## Linear Regression"
   ]
  },
  {
   "cell_type": "code",
   "execution_count": 20,
   "metadata": {},
   "outputs": [],
   "source": [
    "input = np.array(train_features[['total_cpu_util', 'total_mem_util', 'responsetime']])\n",
    "\n",
    "input_normalizer = preprocessing.Normalization(input_shape=[3,])\n",
    "input_normalizer.adapt(input)"
   ]
  },
  {
   "cell_type": "code",
   "execution_count": 21,
   "metadata": {},
   "outputs": [
    {
     "name": "stdout",
     "output_type": "stream",
     "text": [
      "Model: \"sequential\"\n",
      "_________________________________________________________________\n",
      "Layer (type)                 Output Shape              Param #   \n",
      "=================================================================\n",
      "normalization_1 (Normalizati (None, 3)                 7         \n",
      "_________________________________________________________________\n",
      "dense (Dense)                (None, 1)                 4         \n",
      "=================================================================\n",
      "Total params: 11\n",
      "Trainable params: 4\n",
      "Non-trainable params: 7\n",
      "_________________________________________________________________\n"
     ]
    }
   ],
   "source": [
    "model = tf.keras.Sequential([\n",
    "    input_normalizer,\n",
    "    layers.Dense(units=1)\n",
    "])\n",
    "model.summary()"
   ]
  },
  {
   "cell_type": "code",
   "execution_count": 22,
   "metadata": {},
   "outputs": [
    {
     "data": {
      "text/plain": [
       "array([[-0.893],\n",
       "       [-0.895],\n",
       "       [-0.914],\n",
       "       [-0.874],\n",
       "       [-0.87 ],\n",
       "       [-0.849],\n",
       "       [-0.834],\n",
       "       [-0.839],\n",
       "       [-0.84 ],\n",
       "       [-0.849],\n",
       "       [-0.851],\n",
       "       [-0.799],\n",
       "       [-0.503],\n",
       "       [-0.452],\n",
       "       [-0.449],\n",
       "       [-0.455],\n",
       "       [-0.457],\n",
       "       [-0.348],\n",
       "       [-0.375],\n",
       "       [-0.363],\n",
       "       [-0.365],\n",
       "       [-0.181],\n",
       "       [-0.211],\n",
       "       [-0.223],\n",
       "       [-0.225],\n",
       "       [-0.204],\n",
       "       [-0.204],\n",
       "       [-0.136],\n",
       "       [-0.164],\n",
       "       [-0.155],\n",
       "       [-0.14 ],\n",
       "       [-0.099],\n",
       "       [-0.102],\n",
       "       [-0.054],\n",
       "       [-0.033],\n",
       "       [-0.03 ],\n",
       "       [ 0.003],\n",
       "       [ 0.101],\n",
       "       [ 0.082],\n",
       "       [ 0.127],\n",
       "       [ 0.135],\n",
       "       [ 0.141],\n",
       "       [ 0.13 ],\n",
       "       [ 0.124],\n",
       "       [ 0.148],\n",
       "       [ 0.182],\n",
       "       [ 0.181],\n",
       "       [ 0.215],\n",
       "       [ 0.228],\n",
       "       [ 0.281],\n",
       "       [ 0.283],\n",
       "       [ 0.329],\n",
       "       [ 0.319],\n",
       "       [ 0.33 ],\n",
       "       [ 0.356],\n",
       "       [ 0.357],\n",
       "       [ 0.347],\n",
       "       [ 0.54 ],\n",
       "       [ 0.465],\n",
       "       [ 0.523],\n",
       "       [ 0.514],\n",
       "       [ 0.495],\n",
       "       [ 0.465],\n",
       "       [ 0.513],\n",
       "       [ 0.511],\n",
       "       [ 0.524],\n",
       "       [ 0.535],\n",
       "       [ 0.588],\n",
       "       [ 0.657],\n",
       "       [ 0.686],\n",
       "       [ 0.645],\n",
       "       [ 0.781],\n",
       "       [ 0.767],\n",
       "       [ 0.8  ],\n",
       "       [ 1.113],\n",
       "       [ 0.988],\n",
       "       [ 0.798],\n",
       "       [ 0.976],\n",
       "       [ 1.031],\n",
       "       [ 1.006],\n",
       "       [ 1.003],\n",
       "       [ 0.784],\n",
       "       [ 0.778],\n",
       "       [ 0.823],\n",
       "       [ 0.834],\n",
       "       [ 0.88 ],\n",
       "       [ 0.86 ],\n",
       "       [ 0.916],\n",
       "       [ 0.908],\n",
       "       [ 0.97 ],\n",
       "       [ 0.923],\n",
       "       [ 0.97 ],\n",
       "       [ 0.971],\n",
       "       [ 1.063],\n",
       "       [ 1.49 ],\n",
       "       [ 1.562],\n",
       "       [ 1.433],\n",
       "       [ 1.837],\n",
       "       [ 1.843],\n",
       "       [ 1.793],\n",
       "       [ 1.804],\n",
       "       [ 1.737],\n",
       "       [ 1.701],\n",
       "       [ 1.914],\n",
       "       [ 1.675],\n",
       "       [ 1.714],\n",
       "       [ 1.82 ],\n",
       "       [ 1.73 ],\n",
       "       [ 1.741],\n",
       "       [ 1.763],\n",
       "       [ 2.01 ],\n",
       "       [ 1.846],\n",
       "       [ 1.848],\n",
       "       [ 1.913],\n",
       "       [ 2.17 ],\n",
       "       [ 2.184],\n",
       "       [ 1.916],\n",
       "       [ 2.035],\n",
       "       [ 2.039],\n",
       "       [ 2.028],\n",
       "       [ 1.984],\n",
       "       [ 2.064],\n",
       "       [ 2.083],\n",
       "       [ 1.967],\n",
       "       [ 1.929],\n",
       "       [ 2.022],\n",
       "       [ 1.987],\n",
       "       [ 2.389],\n",
       "       [ 2.111],\n",
       "       [ 2.211],\n",
       "       [ 2.081],\n",
       "       [ 2.263],\n",
       "       [ 2.219],\n",
       "       [ 2.087],\n",
       "       [ 3.015],\n",
       "       [ 2.42 ],\n",
       "       [ 2.256],\n",
       "       [ 2.166],\n",
       "       [ 2.18 ],\n",
       "       [ 2.159],\n",
       "       [ 2.255],\n",
       "       [ 2.254],\n",
       "       [ 2.184],\n",
       "       [ 2.287],\n",
       "       [ 2.088],\n",
       "       [ 2.01 ],\n",
       "       [ 2.155],\n",
       "       [ 2.104],\n",
       "       [ 2.457],\n",
       "       [ 2.377],\n",
       "       [ 2.422],\n",
       "       [ 2.429],\n",
       "       [ 2.22 ],\n",
       "       [ 2.102],\n",
       "       [ 2.873],\n",
       "       [ 2.878],\n",
       "       [ 2.92 ],\n",
       "       [ 3.206],\n",
       "       [ 3.019],\n",
       "       [ 2.818],\n",
       "       [ 3.522],\n",
       "       [ 3.256],\n",
       "       [ 3.076],\n",
       "       [ 2.826],\n",
       "       [ 2.867],\n",
       "       [ 2.788],\n",
       "       [ 2.569],\n",
       "       [ 2.963],\n",
       "       [ 3.242],\n",
       "       [ 2.781],\n",
       "       [ 3.329],\n",
       "       [ 2.767],\n",
       "       [ 2.874],\n",
       "       [ 2.869],\n",
       "       [ 3.274],\n",
       "       [ 2.912],\n",
       "       [ 2.888],\n",
       "       [ 2.884],\n",
       "       [ 3.567]], dtype=float32)"
      ]
     },
     "execution_count": 22,
     "metadata": {},
     "output_type": "execute_result"
    }
   ],
   "source": [
    "model.predict(test_features)"
   ]
  },
  {
   "cell_type": "code",
   "execution_count": 23,
   "metadata": {},
   "outputs": [],
   "source": [
    "model.compile(\n",
    "    optimizer=tf.optimizers.Adam(learning_rate=0.1),\n",
    "    loss='mean_absolute_error')"
   ]
  },
  {
   "cell_type": "code",
   "execution_count": 24,
   "metadata": {},
   "outputs": [
    {
     "name": "stdout",
     "output_type": "stream",
     "text": [
      "CPU times: user 26.6 s, sys: 3.54 s, total: 30.1 s\n",
      "Wall time: 21.4 s\n"
     ]
    }
   ],
   "source": [
    "%%time\n",
    "history = model.fit(\n",
    "    train_features[['total_cpu_util', 'total_mem_util', 'responsetime']], train_labels,\n",
    "    epochs=1000,\n",
    "    # suppress logging\n",
    "    verbose=0,\n",
    "    # Calculate validation results on 20% of the training data\n",
    "    validation_split = 0.2)"
   ]
  },
  {
   "cell_type": "code",
   "execution_count": 25,
   "metadata": {},
   "outputs": [
    {
     "data": {
      "text/html": [
       "<div>\n",
       "<style scoped>\n",
       "    .dataframe tbody tr th:only-of-type {\n",
       "        vertical-align: middle;\n",
       "    }\n",
       "\n",
       "    .dataframe tbody tr th {\n",
       "        vertical-align: top;\n",
       "    }\n",
       "\n",
       "    .dataframe thead th {\n",
       "        text-align: right;\n",
       "    }\n",
       "</style>\n",
       "<table border=\"1\" class=\"dataframe\">\n",
       "  <thead>\n",
       "    <tr style=\"text-align: right;\">\n",
       "      <th></th>\n",
       "      <th>loss</th>\n",
       "      <th>val_loss</th>\n",
       "      <th>epoch</th>\n",
       "    </tr>\n",
       "  </thead>\n",
       "  <tbody>\n",
       "    <tr>\n",
       "      <th>995</th>\n",
       "      <td>26.232265</td>\n",
       "      <td>24.550920</td>\n",
       "      <td>995</td>\n",
       "    </tr>\n",
       "    <tr>\n",
       "      <th>996</th>\n",
       "      <td>26.229115</td>\n",
       "      <td>24.561062</td>\n",
       "      <td>996</td>\n",
       "    </tr>\n",
       "    <tr>\n",
       "      <th>997</th>\n",
       "      <td>26.237164</td>\n",
       "      <td>24.572716</td>\n",
       "      <td>997</td>\n",
       "    </tr>\n",
       "    <tr>\n",
       "      <th>998</th>\n",
       "      <td>26.230639</td>\n",
       "      <td>24.572304</td>\n",
       "      <td>998</td>\n",
       "    </tr>\n",
       "    <tr>\n",
       "      <th>999</th>\n",
       "      <td>26.227541</td>\n",
       "      <td>24.560356</td>\n",
       "      <td>999</td>\n",
       "    </tr>\n",
       "  </tbody>\n",
       "</table>\n",
       "</div>"
      ],
      "text/plain": [
       "          loss   val_loss  epoch\n",
       "995  26.232265  24.550920    995\n",
       "996  26.229115  24.561062    996\n",
       "997  26.237164  24.572716    997\n",
       "998  26.230639  24.572304    998\n",
       "999  26.227541  24.560356    999"
      ]
     },
     "execution_count": 25,
     "metadata": {},
     "output_type": "execute_result"
    }
   ],
   "source": [
    "hist = pd.DataFrame(history.history)\n",
    "hist['epoch'] = history.epoch\n",
    "hist.tail()"
   ]
  },
  {
   "cell_type": "code",
   "execution_count": 26,
   "metadata": {},
   "outputs": [],
   "source": [
    "def plot_loss(history):\n",
    "  plt.plot(history.history['loss'], label='loss')\n",
    "  plt.plot(history.history['val_loss'], label='val_loss')\n",
    "  plt.ylim([0, 500])\n",
    "  plt.xlabel('Epoch')\n",
    "  plt.ylabel('Error [MPG]')\n",
    "  plt.legend()\n",
    "  plt.grid(True)"
   ]
  },
  {
   "cell_type": "code",
   "execution_count": 27,
   "metadata": {},
   "outputs": [
    {
     "data": {
      "image/png": "[encoded data removed]",
      "text/plain": [
       "<Figure size 432x288 with 1 Axes>"
      ]
     },
     "metadata": {
      "needs_background": "light"
     },
     "output_type": "display_data"
    }
   ],
   "source": [
    "plot_loss(history)"
   ]
  },
  {
   "cell_type": "code",
   "execution_count": 28,
   "metadata": {},
   "outputs": [],
   "source": [
    "test_results = {}\n",
    "\n",
    "test_results['model'] = model.evaluate(\n",
    "    val_features[['total_cpu_util', 'total_mem_util', 'responsetime']],\n",
    "    val_labels, verbose=0)"
   ]
  },
  {
   "cell_type": "code",
   "execution_count": 29,
   "metadata": {},
   "outputs": [],
   "source": [
    "def build_and_compile_model(norm):\n",
    "  model = keras.Sequential([\n",
    "      norm,\n",
    "      layers.Dense(64, activation='relu'),\n",
    "      layers.Dense(64, activation='relu'),\n",
    "      layers.Dense(1)\n",
    "  ])\n",
    "\n",
    "  model.compile(loss='mean_absolute_error',\n",
    "                optimizer=tf.keras.optimizers.Adam(0.001))\n",
    "  return model"
   ]
  },
  {
   "cell_type": "code",
   "execution_count": 30,
   "metadata": {},
   "outputs": [],
   "source": [
    "dnn_model = build_and_compile_model(input_normalizer)"
   ]
  },
  {
   "cell_type": "code",
   "execution_count": 31,
   "metadata": {},
   "outputs": [
    {
     "name": "stdout",
     "output_type": "stream",
     "text": [
      "Model: \"sequential_1\"\n",
      "_________________________________________________________________\n",
      "Layer (type)                 Output Shape              Param #   \n",
      "=================================================================\n",
      "normalization_1 (Normalizati (None, 3)                 7         \n",
      "_________________________________________________________________\n",
      "dense_1 (Dense)              (None, 64)                256       \n",
      "_________________________________________________________________\n",
      "dense_2 (Dense)              (None, 64)                4160      \n",
      "_________________________________________________________________\n",
      "dense_3 (Dense)              (None, 1)                 65        \n",
      "=================================================================\n",
      "Total params: 4,488\n",
      "Trainable params: 4,481\n",
      "Non-trainable params: 7\n",
      "_________________________________________________________________\n"
     ]
    }
   ],
   "source": [
    "dnn_model.summary()"
   ]
  },
  {
   "cell_type": "code",
   "execution_count": 32,
   "metadata": {},
   "outputs": [
    {
     "name": "stdout",
     "output_type": "stream",
     "text": [
      "CPU times: user 38 s, sys: 5.29 s, total: 43.3 s\n",
      "Wall time: 29 s\n"
     ]
    }
   ],
   "source": [
    "%%time\n",
    "history = dnn_model.fit(\n",
    "    train_features[['total_cpu_util', 'total_mem_util', 'responsetime']], train_labels,\n",
    "    validation_split=0.2,\n",
    "    verbose=0, epochs=1000)"
   ]
  },
  {
   "cell_type": "code",
   "execution_count": 33,
   "metadata": {},
   "outputs": [
    {
     "data": {
      "image/png": "[encoded data removed]",
      "text/plain": [
       "<Figure size 432x288 with 1 Axes>"
      ]
     },
     "metadata": {
      "needs_background": "light"
     },
     "output_type": "display_data"
    }
   ],
   "source": [
    "plot_loss(history)"
   ]
  },
  {
   "cell_type": "code",
   "execution_count": 34,
   "metadata": {},
   "outputs": [],
   "source": [
    "test_results['dnn_model'] = dnn_model.evaluate(\n",
    "    val_features[['total_cpu_util', 'total_mem_util', 'responsetime']], val_labels,\n",
    "    verbose=0)"
   ]
  },
  {
   "cell_type": "code",
   "execution_count": 35,
   "metadata": {},
   "outputs": [
    {
     "data": {
      "text/html": [
       "<div>\n",
       "<style scoped>\n",
       "    .dataframe tbody tr th:only-of-type {\n",
       "        vertical-align: middle;\n",
       "    }\n",
       "\n",
       "    .dataframe tbody tr th {\n",
       "        vertical-align: top;\n",
       "    }\n",
       "\n",
       "    .dataframe thead th {\n",
       "        text-align: right;\n",
       "    }\n",
       "</style>\n",
       "<table border=\"1\" class=\"dataframe\">\n",
       "  <thead>\n",
       "    <tr style=\"text-align: right;\">\n",
       "      <th></th>\n",
       "      <th>requests</th>\n",
       "    </tr>\n",
       "  </thead>\n",
       "  <tbody>\n",
       "    <tr>\n",
       "      <th>model</th>\n",
       "      <td>26.154303</td>\n",
       "    </tr>\n",
       "    <tr>\n",
       "      <th>dnn_model</th>\n",
       "      <td>21.888004</td>\n",
       "    </tr>\n",
       "  </tbody>\n",
       "</table>\n",
       "</div>"
      ],
      "text/plain": [
       "            requests\n",
       "model      26.154303\n",
       "dnn_model  21.888004"
      ]
     },
     "execution_count": 35,
     "metadata": {},
     "output_type": "execute_result"
    }
   ],
   "source": [
    "pd.DataFrame(test_results, index=['requests']).T"
   ]
  },
  {
   "cell_type": "markdown",
   "metadata": {},
   "source": [
    "## Make Predictions"
   ]
  },
  {
   "cell_type": "code",
   "execution_count": 36,
   "metadata": {},
   "outputs": [
    {
     "data": {
      "image/png": "[encoded data removed]",
      "text/plain": [
       "<Figure size 432x288 with 1 Axes>"
      ]
     },
     "metadata": {
      "needs_background": "light"
     },
     "output_type": "display_data"
    }
   ],
   "source": [
    "test_predictions = dnn_model.predict(test_features).flatten()\n",
    "\n",
    "a = plt.axes(aspect='equal')\n",
    "plt.scatter(test_labels, test_predictions)\n",
    "plt.xlabel('True Values requests')\n",
    "plt.ylabel('Predictions requests')\n",
    "lims = [0, 1600]\n",
    "plt.xlim(lims)\n",
    "plt.ylim(lims)\n",
    "_ = plt.plot(lims, lims)"
   ]
  },
  {
   "cell_type": "code",
   "execution_count": 37,
   "metadata": {},
   "outputs": [
    {
     "name": "stdout",
     "output_type": "stream",
     "text": [
      "R² : 0.9493989428952948\n"
     ]
    }
   ],
   "source": [
    "from sklearn.metrics import r2_score\n",
    "R = r2_score(test_labels, test_predictions)\n",
    "print ('R² :',R)"
   ]
  },
  {
   "cell_type": "code",
   "execution_count": 38,
   "metadata": {},
   "outputs": [
    {
     "data": {
      "image/png": "[encoded data removed]",
      "text/plain": [
       "<Figure size 432x288 with 1 Axes>"
      ]
     },
     "metadata": {
      "needs_background": "light"
     },
     "output_type": "display_data"
    }
   ],
   "source": [
    "error = test_predictions - test_labels\n",
    "plt.hist(error, bins=100)\n",
    "plt.xlabel('Prediction Error [requests]')\n",
    "_ = plt.ylabel('Count')"
   ]
  },
  {
   "cell_type": "code",
   "execution_count": null,
   "metadata": {},
   "outputs": [],
   "source": []
  }
 ],
 "metadata": {
  "kernelspec": {
   "display_name": "Python 3",
   "language": "python",
   "name": "python3"
  },
  "language_info": {
   "codemirror_mode": {
    "name": "ipython",
    "version": 3
   },
   "file_extension": ".py",
   "mimetype": "text/x-python",
   "name": "python",
   "nbconvert_exporter": "python",
   "pygments_lexer": "ipython3",
   "version": "3.6.9"
  }
 },
 "nbformat": 4,
 "nbformat_minor": 4
}
