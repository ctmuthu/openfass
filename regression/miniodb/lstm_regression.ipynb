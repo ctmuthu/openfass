{
 "cells": [
  {
   "cell_type": "code",
   "execution_count": 1,
   "metadata": {},
   "outputs": [],
   "source": [
    "import os\n",
    "import datetime\n",
    "import matplotlib.pyplot as plt\n",
    "import numpy as np\n",
    "import pandas as pd\n",
    "import seaborn as sns\n",
    "# Make numpy printouts easier to read.\n",
    "np.set_printoptions(precision=3, suppress=True)\n",
    "import tensorflow as tf\n",
    "\n",
    "from tensorflow import keras\n",
    "from tensorflow.keras import layers\n",
    "from tensorflow.keras.layers.experimental import preprocessing"
   ]
  },
  {
   "cell_type": "code",
   "execution_count": 2,
   "metadata": {},
   "outputs": [
    {
     "data": {
      "text/html": [
       "<div>\n",
       "<style scoped>\n",
       "    .dataframe tbody tr th:only-of-type {\n",
       "        vertical-align: middle;\n",
       "    }\n",
       "\n",
       "    .dataframe tbody tr th {\n",
       "        vertical-align: top;\n",
       "    }\n",
       "\n",
       "    .dataframe thead th {\n",
       "        text-align: right;\n",
       "    }\n",
       "</style>\n",
       "<table border=\"1\" class=\"dataframe\">\n",
       "  <thead>\n",
       "    <tr style=\"text-align: right;\">\n",
       "      <th></th>\n",
       "      <th>cpu</th>\n",
       "      <th>diskio</th>\n",
       "      <th>diskioRead</th>\n",
       "      <th>diskioWritten</th>\n",
       "      <th>mem</th>\n",
       "      <th>networkReceived</th>\n",
       "      <th>networkTransmitted</th>\n",
       "      <th>replica</th>\n",
       "      <th>requests</th>\n",
       "      <th>responsetime</th>\n",
       "      <th>totalcpu</th>\n",
       "      <th>totalcpuUtilization</th>\n",
       "      <th>totalmemory</th>\n",
       "      <th>totalmemoryUtilization</th>\n",
       "    </tr>\n",
       "  </thead>\n",
       "  <tbody>\n",
       "    <tr>\n",
       "      <th>0</th>\n",
       "      <td>9.958133</td>\n",
       "      <td>0.000000</td>\n",
       "      <td>0.000000</td>\n",
       "      <td>2.922424e+03</td>\n",
       "      <td>0.019789</td>\n",
       "      <td>8.295819e+02</td>\n",
       "      <td>891.377388</td>\n",
       "      <td>1.0</td>\n",
       "      <td>16.0</td>\n",
       "      <td>0.912022</td>\n",
       "      <td>2.0</td>\n",
       "      <td>63.873122</td>\n",
       "      <td>1.240458e+10</td>\n",
       "      <td>7.330045</td>\n",
       "    </tr>\n",
       "    <tr>\n",
       "      <th>1</th>\n",
       "      <td>13.589864</td>\n",
       "      <td>0.006419</td>\n",
       "      <td>922.528427</td>\n",
       "      <td>8.798615e+04</td>\n",
       "      <td>0.019789</td>\n",
       "      <td>7.448670e+05</td>\n",
       "      <td>6527.744480</td>\n",
       "      <td>1.0</td>\n",
       "      <td>32.0</td>\n",
       "      <td>0.905742</td>\n",
       "      <td>6.0</td>\n",
       "      <td>63.873122</td>\n",
       "      <td>1.240458e+10</td>\n",
       "      <td>37.569958</td>\n",
       "    </tr>\n",
       "    <tr>\n",
       "      <th>2</th>\n",
       "      <td>13.539800</td>\n",
       "      <td>0.151911</td>\n",
       "      <td>1001.244444</td>\n",
       "      <td>1.183198e+07</td>\n",
       "      <td>0.019789</td>\n",
       "      <td>3.649453e+06</td>\n",
       "      <td>15798.111111</td>\n",
       "      <td>1.0</td>\n",
       "      <td>49.0</td>\n",
       "      <td>0.888829</td>\n",
       "      <td>6.0</td>\n",
       "      <td>26.283558</td>\n",
       "      <td>1.240458e+10</td>\n",
       "      <td>37.569958</td>\n",
       "    </tr>\n",
       "    <tr>\n",
       "      <th>3</th>\n",
       "      <td>5.633917</td>\n",
       "      <td>0.151914</td>\n",
       "      <td>1001.266695</td>\n",
       "      <td>1.183060e+07</td>\n",
       "      <td>0.203466</td>\n",
       "      <td>3.661378e+06</td>\n",
       "      <td>16975.310562</td>\n",
       "      <td>1.0</td>\n",
       "      <td>65.0</td>\n",
       "      <td>0.901064</td>\n",
       "      <td>6.0</td>\n",
       "      <td>26.283558</td>\n",
       "      <td>1.240458e+10</td>\n",
       "      <td>37.396603</td>\n",
       "    </tr>\n",
       "    <tr>\n",
       "      <th>4</th>\n",
       "      <td>7.244292</td>\n",
       "      <td>0.146933</td>\n",
       "      <td>273.066667</td>\n",
       "      <td>1.176899e+07</td>\n",
       "      <td>0.203466</td>\n",
       "      <td>3.087269e+06</td>\n",
       "      <td>13670.911111</td>\n",
       "      <td>1.0</td>\n",
       "      <td>66.0</td>\n",
       "      <td>0.893493</td>\n",
       "      <td>6.0</td>\n",
       "      <td>23.183333</td>\n",
       "      <td>1.240458e+10</td>\n",
       "      <td>37.396603</td>\n",
       "    </tr>\n",
       "  </tbody>\n",
       "</table>\n",
       "</div>"
      ],
      "text/plain": [
       "         cpu    diskio   diskioRead  diskioWritten       mem  networkReceived  \\\n",
       "0   9.958133  0.000000     0.000000   2.922424e+03  0.019789     8.295819e+02   \n",
       "1  13.589864  0.006419   922.528427   8.798615e+04  0.019789     7.448670e+05   \n",
       "2  13.539800  0.151911  1001.244444   1.183198e+07  0.019789     3.649453e+06   \n",
       "3   5.633917  0.151914  1001.266695   1.183060e+07  0.203466     3.661378e+06   \n",
       "4   7.244292  0.146933   273.066667   1.176899e+07  0.203466     3.087269e+06   \n",
       "\n",
       "   networkTransmitted  replica  requests  responsetime  totalcpu  \\\n",
       "0          891.377388      1.0      16.0      0.912022       2.0   \n",
       "1         6527.744480      1.0      32.0      0.905742       6.0   \n",
       "2        15798.111111      1.0      49.0      0.888829       6.0   \n",
       "3        16975.310562      1.0      65.0      0.901064       6.0   \n",
       "4        13670.911111      1.0      66.0      0.893493       6.0   \n",
       "\n",
       "   totalcpuUtilization   totalmemory  totalmemoryUtilization  \n",
       "0            63.873122  1.240458e+10                7.330045  \n",
       "1            63.873122  1.240458e+10               37.569958  \n",
       "2            26.283558  1.240458e+10               37.569958  \n",
       "3            26.283558  1.240458e+10               37.396603  \n",
       "4            23.183333  1.240458e+10               37.396603  "
      ]
     },
     "execution_count": 2,
     "metadata": {},
     "output_type": "execute_result"
    }
   ],
   "source": [
    "cwd = os.getcwd()\n",
    "output_dir = os.path.join(cwd, \"../../data\")\n",
    "df = pd.read_csv(os.path.join(output_dir, \"combined_miniodb.csv\"))\n",
    "df_test = pd.read_csv(os.path.join(output_dir, \"combined_miniodbtest.csv\"))\n",
    "#df_test = pd.read_csv(os.path.join(output_dir, \"figlet1599056546.006096_1599063766.431225.csv\"))\n",
    "df = df.drop(df[df.responsetime > 10].index)\n",
    "df.pop('Time')\n",
    "df_test = df_test.drop(df_test[df_test.responsetime > 10].index)\n",
    "df_test.pop('Time')\n",
    "df.head()"
   ]
  },
  {
   "cell_type": "code",
   "execution_count": 3,
   "metadata": {},
   "outputs": [],
   "source": [
    "# remove 2xlarge\n",
    "df = df.drop(df[df.totalcpu > 16].index)"
   ]
  },
  {
   "cell_type": "code",
   "execution_count": 4,
   "metadata": {},
   "outputs": [],
   "source": [
    "df_t = pd.DataFrame()\n",
    "df_ttest = pd.DataFrame()"
   ]
  },
  {
   "cell_type": "code",
   "execution_count": 5,
   "metadata": {},
   "outputs": [
    {
     "data": {
      "text/html": [
       "<div>\n",
       "<style scoped>\n",
       "    .dataframe tbody tr th:only-of-type {\n",
       "        vertical-align: middle;\n",
       "    }\n",
       "\n",
       "    .dataframe tbody tr th {\n",
       "        vertical-align: top;\n",
       "    }\n",
       "\n",
       "    .dataframe thead th {\n",
       "        text-align: right;\n",
       "    }\n",
       "</style>\n",
       "<table border=\"1\" class=\"dataframe\">\n",
       "  <thead>\n",
       "    <tr style=\"text-align: right;\">\n",
       "      <th></th>\n",
       "      <th>total_cpu_util</th>\n",
       "      <th>total_mem_util</th>\n",
       "      <th>responsetime</th>\n",
       "      <th>requests</th>\n",
       "    </tr>\n",
       "  </thead>\n",
       "  <tbody>\n",
       "    <tr>\n",
       "      <th>0</th>\n",
       "      <td>0.855900</td>\n",
       "      <td>90.926165</td>\n",
       "      <td>0.912022</td>\n",
       "      <td>16.0</td>\n",
       "    </tr>\n",
       "    <tr>\n",
       "      <th>1</th>\n",
       "      <td>2.567700</td>\n",
       "      <td>466.039717</td>\n",
       "      <td>0.905742</td>\n",
       "      <td>32.0</td>\n",
       "    </tr>\n",
       "    <tr>\n",
       "      <th>2</th>\n",
       "      <td>1.056599</td>\n",
       "      <td>466.039717</td>\n",
       "      <td>0.888829</td>\n",
       "      <td>49.0</td>\n",
       "    </tr>\n",
       "    <tr>\n",
       "      <th>3</th>\n",
       "      <td>1.056599</td>\n",
       "      <td>463.889317</td>\n",
       "      <td>0.901064</td>\n",
       "      <td>65.0</td>\n",
       "    </tr>\n",
       "    <tr>\n",
       "      <th>4</th>\n",
       "      <td>0.931970</td>\n",
       "      <td>463.889317</td>\n",
       "      <td>0.893493</td>\n",
       "      <td>66.0</td>\n",
       "    </tr>\n",
       "  </tbody>\n",
       "</table>\n",
       "</div>"
      ],
      "text/plain": [
       "   total_cpu_util  total_mem_util  responsetime  requests\n",
       "0        0.855900       90.926165      0.912022      16.0\n",
       "1        2.567700      466.039717      0.905742      32.0\n",
       "2        1.056599      466.039717      0.888829      49.0\n",
       "3        1.056599      463.889317      0.901064      65.0\n",
       "4        0.931970      463.889317      0.893493      66.0"
      ]
     },
     "execution_count": 5,
     "metadata": {},
     "output_type": "execute_result"
    }
   ],
   "source": [
    "df_t['total_cpu_util'] = (df['totalcpuUtilization']*(df['totalcpu']*0.67))/100                    \n",
    "df_t['total_mem_util'] = (df['totalmemoryUtilization']*df['totalmemory'])*1e-9\n",
    "df_t['responsetime'] = df['responsetime']\n",
    "df_t['requests'] = df['requests']\n",
    "#df_t['replica'] = df['replica']\n",
    "df_ttest['total_cpu_util'] = (df_test['totalcpuUtilization']*(df_test['totalcpu']*0.67))/100\n",
    "df_ttest['total_mem_util'] = (df_test['totalmemoryUtilization']*df_test['totalmemory'])*1e-9\n",
    "df_ttest['responsetime'] = df_test['responsetime']\n",
    "df_ttest['requests'] = df_test['requests']\n",
    "#df_ttest['replica'] = df_test['replica']\n",
    "df_t.head()"
   ]
  },
  {
   "cell_type": "code",
   "execution_count": 42,
   "metadata": {},
   "outputs": [
    {
     "data": {
      "text/plain": [
       "[<matplotlib.lines.Line2D at 0x7f09d33a3eb8>]"
      ]
     },
     "execution_count": 42,
     "metadata": {},
     "output_type": "execute_result"
    },
    {
     "data": {
      "image/png": "[encoded data removed]",
      "text/plain": [
       "<Figure size 432x288 with 1 Axes>"
      ]
     },
     "metadata": {
      "needs_background": "light"
     },
     "output_type": "display_data"
    }
   ],
   "source": [
    "plt.plot(df_t['responsetime'])"
   ]
  },
  {
   "cell_type": "code",
   "execution_count": 6,
   "metadata": {},
   "outputs": [
    {
     "data": {
      "text/html": [
       "<div>\n",
       "<style scoped>\n",
       "    .dataframe tbody tr th:only-of-type {\n",
       "        vertical-align: middle;\n",
       "    }\n",
       "\n",
       "    .dataframe tbody tr th {\n",
       "        vertical-align: top;\n",
       "    }\n",
       "\n",
       "    .dataframe thead th {\n",
       "        text-align: right;\n",
       "    }\n",
       "</style>\n",
       "<table border=\"1\" class=\"dataframe\">\n",
       "  <thead>\n",
       "    <tr style=\"text-align: right;\">\n",
       "      <th></th>\n",
       "      <th>total_cpu_util</th>\n",
       "      <th>total_mem_util</th>\n",
       "      <th>responsetime</th>\n",
       "      <th>requests</th>\n",
       "    </tr>\n",
       "  </thead>\n",
       "  <tbody>\n",
       "    <tr>\n",
       "      <th>2294</th>\n",
       "      <td>4.162933</td>\n",
       "      <td>611.728589</td>\n",
       "      <td>5.396289</td>\n",
       "      <td>363.0</td>\n",
       "    </tr>\n",
       "    <tr>\n",
       "      <th>2295</th>\n",
       "      <td>4.170137</td>\n",
       "      <td>619.520410</td>\n",
       "      <td>7.804019</td>\n",
       "      <td>364.0</td>\n",
       "    </tr>\n",
       "    <tr>\n",
       "      <th>2297</th>\n",
       "      <td>4.160030</td>\n",
       "      <td>607.351603</td>\n",
       "      <td>5.315730</td>\n",
       "      <td>369.0</td>\n",
       "    </tr>\n",
       "    <tr>\n",
       "      <th>2298</th>\n",
       "      <td>4.160030</td>\n",
       "      <td>607.351603</td>\n",
       "      <td>5.452060</td>\n",
       "      <td>363.0</td>\n",
       "    </tr>\n",
       "    <tr>\n",
       "      <th>2300</th>\n",
       "      <td>4.162305</td>\n",
       "      <td>615.405158</td>\n",
       "      <td>6.125424</td>\n",
       "      <td>366.0</td>\n",
       "    </tr>\n",
       "  </tbody>\n",
       "</table>\n",
       "</div>"
      ],
      "text/plain": [
       "      total_cpu_util  total_mem_util  responsetime  requests\n",
       "2294        4.162933      611.728589      5.396289     363.0\n",
       "2295        4.170137      619.520410      7.804019     364.0\n",
       "2297        4.160030      607.351603      5.315730     369.0\n",
       "2298        4.160030      607.351603      5.452060     363.0\n",
       "2300        4.162305      615.405158      6.125424     366.0"
      ]
     },
     "execution_count": 6,
     "metadata": {},
     "output_type": "execute_result"
    }
   ],
   "source": [
    "df_t.tail()"
   ]
  },
  {
   "cell_type": "code",
   "execution_count": 7,
   "metadata": {},
   "outputs": [],
   "source": [
    "df_t = pd.get_dummies(df_t, prefix='', prefix_sep='')"
   ]
  },
  {
   "cell_type": "code",
   "execution_count": 8,
   "metadata": {},
   "outputs": [
    {
     "data": {
      "text/plain": [
       "(1072, 4)"
      ]
     },
     "execution_count": 8,
     "metadata": {},
     "output_type": "execute_result"
    }
   ],
   "source": [
    "df_t.shape"
   ]
  },
  {
   "cell_type": "code",
   "execution_count": 9,
   "metadata": {},
   "outputs": [],
   "source": [
    "train_dataset = df_t.sample(frac=0.8, random_state=0)\n",
    "val_dataset = df_t.drop(train_dataset.index)\n",
    "test_dataset = df_ttest"
   ]
  },
  {
   "cell_type": "code",
   "execution_count": 10,
   "metadata": {},
   "outputs": [
    {
     "data": {
      "text/plain": [
       "<seaborn.axisgrid.PairGrid at 0x7f0a881cc908>"
      ]
     },
     "execution_count": 10,
     "metadata": {},
     "output_type": "execute_result"
    },
    {
     "data": {
      "image/png": "[encoded data removed]",
      "text/plain": [
       "<Figure size 720x720 with 20 Axes>"
      ]
     },
     "metadata": {
      "needs_background": "light"
     },
     "output_type": "display_data"
    }
   ],
   "source": [
    "sns.pairplot(train_dataset[['total_cpu_util', 'total_mem_util', 'responsetime', 'requests']], diag_kind='kde')"
   ]
  },
  {
   "cell_type": "code",
   "execution_count": 11,
   "metadata": {},
   "outputs": [
    {
     "data": {
      "text/html": [
       "<div>\n",
       "<style scoped>\n",
       "    .dataframe tbody tr th:only-of-type {\n",
       "        vertical-align: middle;\n",
       "    }\n",
       "\n",
       "    .dataframe tbody tr th {\n",
       "        vertical-align: top;\n",
       "    }\n",
       "\n",
       "    .dataframe thead th {\n",
       "        text-align: right;\n",
       "    }\n",
       "</style>\n",
       "<table border=\"1\" class=\"dataframe\">\n",
       "  <thead>\n",
       "    <tr style=\"text-align: right;\">\n",
       "      <th></th>\n",
       "      <th>count</th>\n",
       "      <th>mean</th>\n",
       "      <th>std</th>\n",
       "      <th>min</th>\n",
       "      <th>25%</th>\n",
       "      <th>50%</th>\n",
       "      <th>75%</th>\n",
       "      <th>max</th>\n",
       "    </tr>\n",
       "  </thead>\n",
       "  <tbody>\n",
       "    <tr>\n",
       "      <th>total_cpu_util</th>\n",
       "      <td>858.0</td>\n",
       "      <td>4.705053</td>\n",
       "      <td>2.169241</td>\n",
       "      <td>0.698756</td>\n",
       "      <td>3.851160</td>\n",
       "      <td>4.169857</td>\n",
       "      <td>6.813509</td>\n",
       "      <td>8.180700</td>\n",
       "    </tr>\n",
       "    <tr>\n",
       "      <th>total_mem_util</th>\n",
       "      <td>858.0</td>\n",
       "      <td>574.354674</td>\n",
       "      <td>65.235581</td>\n",
       "      <td>90.926165</td>\n",
       "      <td>521.115802</td>\n",
       "      <td>585.346867</td>\n",
       "      <td>619.901952</td>\n",
       "      <td>694.369087</td>\n",
       "    </tr>\n",
       "    <tr>\n",
       "      <th>responsetime</th>\n",
       "      <td>858.0</td>\n",
       "      <td>4.272740</td>\n",
       "      <td>2.379667</td>\n",
       "      <td>0.860624</td>\n",
       "      <td>1.339352</td>\n",
       "      <td>5.261273</td>\n",
       "      <td>5.687480</td>\n",
       "      <td>9.873274</td>\n",
       "    </tr>\n",
       "    <tr>\n",
       "      <th>requests</th>\n",
       "      <td>858.0</td>\n",
       "      <td>469.513986</td>\n",
       "      <td>241.579087</td>\n",
       "      <td>14.000000</td>\n",
       "      <td>363.000000</td>\n",
       "      <td>396.000000</td>\n",
       "      <td>651.750000</td>\n",
       "      <td>893.000000</td>\n",
       "    </tr>\n",
       "  </tbody>\n",
       "</table>\n",
       "</div>"
      ],
      "text/plain": [
       "                count        mean         std        min         25%  \\\n",
       "total_cpu_util  858.0    4.705053    2.169241   0.698756    3.851160   \n",
       "total_mem_util  858.0  574.354674   65.235581  90.926165  521.115802   \n",
       "responsetime    858.0    4.272740    2.379667   0.860624    1.339352   \n",
       "requests        858.0  469.513986  241.579087  14.000000  363.000000   \n",
       "\n",
       "                       50%         75%         max  \n",
       "total_cpu_util    4.169857    6.813509    8.180700  \n",
       "total_mem_util  585.346867  619.901952  694.369087  \n",
       "responsetime      5.261273    5.687480    9.873274  \n",
       "requests        396.000000  651.750000  893.000000  "
      ]
     },
     "execution_count": 11,
     "metadata": {},
     "output_type": "execute_result"
    }
   ],
   "source": [
    "train_dataset.describe().transpose()"
   ]
  },
  {
   "cell_type": "code",
   "execution_count": 12,
   "metadata": {},
   "outputs": [],
   "source": [
    "train_features = train_dataset.copy()\n",
    "val_features = val_dataset.copy()\n",
    "test_features = test_dataset.copy()"
   ]
  },
  {
   "cell_type": "code",
   "execution_count": 13,
   "metadata": {},
   "outputs": [
    {
     "data": {
      "text/html": [
       "<div>\n",
       "<style scoped>\n",
       "    .dataframe tbody tr th:only-of-type {\n",
       "        vertical-align: middle;\n",
       "    }\n",
       "\n",
       "    .dataframe tbody tr th {\n",
       "        vertical-align: top;\n",
       "    }\n",
       "\n",
       "    .dataframe thead th {\n",
       "        text-align: right;\n",
       "    }\n",
       "</style>\n",
       "<table border=\"1\" class=\"dataframe\">\n",
       "  <thead>\n",
       "    <tr style=\"text-align: right;\">\n",
       "      <th></th>\n",
       "      <th>total_cpu_util</th>\n",
       "      <th>total_mem_util</th>\n",
       "      <th>responsetime</th>\n",
       "      <th>requests</th>\n",
       "    </tr>\n",
       "  </thead>\n",
       "  <tbody>\n",
       "    <tr>\n",
       "      <th>2162</th>\n",
       "      <td>2.875681</td>\n",
       "      <td>498.111283</td>\n",
       "      <td>5.379598</td>\n",
       "      <td>298.0</td>\n",
       "    </tr>\n",
       "    <tr>\n",
       "      <th>529</th>\n",
       "      <td>4.161817</td>\n",
       "      <td>600.513331</td>\n",
       "      <td>5.330744</td>\n",
       "      <td>395.0</td>\n",
       "    </tr>\n",
       "    <tr>\n",
       "      <th>968</th>\n",
       "      <td>8.084667</td>\n",
       "      <td>633.448243</td>\n",
       "      <td>1.415241</td>\n",
       "      <td>887.0</td>\n",
       "    </tr>\n",
       "    <tr>\n",
       "      <th>1375</th>\n",
       "      <td>3.752223</td>\n",
       "      <td>508.172698</td>\n",
       "      <td>6.196599</td>\n",
       "      <td>386.0</td>\n",
       "    </tr>\n",
       "    <tr>\n",
       "      <th>954</th>\n",
       "      <td>8.043127</td>\n",
       "      <td>619.145011</td>\n",
       "      <td>1.232698</td>\n",
       "      <td>887.0</td>\n",
       "    </tr>\n",
       "  </tbody>\n",
       "</table>\n",
       "</div>"
      ],
      "text/plain": [
       "      total_cpu_util  total_mem_util  responsetime  requests\n",
       "2162        2.875681      498.111283      5.379598     298.0\n",
       "529         4.161817      600.513331      5.330744     395.0\n",
       "968         8.084667      633.448243      1.415241     887.0\n",
       "1375        3.752223      508.172698      6.196599     386.0\n",
       "954         8.043127      619.145011      1.232698     887.0"
      ]
     },
     "execution_count": 13,
     "metadata": {},
     "output_type": "execute_result"
    }
   ],
   "source": [
    "train_features.head()"
   ]
  },
  {
   "cell_type": "code",
   "execution_count": 14,
   "metadata": {},
   "outputs": [],
   "source": [
    "train_labels = train_features.pop('requests')\n",
    "val_labels = val_features.pop('requests')\n",
    "test_labels = test_features.pop('requests')"
   ]
  },
  {
   "cell_type": "code",
   "execution_count": 15,
   "metadata": {},
   "outputs": [
    {
     "data": {
      "text/plain": [
       "2162    298.0\n",
       "529     395.0\n",
       "968     887.0\n",
       "1375    386.0\n",
       "954     887.0\n",
       "Name: requests, dtype: float64"
      ]
     },
     "execution_count": 15,
     "metadata": {},
     "output_type": "execute_result"
    }
   ],
   "source": [
    "train_labels.head()"
   ]
  },
  {
   "cell_type": "code",
   "execution_count": 16,
   "metadata": {},
   "outputs": [],
   "source": [
    "normalizer = preprocessing.Normalization()"
   ]
  },
  {
   "cell_type": "code",
   "execution_count": 17,
   "metadata": {},
   "outputs": [],
   "source": [
    "normalizer.adapt(np.array(train_features))"
   ]
  },
  {
   "cell_type": "code",
   "execution_count": 18,
   "metadata": {},
   "outputs": [
    {
     "name": "stdout",
     "output_type": "stream",
     "text": [
      "[  4.705 574.355   4.273]\n"
     ]
    }
   ],
   "source": [
    "print(normalizer.mean.numpy())"
   ]
  },
  {
   "cell_type": "markdown",
   "metadata": {},
   "source": [
    "## Linear Regression"
   ]
  },
  {
   "cell_type": "code",
   "execution_count": 19,
   "metadata": {},
   "outputs": [],
   "source": [
    "input = np.array(train_features[['total_cpu_util', 'total_mem_util', 'responsetime']])\n",
    "\n",
    "input_normalizer = preprocessing.Normalization(input_shape=[3,])\n",
    "input_normalizer.adapt(input)"
   ]
  },
  {
   "cell_type": "code",
   "execution_count": 20,
   "metadata": {},
   "outputs": [
    {
     "name": "stdout",
     "output_type": "stream",
     "text": [
      "Model: \"sequential\"\n",
      "_________________________________________________________________\n",
      "Layer (type)                 Output Shape              Param #   \n",
      "=================================================================\n",
      "normalization_1 (Normalizati (None, 3)                 7         \n",
      "_________________________________________________________________\n",
      "dense (Dense)                (None, 1)                 4         \n",
      "=================================================================\n",
      "Total params: 11\n",
      "Trainable params: 4\n",
      "Non-trainable params: 7\n",
      "_________________________________________________________________\n"
     ]
    }
   ],
   "source": [
    "model = tf.keras.Sequential([\n",
    "    input_normalizer,\n",
    "    layers.Dense(units=1)\n",
    "])\n",
    "model.summary()"
   ]
  },
  {
   "cell_type": "code",
   "execution_count": 21,
   "metadata": {},
   "outputs": [
    {
     "data": {
      "text/plain": [
       "array([[-0.305],\n",
       "       [-0.239],\n",
       "       [ 0.633],\n",
       "       [ 0.632],\n",
       "       [ 0.552],\n",
       "       [ 0.512],\n",
       "       [ 0.495],\n",
       "       [ 0.495],\n",
       "       [ 0.565],\n",
       "       [ 0.567],\n",
       "       [ 0.369],\n",
       "       [ 0.368],\n",
       "       [ 0.36 ],\n",
       "       [ 0.358],\n",
       "       [ 0.327],\n",
       "       [ 0.325],\n",
       "       [ 0.318],\n",
       "       [ 0.318],\n",
       "       [ 0.301],\n",
       "       [ 0.302],\n",
       "       [ 0.276],\n",
       "       [ 0.351],\n",
       "       [ 0.37 ],\n",
       "       [ 0.348],\n",
       "       [ 0.178],\n",
       "       [ 0.06 ],\n",
       "       [-0.058],\n",
       "       [-0.059],\n",
       "       [ 0.14 ],\n",
       "       [ 0.142],\n",
       "       [ 0.274],\n",
       "       [ 0.272],\n",
       "       [ 0.308],\n",
       "       [ 0.311],\n",
       "       [ 0.324],\n",
       "       [ 0.323],\n",
       "       [ 0.33 ],\n",
       "       [ 0.334],\n",
       "       [ 0.341],\n",
       "       [ 0.345],\n",
       "       [ 0.381],\n",
       "       [ 0.495],\n",
       "       [ 0.396],\n",
       "       [ 0.639],\n",
       "       [ 0.472],\n",
       "       [ 0.472],\n",
       "       [ 0.383],\n",
       "       [ 0.383],\n",
       "       [ 0.545],\n",
       "       [ 0.545],\n",
       "       [ 0.764],\n",
       "       [ 0.764],\n",
       "       [ 0.846],\n",
       "       [ 0.846],\n",
       "       [ 0.826],\n",
       "       [ 0.826],\n",
       "       [ 0.832],\n",
       "       [ 0.832],\n",
       "       [ 0.81 ],\n",
       "       [ 0.81 ],\n",
       "       [ 0.841],\n",
       "       [ 0.841],\n",
       "       [ 0.803],\n",
       "       [ 0.779],\n",
       "       [ 0.539],\n",
       "       [ 0.544],\n",
       "       [ 0.469],\n",
       "       [ 0.469],\n",
       "       [ 0.648],\n",
       "       [ 0.648],\n",
       "       [ 0.821],\n",
       "       [ 0.821],\n",
       "       [ 0.76 ],\n",
       "       [ 0.76 ],\n",
       "       [ 0.783],\n",
       "       [ 0.783],\n",
       "       [ 0.691],\n",
       "       [ 0.691],\n",
       "       [ 0.728],\n",
       "       [ 0.728],\n",
       "       [ 0.693],\n",
       "       [ 0.693],\n",
       "       [ 0.677],\n",
       "       [ 0.719],\n",
       "       [ 0.519],\n",
       "       [ 0.519],\n",
       "       [ 0.589],\n",
       "       [ 0.589],\n",
       "       [ 0.711],\n",
       "       [ 0.711],\n",
       "       [ 0.729],\n",
       "       [ 0.729],\n",
       "       [ 0.703],\n",
       "       [ 0.703],\n",
       "       [ 0.757],\n",
       "       [ 0.757],\n",
       "       [ 0.665],\n",
       "       [ 0.665],\n",
       "       [ 0.593],\n",
       "       [ 0.593],\n",
       "       [ 0.614],\n",
       "       [ 0.614],\n",
       "       [ 0.562],\n",
       "       [ 0.561],\n",
       "       [ 0.465],\n",
       "       [ 0.475],\n",
       "       [ 0.583],\n",
       "       [ 0.583],\n",
       "       [ 0.824],\n",
       "       [ 0.824],\n",
       "       [ 0.865],\n",
       "       [ 0.865],\n",
       "       [ 0.849],\n",
       "       [ 0.849],\n",
       "       [ 0.807],\n",
       "       [ 0.807],\n",
       "       [ 0.664],\n",
       "       [ 0.664],\n",
       "       [ 0.742],\n",
       "       [ 0.742],\n",
       "       [ 0.688],\n",
       "       [ 0.687],\n",
       "       [ 0.718],\n",
       "       [ 0.697],\n",
       "       [ 0.51 ],\n",
       "       [ 0.507],\n",
       "       [ 0.672],\n",
       "       [ 0.706],\n",
       "       [ 0.914],\n",
       "       [ 0.914],\n",
       "       [ 0.978],\n",
       "       [ 0.978],\n",
       "       [ 0.874],\n",
       "       [ 0.874],\n",
       "       [ 0.84 ],\n",
       "       [ 0.84 ],\n",
       "       [ 0.787],\n",
       "       [ 0.787],\n",
       "       [ 0.736],\n",
       "       [ 0.736],\n",
       "       [ 0.645],\n",
       "       [ 0.648],\n",
       "       [ 0.71 ],\n",
       "       [ 0.648],\n",
       "       [ 0.607],\n",
       "       [ 0.623],\n",
       "       [ 0.694],\n",
       "       [ 0.694],\n",
       "       [ 0.863],\n",
       "       [ 0.863],\n",
       "       [ 0.916],\n",
       "       [ 0.922],\n",
       "       [ 1.014],\n",
       "       [ 1.014],\n",
       "       [ 0.927],\n",
       "       [ 0.927],\n",
       "       [ 0.93 ],\n",
       "       [ 0.93 ],\n",
       "       [ 0.892],\n",
       "       [ 0.892],\n",
       "       [ 0.843],\n",
       "       [ 0.855],\n",
       "       [ 1.   ],\n",
       "       [ 0.972],\n",
       "       [ 0.715],\n",
       "       [ 0.759],\n",
       "       [ 0.864],\n",
       "       [ 0.827],\n",
       "       [ 1.041],\n",
       "       [ 1.061],\n",
       "       [ 1.076],\n",
       "       [ 1.072],\n",
       "       [ 1.167],\n",
       "       [ 1.164],\n",
       "       [ 1.206],\n",
       "       [ 1.206],\n",
       "       [ 1.132],\n",
       "       [ 1.132],\n",
       "       [ 0.979],\n",
       "       [ 0.979],\n",
       "       [ 1.112],\n",
       "       [ 1.248],\n",
       "       [ 0.999],\n",
       "       [ 0.971],\n",
       "       [ 1.003],\n",
       "       [ 0.948],\n",
       "       [ 1.02 ],\n",
       "       [ 0.997],\n",
       "       [ 1.134],\n",
       "       [ 1.117],\n",
       "       [ 1.221],\n",
       "       [ 1.249],\n",
       "       [ 1.142],\n",
       "       [ 1.127],\n",
       "       [ 1.152],\n",
       "       [ 1.145],\n",
       "       [ 1.042],\n",
       "       [ 1.035],\n",
       "       [ 1.054],\n",
       "       [ 1.075],\n",
       "       [ 0.92 ],\n",
       "       [ 0.938],\n",
       "       [ 1.034],\n",
       "       [ 0.891],\n",
       "       [ 1.062],\n",
       "       [ 1.049],\n",
       "       [ 1.017],\n",
       "       [ 1.104],\n",
       "       [ 1.099],\n",
       "       [ 1.331],\n",
       "       [ 1.21 ],\n",
       "       [ 1.142],\n",
       "       [ 1.142],\n",
       "       [ 1.076],\n",
       "       [ 1.119],\n",
       "       [ 1.041],\n",
       "       [ 1.037],\n",
       "       [ 1.005],\n",
       "       [ 1.007],\n",
       "       [ 1.05 ],\n",
       "       [ 1.134],\n",
       "       [ 1.019],\n",
       "       [ 0.876],\n",
       "       [ 0.953],\n",
       "       [ 1.148],\n",
       "       [ 0.946],\n",
       "       [ 0.965],\n",
       "       [ 1.1  ],\n",
       "       [ 1.066],\n",
       "       [ 1.203],\n",
       "       [ 1.217],\n",
       "       [ 1.315],\n",
       "       [ 1.285],\n",
       "       [ 1.222],\n",
       "       [ 1.225],\n",
       "       [ 1.162],\n",
       "       [ 1.157],\n",
       "       [ 1.147],\n",
       "       [ 1.137],\n",
       "       [ 1.229],\n",
       "       [ 1.202],\n",
       "       [ 1.3  ],\n",
       "       [ 0.948],\n",
       "       [ 1.228],\n",
       "       [ 1.236],\n",
       "       [ 1.287],\n",
       "       [ 1.175],\n",
       "       [ 1.37 ],\n",
       "       [ 1.406],\n",
       "       [ 1.366],\n",
       "       [ 1.385],\n",
       "       [ 1.345],\n",
       "       [ 1.295],\n",
       "       [ 1.348],\n",
       "       [ 1.349],\n",
       "       [ 1.198],\n",
       "       [ 1.243],\n",
       "       [ 1.13 ],\n",
       "       [ 1.227],\n",
       "       [ 1.054],\n",
       "       [ 0.996],\n",
       "       [ 1.299],\n",
       "       [ 1.28 ],\n",
       "       [ 1.331],\n",
       "       [ 1.286],\n",
       "       [ 1.444],\n",
       "       [ 1.458],\n",
       "       [ 1.329],\n",
       "       [ 1.526],\n",
       "       [ 1.415],\n",
       "       [ 1.413],\n",
       "       [ 1.4  ],\n",
       "       [ 1.491],\n",
       "       [ 1.192],\n",
       "       [ 1.13 ],\n",
       "       [ 1.41 ],\n",
       "       [ 1.336],\n",
       "       [ 1.298],\n",
       "       [ 1.356],\n",
       "       [ 1.36 ],\n",
       "       [ 1.434],\n",
       "       [ 1.458],\n",
       "       [ 1.507],\n",
       "       [ 1.496],\n",
       "       [ 1.361],\n",
       "       [ 1.476],\n",
       "       [ 1.361],\n",
       "       [ 1.361],\n",
       "       [ 1.421],\n",
       "       [ 1.383],\n",
       "       [ 1.439],\n",
       "       [ 1.375],\n",
       "       [ 1.409],\n",
       "       [ 1.332],\n",
       "       [ 1.335],\n",
       "       [ 1.368]], dtype=float32)"
      ]
     },
     "execution_count": 21,
     "metadata": {},
     "output_type": "execute_result"
    }
   ],
   "source": [
    "model.predict(test_features)"
   ]
  },
  {
   "cell_type": "code",
   "execution_count": 22,
   "metadata": {},
   "outputs": [],
   "source": [
    "model.compile(\n",
    "    optimizer=tf.optimizers.Adam(learning_rate=0.1),\n",
    "    loss='mean_absolute_error')"
   ]
  },
  {
   "cell_type": "code",
   "execution_count": 23,
   "metadata": {},
   "outputs": [
    {
     "name": "stdout",
     "output_type": "stream",
     "text": [
      "CPU times: user 36.6 s, sys: 5.12 s, total: 41.8 s\n",
      "Wall time: 28.4 s\n"
     ]
    }
   ],
   "source": [
    "%%time\n",
    "history = model.fit(\n",
    "    train_features[['total_cpu_util', 'total_mem_util', 'responsetime']], train_labels,\n",
    "    epochs=1000,\n",
    "    # suppress logging\n",
    "    verbose=0,\n",
    "    # Calculate validation results on 20% of the training data\n",
    "    validation_split = 0.2)"
   ]
  },
  {
   "cell_type": "code",
   "execution_count": 24,
   "metadata": {},
   "outputs": [
    {
     "data": {
      "text/html": [
       "<div>\n",
       "<style scoped>\n",
       "    .dataframe tbody tr th:only-of-type {\n",
       "        vertical-align: middle;\n",
       "    }\n",
       "\n",
       "    .dataframe tbody tr th {\n",
       "        vertical-align: top;\n",
       "    }\n",
       "\n",
       "    .dataframe thead th {\n",
       "        text-align: right;\n",
       "    }\n",
       "</style>\n",
       "<table border=\"1\" class=\"dataframe\">\n",
       "  <thead>\n",
       "    <tr style=\"text-align: right;\">\n",
       "      <th></th>\n",
       "      <th>loss</th>\n",
       "      <th>val_loss</th>\n",
       "      <th>epoch</th>\n",
       "    </tr>\n",
       "  </thead>\n",
       "  <tbody>\n",
       "    <tr>\n",
       "      <th>995</th>\n",
       "      <td>22.635212</td>\n",
       "      <td>23.968918</td>\n",
       "      <td>995</td>\n",
       "    </tr>\n",
       "    <tr>\n",
       "      <th>996</th>\n",
       "      <td>22.647789</td>\n",
       "      <td>24.011667</td>\n",
       "      <td>996</td>\n",
       "    </tr>\n",
       "    <tr>\n",
       "      <th>997</th>\n",
       "      <td>22.629967</td>\n",
       "      <td>23.995995</td>\n",
       "      <td>997</td>\n",
       "    </tr>\n",
       "    <tr>\n",
       "      <th>998</th>\n",
       "      <td>22.657352</td>\n",
       "      <td>23.986574</td>\n",
       "      <td>998</td>\n",
       "    </tr>\n",
       "    <tr>\n",
       "      <th>999</th>\n",
       "      <td>22.622255</td>\n",
       "      <td>23.995827</td>\n",
       "      <td>999</td>\n",
       "    </tr>\n",
       "  </tbody>\n",
       "</table>\n",
       "</div>"
      ],
      "text/plain": [
       "          loss   val_loss  epoch\n",
       "995  22.635212  23.968918    995\n",
       "996  22.647789  24.011667    996\n",
       "997  22.629967  23.995995    997\n",
       "998  22.657352  23.986574    998\n",
       "999  22.622255  23.995827    999"
      ]
     },
     "execution_count": 24,
     "metadata": {},
     "output_type": "execute_result"
    }
   ],
   "source": [
    "hist = pd.DataFrame(history.history)\n",
    "hist['epoch'] = history.epoch\n",
    "hist.tail()"
   ]
  },
  {
   "cell_type": "code",
   "execution_count": 25,
   "metadata": {},
   "outputs": [],
   "source": [
    "def plot_loss(history):\n",
    "  plt.plot(history.history['loss'], label='loss')\n",
    "  plt.plot(history.history['val_loss'], label='val_loss')\n",
    "  plt.ylim([0, 500])\n",
    "  plt.xlabel('Epoch')\n",
    "  plt.ylabel('Error [MPG]')\n",
    "  plt.legend()\n",
    "  plt.grid(True)"
   ]
  },
  {
   "cell_type": "code",
   "execution_count": 26,
   "metadata": {},
   "outputs": [
    {
     "data": {
      "image/png": "[encoded data removed]",
      "text/plain": [
       "<Figure size 432x288 with 1 Axes>"
      ]
     },
     "metadata": {
      "needs_background": "light"
     },
     "output_type": "display_data"
    }
   ],
   "source": [
    "plot_loss(history)"
   ]
  },
  {
   "cell_type": "code",
   "execution_count": 27,
   "metadata": {},
   "outputs": [],
   "source": [
    "test_results = {}\n",
    "\n",
    "test_results['model'] = model.evaluate(\n",
    "    val_features[['total_cpu_util', 'total_mem_util', 'responsetime']],\n",
    "    val_labels, verbose=0)"
   ]
  },
  {
   "cell_type": "code",
   "execution_count": 28,
   "metadata": {},
   "outputs": [],
   "source": [
    "def build_and_compile_model(norm):\n",
    "  model = keras.Sequential([\n",
    "      norm,\n",
    "      layers.Dense(64, activation='relu'),\n",
    "      layers.Dense(64, activation='relu'),\n",
    "      layers.Dense(1)\n",
    "  ])\n",
    "\n",
    "  model.compile(loss='mean_absolute_error',\n",
    "                optimizer=tf.keras.optimizers.Adam(0.001))\n",
    "  return model"
   ]
  },
  {
   "cell_type": "code",
   "execution_count": 29,
   "metadata": {},
   "outputs": [],
   "source": [
    "dnn_model = build_and_compile_model(input_normalizer)"
   ]
  },
  {
   "cell_type": "code",
   "execution_count": 30,
   "metadata": {},
   "outputs": [
    {
     "name": "stdout",
     "output_type": "stream",
     "text": [
      "Model: \"sequential_1\"\n",
      "_________________________________________________________________\n",
      "Layer (type)                 Output Shape              Param #   \n",
      "=================================================================\n",
      "normalization_1 (Normalizati (None, 3)                 7         \n",
      "_________________________________________________________________\n",
      "dense_1 (Dense)              (None, 64)                256       \n",
      "_________________________________________________________________\n",
      "dense_2 (Dense)              (None, 64)                4160      \n",
      "_________________________________________________________________\n",
      "dense_3 (Dense)              (None, 1)                 65        \n",
      "=================================================================\n",
      "Total params: 4,488\n",
      "Trainable params: 4,481\n",
      "Non-trainable params: 7\n",
      "_________________________________________________________________\n"
     ]
    }
   ],
   "source": [
    "dnn_model.summary()"
   ]
  },
  {
   "cell_type": "code",
   "execution_count": 31,
   "metadata": {},
   "outputs": [
    {
     "name": "stdout",
     "output_type": "stream",
     "text": [
      "CPU times: user 4min 30s, sys: 41.1 s, total: 5min 11s\n",
      "Wall time: 3min 26s\n"
     ]
    }
   ],
   "source": [
    "%%time\n",
    "history = dnn_model.fit(\n",
    "    train_features[['total_cpu_util', 'total_mem_util', 'responsetime']], train_labels,\n",
    "    validation_split=0.2,\n",
    "    verbose=0, epochs=5000)"
   ]
  },
  {
   "cell_type": "code",
   "execution_count": 32,
   "metadata": {},
   "outputs": [
    {
     "data": {
      "image/png": "[encoded data removed]",
      "text/plain": [
       "<Figure size 432x288 with 1 Axes>"
      ]
     },
     "metadata": {
      "needs_background": "light"
     },
     "output_type": "display_data"
    }
   ],
   "source": [
    "plot_loss(history)"
   ]
  },
  {
   "cell_type": "code",
   "execution_count": 33,
   "metadata": {},
   "outputs": [],
   "source": [
    "test_results['dnn_model'] = dnn_model.evaluate(\n",
    "    val_features[['total_cpu_util', 'total_mem_util', 'responsetime']], val_labels,\n",
    "    verbose=0)"
   ]
  },
  {
   "cell_type": "code",
   "execution_count": 34,
   "metadata": {},
   "outputs": [
    {
     "data": {
      "text/html": [
       "<div>\n",
       "<style scoped>\n",
       "    .dataframe tbody tr th:only-of-type {\n",
       "        vertical-align: middle;\n",
       "    }\n",
       "\n",
       "    .dataframe tbody tr th {\n",
       "        vertical-align: top;\n",
       "    }\n",
       "\n",
       "    .dataframe thead th {\n",
       "        text-align: right;\n",
       "    }\n",
       "</style>\n",
       "<table border=\"1\" class=\"dataframe\">\n",
       "  <thead>\n",
       "    <tr style=\"text-align: right;\">\n",
       "      <th></th>\n",
       "      <th>requests</th>\n",
       "    </tr>\n",
       "  </thead>\n",
       "  <tbody>\n",
       "    <tr>\n",
       "      <th>model</th>\n",
       "      <td>21.094536</td>\n",
       "    </tr>\n",
       "    <tr>\n",
       "      <th>dnn_model</th>\n",
       "      <td>17.010506</td>\n",
       "    </tr>\n",
       "  </tbody>\n",
       "</table>\n",
       "</div>"
      ],
      "text/plain": [
       "            requests\n",
       "model      21.094536\n",
       "dnn_model  17.010506"
      ]
     },
     "execution_count": 34,
     "metadata": {},
     "output_type": "execute_result"
    }
   ],
   "source": [
    "pd.DataFrame(test_results, index=['requests']).T"
   ]
  },
  {
   "cell_type": "markdown",
   "metadata": {},
   "source": [
    "## Make Predictions"
   ]
  },
  {
   "cell_type": "code",
   "execution_count": 35,
   "metadata": {},
   "outputs": [
    {
     "data": {
      "image/png": "[encoded data removed]",
      "text/plain": [
       "<Figure size 432x288 with 1 Axes>"
      ]
     },
     "metadata": {
      "needs_background": "light"
     },
     "output_type": "display_data"
    }
   ],
   "source": [
    "test_predictions = dnn_model.predict(test_features).flatten()\n",
    "\n",
    "a = plt.axes(aspect='equal')\n",
    "plt.scatter(test_labels, test_predictions)\n",
    "plt.xlabel('True Values requests')\n",
    "plt.ylabel('Predictions requests')\n",
    "lims = [0, 1600]\n",
    "plt.xlim(lims)\n",
    "plt.ylim(lims)\n",
    "_ = plt.plot(lims, lims)"
   ]
  },
  {
   "cell_type": "code",
   "execution_count": 36,
   "metadata": {},
   "outputs": [
    {
     "name": "stdout",
     "output_type": "stream",
     "text": [
      "R² : 0.4519048240065353\n"
     ]
    }
   ],
   "source": [
    "from sklearn.metrics import r2_score\n",
    "R = r2_score(test_labels, test_predictions)\n",
    "print ('R² :',R)"
   ]
  },
  {
   "cell_type": "code",
   "execution_count": 37,
   "metadata": {},
   "outputs": [
    {
     "data": {
      "image/png": "[encoded data removed]",
      "text/plain": [
       "<Figure size 432x288 with 1 Axes>"
      ]
     },
     "metadata": {
      "needs_background": "light"
     },
     "output_type": "display_data"
    }
   ],
   "source": [
    "error = test_predictions - test_labels\n",
    "plt.hist(error, bins=100)\n",
    "plt.xlabel('Prediction Error [requests]')\n",
    "_ = plt.ylabel('Count')"
   ]
  },
  {
   "cell_type": "code",
   "execution_count": null,
   "metadata": {},
   "outputs": [],
   "source": []
  }
 ],
 "metadata": {
  "kernelspec": {
   "display_name": "Python 3",
   "language": "python",
   "name": "python3"
  },
  "language_info": {
   "codemirror_mode": {
    "name": "ipython",
    "version": 3
   },
   "file_extension": ".py",
   "mimetype": "text/x-python",
   "name": "python",
   "nbconvert_exporter": "python",
   "pygments_lexer": "ipython3",
   "version": "3.6.9"
  }
 },
 "nbformat": 4,
 "nbformat_minor": 4
}
