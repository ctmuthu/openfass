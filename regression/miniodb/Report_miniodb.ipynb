{
 "cells": [
  {
   "cell_type": "code",
   "execution_count": 151,
   "metadata": {},
   "outputs": [],
   "source": [
    "import os\n",
    "import datetime\n",
    "import pandas as pd\n",
    "import numpy as np\n",
    "import matplotlib.pyplot as plt\n",
    "from sklearn import preprocessing as skpreprocessing\n",
    "from sklearn.model_selection import train_test_split, ParameterGrid, GridSearchCV\n",
    "from sklearn.linear_model import Ridge, Lasso, HuberRegressor, ElasticNet, LinearRegression\n",
    "from sklearn.preprocessing import PolynomialFeatures\n",
    "from sklearn.pipeline import make_pipeline\n",
    "from sklearn.ensemble import GradientBoostingRegressor, RandomForestRegressor\n",
    "np.set_printoptions(precision=3, suppress=True)\n",
    "import tensorflow as tf\n",
    "\n",
    "from tensorflow import keras\n",
    "from tensorflow.keras import layers\n",
    "from tensorflow.keras.layers.experimental import preprocessing\n",
    "from sklearn.model_selection import GridSearchCV\n",
    "from sklearn.model_selection import KFold\n",
    "from sklearn.metrics import r2_score\n",
    "from pylab import rcParams"
   ]
  },
  {
   "cell_type": "code",
   "execution_count": 152,
   "metadata": {},
   "outputs": [
    {
     "data": {
      "text/html": [
       "<div>\n",
       "<style scoped>\n",
       "    .dataframe tbody tr th:only-of-type {\n",
       "        vertical-align: middle;\n",
       "    }\n",
       "\n",
       "    .dataframe tbody tr th {\n",
       "        vertical-align: top;\n",
       "    }\n",
       "\n",
       "    .dataframe thead th {\n",
       "        text-align: right;\n",
       "    }\n",
       "</style>\n",
       "<table border=\"1\" class=\"dataframe\">\n",
       "  <thead>\n",
       "    <tr style=\"text-align: right;\">\n",
       "      <th></th>\n",
       "      <th>cpu</th>\n",
       "      <th>diskio</th>\n",
       "      <th>diskioRead</th>\n",
       "      <th>diskioWritten</th>\n",
       "      <th>mem</th>\n",
       "      <th>networkReceived</th>\n",
       "      <th>networkTransmitted</th>\n",
       "      <th>replica</th>\n",
       "      <th>requests</th>\n",
       "      <th>responsetime</th>\n",
       "      <th>totalcpu</th>\n",
       "      <th>totalcpuUtilization</th>\n",
       "      <th>totalmemory</th>\n",
       "      <th>totalmemoryUtilization</th>\n",
       "    </tr>\n",
       "  </thead>\n",
       "  <tbody>\n",
       "    <tr>\n",
       "      <th>0</th>\n",
       "      <td>0.003067</td>\n",
       "      <td>0.009778</td>\n",
       "      <td>0.0</td>\n",
       "      <td>62623.288889</td>\n",
       "      <td>0.004166</td>\n",
       "      <td>1470.377778</td>\n",
       "      <td>11168.111111</td>\n",
       "      <td>1.0</td>\n",
       "      <td>11.0</td>\n",
       "      <td>0.975484</td>\n",
       "      <td>24.0</td>\n",
       "      <td>2.337500</td>\n",
       "      <td>1.011896e+11</td>\n",
       "      <td>5.927541</td>\n",
       "    </tr>\n",
       "    <tr>\n",
       "      <th>1</th>\n",
       "      <td>0.259077</td>\n",
       "      <td>0.010044</td>\n",
       "      <td>0.0</td>\n",
       "      <td>64625.777778</td>\n",
       "      <td>0.025773</td>\n",
       "      <td>1462.133333</td>\n",
       "      <td>10695.822222</td>\n",
       "      <td>1.0</td>\n",
       "      <td>26.0</td>\n",
       "      <td>0.984795</td>\n",
       "      <td>24.0</td>\n",
       "      <td>2.337500</td>\n",
       "      <td>1.011896e+11</td>\n",
       "      <td>5.927541</td>\n",
       "    </tr>\n",
       "    <tr>\n",
       "      <th>2</th>\n",
       "      <td>0.414789</td>\n",
       "      <td>0.009778</td>\n",
       "      <td>0.0</td>\n",
       "      <td>63624.533333</td>\n",
       "      <td>0.025773</td>\n",
       "      <td>1693.177778</td>\n",
       "      <td>11801.533333</td>\n",
       "      <td>1.0</td>\n",
       "      <td>41.0</td>\n",
       "      <td>0.959531</td>\n",
       "      <td>24.0</td>\n",
       "      <td>3.061111</td>\n",
       "      <td>1.011896e+11</td>\n",
       "      <td>5.795086</td>\n",
       "    </tr>\n",
       "    <tr>\n",
       "      <th>3</th>\n",
       "      <td>1.086331</td>\n",
       "      <td>0.012089</td>\n",
       "      <td>0.0</td>\n",
       "      <td>60256.711111</td>\n",
       "      <td>0.018704</td>\n",
       "      <td>1706.288889</td>\n",
       "      <td>10612.777778</td>\n",
       "      <td>1.0</td>\n",
       "      <td>57.0</td>\n",
       "      <td>0.944408</td>\n",
       "      <td>24.0</td>\n",
       "      <td>3.061111</td>\n",
       "      <td>1.011896e+11</td>\n",
       "      <td>5.795086</td>\n",
       "    </tr>\n",
       "    <tr>\n",
       "      <th>4</th>\n",
       "      <td>1.505856</td>\n",
       "      <td>0.011911</td>\n",
       "      <td>0.0</td>\n",
       "      <td>60256.711111</td>\n",
       "      <td>0.018704</td>\n",
       "      <td>1940.933333</td>\n",
       "      <td>11811.822222</td>\n",
       "      <td>1.0</td>\n",
       "      <td>61.0</td>\n",
       "      <td>0.955360</td>\n",
       "      <td>24.0</td>\n",
       "      <td>4.214100</td>\n",
       "      <td>1.011896e+11</td>\n",
       "      <td>5.769857</td>\n",
       "    </tr>\n",
       "  </tbody>\n",
       "</table>\n",
       "</div>"
      ],
      "text/plain": [
       "        cpu    diskio  diskioRead  diskioWritten       mem  networkReceived  \\\n",
       "0  0.003067  0.009778         0.0   62623.288889  0.004166      1470.377778   \n",
       "1  0.259077  0.010044         0.0   64625.777778  0.025773      1462.133333   \n",
       "2  0.414789  0.009778         0.0   63624.533333  0.025773      1693.177778   \n",
       "3  1.086331  0.012089         0.0   60256.711111  0.018704      1706.288889   \n",
       "4  1.505856  0.011911         0.0   60256.711111  0.018704      1940.933333   \n",
       "\n",
       "   networkTransmitted  replica  requests  responsetime  totalcpu  \\\n",
       "0        11168.111111      1.0      11.0      0.975484      24.0   \n",
       "1        10695.822222      1.0      26.0      0.984795      24.0   \n",
       "2        11801.533333      1.0      41.0      0.959531      24.0   \n",
       "3        10612.777778      1.0      57.0      0.944408      24.0   \n",
       "4        11811.822222      1.0      61.0      0.955360      24.0   \n",
       "\n",
       "   totalcpuUtilization   totalmemory  totalmemoryUtilization  \n",
       "0             2.337500  1.011896e+11                5.927541  \n",
       "1             2.337500  1.011896e+11                5.927541  \n",
       "2             3.061111  1.011896e+11                5.795086  \n",
       "3             3.061111  1.011896e+11                5.795086  \n",
       "4             4.214100  1.011896e+11                5.769857  "
      ]
     },
     "execution_count": 152,
     "metadata": {},
     "output_type": "execute_result"
    }
   ],
   "source": [
    "cwd = os.getcwd()\n",
    "output_dir = os.path.join(cwd, \"../../data\")\n",
    "df = pd.read_csv(os.path.join(output_dir, \"combined_miniodb.csv\"))\n",
    "df_test = pd.read_csv(os.path.join(output_dir, \"combined_miniodbtest.csv\"))\n",
    "#df_test = pd.read_csv(os.path.join(output_dir, \"figlet1599056546.006096_1599063766.431225.csv\"))\n",
    "df = df.drop(df[df.responsetime > 5].index)\n",
    "df.pop('Time')\n",
    "df_test = df_test.drop(df_test[df_test.responsetime > 5].index)\n",
    "df_test.pop('Time')\n",
    "df.head()"
   ]
  },
  {
   "cell_type": "code",
   "execution_count": 153,
   "metadata": {},
   "outputs": [],
   "source": [
    "# remove 2xlarge\n",
    "df = df.drop(df[df.totalcpu > 16].index)"
   ]
  },
  {
   "cell_type": "code",
   "execution_count": 154,
   "metadata": {},
   "outputs": [],
   "source": [
    "df_t = pd.DataFrame()\n",
    "df_ttest = pd.DataFrame()"
   ]
  },
  {
   "cell_type": "code",
   "execution_count": 155,
   "metadata": {},
   "outputs": [
    {
     "data": {
      "text/html": [
       "<div>\n",
       "<style scoped>\n",
       "    .dataframe tbody tr th:only-of-type {\n",
       "        vertical-align: middle;\n",
       "    }\n",
       "\n",
       "    .dataframe tbody tr th {\n",
       "        vertical-align: top;\n",
       "    }\n",
       "\n",
       "    .dataframe thead th {\n",
       "        text-align: right;\n",
       "    }\n",
       "</style>\n",
       "<table border=\"1\" class=\"dataframe\">\n",
       "  <thead>\n",
       "    <tr style=\"text-align: right;\">\n",
       "      <th></th>\n",
       "      <th>total_cpu_util</th>\n",
       "      <th>total_mem_util</th>\n",
       "      <th>responsetime</th>\n",
       "      <th>requests</th>\n",
       "    </tr>\n",
       "  </thead>\n",
       "  <tbody>\n",
       "    <tr>\n",
       "      <th>460</th>\n",
       "      <td>0.413613</td>\n",
       "      <td>497.947238</td>\n",
       "      <td>0.962448</td>\n",
       "      <td>11.0</td>\n",
       "    </tr>\n",
       "    <tr>\n",
       "      <th>461</th>\n",
       "      <td>0.413613</td>\n",
       "      <td>497.947238</td>\n",
       "      <td>0.952769</td>\n",
       "      <td>26.0</td>\n",
       "    </tr>\n",
       "    <tr>\n",
       "      <th>462</th>\n",
       "      <td>0.450463</td>\n",
       "      <td>499.714253</td>\n",
       "      <td>0.974892</td>\n",
       "      <td>42.0</td>\n",
       "    </tr>\n",
       "    <tr>\n",
       "      <th>463</th>\n",
       "      <td>0.450463</td>\n",
       "      <td>499.714253</td>\n",
       "      <td>0.951142</td>\n",
       "      <td>57.0</td>\n",
       "    </tr>\n",
       "    <tr>\n",
       "      <th>464</th>\n",
       "      <td>0.632927</td>\n",
       "      <td>499.421798</td>\n",
       "      <td>0.986462</td>\n",
       "      <td>61.0</td>\n",
       "    </tr>\n",
       "  </tbody>\n",
       "</table>\n",
       "</div>"
      ],
      "text/plain": [
       "     total_cpu_util  total_mem_util  responsetime  requests\n",
       "460        0.413613      497.947238      0.962448      11.0\n",
       "461        0.413613      497.947238      0.952769      26.0\n",
       "462        0.450463      499.714253      0.974892      42.0\n",
       "463        0.450463      499.714253      0.951142      57.0\n",
       "464        0.632927      499.421798      0.986462      61.0"
      ]
     },
     "execution_count": 155,
     "metadata": {},
     "output_type": "execute_result"
    }
   ],
   "source": [
    "df_t['total_cpu_util'] = (df['totalcpuUtilization']*(df['totalcpu']*0.67))/100                    \n",
    "df_t['total_mem_util'] = (df['totalmemoryUtilization']*df['totalmemory'])*1e-9\n",
    "df_t['responsetime'] = df['responsetime']\n",
    "df_t['requests'] = df['requests']\n",
    "#df_t['replica'] = df['replica']\n",
    "df_ttest['total_cpu_util'] = (df_test['totalcpuUtilization']*(df_test['totalcpu']*0.67))/100\n",
    "df_ttest['total_mem_util'] = (df_test['totalmemoryUtilization']*df_test['totalmemory'])*1e-9\n",
    "df_ttest['responsetime'] = df_test['responsetime']\n",
    "df_ttest['requests'] = df_test['requests']\n",
    "#df_ttest['replica'] = df_test['replica']\n",
    "df_t.head()"
   ]
  },
  {
   "cell_type": "code",
   "execution_count": 156,
   "metadata": {},
   "outputs": [],
   "source": [
    "df.totalmemory = df.totalmemory*1e-9"
   ]
  },
  {
   "cell_type": "code",
   "execution_count": 157,
   "metadata": {},
   "outputs": [
    {
     "data": {
      "image/png": "[encoded data removed]",
      "text/plain": [
       "<Figure size 1296x288 with 3 Axes>"
      ]
     },
     "metadata": {
      "needs_background": "light"
     },
     "output_type": "display_data"
    }
   ],
   "source": [
    "rcParams['figure.figsize'] = 18, 4\n",
    "rcParams['axes.labelsize'] = 14\n",
    "rcParams['axes.titlesize'] = 20\n",
    "rcParams[\"font.size\"] = 12\n",
    "fig, (ax1, ax2, ax5) = plt.subplots(1, 3)\n",
    "#ax1 = plt.subplot(111)\n",
    "\n",
    "\n",
    "ax1.grid(axis=\"both\", color=\"0.9\", linestyle='-', linewidth=1)\n",
    "ax1.set_xlabel(\"Number of Requests (hundreds)\")\n",
    "ax1.set_ylabel(\"CPU Utilization (in percent)\")\n",
    "ax1.plot(df[(df.totalcpu == 6) & (df.totalmemory >12) & (df.totalmemory < 25)]['requests']/100, df[(df.totalcpu == 6) & (df.totalmemory > 12) & (df.totalmemory < 25)]['totalcpuUtilization'],'.', label = \"t2.medium\", color=\"blue\")\n",
    "ax1.plot(df[(df.totalcpu == 6) & (df.totalmemory > 25)]['requests']/100, df[(df.totalcpu == 6) & (df.totalmemory > 25) ]['totalcpuUtilization'], 'x', label = \"t2.large\", color=\"orange\")\n",
    "ax1.plot(df[df.totalcpu == 12]['requests']/100, df[df.totalcpu == 12]['totalcpuUtilization'], '.',label = \"t2.xlarge\", color=\"green\")\n",
    "ax1.plot(df[df.totalcpu > 12]['requests']/100, df[df.totalcpu > 12]['totalcpuUtilization'], '<', label = \"t2.2xlarge\", color=\"red\")\n",
    "ax1.legend()\n",
    "\n",
    "ax2.grid(axis=\"both\", color=\"0.9\", linestyle='-', linewidth=1)\n",
    "ax2.set_xlabel(\"Number of Requests (hundreds)\")\n",
    "ax2.set_ylabel(\"Mem Utilization (in percent)\")\n",
    "ax2.plot(df[(df.totalcpu == 6) & (df.totalmemory >12) & (df.totalmemory < 25)]['requests']/100, df[(df.totalcpu == 6) & (df.totalmemory > 12) & (df.totalmemory < 25)]['totalmemoryUtilization'],'.', label = \"t2.medium\", color=\"blue\")\n",
    "ax2.plot(df[(df.totalcpu == 6) & (df.totalmemory > 25)]['requests']/100, df[(df.totalcpu == 6) & (df.totalmemory > 25) ]['totalmemoryUtilization'], 'x', label = \"t2.large\", color=\"orange\")\n",
    "ax2.plot(df[df.totalcpu == 12]['requests']/100, df[df.totalcpu == 12]['totalmemoryUtilization'], '.',label = \"t2.xlarge\", color=\"green\")\n",
    "ax2.plot(df[df.totalcpu > 12]['requests']/100, df[df.totalcpu > 12]['totalmemoryUtilization'], '<', label = \"t2.2xlarge\", color=\"red\")\n",
    "ax2.legend()\n",
    "#ax3.grid(axis=\"both\", color=\"0.9\", linestyle='-', linewidth=1)\n",
    "#ax3.set_xlabel(\"Number of Requests (thousands)\")\n",
    "#ax3.set_ylabel(\"Disk I/O Utilization (in percent)\")\n",
    "#ax3.plot(df[(df.totalcpu == 6) & (df.totalmemory >12) & (df.totalmemory < 25)]['requests']/1000, df[(df.totalcpu == 6) & (df.totalmemory > 12) & (df.totalmemory < 25)]['diskio'],'.', label = \"t2.medium\", color=\"blue\")\n",
    "#ax3.plot(df[(df.totalcpu == 6) & (df.totalmemory > 25)]['requests']/1000, df[(df.totalcpu == 6) & (df.totalmemory > 25) ]['diskio'], 'x', label = \"t2.large\", color=\"orange\")\n",
    "#ax3.plot(df[df.totalcpu == 12]['requests']/1000, df[df.totalcpu == 12]['diskio'], '.',label = \"t2.xlarge\", color=\"green\")\n",
    "#ax3.plot(df[df.totalcpu > 12]['requests']/1000, df[df.totalcpu > 12]['diskio'], '<', label = \"t2.2xlarge\", color=\"red\")\n",
    "\n",
    "#ax4.grid(axis=\"both\", color=\"0.9\", linestyle='-', linewidth=1)\n",
    "#ax4.set_xlabel(\"Number of Requests (thousands)\")\n",
    "#ax4.set_ylabel(\"DiskIO Utilization (in percent)\")\n",
    "#ax4.plot(df[(df.totalcpu == 6) & (df.totalmemory >12) & (df.totalmemory < 25)]['requests']/1000, df[(df.totalcpu == 6) & (df.totalmemory > 12) & (df.totalmemory < 25)]['networkTransmitted'],'.', label = \"t2.medium\", color=\"blue\")\n",
    "#ax4.plot(df[(df.totalcpu == 6) & (df.totalmemory > 25)]['requests']/1000, df[(df.totalcpu == 6) & (df.totalmemory > 25) ]['networkTransmitted'], 'x', label = \"t2.large\", color=\"orange\")\n",
    "#ax4.plot(df[df.totalcpu == 12]['requests']/1000, df[df.totalcpu == 12]['networkTransmitted'], '.',label = \"t2.xlarge\", color=\"green\")\n",
    "#ax4.plot(df[df.totalcpu > 12]['requests']/1000, df[df.totalcpu > 12]['networkTransmitted'], '<', label = \"t2.2xlarge\", color=\"red\")\n",
    "\n",
    "ax5.grid(axis=\"both\", color=\"0.9\", linestyle='-', linewidth=1)\n",
    "ax5.set_xlabel(\"Number of Requests (hundreds)\")\n",
    "ax5.set_ylabel(\"Response Time (in seconds)\")\n",
    "ax5.plot(df[(df.totalcpu == 6) & (df.totalmemory >12) & (df.totalmemory < 25)]['requests']/100, df[(df.totalcpu == 6) & (df.totalmemory > 12) & (df.totalmemory < 25)]['responsetime'],'.', label = \"t2.medium\", color=\"blue\")\n",
    "ax5.plot(df[(df.totalcpu == 6) & (df.totalmemory > 25)]['requests']/100, df[(df.totalcpu == 6) & (df.totalmemory > 25) ]['responsetime'], 'x', label = \"t2.large\", color=\"orange\")\n",
    "ax5.plot(df[df.totalcpu == 12]['requests']/100, df[df.totalcpu == 12]['responsetime'], '.',label = \"t2.xlarge\", color=\"green\")\n",
    "ax5.plot(df[df.totalcpu > 12]['requests']/100, df[df.totalcpu > 12]['responsetime'], '<', label = \"t2.2xlarge\", color=\"red\")\n",
    "\n",
    "\n",
    "\n",
    "plt.legend()\n",
    "fig.savefig('resultMinioDB.pdf',bbox_inches = 'tight',pad_inches = 0,  dpi=300)"
   ]
  },
  {
   "cell_type": "code",
   "execution_count": 158,
   "metadata": {},
   "outputs": [
    {
     "data": {
      "image/png": "[encoded data removed]",
      "text/plain": [
       "<Figure size 288x288 with 1 Axes>"
      ]
     },
     "metadata": {
      "needs_background": "light"
     },
     "output_type": "display_data"
    }
   ],
   "source": [
    "rcParams['figure.figsize'] = 4, 4\n",
    "rcParams['axes.labelsize'] = 12\n",
    "rcParams['axes.titlesize'] = 20\n",
    "rcParams[\"font.size\"] = 12\n",
    "fig, (ax1) = plt.subplots(1, 1)\n",
    "#ax1 = plt.subplot(111)\n",
    "\n",
    "\n",
    "ax1.grid(axis=\"both\", color=\"0.9\", linestyle='-', linewidth=1)\n",
    "ax1.set_xlabel(\"Number of Requests (hundreds)\")\n",
    "ax1.set_ylabel(\"Response Time (in seconds)\")\n",
    "\n",
    "ax2.grid(axis=\"both\", color=\"0.9\", linestyle='-', linewidth=1)\n",
    "#ax2.set_xlabel(\"Number of Requests (hundreds)\")\n",
    "#ax2.set_ylabel(\"Response Time (in seconds)\")\n",
    "\n",
    "ax3.grid(axis=\"both\", color=\"0.9\", linestyle='-', linewidth=1)\n",
    "ax3.set_xlabel(\"Number of Requests (hundreds)\")\n",
    "ax3.set_ylabel(\"Response Time (in seconds)\")\n",
    "\n",
    "ax4.grid(axis=\"both\", color=\"0.9\", linestyle='-', linewidth=1)\n",
    "ax4.set_xlabel(\"Number of Requests (hundreds)\")\n",
    "#ax4.set_ylabel(\"Response Time (in seconds)\")\n",
    "\n",
    "\n",
    "ax1.plot(df[(df.totalcpu == 6) & (df.totalmemory >12) & (df.totalmemory < 25)]['requests']/100, df[(df.totalcpu == 6) & (df.totalmemory > 12) & (df.totalmemory < 25)]['responsetime'],'.', label = \"t2.medium\", color=\"blue\")\n",
    "ax1.plot(df[(df.totalcpu == 6) & (df.totalmemory > 25)]['requests']/100, df[(df.totalcpu == 6) & (df.totalmemory > 25) ]['responsetime'], 'x', label = \"t2.large\", color=\"orange\")\n",
    "ax1.plot(df[df.totalcpu == 12]['requests']/100, df[df.totalcpu == 12]['responsetime'], '.',label = \"t2.xlarge\", color=\"green\")\n",
    "ax1.plot(df[df.totalcpu > 12]['requests']/100, df[df.totalcpu > 12]['responsetime'], '<', label = \"t2.2xlarge\", color=\"red\")\n",
    "\n",
    "ax1.legend()\n",
    "ax2.legend()\n",
    "ax3.legend()\n",
    "ax4.legend()\n",
    "\n",
    "plt.show()\n",
    "fig.savefig(\"response_times_miniodb.pdf\",bbox_inches = 'tight',pad_inches = 0,  dpi=300) "
   ]
  },
  {
   "cell_type": "code",
   "execution_count": 159,
   "metadata": {},
   "outputs": [],
   "source": [
    "x_train = df_t[[col for col in df_t.columns if col != 'requests']]\n",
    "y_train = df_t['requests']\n",
    "x_train = skpreprocessing.normalize(x_train, norm='l2')\n",
    "x_test = df_ttest[[col for col in df_ttest.columns if col != 'requests']]\n",
    "y_test = df_ttest['requests']\n",
    "x_test = skpreprocessing.normalize(x_test, norm='l2')\n",
    "#plt.scatter(df_ttest['requests'], df_ttest['total_cpu_util'] )\n",
    "#plt.show()\n",
    "#plt.scatter(df_t['requests'], df_t['total_cpu_util'] )\n",
    "#plt.show()"
   ]
  },
  {
   "cell_type": "markdown",
   "metadata": {},
   "source": [
    "# Linear Regression"
   ]
  },
  {
   "cell_type": "code",
   "execution_count": 160,
   "metadata": {},
   "outputs": [
    {
     "name": "stdout",
     "output_type": "stream",
     "text": [
      "CPU times: user 1.36 ms, sys: 186 µs, total: 1.55 ms\n",
      "Wall time: 1.56 ms\n"
     ]
    }
   ],
   "source": [
    "%%time\n",
    "#parameters = {'fit_intercept': [True,False],\n",
    "#             'copy_X': [True,False]}\n",
    "#linear = GridSearchCV(LinearRegression(),\n",
    "#                      parameters, \n",
    "#                      cv=7,\n",
    "#                      scoring='r2',\n",
    "#                      n_jobs=-1)\n",
    "linear = LinearRegression(fit_intercept=False)\n",
    "linear.fit(x_train, y_train)\n",
    "\n",
    "y_tr_pred = linear.predict(x_train)"
   ]
  },
  {
   "cell_type": "code",
   "execution_count": 161,
   "metadata": {},
   "outputs": [
    {
     "name": "stdout",
     "output_type": "stream",
     "text": [
      "CPU times: user 411 µs, sys: 0 ns, total: 411 µs\n",
      "Wall time: 419 µs\n"
     ]
    }
   ],
   "source": [
    "%%time\n",
    "lin_reg_y_te_pred = linear.predict(x_test)"
   ]
  },
  {
   "cell_type": "code",
   "execution_count": 162,
   "metadata": {},
   "outputs": [
    {
     "name": "stdout",
     "output_type": "stream",
     "text": [
      "Training Score  0.9752242943214903\n",
      "Testing Score  0.8533124147244828\n",
      "R² : 0.8533124147244828\n"
     ]
    },
    {
     "data": {
      "image/png": "[encoded data removed]",
      "text/plain": [
       "<Figure size 288x288 with 1 Axes>"
      ]
     },
     "metadata": {
      "needs_background": "light"
     },
     "output_type": "display_data"
    }
   ],
   "source": [
    "#print('linear reg score on our train data: {:.3f}'.format(sqrt(mse(y_train, y_tr_pred))))\n",
    "#print('linear reg score on our test data: {:.3f}'.format(sqrt(mse(y_test, y_te_pred))))\n",
    "\n",
    "print(\"Training Score \",linear.score(x_train,y_train))\n",
    "linear_score = linear.score(x_test,y_test)\n",
    "print(\"Testing Score \",linear_score)\n",
    "\n",
    "from sklearn.metrics import r2_score\n",
    "R = r2_score(y_test, lin_reg_y_te_pred)\n",
    "print ('R² :',R)\n",
    "#print('Best Score: ', linear.best_score_)\n",
    "#print('Best Params: ', linear.best_params_)\n",
    "\n",
    "plt.scatter(range(0,len(y_test)),y_test, color='red')\n",
    "plt.scatter(range(0,len(lin_reg_y_te_pred)),lin_reg_y_te_pred, color='blue')\n",
    "plt.show()\n",
    "#plt.plot(y_test)\n",
    "#plt.plot(lin_reg_y_te_pred)\n",
    "#plt.show()"
   ]
  },
  {
   "cell_type": "markdown",
   "metadata": {},
   "source": [
    "# Polynomial Regression"
   ]
  },
  {
   "cell_type": "code",
   "execution_count": 163,
   "metadata": {},
   "outputs": [
    {
     "name": "stdout",
     "output_type": "stream",
     "text": [
      "CPU times: user 31.9 ms, sys: 0 ns, total: 31.9 ms\n",
      "Wall time: 31.4 ms\n"
     ]
    }
   ],
   "source": [
    "%%time\n",
    "def PolynomialRegression(**kwargs):\n",
    "    return make_pipeline(PolynomialFeatures(), LinearRegression(**kwargs))\n",
    "degrees = [2]\n",
    "param_grid = {'polynomialfeatures__degree': degrees, 'linearregression__fit_intercept': [False]}\n",
    "polynomial = GridSearchCV(PolynomialRegression(),\n",
    "                      param_grid, \n",
    "                      scoring='r2')\n",
    "polynomial.fit(x_train, y_train)\n",
    "\n",
    "y_tr_pred = polynomial.predict(x_train)"
   ]
  },
  {
   "cell_type": "code",
   "execution_count": 164,
   "metadata": {},
   "outputs": [
    {
     "name": "stdout",
     "output_type": "stream",
     "text": [
      "CPU times: user 2.11 ms, sys: 289 µs, total: 2.4 ms\n",
      "Wall time: 1.77 ms\n"
     ]
    }
   ],
   "source": [
    "%%time\n",
    "poly_reg_y_te_pred = polynomial.predict(x_test)\n"
   ]
  },
  {
   "cell_type": "code",
   "execution_count": 165,
   "metadata": {},
   "outputs": [
    {
     "name": "stdout",
     "output_type": "stream",
     "text": [
      "Training Score  0.9892867112588428\n",
      "Testing Score  -2.0276484063608664\n",
      "R² : -2.0276484063608664\n",
      "Best Params:  {'linearregression__fit_intercept': False, 'polynomialfeatures__degree': 2}\n"
     ]
    },
    {
     "data": {
      "text/plain": [
       "<matplotlib.collections.PathCollection at 0x7fb6c02ff828>"
      ]
     },
     "execution_count": 165,
     "metadata": {},
     "output_type": "execute_result"
    },
    {
     "data": {
      "image/png": "[encoded data removed]",
      "text/plain": [
       "<Figure size 288x288 with 1 Axes>"
      ]
     },
     "metadata": {
      "needs_background": "light"
     },
     "output_type": "display_data"
    }
   ],
   "source": [
    "#print('linear reg score on our train data: {:.3f}'.format(sqrt(mse(y_train, y_tr_pred))))\n",
    "#print('linear reg score on our test data: {:.3f}'.format(sqrt(mse(y_test, y_te_pred))))\n",
    "\n",
    "print(\"Training Score \",polynomial.score(x_train,y_train))\n",
    "polynomial_score = polynomial.score(x_test,y_test)\n",
    "print(\"Testing Score \",polynomial_score)\n",
    "\n",
    "from sklearn.metrics import r2_score\n",
    "R = r2_score(y_test, poly_reg_y_te_pred)\n",
    "print ('R² :',R)\n",
    "#print('Best Score: ', polynomial.best_score_)\n",
    "print('Best Params: ', polynomial.best_params_)\n",
    "\n",
    "plt.scatter(range(0,len(y_test)),y_test, color='red')\n",
    "plt.scatter(range(0,len(poly_reg_y_te_pred)),poly_reg_y_te_pred, color='blue')"
   ]
  },
  {
   "cell_type": "markdown",
   "metadata": {},
   "source": [
    "# Ridge Regression"
   ]
  },
  {
   "cell_type": "code",
   "execution_count": 166,
   "metadata": {},
   "outputs": [
    {
     "name": "stdout",
     "output_type": "stream",
     "text": [
      "CPU times: user 15.5 ms, sys: 7.62 ms, total: 23.2 ms\n",
      "Wall time: 22.3 ms\n"
     ]
    }
   ],
   "source": [
    "%%time\n",
    "alphas = [2.976351441631313e-11]\n",
    "param_grid = {'max_iter': [10],\n",
    "             'alpha': alphas,\n",
    "            'solver': ['auto'],\n",
    "             'fit_intercept':[True]}\n",
    "ridge_cv = GridSearchCV(Ridge(),\n",
    "                       param_grid=param_grid,\n",
    "                         scoring='r2')\n",
    "\n",
    "ridge_cv.fit(x_train, y_train)\n",
    "\n",
    "y_tr_pred = ridge_cv.predict(x_train)"
   ]
  },
  {
   "cell_type": "code",
   "execution_count": 167,
   "metadata": {},
   "outputs": [
    {
     "name": "stdout",
     "output_type": "stream",
     "text": [
      "CPU times: user 492 µs, sys: 0 ns, total: 492 µs\n",
      "Wall time: 491 µs\n"
     ]
    }
   ],
   "source": [
    "%%time\n",
    "ridge_cv_y_te_pred = ridge_cv.predict(x_test)"
   ]
  },
  {
   "cell_type": "code",
   "execution_count": 168,
   "metadata": {},
   "outputs": [
    {
     "name": "stdout",
     "output_type": "stream",
     "text": [
      "Training Score  0.9863599826739019\n",
      "Testing Score  0.9527343531757718\n",
      "Best Params:  {'alpha': 2.976351441631313e-11, 'fit_intercept': True, 'max_iter': 10, 'solver': 'auto'}\n"
     ]
    },
    {
     "data": {
      "text/plain": [
       "<matplotlib.collections.PathCollection at 0x7fb7085b9eb8>"
      ]
     },
     "execution_count": 168,
     "metadata": {},
     "output_type": "execute_result"
    },
    {
     "data": {
      "image/png": "[encoded data removed]",
      "text/plain": [
       "<Figure size 288x288 with 1 Axes>"
      ]
     },
     "metadata": {
      "needs_background": "light"
     },
     "output_type": "display_data"
    }
   ],
   "source": [
    "print(\"Training Score \",ridge_cv.score(x_train,y_train))\n",
    "ridge_cv_score = ridge_cv.score(x_test,y_test)\n",
    "print(\"Testing Score \",ridge_cv_score)\n",
    "\n",
    "#from sklearn.metrics import r2_score\n",
    "#R = r2_score(y_test, y_te_pred)\n",
    "#print ('R² :',R)\n",
    "#print('Best Score: ', ridge_cv.best_score_)\n",
    "print('Best Params: ', ridge_cv.best_params_)\n",
    "\n",
    "plt.scatter(range(0,len(y_test)),y_test, color='red')\n",
    "plt.scatter(range(0,len(ridge_cv_y_te_pred)),ridge_cv_y_te_pred, color='blue')"
   ]
  },
  {
   "cell_type": "markdown",
   "metadata": {},
   "source": [
    "# Random Forrest"
   ]
  },
  {
   "cell_type": "code",
   "execution_count": 169,
   "metadata": {},
   "outputs": [
    {
     "name": "stdout",
     "output_type": "stream",
     "text": [
      "CPU times: user 915 ms, sys: 0 ns, total: 915 ms\n",
      "Wall time: 917 ms\n"
     ]
    }
   ],
   "source": [
    "%%time\n",
    "parameters = {  \n",
    "                 'min_samples_leaf': [4],\n",
    "                 'max_depth': [5],\n",
    "                 'n_estimators': [100],\n",
    "                'max_features': ['auto']\n",
    "}\n",
    "\n",
    "rf_cv = GridSearchCV( RandomForestRegressor(),\n",
    "                      param_grid=parameters, \n",
    "                      scoring='r2')\n",
    "\n",
    "rf_cv.fit(x_train, y_train)\n",
    "\n",
    "y_tr_pred = rf_cv.predict(x_train)"
   ]
  },
  {
   "cell_type": "code",
   "execution_count": 170,
   "metadata": {},
   "outputs": [
    {
     "name": "stdout",
     "output_type": "stream",
     "text": [
      "CPU times: user 20.1 ms, sys: 465 µs, total: 20.5 ms\n",
      "Wall time: 17.8 ms\n"
     ]
    }
   ],
   "source": [
    "%%time\n",
    "rf_cv_y_te_pred = rf_cv.predict(x_test)"
   ]
  },
  {
   "cell_type": "code",
   "execution_count": 171,
   "metadata": {},
   "outputs": [
    {
     "name": "stdout",
     "output_type": "stream",
     "text": [
      "Training Score  0.9942973459479997\n",
      "Testing Score  0.17339623214732747\n",
      "Best Params:  {'max_depth': 5, 'max_features': 'auto', 'min_samples_leaf': 4, 'n_estimators': 100}\n"
     ]
    },
    {
     "data": {
      "text/plain": [
       "<matplotlib.collections.PathCollection at 0x7fb6c048b400>"
      ]
     },
     "execution_count": 171,
     "metadata": {},
     "output_type": "execute_result"
    },
    {
     "data": {
      "image/png": "[encoded data removed]",
      "text/plain": [
       "<Figure size 288x288 with 1 Axes>"
      ]
     },
     "metadata": {
      "needs_background": "light"
     },
     "output_type": "display_data"
    }
   ],
   "source": [
    "print(\"Training Score \",rf_cv.score(x_train,y_train))\n",
    "rf_cv_score = rf_cv.score(x_test,y_test)\n",
    "print(\"Testing Score \",rf_cv_score)\n",
    "\n",
    "#from sklearn.metrics import r2_score\n",
    "#R = r2_score(y_test, y_te_pred)\n",
    "#print ('R² :',R)\n",
    "#print('Best Score: ', rf_cv.best_score_)\n",
    "print('Best Params: ', rf_cv.best_params_)\n",
    "\n",
    "plt.scatter(range(0,len(y_test)),y_test, color='red')\n",
    "plt.scatter(range(0,len(rf_cv_y_te_pred)),rf_cv_y_te_pred, color='blue')"
   ]
  },
  {
   "cell_type": "code",
   "execution_count": 172,
   "metadata": {},
   "outputs": [],
   "source": [
    "testPre_df = []\n",
    "def plot_loss(history):\n",
    "  history.history['loss'] = np.array(history.history['loss'])/max(max(np.array(history.history['loss'])), max(np.array(history.history['val_loss'])))\n",
    "  history.history['val_loss'] = np.array(history.history['val_loss'])/max(max(np.array(history.history['loss'])), max(np.array(history.history['val_loss'])))\n",
    "  plt.plot(history.history['loss'], label='Training loss')\n",
    "  plt.plot(history.history['val_loss'], label='Validation loss')\n",
    "  plt.ylim([0, 1])\n",
    "  plt.xlabel('Epoch')\n",
    "  plt.ylabel('Loss')\n",
    "  plt.legend()\n",
    "  plt.grid(True)\n",
    "  return plt.savefig(\"LossMinio.png\",bbox_inches = 'tight',pad_inches = 0,  dpi=300)\n",
    "\n",
    "def plot_prediction(test_labels, test_predictions, i, alpha,label):\n",
    "    color = ['green','red','orange', 'brown', 'pink', 'brown','blue']\n",
    "    shape = ['1','2','3','4','+',',','x']\n",
    "    rcParams['figure.figsize'] = 5, 5\n",
    "    rcParams['axes.labelsize'] = 12\n",
    "    rcParams['axes.titlesize'] = 20\n",
    "    rcParams[\"font.size\"] = 12\n",
    "    a = plt.axes(aspect='equal')\n",
    "    #test_predictions = test_predictions/max(test_predictions)\n",
    "    #test_labels = test_labels/max(test_labels)\n",
    "    m1, b1 = 1.0, 1.0\n",
    "    m2, b2 = 1.0, -250.0\n",
    "    m3, b3 = 1.0, 250.0\n",
    "    m4, b4 = 1.0, -500.0\n",
    "    m5, b5 = 1.0, 500.0\n",
    "    x = np.linspace(0,70000,500)\n",
    "    plt.plot(x,x*m1+b1, color='black', alpha=1, linewidth=1)\n",
    "    plt.plot(x,x*m2+b2, ':',color='red', alpha=0.5, linewidth=1)\n",
    "    plt.plot(x,x*m3+b3, ':',color='red', alpha=0.5, linewidth=1)\n",
    "    plt.plot(x,x*m4+b4, '-',color='grey', alpha=0.1, linewidth=1)\n",
    "    plt.plot(x,x*m5+b5, '-',color='grey', alpha=0.1, linewidth=1)\n",
    "    plt.plot(test_labels, test_predictions,shape[i], color=color[i], label=label,alpha=alpha)\n",
    "    plt.xlabel('True Values (Number of Requests)')\n",
    "    plt.ylabel('Predictions (Number of Requests)')\n",
    "    lims = [0, max(list(test_labels)+list(test_predictions))+100]\n",
    "    plt.xlim(lims)\n",
    "    plt.ylim(lims)\n",
    "    plt.legend()\n",
    "    #_ = plt.plot(lims, lims)\n",
    "    plt.grid(axis=\"both\", color=\"0.9\", linestyle='-', linewidth=1)\n",
    "    return plt.savefig(\"Predictionminio.png\",bbox_inches = 'tight',pad_inches = 0,  dpi=300)\n",
    "\n",
    "callback = tf.keras.callbacks.EarlyStopping(monitor='loss', patience=0)\n",
    "def build_and_compile_model(norm):\n",
    "  model = None\n",
    "  model = keras.Sequential([\n",
    "      norm,\n",
    "      layers.Dense(64, activation='relu',name=\"dense_one\"),\n",
    "      layers.Dense(64, activation='relu',name=\"dense_two\"),\n",
    "      layers.Dense(1,name=\"dense_three\")\n",
    "  ])\n",
    "\n",
    "  model.compile(loss='mean_absolute_error',\n",
    "                optimizer=tf.keras.optimizers.Adam(0.001))\n",
    "  return model"
   ]
  },
  {
   "cell_type": "code",
   "execution_count": 173,
   "metadata": {},
   "outputs": [
    {
     "name": "stdout",
     "output_type": "stream",
     "text": [
      "CPU times: user 22.9 s, sys: 2.67 s, total: 25.6 s\n",
      "Wall time: 18.3 s\n"
     ]
    }
   ],
   "source": [
    "%%time\n",
    "i = 0\n",
    "loss_exp = 0\n",
    "nn_score = 0\n",
    "test_dataset = df_ttest\n",
    "test_features = test_dataset.copy()\n",
    "test_labels = test_features.pop('requests')\n",
    "test_predictions = []\n",
    "loss, score, model = [], [], []\n",
    "#hist = np.empty([6,])\n",
    "# k fold\n",
    "X = df_t.loc[:,['total_cpu_util','total_mem_util', 'responsetime']].values\n",
    "y = df_t.loc[:,['requests']].values\n",
    "\n",
    "kf = KFold(n_splits=6, random_state=42, shuffle=True)\n",
    "#print(kf)\n",
    "for train_index, test_index in kf.split(X):\n",
    "    #print(\"TRAIN:\", train_index, \"TEST:\", test_index)\n",
    "    train_features, val_features = X[train_index], X[test_index]\n",
    "    train_labels, val_labels = y[train_index], y[test_index]\n",
    "\n",
    "# Divide dataset\n",
    "#train_dataset = df_t.sample(frac=0.8, random_state=0)\n",
    "#val_dataset = df_t.drop(train_dataset.index)\n",
    "#test_dataset = df_ttest\n",
    "\n",
    "#train_features = train_dataset.copy()\n",
    "#val_features = val_dataset.copy()\n",
    "#test_features = test_dataset.copy()\n",
    "\n",
    "# Create labels\n",
    "#train_labels = train_features.pop('requests')\n",
    "#val_labels = val_features.pop('requests')\n",
    "#test_labels = test_features.pop('requests')\n",
    "\n",
    "# Normalization\n",
    "    input = np.array(train_features)\n",
    "    input_normalizer = preprocessing.Normalization(input_shape=[3,])\n",
    "    input_normalizer.adapt(input)\n",
    "\n",
    "# Create Model\n",
    "    \n",
    "    dnn_model = build_and_compile_model(input_normalizer)\n",
    "\n",
    "    #print(dnn_model.summary())\n",
    "\n",
    "    history = dnn_model.fit(\n",
    "        train_features, train_labels,\n",
    "        validation_split=0.2,\n",
    "        verbose=0, epochs=3000,callbacks=[callback])\n",
    "    #print(history)\n",
    "    loss_cal=dnn_model.evaluate(val_features, val_labels,verbose=0)\n",
    "    #plot_loss(history)\n",
    "    loss.append(loss_cal)\n",
    "    ## Make Predictions\n",
    "    test_predictions.append(dnn_model.predict(test_features).flatten())\n",
    "    \n",
    "    #testPre_df.append(test_predictions)\n",
    "    R = r2_score(test_labels, test_predictions[i])*100\n",
    "    if(nn_score<R) or (i==0):\n",
    "        nn_score = R\n",
    "        loss_exp = loss_cal\n",
    "        nn_prediction = test_predictions[i]\n",
    "    model.append('dnn_model_'+str(i))\n",
    "    score.append(R)\n",
    "    i = i+1\n",
    "    #model['dnn_model_'+str(i)] = [dnn_model.evaluate(\n",
    "    #    val_features, val_labels,\n",
    "    #    verbose=0), R]\n",
    "model = np.array(model)\n",
    "score = np.array(score)\n",
    "loss = np.array(loss)\n",
    "\n",
    "#data = np.array([model, loss, score]).T\n",
    "#pd.DataFrame(data,columns=[\"model\", \"loss\", \"score\"])"
   ]
  },
  {
   "cell_type": "code",
   "execution_count": 174,
   "metadata": {},
   "outputs": [
    {
     "name": "stdout",
     "output_type": "stream",
     "text": [
      "[95.98  95.801 96.184 96.443 95.949 95.558]\n"
     ]
    },
    {
     "name": "stderr",
     "output_type": "stream",
     "text": [
      "/home/ubuntu/.local/lib/python3.6/site-packages/ipykernel_launcher.py:21: MatplotlibDeprecationWarning: Adding an axes using the same arguments as a previous axes currently reuses the earlier instance.  In a future version, a new instance will always be created and returned.  Meanwhile, this warning can be suppressed, and the future behavior ensured, by passing a unique label to each axes instance.\n",
      "/home/ubuntu/.local/lib/python3.6/site-packages/ipykernel_launcher.py:21: MatplotlibDeprecationWarning: Adding an axes using the same arguments as a previous axes currently reuses the earlier instance.  In a future version, a new instance will always be created and returned.  Meanwhile, this warning can be suppressed, and the future behavior ensured, by passing a unique label to each axes instance.\n",
      "/home/ubuntu/.local/lib/python3.6/site-packages/ipykernel_launcher.py:21: MatplotlibDeprecationWarning: Adding an axes using the same arguments as a previous axes currently reuses the earlier instance.  In a future version, a new instance will always be created and returned.  Meanwhile, this warning can be suppressed, and the future behavior ensured, by passing a unique label to each axes instance.\n",
      "/home/ubuntu/.local/lib/python3.6/site-packages/ipykernel_launcher.py:21: MatplotlibDeprecationWarning: Adding an axes using the same arguments as a previous axes currently reuses the earlier instance.  In a future version, a new instance will always be created and returned.  Meanwhile, this warning can be suppressed, and the future behavior ensured, by passing a unique label to each axes instance.\n",
      "/home/ubuntu/.local/lib/python3.6/site-packages/ipykernel_launcher.py:21: MatplotlibDeprecationWarning: Adding an axes using the same arguments as a previous axes currently reuses the earlier instance.  In a future version, a new instance will always be created and returned.  Meanwhile, this warning can be suppressed, and the future behavior ensured, by passing a unique label to each axes instance.\n",
      "/home/ubuntu/.local/lib/python3.6/site-packages/ipykernel_launcher.py:21: MatplotlibDeprecationWarning: Adding an axes using the same arguments as a previous axes currently reuses the earlier instance.  In a future version, a new instance will always be created and returned.  Meanwhile, this warning can be suppressed, and the future behavior ensured, by passing a unique label to each axes instance.\n"
     ]
    },
    {
     "name": "stdout",
     "output_type": "stream",
     "text": [
      "CPU times: user 2.56 s, sys: 159 ms, total: 2.72 s\n",
      "Wall time: 2.71 s\n"
     ]
    },
    {
     "data": {
      "image/png": "[encoded data removed]",
      "text/plain": [
       "<Figure size 360x360 with 1 Axes>"
      ]
     },
     "metadata": {
      "needs_background": "light"
     },
     "output_type": "display_data"
    }
   ],
   "source": [
    "%%time\n",
    "print(score)\n",
    "test_prediction = sum(test_predictions)/len(test_predictions)\n",
    "test_predictions.append(test_prediction)\n",
    "#test_predictions = dnn_model.predict(test_features).flatten()\n",
    "for i in range(0,7):\n",
    "    if i==6:\n",
    "        plot_prediction(test_labels, test_predictions[i],i,1, label='average')\n",
    "    else:\n",
    "        plot_prediction(test_labels, test_predictions[i],i,0.5, label='kfold_'+str(i))"
   ]
  },
  {
   "cell_type": "markdown",
   "metadata": {},
   "source": [
    "i = 0\n",
    "loss_exp = 0\n",
    "nn_score = 0\n",
    "test_dataset = df_ttest\n",
    "test_features = test_dataset.copy()\n",
    "test_labels = test_features.pop('requests')\n",
    "loss, score, model = [], [], []\n",
    "hist = np.empty([6,])\n",
    "rcParams['figure.figsize'] = 18, 8\n",
    "rcParams['axes.labelsize'] = 12\n",
    "rcParams['axes.titlesize'] = 20\n",
    "rcParams[\"font.size\"] = 12\n",
    "ax = []\n",
    "fig = plt.subplots()\n",
    "fig, axs = plt.subplots(2, 3)\n",
    "#fig, ((ax1, ax2, ax3),(ax4, ax5, ax6)) = plt.subplots(2, 3)\n",
    "# k fold\n",
    "X = df_t.loc[:,['total_cpu_util','total_mem_util', 'responsetime']].values\n",
    "y = df_t.loc[:,['requests']].values\n",
    "\n",
    "kf = KFold(n_splits=6, shuffle=False)\n",
    "print(kf.split(X))\n",
    "plot = []\n",
    "labels = []\n",
    "cap = 0\n",
    "#val_labels = []\n",
    "for train_index, test_index in kf.split(X):\n",
    "    #print(\"TEST:\", test_index)\n",
    "    train_features, val_features = X[train_index], X[test_index]\n",
    "    t_labels, v_labels = np.hstack(y[train_index]), np.hstack(y[test_index])\n",
    "    plot.append(np.concatenate((train_index, test_index), axis=0))\n",
    "    labels.append(np.concatenate((t_labels, v_labels)))\n",
    "    #val_labels.append(v_labels)\n",
    "    #train, test = train_index, test_index\n",
    "    #ax.scatter(val_features,val_labels)\n",
    "    #print(v_labels)\n",
    "    #print(labels)\n",
    "    cap = len(train_index)\n",
    "    #plt.plot(v_labels)\n",
    "    #plt.plot(t_labels)\n",
    "    #plt.show()\n",
    "    \n",
    "for col,ax in zip(range(0,6), axs.flatten()):\n",
    "    colu = []\n",
    "    for i in range(0, len(plot[col])): \n",
    "        if (i<cap): \n",
    "            colu.append('blue')   \n",
    "        else: \n",
    "            colu.append('orange')\n",
    "    data = np.array([labels[col],colu]).T\n",
    "    df_data = pd.DataFrame(data,columns=[\"labels\", \"color\"])\n",
    "    #print(val_labels)\n",
    "    #print(colu)\n",
    "    #df_data = df_data.sort_values(by=\"plot\")\n",
    "    #print(df_data['plot'])\n",
    "    ax.scatter(range(0,len(df_data['labels'])),df_data['labels'],c = df_data['color'], label = \"val_labels\")\n",
    "    #ax.scatter(range(0,len(plot[col])),plot[col],c = colu, label = \"val_labels\")\n",
    "    #ax.scatter(range(0,len(train_labels[col])),train_labels[col], label = \"train_labels\", color=\"red\")\n",
    "    #ax.plot(range(0,len(train_labels[col])),train_labels[col])\n",
    "        \n",
    "            #ax.set_title(self.df.columns[col])\n",
    "#ax.plot(range(0,len(val_labels)), val_labels)"
   ]
  },
  {
   "cell_type": "code",
   "execution_count": 175,
   "metadata": {},
   "outputs": [
    {
     "name": "stdout",
     "output_type": "stream",
     "text": [
      "CPU times: user 22.1 s, sys: 2.77 s, total: 24.9 s\n",
      "Wall time: 20.7 s\n"
     ]
    }
   ],
   "source": [
    "%%time\n",
    "i = 0\n",
    "#loss_exp = 0\n",
    "#nn_score = 0\n",
    "test_dataset = df_ttest\n",
    "test_features = test_dataset.copy()\n",
    "test_labels = test_features.pop('requests')\n",
    "#loss, score, model = [], [], []\n",
    "#hist = np.empty([6,])\n",
    "# k fold\n",
    "X = df_t.loc[:,['total_cpu_util','total_mem_util', 'responsetime']].values\n",
    "y = df_t.loc[:,['requests']].values\n",
    "\n",
    "kf = KFold(n_splits=6, random_state=42, shuffle=True)\n",
    "#print(kf)\n",
    "for train_index, test_index in kf.split(X):\n",
    "    #print(\"TRAIN:\", train_index, \"TEST:\", test_index)\n",
    "    train_features, val_features = X[train_index], X[test_index]\n",
    "    train_labels, val_labels = y[train_index], y[test_index]\n",
    "\n",
    "# Divide dataset\n",
    "#train_dataset = df_t.sample(frac=0.8, random_state=0)\n",
    "#val_dataset = df_t.drop(train_dataset.index)\n",
    "#test_dataset = df_ttest\n",
    "\n",
    "#train_features = train_dataset.copy()\n",
    "#val_features = val_dataset.copy()\n",
    "#test_features = test_dataset.copy()\n",
    "\n",
    "# Create labels\n",
    "#train_labels = train_features.pop('requests')\n",
    "#val_labels = val_features.pop('requests')\n",
    "#test_labels = test_features.pop('requests')\n",
    "\n",
    "# Normalization\n",
    "    input = np.array(train_features)\n",
    "    input_normalizer = preprocessing.Normalization(input_shape=[3,])\n",
    "    input_normalizer.adapt(input)\n",
    "\n",
    "# Create Model\n",
    "    \n",
    "    dnn_model = build_and_compile_model(input_normalizer)\n",
    "\n",
    "    #print(dnn_model.summary())\n",
    "\n",
    "    history = dnn_model.fit(\n",
    "        train_features, train_labels,\n",
    "        validation_split=0.2,\n",
    "        verbose=0, epochs=3000,callbacks=[callback])\n",
    "    #print(history)\n",
    "    loss_cal=dnn_model.evaluate(val_features, val_labels,verbose=0)\n",
    "    '''plot_loss(history)\n",
    "    loss.append(loss_cal)\n",
    "    ## Make Predictions\n",
    "    test_predictions = dnn_model.predict(test_features).flatten()\n",
    "    \n",
    "    testPre_df.append(test_predictions)\n",
    "    #plot_prediction(test_labels, test_predictions)\n",
    "    R = r2_score(test_labels, test_predictions)*100\n",
    "    if(nn_score<R) or (i==0):\n",
    "        nn_score = R\n",
    "        loss_exp = loss_cal\n",
    "        nn_prediction = test_predictions\n",
    "    model.append('dnn_model_'+str(i))\n",
    "    score.append(R)\n",
    "    i = i+1\n",
    "    #test_results['dnn_model_'+str(i)] = [dnn_model.evaluate(\n",
    "    #    val_features, val_labels,\n",
    "    #    verbose=0), R]\n",
    "model = np.array(model)\n",
    "score = np.array(score)\n",
    "loss = np.array(loss)\n",
    "\n",
    "data = np.array([model, loss, score]).T\n",
    "pd.DataFrame(data,columns=[\"model\", \"loss\", \"score\"])\n",
    "'''"
   ]
  },
  {
   "cell_type": "code",
   "execution_count": 82,
   "metadata": {},
   "outputs": [
    {
     "name": "stdout",
     "output_type": "stream",
     "text": [
      "CPU times: user 81.2 ms, sys: 0 ns, total: 81.2 ms\n",
      "Wall time: 75.5 ms\n"
     ]
    }
   ],
   "source": [
    "%%time\n",
    "test_predictions = dnn_model.predict(test_features).flatten()"
   ]
  },
  {
   "cell_type": "code",
   "execution_count": 31,
   "metadata": {},
   "outputs": [],
   "source": [
    "#plot_prediction(test_labels, test_predictions)"
   ]
  },
  {
   "cell_type": "code",
   "execution_count": 32,
   "metadata": {},
   "outputs": [],
   "source": [
    "R = r2_score(test_labels, test_predictions)*100"
   ]
  },
  {
   "cell_type": "code",
   "execution_count": 33,
   "metadata": {},
   "outputs": [
    {
     "name": "stdout",
     "output_type": "stream",
     "text": [
      "95.47627852422922\n"
     ]
    }
   ],
   "source": [
    "print(R)"
   ]
  },
  {
   "cell_type": "code",
   "execution_count": 120,
   "metadata": {},
   "outputs": [
    {
     "data": {
      "image/png": "[encoded data removed]",
      "text/plain": [
       "<Figure size 360x360 with 1 Axes>"
      ]
     },
     "metadata": {
      "needs_background": "light"
     },
     "output_type": "display_data"
    }
   ],
   "source": [
    "#print(np.array(history.history['loss'])/max(history.history['loss']))\n",
    "plot_loss(history)"
   ]
  },
  {
   "cell_type": "code",
   "execution_count": null,
   "metadata": {},
   "outputs": [],
   "source": [
    "def plot_loss(history):\n",
    "  plt.plot(history.history['loss'], label='loss')\n",
    "  plt.plot(history.history['val_loss'], label='val_loss')\n",
    "  plt.ylim([0, max(history.history['loss']+history.history['val_loss'])+100])\n",
    "  plt.xlabel('Epoch')\n",
    "  plt.ylabel('Error [requests]')\n",
    "  plt.legend()\n",
    "  plt.grid(True)\n",
    "  return plt.show()\n",
    "\n",
    "def plot_prediction(test_labels, test_predictions):\n",
    "    a = plt.axes(aspect='equal')\n",
    "    plt.scatter(test_labels, test_predictions)\n",
    "    plt.xlabel('True Values requests')\n",
    "    plt.ylabel('Predictions requests')\n",
    "    lims = [0, max(list(test_labels)+list(test_predictions))+100]\n",
    "    plt.xlim(lims)\n",
    "    plt.ylim(lims)\n",
    "    _ = plt.plot(lims, lims)\n",
    "    return plt.show()\n",
    "\n",
    "callback = tf.keras.callbacks.EarlyStopping(monitor='loss', patience=0)\n",
    "def build_and_compile_model(norm):\n",
    "  model = None\n",
    "  model = keras.Sequential([\n",
    "      norm,\n",
    "      layers.Dense(64, activation='relu',name=\"dense_one\"),\n",
    "      layers.Dense(64, activation='relu',name=\"dense_two\"),\n",
    "      layers.Dense(1,name=\"dense_three\")\n",
    "  ])\n",
    "\n",
    "  model.compile(loss='mean_absolute_error',\n",
    "                optimizer=tf.keras.optimizers.Adam(0.001))\n",
    "  return model\n",
    "\n",
    "#%%time\n",
    "i = 0\n",
    "loss_exp = 0\n",
    "nn_score = 0\n",
    "test_dataset = df_ttest\n",
    "test_features = test_dataset.copy()\n",
    "test_labels = test_features.pop('requests')\n",
    "loss, score, model = [], [], []\n",
    "hist = np.empty([6,])\n",
    "# k fold\n",
    "X = df_t.loc[:,['total_cpu_util','total_mem_util', 'responsetime']].values\n",
    "y = df_t.loc[:,['requests']].values\n",
    "kf = KFold(n_splits=6, random_state=42, shuffle=True)\n",
    "for train_index, test_index in kf.split(X):\n",
    "    #print(\"TRAIN:\", train_index, \"TEST:\", test_index)\n",
    "    train_features, val_features = X[train_index], X[test_index]\n",
    "    train_labels, val_labels = y[train_index], y[test_index]\n",
    "\n",
    "# Divide dataset\n",
    "#train_dataset = df_t.sample(frac=0.8, random_state=0)\n",
    "#val_dataset = df_t.drop(train_dataset.index)\n",
    "#test_dataset = df_ttest\n",
    "\n",
    "#train_features = train_dataset.copy()\n",
    "#val_features = val_dataset.copy()\n",
    "#test_features = test_dataset.copy()\n",
    "\n",
    "# Create labels\n",
    "#train_labels = train_features.pop('requests')\n",
    "#val_labels = val_features.pop('requests')\n",
    "#test_labels = test_features.pop('requests')\n",
    "\n",
    "# Normalization\n",
    "    input = np.array(train_features)\n",
    "    input_normalizer = preprocessing.Normalization(input_shape=[3,])\n",
    "    input_normalizer.adapt(input)\n",
    "\n",
    "# Create Model\n",
    "    \n",
    "    dnn_model = build_and_compile_model(input_normalizer)\n",
    "\n",
    "    print(dnn_model.summary())\n",
    "\n",
    "    history = dnn_model.fit(\n",
    "        train_features, train_labels,\n",
    "        validation_split=0.2,\n",
    "        verbose=0, epochs=3000,callbacks=[callback])\n",
    "    #print(history)\n",
    "    plot_loss(history)\n",
    "    loss_cal=dnn_model.evaluate(val_features, val_labels,verbose=0)\n",
    "    loss.append(loss_cal)\n",
    "    ## Make Predictions\n",
    "    test_predictions = dnn_model.predict(test_features).flatten()\n",
    "\n",
    "    plot_prediction(test_labels, test_predictions)\n",
    "    plt.scatter(range(0,len(test_labels)),test_labels)\n",
    "    plt.scatter(range(0,len(test_predictions)),test_predictions)\n",
    "    plt.show()\n",
    "    R = r2_score(test_labels, test_predictions)*100\n",
    "    print(R)\n",
    "    if(nn_score<R) or (i==0):\n",
    "        nn_score = R\n",
    "        loss_exp = loss_cal\n",
    "        nn_prediction = test_predictions\n",
    "    model.append('dnn_model_'+str(i))\n",
    "    score.append(R)\n",
    "    i = i+1\n",
    "    #test_results['dnn_model_'+str(i)] = [dnn_model.evaluate(\n",
    "    #    val_features, val_labels,\n",
    "    #    verbose=0), R]\n",
    "model = np.array(model)\n",
    "score = np.array(score)\n",
    "loss = np.array(loss)\n",
    "\n",
    "data = np.array([model, loss, score]).T\n",
    "pd.DataFrame(dattestPre_df = []\n",
    "def plot_loss(history):\n",
    "  plt.plot(history.history['loss'], label='loss')\n",
    "  plt.plot(history.history['val_loss'], label='val_loss')\n",
    "  plt.ylim([0, max(history.history['loss']+history.history['val_loss'])+100])\n",
    "  plt.xlabel('Epoch')\n",
    "  plt.ylabel('Error [requests]')\n",
    "  plt.legend()\n",
    "  plt.grid(True)\n",
    "  return plt.show()\n",
    "\n",
    "def plot_prediction(test_labels, test_predictions):\n",
    "    rcParams['figure.figsize'] = 5, 5\n",
    "    rcParams['axes.labelsize'] = 12\n",
    "    rcParams['axes.titlesize'] = 20\n",
    "    rcParams[\"font.size\"] = 12\n",
    "    a = plt.axes(aspect='equal')\n",
    "    plt.plot(test_labels, test_predictions,'x', color=\"red\")\n",
    "    plt.xlabel('True Values (Number of Requests)')\n",
    "    plt.ylabel('Predictions (Number of Requests)')\n",
    "    lims = [0, max(list(test_labels)+list(test_predictions))+100]\n",
    "    plt.xlim(lims)\n",
    "    plt.ylim(lims)\n",
    "    _ = plt.plot(lims, lims)\n",
    "    return plt.savefig(\"PredictionFiglet.png\",bbox_inches = 'tight',pad_inches = 0,  dpi=300)\n",
    "\n",
    "callback = tf.keras.callbacks.EarlyStopping(monitor='loss', patience=0)\n",
    "def build_and_compile_model(norm):\n",
    "  model = None\n",
    "  model = keras.Sequential([\n",
    "      norm,\n",
    "      layers.Dense(64, activation='relu',name=\"dense_one\"),\n",
    "      layers.Dense(64, activation='relu',name=\"dense_two\"),\n",
    "      layers.Dense(1,name=\"dense_three\")\n",
    "  ])\n",
    "\n",
    "  model.compile(loss='mean_absolute_error',\n",
    "                optimizer=tf.keras.optimizers.Adam(0.001))\n",
    "  return model\n",
    "\n",
    "i = 0\n",
    "loss_exp = 0\n",
    "nn_score = 0\n",
    "test_dataset = df_ttest\n",
    "test_features = test_dataset.copy()\n",
    "test_labels = test_features.pop('requests')\n",
    "loss, score, model = [], [], []\n",
    "hist = np.empty([6,])\n",
    "rcParams['figure.figsize'] = 18, 8\n",
    "rcParams['axes.labelsize'] = 12\n",
    "rcParams['axes.titlesize'] = 20\n",
    "rcParams[\"font.size\"] = 12\n",
    "ax = []\n",
    "fig = plt.subplots()\n",
    "fig, axs = plt.subplots(2, 3)\n",
    "#fig, ((ax1, ax2, ax3),(ax4, ax5, ax6)) = plt.subplots(2, 3)\n",
    "# k fold\n",
    "X = df_t.loc[:,['total_cpu_util','total_mem_util', 'responsetime']].values\n",
    "y = df_t.loc[:,['requests']].values\n",
    "\n",
    "kf = KFold(n_splits=6, shuffle=False)\n",
    "print(kf.split(X))\n",
    "plot = []\n",
    "labels = []\n",
    "cap = 0\n",
    "#val_labels = []\n",
    "for train_index, test_index in kf.split(X):\n",
    "    #print(\"TEST:\", test_index)\n",
    "    train_features, val_features = X[train_index], X[test_index]\n",
    "    t_labels, v_labels = np.hstack(y[train_index]), np.hstack(y[test_index])\n",
    "    plot.append(np.concatenate((train_index, test_index), axis=0))\n",
    "    labels.append(np.concatenate((t_labels, v_labels)))\n",
    "    #val_labels.append(v_labels)\n",
    "    #train, test = train_index, test_index\n",
    "    #ax.scatter(val_features,val_labels)\n",
    "    #print(v_labels)\n",
    "    #print(labels)\n",
    "    cap = len(train_index)\n",
    "    #plt.plot(v_labels)\n",
    "    #plt.plot(t_labels)\n",
    "    #plt.show()\n",
    "    \n",
    "for col,ax in zip(range(0,6), axs.flatten()):\n",
    "    colu = []\n",
    "    for i in range(0, len(plot[col])): \n",
    "        if (i<cap): \n",
    "            colu.append('blue')   \n",
    "        else: \n",
    "            colu.append('orange')\n",
    "    data = np.array([labels[col],colu]).T\n",
    "    df_data = pd.DataFrame(data,columns=[\"labels\", \"color\"])\n",
    "    #print(val_labels)\n",
    "    #print(colu)\n",
    "    #df_data = df_data.sort_values(by=\"plot\")\n",
    "    #print(df_data['plot'])\n",
    "    ax.scatter(range(0,len(df_data['labels'])),df_data['labels'],c = df_data['color'], label = \"val_labels\")\n",
    "    #ax.scatter(range(0,len(plot[col])),plot[col],c = colu, label = \"val_labels\")\n",
    "    #ax.scatter(range(0,len(train_labels[col])),train_labels[col], label = \"train_labels\", color=\"red\")\n",
    "    #ax.plot(range(0,len(train_labels[col])),train_labels[col])\n",
    "        \n",
    "            #ax.set_title(self.df.columns[col])\n",
    "#ax.plot(range(0,len(val_labels)), val_labels)\n",
    "\n",
    "%%time\n",
    "i = 0\n",
    "#loss_exp = 0\n",
    "#nn_score = 0\n",
    "test_dataset = df_ttest\n",
    "test_features = test_dataset.copy()\n",
    "test_labels = test_features.pop('requests')\n",
    "#loss, score, model = [], [], []\n",
    "#hist = np.empty([6,])\n",
    "# k fold\n",
    "X = df_t.loc[:,['total_cpu_util','total_mem_util', 'responsetime']].values\n",
    "y = df_t.loc[:,['requests']].values\n",
    "\n",
    "kf = KFold(n_splits=6, random_state=42, shuffle=True)\n",
    "#print(kf)\n",
    "for train_index, test_index in kf.split(X):\n",
    "    #print(\"TRAIN:\", train_index, \"TEST:\", test_index)\n",
    "    train_features, val_features = X[train_index], X[test_index]\n",
    "    train_labels, val_labels = y[train_index], y[test_index]\n",
    "\n",
    "# Divide dataset\n",
    "#train_dataset = df_t.sample(frac=0.8, random_state=0)\n",
    "#val_dataset = df_t.drop(train_dataset.index)\n",
    "#test_dataset = df_ttest\n",
    "\n",
    "#train_features = train_dataset.copy()\n",
    "#val_features = val_dataset.copy()\n",
    "#test_features = test_dataset.copy()\n",
    "\n",
    "# Create labels\n",
    "#train_labels = train_features.pop('requests')\n",
    "#val_labels = val_features.pop('requests')\n",
    "#test_labels = test_features.pop('requests')\n",
    "\n",
    "# Normalization\n",
    "    input = np.array(train_features)\n",
    "    input_normalizer = preprocessing.Normalization(input_shape=[3,])\n",
    "    input_normalizer.adapt(input)\n",
    "\n",
    "# Create Model\n",
    "    \n",
    "    dnn_model = build_and_compile_model(input_normalizer)\n",
    "\n",
    "    #print(dnn_model.summary())\n",
    "\n",
    "    history = dnn_model.fit(\n",
    "        train_features, train_labels,\n",
    "        validation_split=0.2,\n",
    "        verbose=0, epochs=3000,callbacks=[callback])\n",
    "    #print(history)\n",
    "    loss_cal=dnn_model.evaluate(val_features, val_labels,verbose=0)\n",
    "    '''plot_loss(history)\n",
    "    loss.append(loss_cal)\n",
    "    ## Make Predictions\n",
    "    test_predictions = dnn_model.predict(test_features).flatten()\n",
    "    \n",
    "    testPre_df.append(test_predictions)\n",
    "    #plot_prediction(test_labels, test_predictions)\n",
    "    R = r2_score(test_labels, test_predictions)*100\n",
    "    if(nn_score<R) or (i==0):\n",
    "        nn_score = R\n",
    "        loss_exp = loss_cal\n",
    "        nn_prediction = test_predictions\n",
    "    model.append('dnn_model_'+str(i))\n",
    "    score.append(R)\n",
    "    i = i+1\n",
    "    #test_results['dnn_model_'+str(i)] = [dnn_model.evaluate(\n",
    "    #    val_features, val_labels,\n",
    "    #    verbose=0), R]\n",
    "model = np.array(model)\n",
    "score = np.array(score)\n",
    "loss = np.array(loss)\n",
    "\n",
    "data = np.array([model, loss, score]).T\n",
    "pd.DataFrame(data,columns=[\"model\", \"loss\", \"score\"])\n",
    "'''\n",
    "\n",
    "%%time\n",
    "test_predictions = dnn_model.predict(test_features).flatten()\n",
    "\n",
    "plot_prediction(test_labels, test_predictions)\n",
    "\n",
    "R = r2_score(test_labels, test_predictions)*100\n",
    "\n",
    "print(R)a,columns=[\"model\", \"loss\", \"score\"])"
   ]
  },
  {
   "cell_type": "code",
   "execution_count": null,
   "metadata": {},
   "outputs": [],
   "source": [
    "rcParams['figure.figsize'] = 5, 5\n",
    "rcParams[\"legend.loc\"] = 'upper left'\n",
    "rcParams['axes.labelsize'] = 10\n",
    "rcParams['axes.titlesize'] = 5\n",
    "rcParams[\"font.size\"] = 10\n",
    "plt.plot(range(0,len(test_labels)),test_labels, color='green',label='True Value')\n",
    "plt.plot(range(0,len(lin_reg_y_te_pred)),lin_reg_y_te_pred, color='red', label='Linear Regression')\n",
    "plt.plot(range(0,len(poly_reg_y_te_pred)),poly_reg_y_te_pred, color='blue', label='Polynomial Linear Reg')\n",
    "plt.plot(range(0,len(ridge_cv_y_te_pred)),ridge_cv_y_te_pred, color='brown', label='Ridge Reg')\n",
    "plt.plot(range(0,len(rf_cv_y_te_pred)),rf_cv_y_te_pred, color='grey', label='Random Forrest')\n",
    "plt.plot(range(0,len(nn_prediction)),nn_prediction, color='violet', label='Deep Neural Network')\n",
    "plt.legend(loc=\"lower right\")\n",
    "plt.ylabel('Number of Requests')\n",
    "plt.show()"
   ]
  },
  {
   "cell_type": "code",
   "execution_count": null,
   "metadata": {},
   "outputs": [],
   "source": [
    "models = np.array(['Linear Regression', 'Polynomial Linear Reg', 'Ridge Reg', 'Random Forrest', 'Deep Neural Network'])\n",
    "model_score = np.array([linear_score*100, polynomial_score*100, ridge_cv_score*100, rf_cv_score*100, nn_score])\n",
    "data = np.array([models, model_score]).T\n",
    "pd.DataFrame(data,columns=[\"models\", \"model_score\"])"
   ]
  },
  {
   "cell_type": "code",
   "execution_count": null,
   "metadata": {},
   "outputs": [],
   "source": []
  }
 ],
 "metadata": {
  "kernelspec": {
   "display_name": "Python 3",
   "language": "python",
   "name": "python3"
  },
  "language_info": {
   "codemirror_mode": {
    "name": "ipython",
    "version": 3
   },
   "file_extension": ".py",
   "mimetype": "text/x-python",
   "name": "python",
   "nbconvert_exporter": "python",
   "pygments_lexer": "ipython3",
   "version": "3.6.9"
  }
 },
 "nbformat": 4,
 "nbformat_minor": 4
}
