{
 "cells": [
  {
   "cell_type": "code",
   "execution_count": 1,
   "metadata": {},
   "outputs": [],
   "source": [
    "import os\n",
    "import datetime\n",
    "import pandas as pd\n",
    "import numpy as np\n",
    "import matplotlib.pyplot as plt\n",
    "from sklearn import preprocessing\n",
    "from sklearn.model_selection import train_test_split, ParameterGrid, GridSearchCV\n",
    "from sklearn.linear_model import Ridge, Lasso, HuberRegressor, ElasticNet, LinearRegression\n",
    "from sklearn.preprocessing import PolynomialFeatures\n",
    "from sklearn.pipeline import make_pipeline\n",
    "from sklearn.ensemble import GradientBoostingRegressor, RandomForestRegressor"
   ]
  },
  {
   "cell_type": "code",
   "execution_count": 2,
   "metadata": {},
   "outputs": [
    {
     "data": {
      "text/html": [
       "<div>\n",
       "<style scoped>\n",
       "    .dataframe tbody tr th:only-of-type {\n",
       "        vertical-align: middle;\n",
       "    }\n",
       "\n",
       "    .dataframe tbody tr th {\n",
       "        vertical-align: top;\n",
       "    }\n",
       "\n",
       "    .dataframe thead th {\n",
       "        text-align: right;\n",
       "    }\n",
       "</style>\n",
       "<table border=\"1\" class=\"dataframe\">\n",
       "  <thead>\n",
       "    <tr style=\"text-align: right;\">\n",
       "      <th></th>\n",
       "      <th>cpu</th>\n",
       "      <th>diskio</th>\n",
       "      <th>diskioRead</th>\n",
       "      <th>diskioWritten</th>\n",
       "      <th>mem</th>\n",
       "      <th>networkReceived</th>\n",
       "      <th>networkTransmitted</th>\n",
       "      <th>replica</th>\n",
       "      <th>requests</th>\n",
       "      <th>responsetime</th>\n",
       "      <th>totalcpu</th>\n",
       "      <th>totalcpuUtilization</th>\n",
       "      <th>totalmemory</th>\n",
       "      <th>totalmemoryUtilization</th>\n",
       "    </tr>\n",
       "  </thead>\n",
       "  <tbody>\n",
       "    <tr>\n",
       "      <th>0</th>\n",
       "      <td>7.452470</td>\n",
       "      <td>0.000129</td>\n",
       "      <td>0.000000</td>\n",
       "      <td>1.484572e+04</td>\n",
       "      <td>0.006211</td>\n",
       "      <td>7.686411e+02</td>\n",
       "      <td>690.618472</td>\n",
       "      <td>1.0</td>\n",
       "      <td>7.0</td>\n",
       "      <td>0.427801</td>\n",
       "      <td>12.0</td>\n",
       "      <td>76.330988</td>\n",
       "      <td>5.045532e+10</td>\n",
       "      <td>10.168922</td>\n",
       "    </tr>\n",
       "    <tr>\n",
       "      <th>1</th>\n",
       "      <td>6.314931</td>\n",
       "      <td>0.056578</td>\n",
       "      <td>903.680000</td>\n",
       "      <td>7.635895e+06</td>\n",
       "      <td>0.006211</td>\n",
       "      <td>4.423151e+06</td>\n",
       "      <td>44196.825694</td>\n",
       "      <td>1.0</td>\n",
       "      <td>42.0</td>\n",
       "      <td>0.441701</td>\n",
       "      <td>12.0</td>\n",
       "      <td>76.330988</td>\n",
       "      <td>5.045532e+10</td>\n",
       "      <td>10.168922</td>\n",
       "    </tr>\n",
       "    <tr>\n",
       "      <th>2</th>\n",
       "      <td>9.499113</td>\n",
       "      <td>0.073244</td>\n",
       "      <td>1001.244444</td>\n",
       "      <td>9.543407e+06</td>\n",
       "      <td>0.006211</td>\n",
       "      <td>4.011359e+06</td>\n",
       "      <td>41064.000000</td>\n",
       "      <td>1.0</td>\n",
       "      <td>76.0</td>\n",
       "      <td>0.429230</td>\n",
       "      <td>12.0</td>\n",
       "      <td>13.216667</td>\n",
       "      <td>5.045532e+10</td>\n",
       "      <td>10.329697</td>\n",
       "    </tr>\n",
       "    <tr>\n",
       "      <th>3</th>\n",
       "      <td>6.085528</td>\n",
       "      <td>0.073156</td>\n",
       "      <td>1001.244444</td>\n",
       "      <td>9.533212e+06</td>\n",
       "      <td>0.026095</td>\n",
       "      <td>4.012145e+06</td>\n",
       "      <td>42053.311111</td>\n",
       "      <td>1.0</td>\n",
       "      <td>112.0</td>\n",
       "      <td>0.421655</td>\n",
       "      <td>12.0</td>\n",
       "      <td>13.216667</td>\n",
       "      <td>5.045532e+10</td>\n",
       "      <td>10.329697</td>\n",
       "    </tr>\n",
       "    <tr>\n",
       "      <th>4</th>\n",
       "      <td>9.452724</td>\n",
       "      <td>0.021956</td>\n",
       "      <td>182.044444</td>\n",
       "      <td>2.628813e+06</td>\n",
       "      <td>0.119376</td>\n",
       "      <td>3.909378e+03</td>\n",
       "      <td>3469.288889</td>\n",
       "      <td>1.0</td>\n",
       "      <td>140.0</td>\n",
       "      <td>0.439443</td>\n",
       "      <td>12.0</td>\n",
       "      <td>14.213889</td>\n",
       "      <td>5.045532e+10</td>\n",
       "      <td>10.159327</td>\n",
       "    </tr>\n",
       "  </tbody>\n",
       "</table>\n",
       "</div>"
      ],
      "text/plain": [
       "        cpu    diskio   diskioRead  diskioWritten       mem  networkReceived  \\\n",
       "0  7.452470  0.000129     0.000000   1.484572e+04  0.006211     7.686411e+02   \n",
       "1  6.314931  0.056578   903.680000   7.635895e+06  0.006211     4.423151e+06   \n",
       "2  9.499113  0.073244  1001.244444   9.543407e+06  0.006211     4.011359e+06   \n",
       "3  6.085528  0.073156  1001.244444   9.533212e+06  0.026095     4.012145e+06   \n",
       "4  9.452724  0.021956   182.044444   2.628813e+06  0.119376     3.909378e+03   \n",
       "\n",
       "   networkTransmitted  replica  requests  responsetime  totalcpu  \\\n",
       "0          690.618472      1.0       7.0      0.427801      12.0   \n",
       "1        44196.825694      1.0      42.0      0.441701      12.0   \n",
       "2        41064.000000      1.0      76.0      0.429230      12.0   \n",
       "3        42053.311111      1.0     112.0      0.421655      12.0   \n",
       "4         3469.288889      1.0     140.0      0.439443      12.0   \n",
       "\n",
       "   totalcpuUtilization   totalmemory  totalmemoryUtilization  \n",
       "0            76.330988  5.045532e+10               10.168922  \n",
       "1            76.330988  5.045532e+10               10.168922  \n",
       "2            13.216667  5.045532e+10               10.329697  \n",
       "3            13.216667  5.045532e+10               10.329697  \n",
       "4            14.213889  5.045532e+10               10.159327  "
      ]
     },
     "execution_count": 2,
     "metadata": {},
     "output_type": "execute_result"
    }
   ],
   "source": [
    "cwd = os.getcwd()\n",
    "output_dir = os.path.join(cwd, \"../../data\")\n",
    "df = pd.read_csv(os.path.join(output_dir, \"combined_sentimentanalysis.csv\"))\n",
    "df_test = pd.read_csv(os.path.join(output_dir, \"combined_sentimentanalysistest.csv\"))\n",
    "#df_test = pd.read_csv(os.path.join(output_dir, \"figlet1599056546.006096_1599063766.431225.csv\"))\n",
    "df = df.drop(df[df.responsetime > 2].index)\n",
    "df.pop('Time')\n",
    "df_test = df_test.drop(df_test[df_test.responsetime > 2].index)\n",
    "df_test.pop('Time')\n",
    "df.head()"
   ]
  },
  {
   "cell_type": "code",
   "execution_count": 3,
   "metadata": {},
   "outputs": [],
   "source": [
    "# remove 2xlarge\n",
    "df = df.drop(df[df.totalcpu > 16].index)"
   ]
  },
  {
   "cell_type": "code",
   "execution_count": 4,
   "metadata": {},
   "outputs": [],
   "source": [
    "df_t = pd.DataFrame()\n",
    "df_ttest = pd.DataFrame()"
   ]
  },
  {
   "cell_type": "code",
   "execution_count": 5,
   "metadata": {},
   "outputs": [
    {
     "data": {
      "text/html": [
       "<div>\n",
       "<style scoped>\n",
       "    .dataframe tbody tr th:only-of-type {\n",
       "        vertical-align: middle;\n",
       "    }\n",
       "\n",
       "    .dataframe tbody tr th {\n",
       "        vertical-align: top;\n",
       "    }\n",
       "\n",
       "    .dataframe thead th {\n",
       "        text-align: right;\n",
       "    }\n",
       "</style>\n",
       "<table border=\"1\" class=\"dataframe\">\n",
       "  <thead>\n",
       "    <tr style=\"text-align: right;\">\n",
       "      <th></th>\n",
       "      <th>total_cpu_util</th>\n",
       "      <th>total_mem_util</th>\n",
       "      <th>responsetime</th>\n",
       "      <th>requests</th>\n",
       "    </tr>\n",
       "  </thead>\n",
       "  <tbody>\n",
       "    <tr>\n",
       "      <th>0</th>\n",
       "      <td>6.137011</td>\n",
       "      <td>513.076211</td>\n",
       "      <td>0.427801</td>\n",
       "      <td>7.0</td>\n",
       "    </tr>\n",
       "    <tr>\n",
       "      <th>1</th>\n",
       "      <td>6.137011</td>\n",
       "      <td>513.076211</td>\n",
       "      <td>0.441701</td>\n",
       "      <td>42.0</td>\n",
       "    </tr>\n",
       "    <tr>\n",
       "      <th>2</th>\n",
       "      <td>1.062620</td>\n",
       "      <td>521.188136</td>\n",
       "      <td>0.429230</td>\n",
       "      <td>76.0</td>\n",
       "    </tr>\n",
       "    <tr>\n",
       "      <th>3</th>\n",
       "      <td>1.062620</td>\n",
       "      <td>521.188136</td>\n",
       "      <td>0.421655</td>\n",
       "      <td>112.0</td>\n",
       "    </tr>\n",
       "    <tr>\n",
       "      <th>4</th>\n",
       "      <td>1.142797</td>\n",
       "      <td>512.592066</td>\n",
       "      <td>0.439443</td>\n",
       "      <td>140.0</td>\n",
       "    </tr>\n",
       "  </tbody>\n",
       "</table>\n",
       "</div>"
      ],
      "text/plain": [
       "   total_cpu_util  total_mem_util  responsetime  requests\n",
       "0        6.137011      513.076211      0.427801       7.0\n",
       "1        6.137011      513.076211      0.441701      42.0\n",
       "2        1.062620      521.188136      0.429230      76.0\n",
       "3        1.062620      521.188136      0.421655     112.0\n",
       "4        1.142797      512.592066      0.439443     140.0"
      ]
     },
     "execution_count": 5,
     "metadata": {},
     "output_type": "execute_result"
    }
   ],
   "source": [
    "df_t['total_cpu_util'] = (df['totalcpuUtilization']*(df['totalcpu']*0.67))/100                    \n",
    "df_t['total_mem_util'] = (df['totalmemoryUtilization']*df['totalmemory'])*1e-9\n",
    "df_t['responsetime'] = df['responsetime']\n",
    "df_t['requests'] = df['requests']\n",
    "#df_t['replica'] = df['replica']\n",
    "df_ttest['total_cpu_util'] = (df_test['totalcpuUtilization']*(df_test['totalcpu']*0.67))/100\n",
    "df_ttest['total_mem_util'] = (df_test['totalmemoryUtilization']*df_test['totalmemory'])*1e-9\n",
    "df_ttest['responsetime'] = df_test['responsetime']\n",
    "df_ttest['requests'] = df_test['requests']\n",
    "#df_ttest['replica'] = df_test['replica']\n",
    "df_t.head()"
   ]
  },
  {
   "cell_type": "code",
   "execution_count": 6,
   "metadata": {},
   "outputs": [],
   "source": [
    "x_train = df_t[[col for col in df_t.columns if col != 'requests']]\n",
    "y_train = df_t['requests']\n",
    "x_train = preprocessing.normalize(x_train, norm='max')\n",
    "x_test = df_ttest[[col for col in df_ttest.columns if col != 'requests']]\n",
    "y_test = df_ttest['requests']\n",
    "x_test = preprocessing.normalize(x_test, norm='max')"
   ]
  },
  {
   "cell_type": "code",
   "execution_count": 7,
   "metadata": {},
   "outputs": [
    {
     "data": {
      "text/plain": [
       "<matplotlib.collections.PathCollection at 0x7f32aa527748>"
      ]
     },
     "execution_count": 7,
     "metadata": {},
     "output_type": "execute_result"
    },
    {
     "data": {
      "image/png": "[encoded data removed]",
      "text/plain": [
       "<Figure size 432x288 with 1 Axes>"
      ]
     },
     "metadata": {
      "needs_background": "light"
     },
     "output_type": "display_data"
    }
   ],
   "source": [
    "plt.scatter(df_ttest['requests'], df_ttest['total_cpu_util'] )"
   ]
  },
  {
   "cell_type": "code",
   "execution_count": 8,
   "metadata": {},
   "outputs": [
    {
     "data": {
      "text/plain": [
       "<matplotlib.collections.PathCollection at 0x7f32a8429780>"
      ]
     },
     "execution_count": 8,
     "metadata": {},
     "output_type": "execute_result"
    },
    {
     "data": {
      "image/png": "[encoded data removed]",
      "text/plain": [
       "<Figure size 432x288 with 1 Axes>"
      ]
     },
     "metadata": {
      "needs_background": "light"
     },
     "output_type": "display_data"
    }
   ],
   "source": [
    "plt.scatter(df_t['requests'], df_t['total_cpu_util'] )"
   ]
  },
  {
   "cell_type": "markdown",
   "metadata": {},
   "source": [
    "## Linear Regression"
   ]
  },
  {
   "cell_type": "code",
   "execution_count": 9,
   "metadata": {},
   "outputs": [
    {
     "name": "stdout",
     "output_type": "stream",
     "text": [
      "Training Score  0.8690741459003269\n",
      "Testing Score  0.8742262920224667\n"
     ]
    },
    {
     "data": {
      "text/plain": [
       "<matplotlib.collections.PathCollection at 0x7f32a83585f8>"
      ]
     },
     "execution_count": 9,
     "metadata": {},
     "output_type": "execute_result"
    },
    {
     "data": {
      "image/png": "[encoded data removed]",
      "text/plain": [
       "<Figure size 432x288 with 1 Axes>"
      ]
     },
     "metadata": {
      "needs_background": "light"
     },
     "output_type": "display_data"
    }
   ],
   "source": [
    "parameters = {'fit_intercept': [True,False],\n",
    "             'copy_X': [True,False]}\n",
    "linear = GridSearchCV(LinearRegression(),\n",
    "                      parameters, \n",
    "                      cv=7,\n",
    "                      scoring='r2',\n",
    "                      n_jobs=-1)\n",
    "#linear = LinearRegression(fit_intercept=False)\n",
    "linear.fit(x_train, y_train)\n",
    "\n",
    "y_tr_pred = linear.predict(x_train)\n",
    "y_te_pred = linear.predict(x_test)\n",
    "\n",
    "#print('linear reg score on our train data: {:.3f}'.format(sqrt(mse(y_train, y_tr_pred))))\n",
    "#print('linear reg score on our test data: {:.3f}'.format(sqrt(mse(y_test, y_te_pred))))\n",
    "\n",
    "print(\"Training Score \",linear.score(x_train,y_train))\n",
    "print(\"Testing Score \",linear.score(x_test,y_test))\n",
    "\n",
    "#from sklearn.metrics import r2_score\n",
    "#R = r2_score(y_test, y_te_pred)\n",
    "#print ('R² :',R)\n",
    "#print('Best Score: ', linear.best_score_)\n",
    "#print('Best Params: ', linear.best_params_)\n",
    "\n",
    "plt.scatter(range(0,len(y_test)),y_test, color='red')\n",
    "plt.scatter(range(0,len(y_te_pred)),y_te_pred, color='blue')"
   ]
  },
  {
   "cell_type": "code",
   "execution_count": 10,
   "metadata": {},
   "outputs": [
    {
     "data": {
      "text/plain": [
       "[<matplotlib.lines.Line2D at 0x7f32a838fe80>]"
      ]
     },
     "execution_count": 10,
     "metadata": {},
     "output_type": "execute_result"
    },
    {
     "data": {
      "image/png": "[encoded data removed]",
      "text/plain": [
       "<Figure size 432x288 with 1 Axes>"
      ]
     },
     "metadata": {
      "needs_background": "light"
     },
     "output_type": "display_data"
    }
   ],
   "source": [
    "plt.plot(y_test)\n",
    "plt.plot(y_te_pred)"
   ]
  },
  {
   "cell_type": "markdown",
   "metadata": {},
   "source": [
    "## Polynomial Regression"
   ]
  },
  {
   "cell_type": "code",
   "execution_count": 11,
   "metadata": {},
   "outputs": [
    {
     "name": "stdout",
     "output_type": "stream",
     "text": [
      "Training Score  0.8659923572662757\n",
      "Testing Score  0.8678507616507976\n",
      "Best Params:  {'linearregression__fit_intercept': False, 'polynomialfeatures__degree': 2}\n"
     ]
    },
    {
     "data": {
      "text/plain": [
       "<matplotlib.collections.PathCollection at 0x7f32a82a7518>"
      ]
     },
     "execution_count": 11,
     "metadata": {},
     "output_type": "execute_result"
    },
    {
     "data": {
      "image/png": "[encoded data removed]",
      "text/plain": [
       "<Figure size 432x288 with 1 Axes>"
      ]
     },
     "metadata": {
      "needs_background": "light"
     },
     "output_type": "display_data"
    }
   ],
   "source": [
    "def PolynomialRegression(**kwargs):\n",
    "    return make_pipeline(PolynomialFeatures(), LinearRegression(**kwargs))\n",
    "degrees = [2,3,4,5,6 ]\n",
    "param_grid = {'polynomialfeatures__degree': degrees, 'linearregression__fit_intercept': [False]}\n",
    "polynomial = GridSearchCV(PolynomialRegression(),\n",
    "                      param_grid, \n",
    "                      cv=5,\n",
    "                      scoring='r2',\n",
    "                      n_jobs=-1)\n",
    "polynomial.fit(x_train, y_train)\n",
    "\n",
    "y_tr_pred = polynomial.predict(x_train)\n",
    "y_te_pred = polynomial.predict(x_test)\n",
    "\n",
    "#print('linear reg score on our train data: {:.3f}'.format(sqrt(mse(y_train, y_tr_pred))))\n",
    "#print('linear reg score on our test data: {:.3f}'.format(sqrt(mse(y_test, y_te_pred))))\n",
    "\n",
    "print(\"Training Score \",polynomial.score(x_train,y_train))\n",
    "print(\"Testing Score \",polynomial.score(x_test,y_test))\n",
    "\n",
    "#from sklearn.metrics import r2_score\n",
    "#R = r2_score(y_test, y_te_pred)\n",
    "#print ('R² :',R)\n",
    "#print('Best Score: ', polynomial.best_score_)\n",
    "print('Best Params: ', polynomial.best_params_)\n",
    "\n",
    "plt.scatter(range(0,len(y_test)),y_test, color='red')\n",
    "plt.scatter(range(0,len(y_te_pred)),y_te_pred, color='blue')"
   ]
  },
  {
   "cell_type": "markdown",
   "metadata": {},
   "source": [
    "## Ridge Regression"
   ]
  },
  {
   "cell_type": "code",
   "execution_count": 12,
   "metadata": {},
   "outputs": [
    {
     "name": "stdout",
     "output_type": "stream",
     "text": [
      "Training Score  0.8690741459003269\n",
      "Testing Score  0.8742262920224663\n",
      "Best Params:  {'alpha': 1e-20, 'fit_intercept': False, 'max_iter': 10, 'solver': 'svd'}\n"
     ]
    },
    {
     "data": {
      "text/plain": [
       "<matplotlib.collections.PathCollection at 0x7f32a822db70>"
      ]
     },
     "execution_count": 12,
     "metadata": {},
     "output_type": "execute_result"
    },
    {
     "data": {
      "image/png": "[encoded data removed]",
      "text/plain": [
       "<Figure size 432x288 with 1 Axes>"
      ]
     },
     "metadata": {
      "needs_background": "light"
     },
     "output_type": "display_data"
    }
   ],
   "source": [
    "alphas = np.logspace(-20,10,num=20)\n",
    "param_grid = {'max_iter': np.arange(10,100,10),\n",
    "             'alpha': alphas,\n",
    "            'solver': ['auto', 'svd'],\n",
    "             'fit_intercept':[True, False]}\n",
    "ridge_cv = GridSearchCV(Ridge(),\n",
    "                       param_grid=param_grid,\n",
    "                         cv=3, \n",
    "                         scoring='r2',\n",
    "                         n_jobs=-1)\n",
    "\n",
    "ridge_cv.fit(x_train, y_train)\n",
    "\n",
    "y_tr_pred = ridge_cv.predict(x_train)\n",
    "y_te_pred = ridge_cv.predict(x_test)\n",
    "\n",
    "print(\"Training Score \",ridge_cv.score(x_train,y_train))\n",
    "print(\"Testing Score \",ridge_cv.score(x_test,y_test))\n",
    "\n",
    "#from sklearn.metrics import r2_score\n",
    "#R = r2_score(y_test, y_te_pred)\n",
    "#print ('R² :',R)\n",
    "#print('Best Score: ', ridge_cv.best_score_)\n",
    "print('Best Params: ', ridge_cv.best_params_)\n",
    "\n",
    "plt.scatter(range(0,len(y_test)),y_test, color='red')\n",
    "plt.scatter(range(0,len(y_te_pred)),y_te_pred, color='blue')"
   ]
  },
  {
   "cell_type": "markdown",
   "metadata": {},
   "source": [
    "## Lasso Regression"
   ]
  },
  {
   "cell_type": "code",
   "execution_count": 13,
   "metadata": {},
   "outputs": [
    {
     "name": "stdout",
     "output_type": "stream",
     "text": [
      "Fitting 3 folds for each of 720 candidates, totalling 2160 fits\n"
     ]
    },
    {
     "name": "stderr",
     "output_type": "stream",
     "text": [
      "[Parallel(n_jobs=-1)]: Using backend LokyBackend with 4 concurrent workers.\n",
      "[Parallel(n_jobs=-1)]: Done  88 tasks      | elapsed:    1.3s\n",
      "[Parallel(n_jobs=-1)]: Done 1280 tasks      | elapsed:   10.8s\n"
     ]
    },
    {
     "name": "stdout",
     "output_type": "stream",
     "text": [
      "Training Score  0.8689773484710551\n",
      "Testing Score  0.8679741892875191\n",
      "Best Params:  {'alpha': 0.002335721469090121, 'copy_X': True, 'fit_intercept': False, 'max_iter': 30}\n"
     ]
    },
    {
     "name": "stderr",
     "output_type": "stream",
     "text": [
      "[Parallel(n_jobs=-1)]: Done 2160 out of 2160 | elapsed:   16.5s finished\n",
      "/home/ubuntu/.local/lib/python3.6/site-packages/sklearn/linear_model/_coordinate_descent.py:531: ConvergenceWarning: Objective did not converge. You might want to increase the number of iterations. Duality gap: 4934465.374842442, tolerance: 30336.491400000003\n",
      "  positive)\n"
     ]
    },
    {
     "data": {
      "text/plain": [
       "<matplotlib.collections.PathCollection at 0x7f32a818da20>"
      ]
     },
     "execution_count": 13,
     "metadata": {},
     "output_type": "execute_result"
    },
    {
     "data": {
      "image/png": "[encoded data removed]",
      "text/plain": [
       "<Figure size 432x288 with 1 Axes>"
      ]
     },
     "metadata": {
      "needs_background": "light"
     },
     "output_type": "display_data"
    }
   ],
   "source": [
    "alphas = np.logspace(-20,10,num=20)\n",
    "\n",
    "param_grid = {'max_iter': np.arange(10,100,10),\n",
    "             'alpha': alphas,\n",
    "             'fit_intercept':[True, False],\n",
    "             #'selection': ['cyclic', 'random'],\n",
    "             #'positive':[True, False],\n",
    "             #'warm_start':[True, False],\n",
    "             'copy_X':[True, False]}\n",
    "\n",
    "lasso_cv = GridSearchCV(Lasso(),\n",
    "                       param_grid=param_grid,\n",
    "                         cv=3, \n",
    "                        scoring='r2',\n",
    "                         n_jobs=-1,\n",
    "                       verbose=1)\n",
    "\n",
    "lasso_cv.fit(x_train, y_train)\n",
    "\n",
    "y_tr_pred = lasso_cv.predict(x_train)\n",
    "y_te_pred = lasso_cv.predict(x_test)\n",
    "\n",
    "print(\"Training Score \",lasso_cv.score(x_train,y_train))\n",
    "print(\"Testing Score \",lasso_cv.score(x_test,y_test))\n",
    "\n",
    "#from sklearn.metrics import r2_score\n",
    "#R = r2_score(y_test, y_te_pred)\n",
    "#print ('R² :',R)\n",
    "#print('Best Score: ', lasso_cv.best_score_)\n",
    "print('Best Params: ', lasso_cv.best_params_)\n",
    "\n",
    "plt.scatter(range(0,len(y_test)),y_test, color='red')\n",
    "plt.scatter(range(0,len(y_te_pred)),y_te_pred, color='blue')"
   ]
  },
  {
   "cell_type": "markdown",
   "metadata": {},
   "source": [
    "## Huber Regressor"
   ]
  },
  {
   "cell_type": "code",
   "execution_count": 14,
   "metadata": {},
   "outputs": [
    {
     "name": "stdout",
     "output_type": "stream",
     "text": [
      "Fitting 3 folds for each of 7200 candidates, totalling 21600 fits\n"
     ]
    },
    {
     "name": "stderr",
     "output_type": "stream",
     "text": [
      "[Parallel(n_jobs=-1)]: Using backend LokyBackend with 4 concurrent workers.\n",
      "[Parallel(n_jobs=-1)]: Done  76 tasks      | elapsed:    2.9s\n",
      "[Parallel(n_jobs=-1)]: Done 376 tasks      | elapsed:   14.5s\n",
      "[Parallel(n_jobs=-1)]: Done 876 tasks      | elapsed:   31.4s\n",
      "[Parallel(n_jobs=-1)]: Done 2200 tasks      | elapsed:  1.1min\n",
      "[Parallel(n_jobs=-1)]: Done 3150 tasks      | elapsed:  1.9min\n",
      "[Parallel(n_jobs=-1)]: Done 4076 tasks      | elapsed:  2.6min\n",
      "[Parallel(n_jobs=-1)]: Done 5436 tasks      | elapsed:  3.3min\n",
      "[Parallel(n_jobs=-1)]: Done 6936 tasks      | elapsed:  4.1min\n",
      "[Parallel(n_jobs=-1)]: Done 8820 tasks      | elapsed:  5.4min\n",
      "[Parallel(n_jobs=-1)]: Done 14520 tasks      | elapsed:  7.3min\n",
      "[Parallel(n_jobs=-1)]: Done 17252 tasks      | elapsed:  8.5min\n",
      "[Parallel(n_jobs=-1)]: Done 21600 out of 21600 | elapsed:  9.3min finished\n"
     ]
    },
    {
     "name": "stdout",
     "output_type": "stream",
     "text": [
      "Training Score  0.8611691963655868\n",
      "Testing Score  0.9408086169276503\n",
      "Best Params:  {'alpha': 1.6237767391887243e-06, 'epsilon': 1.2500000000000002, 'fit_intercept': True, 'max_iter': 20, 'warm_start': True}\n"
     ]
    },
    {
     "name": "stderr",
     "output_type": "stream",
     "text": [
      "/home/ubuntu/.local/lib/python3.6/site-packages/sklearn/linear_model/_huber.py:296: ConvergenceWarning: lbfgs failed to converge (status=1):\n",
      "STOP: TOTAL NO. of ITERATIONS REACHED LIMIT.\n",
      "\n",
      "Increase the number of iterations (max_iter) or scale the data as shown in:\n",
      "    https://scikit-learn.org/stable/modules/preprocessing.html\n",
      "  self.n_iter_ = _check_optimize_result(\"lbfgs\", opt_res, self.max_iter)\n"
     ]
    },
    {
     "data": {
      "text/plain": [
       "<matplotlib.collections.PathCollection at 0x7f32a39dd5f8>"
      ]
     },
     "execution_count": 14,
     "metadata": {},
     "output_type": "execute_result"
    },
    {
     "data": {
      "image/png": "[encoded data removed]",
      "text/plain": [
       "<Figure size 432x288 with 1 Axes>"
      ]
     },
     "metadata": {
      "needs_background": "light"
     },
     "output_type": "display_data"
    }
   ],
   "source": [
    "epsilon = np.arange(1, 1.5, 0.05)\n",
    "\n",
    "param_grid = {'max_iter': np.arange(10,100,10),\n",
    "             'alpha': alphas,\n",
    "              'epsilon': epsilon,\n",
    "             'fit_intercept':[True, False],\n",
    "             'warm_start':[True, False]}\n",
    "\n",
    "huber_cv = GridSearchCV(HuberRegressor(),\n",
    "                       param_grid=param_grid,\n",
    "                         cv=3, \n",
    "                         scoring='r2',\n",
    "                         n_jobs=-1,\n",
    "                       verbose=1)\n",
    "\n",
    "huber_cv.fit(x_train, y_train)\n",
    "\n",
    "y_tr_pred = huber_cv.predict(x_train)\n",
    "y_te_pred = huber_cv.predict(x_test)\n",
    "\n",
    "print(\"Training Score \",huber_cv.score(x_train,y_train))\n",
    "print(\"Testing Score \",huber_cv.score(x_test,y_test))\n",
    "\n",
    "\n",
    "\n",
    "#from sklearn.metrics import r2_score\n",
    "#R = r2_score(y_test, y_te_pred)\n",
    "#print ('R² :',R)\n",
    "#print('Best Score: ', huber_cv.best_score_)\n",
    "print('Best Params: ', huber_cv.best_params_)\n",
    "\n",
    "plt.scatter(range(0,len(y_test)),y_test, color='red')\n",
    "plt.scatter(range(0,len(y_te_pred)),y_te_pred, color='blue')"
   ]
  },
  {
   "cell_type": "markdown",
   "metadata": {},
   "source": [
    "## Random Forrest Regressor"
   ]
  },
  {
   "cell_type": "code",
   "execution_count": 15,
   "metadata": {},
   "outputs": [
    {
     "name": "stdout",
     "output_type": "stream",
     "text": [
      "Training Score  0.9337543826366544\n",
      "Testing Score  -0.5252553590221358\n",
      "Best Params:  {'max_depth': 5, 'max_features': 'auto', 'min_samples_leaf': 6, 'n_estimators': 100}\n"
     ]
    },
    {
     "data": {
      "text/plain": [
       "<matplotlib.collections.PathCollection at 0x7f32a815cf28>"
      ]
     },
     "execution_count": 15,
     "metadata": {},
     "output_type": "execute_result"
    },
    {
     "data": {
      "image/png": "[encoded data removed]",
      "text/plain": [
       "<Figure size 432x288 with 1 Axes>"
      ]
     },
     "metadata": {
      "needs_background": "light"
     },
     "output_type": "display_data"
    }
   ],
   "source": [
    "parameters = {  \n",
    "                 'min_samples_leaf': [2, 4, 6],\n",
    "                 'max_depth': np.arange(1,6,1),\n",
    "                 'n_estimators': [100],\n",
    "                'max_features': ['auto']\n",
    "}\n",
    "\n",
    "rf_cv = GridSearchCV( RandomForestRegressor(),\n",
    "                      param_grid=parameters, \n",
    "                      cv=3, \n",
    "                      scoring='r2',\n",
    "                      n_jobs=-1)\n",
    "\n",
    "rf_cv.fit(x_train, y_train)\n",
    "\n",
    "y_tr_pred = rf_cv.predict(x_train)\n",
    "y_te_pred = rf_cv.predict(x_test)\n",
    "\n",
    "\n",
    "print(\"Training Score \",rf_cv.score(x_train,y_train))\n",
    "print(\"Testing Score \",rf_cv.score(x_test,y_test))\n",
    "\n",
    "#from sklearn.metrics import r2_score\n",
    "#R = r2_score(y_test, y_te_pred)\n",
    "#print ('R² :',R)\n",
    "#print('Best Score: ', rf_cv.best_score_)\n",
    "print('Best Params: ', rf_cv.best_params_)\n",
    "\n",
    "plt.scatter(range(0,len(y_test)),y_test, color='red')\n",
    "plt.scatter(range(0,len(y_te_pred)),y_te_pred, color='blue')"
   ]
  },
  {
   "cell_type": "code",
   "execution_count": 16,
   "metadata": {},
   "outputs": [
    {
     "name": "stdout",
     "output_type": "stream",
     "text": [
      "Test R² : -0.5562223679696499\n",
      "Train R² : 0.9346715243354917\n"
     ]
    },
    {
     "data": {
      "text/plain": [
       "<matplotlib.collections.PathCollection at 0x7f32a395d5f8>"
      ]
     },
     "execution_count": 16,
     "metadata": {},
     "output_type": "execute_result"
    },
    {
     "data": {
      "image/png": "[encoded data removed]",
      "text/plain": [
       "<Figure size 432x288 with 1 Axes>"
      ]
     },
     "metadata": {
      "needs_background": "light"
     },
     "output_type": "display_data"
    }
   ],
   "source": [
    "finalrf_cv = RandomForestRegressor(max_depth=20, min_samples_leaf=6, n_estimators=150)\n",
    "finalrf_cv.fit(x_train, y_train)\n",
    "y_tr_pred = finalrf_cv.predict(x_train)\n",
    "y_te_pred = finalrf_cv.predict(x_test)\n",
    "\n",
    "from sklearn.metrics import r2_score\n",
    "R = r2_score(y_test, y_te_pred)\n",
    "print ('Test R² :',R)\n",
    "\n",
    "R = r2_score(y_train, y_tr_pred)\n",
    "print ('Train R² :',R)\n",
    "\n",
    "plt.scatter(range(0,len(y_test)),y_test, color='red')\n",
    "plt.scatter(range(0,len(y_te_pred)),y_te_pred, color='blue')"
   ]
  },
  {
   "cell_type": "markdown",
   "metadata": {},
   "source": [
    "## ElasticNet"
   ]
  },
  {
   "cell_type": "code",
   "execution_count": 17,
   "metadata": {},
   "outputs": [
    {
     "name": "stdout",
     "output_type": "stream",
     "text": [
      "Training Score  0.8629106298555238\n",
      "Testing Score  0.760959567934843\n",
      "Best Params:  {'alpha': 1.6237767391887243e-06, 'l1_ratio': 0.4}\n"
     ]
    },
    {
     "data": {
      "text/plain": [
       "<matplotlib.collections.PathCollection at 0x7f32a3712710>"
      ]
     },
     "execution_count": 17,
     "metadata": {},
     "output_type": "execute_result"
    },
    {
     "data": {
      "image/png": "[encoded data removed]",
      "text/plain": [
       "<Figure size 432x288 with 1 Axes>"
      ]
     },
     "metadata": {
      "needs_background": "light"
     },
     "output_type": "display_data"
    }
   ],
   "source": [
    "# find optimal alpha with grid search\n",
    "alpha = np.logspace(-20,10,num=20)\n",
    "l1_ratio = [0, 0.1, 0.2, 0.3, 0.4, 0.5, 0.6, 0.7, 0.8, 0.9, 1]\n",
    "param_grid = dict(alpha=alpha, l1_ratio=l1_ratio)\n",
    "grid = GridSearchCV(ElasticNet(), \n",
    "                    param_grid=param_grid,\n",
    "                    cv=7,\n",
    "                    scoring='r2', \n",
    "                    n_jobs=-1)\n",
    "\n",
    "grid_result = grid.fit(x_train, y_train)\n",
    "\n",
    "y_tr_pred = grid.predict(x_train)\n",
    "y_te_pred = grid.predict(x_test)\n",
    "\n",
    "print(\"Training Score \",grid_result.score(x_train,y_train))\n",
    "print(\"Testing Score \",grid_result.score(x_test,y_test))\n",
    "\n",
    "#from sklearn.metrics import r2_score\n",
    "#R = r2_score(y_test, y_te_pred)\n",
    "#print ('R² :',R)\n",
    "#print('Best Score: ', grid_result.best_score_)\n",
    "print('Best Params: ', grid_result.best_params_)\n",
    "\n",
    "plt.scatter(range(0,len(y_test)),y_test, color='red')\n",
    "plt.scatter(range(0,len(y_te_pred)),y_te_pred, color='blue')"
   ]
  },
  {
   "cell_type": "markdown",
   "metadata": {},
   "source": [
    "## Gradient Boosting Regressor"
   ]
  },
  {
   "cell_type": "code",
   "execution_count": 18,
   "metadata": {},
   "outputs": [
    {
     "name": "stdout",
     "output_type": "stream",
     "text": [
      "Fitting 5 folds for each of 324 candidates, totalling 1620 fits\n"
     ]
    },
    {
     "name": "stderr",
     "output_type": "stream",
     "text": [
      "[Parallel(n_jobs=-1)]: Using backend LokyBackend with 4 concurrent workers.\n",
      "[Parallel(n_jobs=-1)]: Done  42 tasks      | elapsed:   47.8s\n",
      "[Parallel(n_jobs=-1)]: Done 192 tasks      | elapsed:  3.8min\n",
      "[Parallel(n_jobs=-1)]: Done 442 tasks      | elapsed: 11.3min\n",
      "[Parallel(n_jobs=-1)]: Done 792 tasks      | elapsed: 37.7min\n",
      "[Parallel(n_jobs=-1)]: Done 1242 tasks      | elapsed: 78.6min\n",
      "[Parallel(n_jobs=-1)]: Done 1620 out of 1620 | elapsed: 107.2min finished\n"
     ]
    },
    {
     "name": "stdout",
     "output_type": "stream",
     "text": [
      "Training Score  0.8629106298555238\n",
      "Testing Score  0.760959567934843\n",
      "Best Params:  {'learning_rate': 0.02, 'loss': 'lad', 'max_depth': 5, 'max_features': 'sqrt', 'min_samples_leaf': 10, 'min_samples_split': 20, 'n_estimators': 1500}\n"
     ]
    },
    {
     "data": {
      "text/plain": [
       "<matplotlib.collections.PathCollection at 0x7f32a3766048>"
      ]
     },
     "execution_count": 18,
     "metadata": {},
     "output_type": "execute_result"
    },
    {
     "data": {
      "image/png": "[encoded data removed]",
      "text/plain": [
       "<Figure size 432x288 with 1 Axes>"
      ]
     },
     "metadata": {
      "needs_background": "light"
     },
     "output_type": "display_data"
    }
   ],
   "source": [
    "learning_rate = np.arange(0,0.2,0.001)\n",
    "parameters = {  \n",
    "                 'learning_rate': [0.02],\n",
    "                 'min_samples_split': [10, 15, 20],\n",
    "                 'min_samples_leaf': [10, 15, 20],\n",
    "                 'max_depth': [3, 4, 5],\n",
    "                 'n_estimators': [1000, 1500, 2000],\n",
    "                 'loss': ['ls', 'lad', 'huber', 'quantile'],\n",
    "                 'max_features': ['sqrt']\n",
    "             }\n",
    "\n",
    "\n",
    "GBoost_cv = GridSearchCV(GradientBoostingRegressor(), \n",
    "                         param_grid=parameters, \n",
    "                         n_jobs=-1, \n",
    "                         scoring='r2',\n",
    "                         cv=5,\n",
    "                        verbose=1)\n",
    "#GBoost_cv = GradientBoostingRegressor(learning_rate=0.02)\n",
    "\n",
    "GBoost_cv.fit(x_train, y_train)\n",
    "\n",
    "y_tr_pred = GBoost_cv.predict(x_train)\n",
    "y_te_pred = GBoost_cv.predict(x_test)\n",
    "\n",
    "print(\"Training Score \",grid_result.score(x_train,y_train))\n",
    "print(\"Testing Score \",grid_result.score(x_test,y_test))\n",
    "\n",
    "#from sklearn.metrics import r2_score\n",
    "#R = r2_score(y_test, y_te_pred)\n",
    "#print ('R² :',R)\n",
    "#print('Best Score: ', GBoost_cv.best_score_)\n",
    "print('Best Params: ', GBoost_cv.best_params_)\n",
    "\n",
    "plt.scatter(range(0,len(y_test)),y_test, color='red')\n",
    "plt.scatter(range(0,len(y_te_pred)),y_te_pred, color='blue')"
   ]
  },
  {
   "cell_type": "code",
   "execution_count": null,
   "metadata": {},
   "outputs": [],
   "source": []
  }
 ],
 "metadata": {
  "kernelspec": {
   "display_name": "Python 3",
   "language": "python",
   "name": "python3"
  },
  "language_info": {
   "codemirror_mode": {
    "name": "ipython",
    "version": 3
   },
   "file_extension": ".py",
   "mimetype": "text/x-python",
   "name": "python",
   "nbconvert_exporter": "python",
   "pygments_lexer": "ipython3",
   "version": "3.6.9"
  }
 },
 "nbformat": 4,
 "nbformat_minor": 4
}
