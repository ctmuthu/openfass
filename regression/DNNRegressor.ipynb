{
 "cells": [
  {
   "cell_type": "code",
   "execution_count": 1,
   "metadata": {},
   "outputs": [],
   "source": [
    "# https://medium.com/datadriveninvestor/linear-regression-using-tensorflow-estimator-9aa570914375"
   ]
  },
  {
   "cell_type": "code",
   "execution_count": 2,
   "metadata": {},
   "outputs": [],
   "source": [
    "import os\n",
    "import datetime\n",
    "import pandas as pd\n",
    "import numpy as np\n",
    "import tensorflow as tf\n",
    "import matplotlib.pyplot as plt\n",
    "from sklearn.metrics import explained_variance_score, \\\n",
    "    mean_absolute_error, \\\n",
    "    median_absolute_error\n",
    "from sklearn.model_selection import train_test_split\n",
    "from sklearn.model_selection import KFold\n",
    "from sklearn import preprocessing\n",
    "\n",
    "%matplotlib inline"
   ]
  },
  {
   "cell_type": "code",
   "execution_count": 3,
   "metadata": {},
   "outputs": [
    {
     "data": {
      "text/html": [
       "<div>\n",
       "<style scoped>\n",
       "    .dataframe tbody tr th:only-of-type {\n",
       "        vertical-align: middle;\n",
       "    }\n",
       "\n",
       "    .dataframe tbody tr th {\n",
       "        vertical-align: top;\n",
       "    }\n",
       "\n",
       "    .dataframe thead th {\n",
       "        text-align: right;\n",
       "    }\n",
       "</style>\n",
       "<table border=\"1\" class=\"dataframe\">\n",
       "  <thead>\n",
       "    <tr style=\"text-align: right;\">\n",
       "      <th></th>\n",
       "      <th>cpu</th>\n",
       "      <th>diskio</th>\n",
       "      <th>diskioRead</th>\n",
       "      <th>diskioWritten</th>\n",
       "      <th>mem</th>\n",
       "      <th>networkReceived</th>\n",
       "      <th>networkTransmitted</th>\n",
       "      <th>replica</th>\n",
       "      <th>requests</th>\n",
       "      <th>responsetime</th>\n",
       "      <th>totalcpu</th>\n",
       "      <th>totalcpuUtilization</th>\n",
       "      <th>totalmemory</th>\n",
       "      <th>totalmemoryUtilization</th>\n",
       "    </tr>\n",
       "  </thead>\n",
       "  <tbody>\n",
       "    <tr>\n",
       "      <th>0</th>\n",
       "      <td>7.452470</td>\n",
       "      <td>0.000129</td>\n",
       "      <td>0.000000</td>\n",
       "      <td>1.484572e+04</td>\n",
       "      <td>0.006211</td>\n",
       "      <td>7.686411e+02</td>\n",
       "      <td>690.618472</td>\n",
       "      <td>1.0</td>\n",
       "      <td>7.0</td>\n",
       "      <td>0.427801</td>\n",
       "      <td>12.0</td>\n",
       "      <td>76.330988</td>\n",
       "      <td>5.045532e+10</td>\n",
       "      <td>10.168922</td>\n",
       "    </tr>\n",
       "    <tr>\n",
       "      <th>1</th>\n",
       "      <td>6.314931</td>\n",
       "      <td>0.056578</td>\n",
       "      <td>903.680000</td>\n",
       "      <td>7.635895e+06</td>\n",
       "      <td>0.006211</td>\n",
       "      <td>4.423151e+06</td>\n",
       "      <td>44196.825694</td>\n",
       "      <td>1.0</td>\n",
       "      <td>42.0</td>\n",
       "      <td>0.441701</td>\n",
       "      <td>12.0</td>\n",
       "      <td>76.330988</td>\n",
       "      <td>5.045532e+10</td>\n",
       "      <td>10.168922</td>\n",
       "    </tr>\n",
       "    <tr>\n",
       "      <th>2</th>\n",
       "      <td>9.499113</td>\n",
       "      <td>0.073244</td>\n",
       "      <td>1001.244444</td>\n",
       "      <td>9.543407e+06</td>\n",
       "      <td>0.006211</td>\n",
       "      <td>4.011359e+06</td>\n",
       "      <td>41064.000000</td>\n",
       "      <td>1.0</td>\n",
       "      <td>76.0</td>\n",
       "      <td>0.429230</td>\n",
       "      <td>12.0</td>\n",
       "      <td>13.216667</td>\n",
       "      <td>5.045532e+10</td>\n",
       "      <td>10.329697</td>\n",
       "    </tr>\n",
       "    <tr>\n",
       "      <th>3</th>\n",
       "      <td>6.085528</td>\n",
       "      <td>0.073156</td>\n",
       "      <td>1001.244444</td>\n",
       "      <td>9.533212e+06</td>\n",
       "      <td>0.026095</td>\n",
       "      <td>4.012145e+06</td>\n",
       "      <td>42053.311111</td>\n",
       "      <td>1.0</td>\n",
       "      <td>112.0</td>\n",
       "      <td>0.421655</td>\n",
       "      <td>12.0</td>\n",
       "      <td>13.216667</td>\n",
       "      <td>5.045532e+10</td>\n",
       "      <td>10.329697</td>\n",
       "    </tr>\n",
       "    <tr>\n",
       "      <th>4</th>\n",
       "      <td>9.452724</td>\n",
       "      <td>0.021956</td>\n",
       "      <td>182.044444</td>\n",
       "      <td>2.628813e+06</td>\n",
       "      <td>0.119376</td>\n",
       "      <td>3.909378e+03</td>\n",
       "      <td>3469.288889</td>\n",
       "      <td>1.0</td>\n",
       "      <td>140.0</td>\n",
       "      <td>0.439443</td>\n",
       "      <td>12.0</td>\n",
       "      <td>14.213889</td>\n",
       "      <td>5.045532e+10</td>\n",
       "      <td>10.159327</td>\n",
       "    </tr>\n",
       "  </tbody>\n",
       "</table>\n",
       "</div>"
      ],
      "text/plain": [
       "        cpu    diskio   diskioRead  diskioWritten       mem  networkReceived  \\\n",
       "0  7.452470  0.000129     0.000000   1.484572e+04  0.006211     7.686411e+02   \n",
       "1  6.314931  0.056578   903.680000   7.635895e+06  0.006211     4.423151e+06   \n",
       "2  9.499113  0.073244  1001.244444   9.543407e+06  0.006211     4.011359e+06   \n",
       "3  6.085528  0.073156  1001.244444   9.533212e+06  0.026095     4.012145e+06   \n",
       "4  9.452724  0.021956   182.044444   2.628813e+06  0.119376     3.909378e+03   \n",
       "\n",
       "   networkTransmitted  replica  requests  responsetime  totalcpu  \\\n",
       "0          690.618472      1.0       7.0      0.427801      12.0   \n",
       "1        44196.825694      1.0      42.0      0.441701      12.0   \n",
       "2        41064.000000      1.0      76.0      0.429230      12.0   \n",
       "3        42053.311111      1.0     112.0      0.421655      12.0   \n",
       "4         3469.288889      1.0     140.0      0.439443      12.0   \n",
       "\n",
       "   totalcpuUtilization   totalmemory  totalmemoryUtilization  \n",
       "0            76.330988  5.045532e+10               10.168922  \n",
       "1            76.330988  5.045532e+10               10.168922  \n",
       "2            13.216667  5.045532e+10               10.329697  \n",
       "3            13.216667  5.045532e+10               10.329697  \n",
       "4            14.213889  5.045532e+10               10.159327  "
      ]
     },
     "execution_count": 3,
     "metadata": {},
     "output_type": "execute_result"
    }
   ],
   "source": [
    "cwd = os.getcwd()\n",
    "output_dir = os.path.join(cwd, \"../data\")\n",
    "df = pd.read_csv(os.path.join(output_dir, \"combined_sentimentanalysis.csv\"))\n",
    "df_test = pd.read_csv(os.path.join(output_dir, \"combined_sentimentanalysistest.csv\"))\n",
    "#df_test = pd.read_csv(os.path.join(output_dir, \"figlet1599056546.006096_1599063766.431225.csv\"))\n",
    "df = df.drop(df[df.responsetime > 2].index)\n",
    "df.pop('Time')\n",
    "df_test = df_test.drop(df_test[df_test.responsetime > 2].index)\n",
    "df_test.pop('Time')\n",
    "df.head()"
   ]
  },
  {
   "cell_type": "code",
   "execution_count": 4,
   "metadata": {},
   "outputs": [],
   "source": [
    "# remove 2xlarge\n",
    "df = df.drop(df[df.totalcpu > 16].index)"
   ]
  },
  {
   "cell_type": "code",
   "execution_count": 5,
   "metadata": {},
   "outputs": [],
   "source": [
    "df_t = pd.DataFrame()\n",
    "df_ttest = pd.DataFrame()"
   ]
  },
  {
   "cell_type": "code",
   "execution_count": 6,
   "metadata": {},
   "outputs": [
    {
     "data": {
      "text/html": [
       "<div>\n",
       "<style scoped>\n",
       "    .dataframe tbody tr th:only-of-type {\n",
       "        vertical-align: middle;\n",
       "    }\n",
       "\n",
       "    .dataframe tbody tr th {\n",
       "        vertical-align: top;\n",
       "    }\n",
       "\n",
       "    .dataframe thead th {\n",
       "        text-align: right;\n",
       "    }\n",
       "</style>\n",
       "<table border=\"1\" class=\"dataframe\">\n",
       "  <thead>\n",
       "    <tr style=\"text-align: right;\">\n",
       "      <th></th>\n",
       "      <th>total_cpu_util</th>\n",
       "      <th>total_mem_util</th>\n",
       "      <th>responsetime</th>\n",
       "      <th>requests</th>\n",
       "      <th>replica</th>\n",
       "    </tr>\n",
       "  </thead>\n",
       "  <tbody>\n",
       "    <tr>\n",
       "      <th>0</th>\n",
       "      <td>9.159719</td>\n",
       "      <td>513.076211</td>\n",
       "      <td>0.427801</td>\n",
       "      <td>7.0</td>\n",
       "      <td>1.0</td>\n",
       "    </tr>\n",
       "    <tr>\n",
       "      <th>1</th>\n",
       "      <td>9.159719</td>\n",
       "      <td>513.076211</td>\n",
       "      <td>0.441701</td>\n",
       "      <td>42.0</td>\n",
       "      <td>1.0</td>\n",
       "    </tr>\n",
       "    <tr>\n",
       "      <th>2</th>\n",
       "      <td>1.586000</td>\n",
       "      <td>521.188136</td>\n",
       "      <td>0.429230</td>\n",
       "      <td>76.0</td>\n",
       "      <td>1.0</td>\n",
       "    </tr>\n",
       "    <tr>\n",
       "      <th>3</th>\n",
       "      <td>1.586000</td>\n",
       "      <td>521.188136</td>\n",
       "      <td>0.421655</td>\n",
       "      <td>112.0</td>\n",
       "      <td>1.0</td>\n",
       "    </tr>\n",
       "    <tr>\n",
       "      <th>4</th>\n",
       "      <td>1.705667</td>\n",
       "      <td>512.592066</td>\n",
       "      <td>0.439443</td>\n",
       "      <td>140.0</td>\n",
       "      <td>1.0</td>\n",
       "    </tr>\n",
       "  </tbody>\n",
       "</table>\n",
       "</div>"
      ],
      "text/plain": [
       "   total_cpu_util  total_mem_util  responsetime  requests  replica\n",
       "0        9.159719      513.076211      0.427801       7.0      1.0\n",
       "1        9.159719      513.076211      0.441701      42.0      1.0\n",
       "2        1.586000      521.188136      0.429230      76.0      1.0\n",
       "3        1.586000      521.188136      0.421655     112.0      1.0\n",
       "4        1.705667      512.592066      0.439443     140.0      1.0"
      ]
     },
     "execution_count": 6,
     "metadata": {},
     "output_type": "execute_result"
    }
   ],
   "source": [
    "df_t['total_cpu_util'] = (df['totalcpuUtilization']*df['totalcpu'])/100\n",
    "df_t['total_mem_util'] = (df['totalmemoryUtilization']*df['totalmemory'])*1e-9\n",
    "df_t['responsetime'] = df['responsetime']\n",
    "df_t['requests'] = df['requests']\n",
    "df_t['replica'] = df['replica']\n",
    "df_ttest['total_cpu_util'] = (df_test['totalcpuUtilization']*df_test['totalcpu'])/100\n",
    "df_ttest['total_mem_util'] = (df_test['totalmemoryUtilization']*df_test['totalmemory'])*1e-9\n",
    "df_ttest['responsetime'] = df_test['responsetime']\n",
    "df_ttest['requests'] = df_test['requests']\n",
    "df_ttest['replica'] = df_test['replica']\n",
    "df_t.head()"
   ]
  },
  {
   "cell_type": "code",
   "execution_count": 7,
   "metadata": {},
   "outputs": [],
   "source": [
    "#muthu = df_t\n",
    "#X = muthu.loc[:,['total_cpu_util','total_mem_util','replica', 'requests']].values\n",
    "#X = preprocessing.normalize(X, norm='max')\n",
    "#y = muthu.loc[:,['responsetime']].values\n",
    "#kf = KFold(n_splits=7, random_state=42, shuffle=True)\n",
    "#for train_index, test_index in kf.split(X):\n",
    "#    print(\"TRAIN:\", train_index, \"TEST:\", test_index)\n",
    "#    X_train, X_test = X[train_index], X[test_index]\n",
    "#    y_train, y_test = y[train_index], y[test_index]\n",
    "#    print(X_train, '\\n', y_train)\n",
    "#    print(X_test, '\\n', y_test)"
   ]
  },
  {
   "cell_type": "code",
   "execution_count": 8,
   "metadata": {},
   "outputs": [
    {
     "data": {
      "text/plain": [
       "[<matplotlib.lines.Line2D at 0x7f91d96fd5f8>]"
      ]
     },
     "execution_count": 8,
     "metadata": {},
     "output_type": "execute_result"
    },
    {
     "data": {
      "image/png": "[encoded data removed]",
      "text/plain": [
       "<Figure size 432x288 with 1 Axes>"
      ]
     },
     "metadata": {
      "needs_background": "light"
     },
     "output_type": "display_data"
    }
   ],
   "source": [
    "plt.plot(df_t['total_cpu_util'])"
   ]
  },
  {
   "cell_type": "code",
   "execution_count": 9,
   "metadata": {},
   "outputs": [
    {
     "data": {
      "text/plain": [
       "[<matplotlib.lines.Line2D at 0x7f91d95dce48>]"
      ]
     },
     "execution_count": 9,
     "metadata": {},
     "output_type": "execute_result"
    },
    {
     "data": {
      "image/png": "[encoded data removed]",
      "text/plain": [
       "<Figure size 432x288 with 1 Axes>"
      ]
     },
     "metadata": {
      "needs_background": "light"
     },
     "output_type": "display_data"
    }
   ],
   "source": [
    "plt.plot(df_t['responsetime'])"
   ]
  },
  {
   "cell_type": "code",
   "execution_count": 10,
   "metadata": {},
   "outputs": [
    {
     "data": {
      "text/plain": [
       "[<matplotlib.lines.Line2D at 0x7f91d95b1a20>]"
      ]
     },
     "execution_count": 10,
     "metadata": {},
     "output_type": "execute_result"
    },
    {
     "data": {
      "image/png": "[encoded data removed]",
      "text/plain": [
       "<Figure size 432x288 with 1 Axes>"
      ]
     },
     "metadata": {
      "needs_background": "light"
     },
     "output_type": "display_data"
    }
   ],
   "source": [
    "plt.plot(df_t['requests'])"
   ]
  },
  {
   "cell_type": "code",
   "execution_count": 11,
   "metadata": {},
   "outputs": [],
   "source": [
    "n = len(df_t)\n",
    "train_df = df_t[0:int(n*0.8)]\n",
    "eval_df = df_t[int(n*0.8):]\n",
    "test_df = df_ttest[:]\n",
    "\n",
    "#train_mean = train_df.mean()\n",
    "#print(train_mean)\n",
    "#train_std = train_df.std()\n",
    "#print(train_std)\n",
    "\n",
    "#train_df = (train_df - train_mean) / train_std\n",
    "#test_df = (test_df - train_mean) / train_std\n",
    "#train_df"
   ]
  },
  {
   "cell_type": "code",
   "execution_count": 12,
   "metadata": {},
   "outputs": [],
   "source": [
    "#import seaborn as sns\n",
    "#df_std = (df_t - train_mean) / train_std\n",
    "##print(df_std)\n",
    "#df_std = df_std.melt(var_name='Column', value_name='Normalized')\n",
    "##print(df_std)\n",
    "#plt.figure(figsize=(12, 6))\n",
    "#ax = sns.violinplot(x='Column', y='Normalized', data=df_std)\n",
    "#_ = ax.set_xticklabels(df_t.keys(), rotation=90)"
   ]
  },
  {
   "cell_type": "code",
   "execution_count": 13,
   "metadata": {},
   "outputs": [],
   "source": [
    "x_train = train_df[[col for col in train_df.columns if col != 'requests']]\n",
    "y_train = train_df['requests']\n",
    "x_val = eval_df[[col for col in eval_df.columns if col != 'requests']]\n",
    "y_val = eval_df['requests']\n",
    "x_test = test_df[[col for col in eval_df.columns if col != 'requests']]\n",
    "y_test = test_df['requests']"
   ]
  },
  {
   "cell_type": "code",
   "execution_count": 14,
   "metadata": {},
   "outputs": [],
   "source": [
    "#x_data.describe(include='all')"
   ]
  },
  {
   "cell_type": "code",
   "execution_count": 15,
   "metadata": {},
   "outputs": [],
   "source": [
    "#x_train, x_test, y_train, y_test = train_test_split(x_data, y, test_size=0.3)"
   ]
  },
  {
   "cell_type": "code",
   "execution_count": 16,
   "metadata": {},
   "outputs": [],
   "source": [
    "feature_col = [tf.feature_column.numeric_column(col) for col in x_train.columns]"
   ]
  },
  {
   "cell_type": "code",
   "execution_count": 17,
   "metadata": {},
   "outputs": [],
   "source": [
    "opti = tf.optimizers.Adam(learning_rate = 0.01)"
   ]
  },
  {
   "cell_type": "code",
   "execution_count": 18,
   "metadata": {},
   "outputs": [
    {
     "name": "stdout",
     "output_type": "stream",
     "text": [
      "WARNING:tensorflow:From /home/ubuntu/.local/lib/python3.6/site-packages/tensorflow/python/util/lazy_loader.py:63: The name tf.estimator.inputs is deprecated. Please use tf.compat.v1.estimator.inputs instead.\n",
      "\n"
     ]
    }
   ],
   "source": [
    "input_func= tf.compat.v1.estimator.inputs.pandas_input_fn(x=x_train, \n",
    "                                                y= y_train, \n",
    "                                                batch_size=100, \n",
    "                                                num_epochs=1000, \n",
    "                                                shuffle=False)"
   ]
  },
  {
   "cell_type": "code",
   "execution_count": 19,
   "metadata": {},
   "outputs": [],
   "source": [
    "test_input_func = tf.compat.v1.estimator.inputs.pandas_input_fn(x= x_test,                                                   \n",
    "                                                 batch_size=10, \n",
    "                                                 num_epochs=1, \n",
    "                                                 shuffle=False)\n",
    "eval_input_func = tf.compat.v1.estimator.inputs.pandas_input_fn(x=x_val,\n",
    "                                                      y=y_val, \n",
    "                                                      batch_size=10, \n",
    "                                                      num_epochs=1, \n",
    "                                                      shuffle=False)"
   ]
  },
  {
   "cell_type": "code",
   "execution_count": 20,
   "metadata": {},
   "outputs": [
    {
     "name": "stdout",
     "output_type": "stream",
     "text": [
      "INFO:tensorflow:Using default config.\n",
      "WARNING:tensorflow:Using temporary folder as model directory: /tmp/tmprejrmy7h\n",
      "INFO:tensorflow:Using config: {'_model_dir': '/tmp/tmprejrmy7h', '_tf_random_seed': None, '_save_summary_steps': 100, '_save_checkpoints_steps': None, '_save_checkpoints_secs': 600, '_session_config': allow_soft_placement: true\n",
      "graph_options {\n",
      "  rewrite_options {\n",
      "    meta_optimizer_iterations: ONE\n",
      "  }\n",
      "}\n",
      ", '_keep_checkpoint_max': 5, '_keep_checkpoint_every_n_hours': 10000, '_log_step_count_steps': 100, '_train_distribute': None, '_device_fn': None, '_protocol': None, '_eval_distribute': None, '_experimental_distribute': None, '_experimental_max_worker_delay_secs': None, '_session_creation_timeout_secs': 7200, '_service': None, '_cluster_spec': ClusterSpec({}), '_task_type': 'worker', '_task_id': 0, '_global_id_in_cluster': 0, '_master': '', '_evaluation_master': '', '_is_chief': True, '_num_ps_replicas': 0, '_num_worker_replicas': 1}\n"
     ]
    }
   ],
   "source": [
    "estimator = tf.estimator.DNNRegressor(hidden_units=[4,4,1], feature_columns=feature_col, optimizer=opti)"
   ]
  },
  {
   "cell_type": "code",
   "execution_count": 21,
   "metadata": {},
   "outputs": [
    {
     "name": "stdout",
     "output_type": "stream",
     "text": [
      "WARNING:tensorflow:From /home/ubuntu/.local/lib/python3.6/site-packages/tensorflow/python/training/training_util.py:236: Variable.initialized_value (from tensorflow.python.ops.variables) is deprecated and will be removed in a future version.\n",
      "Instructions for updating:\n",
      "Use Variable.read_value. Variables in 2.X are initialized automatically both in eager and graph (inside tf.defun) contexts.\n",
      "WARNING:tensorflow:From /home/ubuntu/.local/lib/python3.6/site-packages/tensorflow_estimator/python/estimator/inputs/queues/feeding_queue_runner.py:65: QueueRunner.__init__ (from tensorflow.python.training.queue_runner_impl) is deprecated and will be removed in a future version.\n",
      "Instructions for updating:\n",
      "To construct input pipelines, use the `tf.data` module.\n",
      "WARNING:tensorflow:From /home/ubuntu/.local/lib/python3.6/site-packages/tensorflow_estimator/python/estimator/inputs/queues/feeding_functions.py:491: add_queue_runner (from tensorflow.python.training.queue_runner_impl) is deprecated and will be removed in a future version.\n",
      "Instructions for updating:\n",
      "To construct input pipelines, use the `tf.data` module.\n",
      "INFO:tensorflow:Calling model_fn.\n",
      "WARNING:tensorflow:Layer dnn is casting an input tensor from dtype float64 to the layer's dtype of float32, which is new behavior in TensorFlow 2.  The layer has dtype float32 because its dtype defaults to floatx.\n",
      "\n",
      "If you intended to run this layer in float32, you can safely ignore this warning. If in doubt, this warning is likely only an issue if you are porting a TensorFlow 1.X model to TensorFlow 2.\n",
      "\n",
      "To change all layers to have dtype float64 by default, call `tf.keras.backend.set_floatx('float64')`. To change just this layer, pass dtype='float64' to the layer constructor. If you are the author of this layer, you can disable autocasting by passing autocast=False to the base Layer constructor.\n",
      "\n",
      "INFO:tensorflow:Done calling model_fn.\n",
      "INFO:tensorflow:Create CheckpointSaverHook.\n",
      "INFO:tensorflow:Graph was finalized.\n",
      "INFO:tensorflow:Running local_init_op.\n",
      "INFO:tensorflow:Done running local_init_op.\n",
      "WARNING:tensorflow:From /home/ubuntu/.local/lib/python3.6/site-packages/tensorflow/python/training/monitored_session.py:906: start_queue_runners (from tensorflow.python.training.queue_runner_impl) is deprecated and will be removed in a future version.\n",
      "Instructions for updating:\n",
      "To construct input pipelines, use the `tf.data` module.\n",
      "INFO:tensorflow:Calling checkpoint listeners before saving checkpoint 0...\n",
      "INFO:tensorflow:Saving checkpoints for 0 into /tmp/tmprejrmy7h/model.ckpt.\n",
      "INFO:tensorflow:Calling checkpoint listeners after saving checkpoint 0...\n",
      "INFO:tensorflow:loss = 697255.1, step = 0\n",
      "WARNING:tensorflow:It seems that global step (tf.train.get_global_step) has not been increased. Current value (could be stable): 12 vs previous value: 12. You could increase the global step by passing tf.train.get_global_step() to Optimizer.apply_gradients or Optimizer.minimize.\n",
      "WARNING:tensorflow:It seems that global step (tf.train.get_global_step) has not been increased. Current value (could be stable): 95 vs previous value: 95. You could increase the global step by passing tf.train.get_global_step() to Optimizer.apply_gradients or Optimizer.minimize.\n",
      "WARNING:tensorflow:It seems that global step (tf.train.get_global_step) has not been increased. Current value (could be stable): 97 vs previous value: 97. You could increase the global step by passing tf.train.get_global_step() to Optimizer.apply_gradients or Optimizer.minimize.\n",
      "INFO:tensorflow:global_step/sec: 240.528\n",
      "INFO:tensorflow:loss = 269387.8, step = 100 (0.421 sec)\n",
      "WARNING:tensorflow:It seems that global step (tf.train.get_global_step) has not been increased. Current value (could be stable): 194 vs previous value: 194. You could increase the global step by passing tf.train.get_global_step() to Optimizer.apply_gradients or Optimizer.minimize.\n",
      "WARNING:tensorflow:It seems that global step (tf.train.get_global_step) has not been increased. Current value (could be stable): 196 vs previous value: 196. You could increase the global step by passing tf.train.get_global_step() to Optimizer.apply_gradients or Optimizer.minimize.\n",
      "INFO:tensorflow:global_step/sec: 231.844\n",
      "INFO:tensorflow:loss = 1298854.2, step = 200 (0.430 sec)\n",
      "INFO:tensorflow:global_step/sec: 281.203\n",
      "INFO:tensorflow:loss = 382241.38, step = 300 (0.359 sec)\n",
      "INFO:tensorflow:global_step/sec: 202.826\n",
      "INFO:tensorflow:loss = 394500.9, step = 400 (0.488 sec)\n",
      "INFO:tensorflow:global_step/sec: 295.422\n",
      "INFO:tensorflow:loss = 1529948.5, step = 500 (0.338 sec)\n",
      "INFO:tensorflow:global_step/sec: 280.907\n",
      "INFO:tensorflow:loss = 253078.12, step = 600 (0.358 sec)\n",
      "INFO:tensorflow:global_step/sec: 306.162\n",
      "INFO:tensorflow:loss = 688894.94, step = 700 (0.329 sec)\n",
      "INFO:tensorflow:global_step/sec: 277.452\n",
      "INFO:tensorflow:loss = 1396570.5, step = 800 (0.359 sec)\n",
      "INFO:tensorflow:global_step/sec: 290.193\n",
      "INFO:tensorflow:loss = 183812.42, step = 900 (0.344 sec)\n",
      "INFO:tensorflow:global_step/sec: 314.455\n",
      "INFO:tensorflow:loss = 791831.2, step = 1000 (0.318 sec)\n",
      "INFO:tensorflow:global_step/sec: 285.945\n",
      "INFO:tensorflow:loss = 1076907.2, step = 1100 (0.355 sec)\n",
      "INFO:tensorflow:global_step/sec: 309.561\n",
      "INFO:tensorflow:loss = 309140.62, step = 1200 (0.317 sec)\n",
      "INFO:tensorflow:global_step/sec: 296.211\n",
      "INFO:tensorflow:loss = 807116.9, step = 1300 (0.337 sec)\n",
      "INFO:tensorflow:global_step/sec: 358.175\n",
      "INFO:tensorflow:loss = 781290.75, step = 1400 (0.279 sec)\n",
      "INFO:tensorflow:global_step/sec: 289.659\n",
      "INFO:tensorflow:loss = 632357.8, step = 1500 (0.347 sec)\n",
      "INFO:tensorflow:global_step/sec: 315.969\n",
      "INFO:tensorflow:loss = 863240.3, step = 1600 (0.318 sec)\n",
      "INFO:tensorflow:global_step/sec: 308.121\n",
      "INFO:tensorflow:loss = 489232.84, step = 1700 (0.326 sec)\n",
      "INFO:tensorflow:global_step/sec: 256.008\n",
      "INFO:tensorflow:loss = 968498.56, step = 1800 (0.393 sec)\n",
      "INFO:tensorflow:global_step/sec: 278.774\n",
      "INFO:tensorflow:loss = 670400.4, step = 1900 (0.358 sec)\n",
      "INFO:tensorflow:global_step/sec: 308.102\n",
      "INFO:tensorflow:loss = 252368.08, step = 2000 (0.320 sec)\n",
      "INFO:tensorflow:global_step/sec: 399.299\n",
      "INFO:tensorflow:loss = 1262068.1, step = 2100 (0.254 sec)\n",
      "INFO:tensorflow:global_step/sec: 272.84\n",
      "INFO:tensorflow:loss = 362885.2, step = 2200 (0.362 sec)\n",
      "INFO:tensorflow:global_step/sec: 290.643\n",
      "INFO:tensorflow:loss = 375644.53, step = 2300 (0.344 sec)\n",
      "INFO:tensorflow:global_step/sec: 298.947\n",
      "INFO:tensorflow:loss = 1487365.8, step = 2400 (0.339 sec)\n",
      "INFO:tensorflow:global_step/sec: 241.015\n",
      "INFO:tensorflow:loss = 236911.48, step = 2500 (0.412 sec)\n",
      "INFO:tensorflow:global_step/sec: 244.923\n",
      "INFO:tensorflow:loss = 663247.1, step = 2600 (0.410 sec)\n",
      "INFO:tensorflow:global_step/sec: 238.539\n",
      "INFO:tensorflow:loss = 1355737.1, step = 2700 (0.422 sec)\n",
      "INFO:tensorflow:global_step/sec: 296.908\n",
      "INFO:tensorflow:loss = 170310.8, step = 2800 (0.335 sec)\n",
      "INFO:tensorflow:global_step/sec: 252.038\n",
      "INFO:tensorflow:loss = 763937.25, step = 2900 (0.399 sec)\n",
      "INFO:tensorflow:global_step/sec: 264.633\n",
      "INFO:tensorflow:loss = 1043369.75, step = 3000 (0.376 sec)\n",
      "INFO:tensorflow:global_step/sec: 265.627\n",
      "INFO:tensorflow:loss = 294305.25, step = 3100 (0.378 sec)\n",
      "INFO:tensorflow:global_step/sec: 236.037\n",
      "INFO:tensorflow:loss = 778755.7, step = 3200 (0.422 sec)\n",
      "INFO:tensorflow:global_step/sec: 308.423\n",
      "INFO:tensorflow:loss = 753284.0, step = 3300 (0.324 sec)\n",
      "INFO:tensorflow:global_step/sec: 227.218\n",
      "INFO:tensorflow:loss = 609968.25, step = 3400 (0.436 sec)\n",
      "INFO:tensorflow:global_step/sec: 281.485\n",
      "INFO:tensorflow:loss = 832551.7, step = 3500 (0.359 sec)\n",
      "INFO:tensorflow:global_step/sec: 330.874\n",
      "INFO:tensorflow:loss = 466837.62, step = 3600 (0.298 sec)\n",
      "INFO:tensorflow:global_step/sec: 232.572\n",
      "INFO:tensorflow:loss = 938434.6, step = 3700 (0.435 sec)\n",
      "INFO:tensorflow:Calling checkpoint listeners before saving checkpoint 3800...\n",
      "INFO:tensorflow:Saving checkpoints for 3800 into /tmp/tmprejrmy7h/model.ckpt.\n",
      "INFO:tensorflow:Calling checkpoint listeners after saving checkpoint 3800...\n",
      "INFO:tensorflow:Loss for final step: 605363.06.\n"
     ]
    },
    {
     "data": {
      "text/plain": [
       "<tensorflow_estimator.python.estimator.canned.dnn.DNNRegressorV2 at 0x7f91d9513278>"
      ]
     },
     "execution_count": 21,
     "metadata": {},
     "output_type": "execute_result"
    }
   ],
   "source": [
    "estimator.train(input_fn=input_func,steps=10000)"
   ]
  },
  {
   "cell_type": "code",
   "execution_count": 22,
   "metadata": {},
   "outputs": [
    {
     "name": "stdout",
     "output_type": "stream",
     "text": [
      "INFO:tensorflow:Calling model_fn.\n",
      "WARNING:tensorflow:Layer dnn is casting an input tensor from dtype float64 to the layer's dtype of float32, which is new behavior in TensorFlow 2.  The layer has dtype float32 because its dtype defaults to floatx.\n",
      "\n",
      "If you intended to run this layer in float32, you can safely ignore this warning. If in doubt, this warning is likely only an issue if you are porting a TensorFlow 1.X model to TensorFlow 2.\n",
      "\n",
      "To change all layers to have dtype float64 by default, call `tf.keras.backend.set_floatx('float64')`. To change just this layer, pass dtype='float64' to the layer constructor. If you are the author of this layer, you can disable autocasting by passing autocast=False to the base Layer constructor.\n",
      "\n",
      "INFO:tensorflow:Done calling model_fn.\n",
      "INFO:tensorflow:Starting evaluation at 2020-10-13T09:06:41Z\n",
      "INFO:tensorflow:Graph was finalized.\n",
      "INFO:tensorflow:Restoring parameters from /tmp/tmprejrmy7h/model.ckpt-3800\n",
      "INFO:tensorflow:Running local_init_op.\n",
      "INFO:tensorflow:Done running local_init_op.\n",
      "INFO:tensorflow:Inference Time : 0.26804s\n",
      "INFO:tensorflow:Finished evaluation at 2020-10-13-09:06:41\n",
      "INFO:tensorflow:Saving dict for global step 3800: average_loss = 202548.11, global_step = 3800, label/mean = 453.73685, loss = 209036.02, prediction/mean = 35.9624\n",
      "INFO:tensorflow:Saving 'checkpoint_path' summary for global step 3800: /tmp/tmprejrmy7h/model.ckpt-3800\n"
     ]
    }
   ],
   "source": [
    "result_eval = estimator.evaluate(input_fn=eval_input_func)"
   ]
  },
  {
   "cell_type": "code",
   "execution_count": 23,
   "metadata": {},
   "outputs": [
    {
     "data": {
      "text/plain": [
       "{'average_loss': 202548.11,\n",
       " 'label/mean': 453.73685,\n",
       " 'loss': 209036.02,\n",
       " 'prediction/mean': 35.9624,\n",
       " 'global_step': 3800}"
      ]
     },
     "execution_count": 23,
     "metadata": {},
     "output_type": "execute_result"
    }
   ],
   "source": [
    "result_eval"
   ]
  },
  {
   "cell_type": "code",
   "execution_count": 24,
   "metadata": {},
   "outputs": [
    {
     "name": "stdout",
     "output_type": "stream",
     "text": [
      "INFO:tensorflow:Calling model_fn.\n",
      "WARNING:tensorflow:Layer dnn is casting an input tensor from dtype float64 to the layer's dtype of float32, which is new behavior in TensorFlow 2.  The layer has dtype float32 because its dtype defaults to floatx.\n",
      "\n",
      "If you intended to run this layer in float32, you can safely ignore this warning. If in doubt, this warning is likely only an issue if you are porting a TensorFlow 1.X model to TensorFlow 2.\n",
      "\n",
      "To change all layers to have dtype float64 by default, call `tf.keras.backend.set_floatx('float64')`. To change just this layer, pass dtype='float64' to the layer constructor. If you are the author of this layer, you can disable autocasting by passing autocast=False to the base Layer constructor.\n",
      "\n",
      "INFO:tensorflow:Done calling model_fn.\n",
      "INFO:tensorflow:Graph was finalized.\n",
      "INFO:tensorflow:Restoring parameters from /tmp/tmprejrmy7h/model.ckpt-3800\n",
      "INFO:tensorflow:Running local_init_op.\n",
      "INFO:tensorflow:Done running local_init_op.\n"
     ]
    },
    {
     "data": {
      "text/plain": [
       "Text(0, 0.5, 'predicted values')"
      ]
     },
     "execution_count": 24,
     "metadata": {},
     "output_type": "execute_result"
    },
    {
     "data": {
      "image/png": "[encoded data removed]",
      "text/plain": [
       "<Figure size 432x288 with 1 Axes>"
      ]
     },
     "metadata": {
      "needs_background": "light"
     },
     "output_type": "display_data"
    }
   ],
   "source": [
    "predictions=[]\n",
    "for pred in estimator.predict(input_fn=test_input_func):\n",
    "    predictions.append(np.array(pred['predictions']).astype(float))\n",
    "plt.plot(y_test, predictions, 'r*')\n",
    "plt.xlabel('Actual values')\n",
    "plt.ylabel('predicted values')"
   ]
  },
  {
   "cell_type": "code",
   "execution_count": 25,
   "metadata": {},
   "outputs": [
    {
     "data": {
      "text/plain": [
       "43.67485534623049"
      ]
     },
     "execution_count": 25,
     "metadata": {},
     "output_type": "execute_result"
    }
   ],
   "source": [
    "from sklearn.metrics import mean_squared_error\n",
    "np.sqrt(mean_squared_error(y_test, predictions))**0.5"
   ]
  },
  {
   "cell_type": "code",
   "execution_count": 26,
   "metadata": {},
   "outputs": [
    {
     "data": {
      "text/plain": [
       "<matplotlib.collections.PathCollection at 0x7f91cf5290f0>"
      ]
     },
     "execution_count": 26,
     "metadata": {},
     "output_type": "execute_result"
    },
    {
     "data": {
      "image/png": "[encoded data removed]",
      "text/plain": [
       "<Figure size 432x288 with 1 Axes>"
      ]
     },
     "metadata": {
      "needs_background": "light"
     },
     "output_type": "display_data"
    }
   ],
   "source": [
    "plt.scatter(range(0,len(y_test)),y_test, color='red')\n",
    "plt.scatter(range(0,len(predictions)),predictions, color='blue')"
   ]
  },
  {
   "cell_type": "code",
   "execution_count": 27,
   "metadata": {},
   "outputs": [
    {
     "name": "stdout",
     "output_type": "stream",
     "text": [
      "R² : -7.550084725038651\n"
     ]
    }
   ],
   "source": [
    "from sklearn.metrics import r2_score\n",
    "R = r2_score(y_test, predictions)\n",
    "print ('R² :',R)"
   ]
  },
  {
   "cell_type": "code",
   "execution_count": 28,
   "metadata": {},
   "outputs": [
    {
     "name": "stdout",
     "output_type": "stream",
     "text": [
      "0         8.0\n",
      "1        43.0\n",
      "2        78.0\n",
      "3       114.0\n",
      "4       141.0\n",
      "        ...  \n",
      "228    2331.0\n",
      "229    2244.0\n",
      "230    2135.0\n",
      "231    2106.0\n",
      "232    2082.0\n",
      "Name: requests, Length: 232, dtype: float64 [array([35.96239853]), array([35.96239853]), array([35.96239853]), array([35.96239853]), array([35.96239853]), array([35.96239853]), array([35.96239853]), array([35.96239853]), array([35.96239853]), array([35.96239853]), array([35.96239853]), array([35.96239853]), array([35.96239853]), array([35.96239853]), array([35.96239853]), array([35.96239853]), array([35.96239853]), array([35.96239853]), array([35.96239853]), array([35.96239853]), array([35.96239853]), array([35.96239853]), array([35.96239853]), array([35.96239853]), array([35.96239853]), array([35.96239853]), array([35.96239853]), array([35.96239853]), array([35.96239853]), array([35.96239853]), array([35.96239853]), array([35.96239853]), array([35.96239853]), array([35.96239853]), array([35.96239853]), array([35.96239853]), array([35.96239853]), array([35.96239853]), array([35.96239853]), array([35.96239853]), array([35.96239853]), array([35.96239853]), array([35.96239853]), array([35.96239853]), array([35.96239853]), array([35.96239853]), array([35.96239853]), array([35.96239853]), array([35.96239853]), array([35.96239853]), array([35.96239853]), array([35.96239853]), array([35.96239853]), array([35.96239853]), array([35.96239853]), array([35.96239853]), array([35.96239853]), array([35.96239853]), array([35.96239853]), array([35.96239853]), array([35.96239853]), array([35.96239853]), array([35.96239853]), array([35.96239853]), array([35.96239853]), array([35.96239853]), array([35.96239853]), array([35.96239853]), array([35.96239853]), array([35.96239853]), array([35.96239853]), array([35.96239853]), array([35.96239853]), array([35.96239853]), array([35.96239853]), array([35.96239853]), array([35.96239853]), array([35.96239853]), array([35.96239853]), array([35.96239853]), array([35.96239853]), array([35.96239853]), array([35.96239853]), array([35.96239853]), array([35.96239853]), array([35.96239853]), array([35.96239853]), array([35.96239853]), array([35.96239853]), array([35.96239853]), array([35.96239853]), array([35.96239853]), array([35.96239853]), array([35.96239853]), array([35.96239853]), array([35.96239853]), array([35.96239853]), array([35.96239853]), array([35.96239853]), array([35.96239853]), array([35.96239853]), array([35.96239853]), array([35.96239853]), array([35.96239853]), array([35.96239853]), array([35.96239853]), array([35.96239853]), array([35.96239853]), array([35.96239853]), array([35.96239853]), array([35.96239853]), array([35.96239853]), array([35.96239853]), array([35.96239853]), array([35.96239853]), array([35.96239853]), array([35.96239853]), array([35.96239853]), array([35.96239853]), array([35.96239853]), array([35.96239853]), array([35.96239853]), array([35.96239853]), array([35.96239853]), array([35.96239853]), array([35.96239853]), array([35.96239853]), array([35.96239853]), array([35.96239853]), array([35.96239853]), array([35.96239853]), array([35.96239853]), array([35.96239853]), array([35.96239853]), array([35.96239853]), array([35.96239853]), array([35.96239853]), array([35.96239853]), array([35.96239853]), array([35.96239853]), array([35.96239853]), array([35.96239853]), array([35.96239853]), array([35.96239853]), array([35.96239853]), array([35.96239853]), array([35.96239853]), array([35.96239853]), array([35.96239853]), array([35.96239853]), array([35.96239853]), array([35.96239853]), array([35.96239853]), array([35.96239853]), array([35.96239853]), array([35.96239853]), array([35.96239853]), array([35.96239853]), array([35.96239853]), array([35.96239853]), array([35.96239853]), array([35.96239853]), array([35.96239853]), array([35.96239853]), array([35.96239853]), array([35.96239853]), array([35.96239853]), array([35.96239853]), array([35.96239853]), array([35.96239853]), array([35.96239853]), array([35.96239853]), array([35.96239853]), array([35.96239853]), array([35.96239853]), array([35.96239853]), array([35.96239853]), array([35.96239853]), array([35.96239853]), array([35.96239853]), array([35.96239853]), array([35.96239853]), array([35.96239853]), array([35.96239853]), array([35.96239853]), array([35.96239853]), array([35.96239853]), array([35.96239853]), array([35.96239853]), array([35.96239853]), array([35.96239853]), array([35.96239853]), array([35.96239853]), array([35.96239853]), array([35.96239853]), array([35.96239853]), array([35.96239853]), array([35.96239853]), array([35.96239853]), array([35.96239853]), array([35.96239853]), array([35.96239853]), array([35.96239853]), array([35.96239853]), array([35.96239853]), array([35.96239853]), array([35.96239853]), array([35.96239853]), array([35.96239853]), array([35.96239853]), array([35.96239853]), array([35.96239853]), array([35.96239853]), array([35.96239853]), array([35.96239853]), array([35.96239853]), array([35.96239853]), array([35.96239853]), array([35.96239853]), array([35.96239853]), array([35.96239853]), array([35.96239853]), array([35.96239853]), array([35.96239853]), array([35.96239853]), array([35.96239853]), array([35.96239853]), array([35.96239853]), array([35.96239853]), array([35.96239853]), array([35.96239853]), array([35.96239853])]\n"
     ]
    }
   ],
   "source": [
    "print(y_test,predictions )"
   ]
  },
  {
   "cell_type": "markdown",
   "metadata": {},
   "source": [
    "# Kfold - data split"
   ]
  },
  {
   "cell_type": "code",
   "execution_count": null,
   "metadata": {},
   "outputs": [],
   "source": []
  }
 ],
 "metadata": {
  "kernelspec": {
   "display_name": "Python 3",
   "language": "python",
   "name": "python3"
  },
  "language_info": {
   "codemirror_mode": {
    "name": "ipython",
    "version": 3
   },
   "file_extension": ".py",
   "mimetype": "text/x-python",
   "name": "python",
   "nbconvert_exporter": "python",
   "pygments_lexer": "ipython3",
   "version": "3.6.9"
  }
 },
 "nbformat": 4,
 "nbformat_minor": 4
}
