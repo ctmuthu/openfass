{
 "cells": [
  {
   "cell_type": "code",
   "execution_count": 1,
   "metadata": {},
   "outputs": [],
   "source": [
    "import os\n",
    "import datetime\n",
    "import matplotlib.pyplot as plt\n",
    "import numpy as np\n",
    "import pandas as pd\n",
    "import seaborn as sns\n",
    "# Make numpy printouts easier to read.\n",
    "np.set_printoptions(precision=3, suppress=True)\n",
    "import tensorflow as tf\n",
    "\n",
    "from tensorflow import keras\n",
    "from tensorflow.keras import layers\n",
    "from tensorflow.keras.layers.experimental import preprocessing"
   ]
  },
  {
   "cell_type": "code",
   "execution_count": 2,
   "metadata": {},
   "outputs": [
    {
     "data": {
      "text/html": [
       "<div>\n",
       "<style scoped>\n",
       "    .dataframe tbody tr th:only-of-type {\n",
       "        vertical-align: middle;\n",
       "    }\n",
       "\n",
       "    .dataframe tbody tr th {\n",
       "        vertical-align: top;\n",
       "    }\n",
       "\n",
       "    .dataframe thead th {\n",
       "        text-align: right;\n",
       "    }\n",
       "</style>\n",
       "<table border=\"1\" class=\"dataframe\">\n",
       "  <thead>\n",
       "    <tr style=\"text-align: right;\">\n",
       "      <th></th>\n",
       "      <th>cpu</th>\n",
       "      <th>diskio</th>\n",
       "      <th>diskioRead</th>\n",
       "      <th>diskioWritten</th>\n",
       "      <th>mem</th>\n",
       "      <th>networkReceived</th>\n",
       "      <th>networkTransmitted</th>\n",
       "      <th>replica</th>\n",
       "      <th>requests</th>\n",
       "      <th>responsetime</th>\n",
       "      <th>totalcpu</th>\n",
       "      <th>totalcpuUtilization</th>\n",
       "      <th>totalmemory</th>\n",
       "      <th>totalmemoryUtilization</th>\n",
       "    </tr>\n",
       "  </thead>\n",
       "  <tbody>\n",
       "    <tr>\n",
       "      <th>0</th>\n",
       "      <td>0.324094</td>\n",
       "      <td>0.006131</td>\n",
       "      <td>911.319040</td>\n",
       "      <td>49312.485831</td>\n",
       "      <td>0.010610</td>\n",
       "      <td>1355.186590</td>\n",
       "      <td>7327.460939</td>\n",
       "      <td>1.0</td>\n",
       "      <td>103.0</td>\n",
       "      <td>0.101562</td>\n",
       "      <td>6.0</td>\n",
       "      <td>65.278711</td>\n",
       "      <td>2.508814e+10</td>\n",
       "      <td>19.192693</td>\n",
       "    </tr>\n",
       "    <tr>\n",
       "      <th>1</th>\n",
       "      <td>0.435870</td>\n",
       "      <td>0.012711</td>\n",
       "      <td>12652.088889</td>\n",
       "      <td>99214.222222</td>\n",
       "      <td>0.010610</td>\n",
       "      <td>5997.000000</td>\n",
       "      <td>17316.288889</td>\n",
       "      <td>1.0</td>\n",
       "      <td>251.0</td>\n",
       "      <td>0.103955</td>\n",
       "      <td>6.0</td>\n",
       "      <td>65.278711</td>\n",
       "      <td>2.508814e+10</td>\n",
       "      <td>19.192693</td>\n",
       "    </tr>\n",
       "    <tr>\n",
       "      <th>2</th>\n",
       "      <td>0.468027</td>\n",
       "      <td>0.012978</td>\n",
       "      <td>12652.088889</td>\n",
       "      <td>101398.755556</td>\n",
       "      <td>0.033712</td>\n",
       "      <td>8108.177778</td>\n",
       "      <td>21682.377778</td>\n",
       "      <td>1.0</td>\n",
       "      <td>396.0</td>\n",
       "      <td>0.106485</td>\n",
       "      <td>6.0</td>\n",
       "      <td>11.526728</td>\n",
       "      <td>2.508814e+10</td>\n",
       "      <td>19.333974</td>\n",
       "    </tr>\n",
       "    <tr>\n",
       "      <th>3</th>\n",
       "      <td>0.465293</td>\n",
       "      <td>0.014400</td>\n",
       "      <td>11832.888889</td>\n",
       "      <td>128341.333333</td>\n",
       "      <td>0.033712</td>\n",
       "      <td>9869.933333</td>\n",
       "      <td>22551.844444</td>\n",
       "      <td>1.0</td>\n",
       "      <td>542.0</td>\n",
       "      <td>0.105202</td>\n",
       "      <td>6.0</td>\n",
       "      <td>11.526728</td>\n",
       "      <td>2.508814e+10</td>\n",
       "      <td>19.333974</td>\n",
       "    </tr>\n",
       "    <tr>\n",
       "      <th>4</th>\n",
       "      <td>0.461566</td>\n",
       "      <td>0.010489</td>\n",
       "      <td>0.000000</td>\n",
       "      <td>90294.044444</td>\n",
       "      <td>0.037694</td>\n",
       "      <td>7584.933333</td>\n",
       "      <td>18696.533333</td>\n",
       "      <td>1.0</td>\n",
       "      <td>585.0</td>\n",
       "      <td>0.102712</td>\n",
       "      <td>6.0</td>\n",
       "      <td>11.493428</td>\n",
       "      <td>2.508814e+10</td>\n",
       "      <td>19.054890</td>\n",
       "    </tr>\n",
       "  </tbody>\n",
       "</table>\n",
       "</div>"
      ],
      "text/plain": [
       "        cpu    diskio    diskioRead  diskioWritten       mem  networkReceived  \\\n",
       "0  0.324094  0.006131    911.319040   49312.485831  0.010610      1355.186590   \n",
       "1  0.435870  0.012711  12652.088889   99214.222222  0.010610      5997.000000   \n",
       "2  0.468027  0.012978  12652.088889  101398.755556  0.033712      8108.177778   \n",
       "3  0.465293  0.014400  11832.888889  128341.333333  0.033712      9869.933333   \n",
       "4  0.461566  0.010489      0.000000   90294.044444  0.037694      7584.933333   \n",
       "\n",
       "   networkTransmitted  replica  requests  responsetime  totalcpu  \\\n",
       "0         7327.460939      1.0     103.0      0.101562       6.0   \n",
       "1        17316.288889      1.0     251.0      0.103955       6.0   \n",
       "2        21682.377778      1.0     396.0      0.106485       6.0   \n",
       "3        22551.844444      1.0     542.0      0.105202       6.0   \n",
       "4        18696.533333      1.0     585.0      0.102712       6.0   \n",
       "\n",
       "   totalcpuUtilization   totalmemory  totalmemoryUtilization  \n",
       "0            65.278711  2.508814e+10               19.192693  \n",
       "1            65.278711  2.508814e+10               19.192693  \n",
       "2            11.526728  2.508814e+10               19.333974  \n",
       "3            11.526728  2.508814e+10               19.333974  \n",
       "4            11.493428  2.508814e+10               19.054890  "
      ]
     },
     "execution_count": 2,
     "metadata": {},
     "output_type": "execute_result"
    }
   ],
   "source": [
    "cwd = os.getcwd()\n",
    "output_dir = os.path.join(cwd, \"../../data\")\n",
    "df = pd.read_csv(os.path.join(output_dir, \"combined_figlet.csv\"))\n",
    "df_test = pd.read_csv(os.path.join(output_dir, \"combined_figlettest.csv\"))\n",
    "#df_test = pd.read_csv(os.path.join(output_dir, \"figlet1599056546.006096_1599063766.431225.csv\"))\n",
    "df = df.drop(df[df.responsetime > 2].index)\n",
    "df.pop('Time')\n",
    "df_test = df_test.drop(df_test[df_test.responsetime > 2].index)\n",
    "df_test.pop('Time')\n",
    "df.head()"
   ]
  },
  {
   "cell_type": "code",
   "execution_count": 3,
   "metadata": {},
   "outputs": [],
   "source": [
    "# remove 2xlarge\n",
    "df = df.drop(df[df.totalcpu > 16].index)"
   ]
  },
  {
   "cell_type": "code",
   "execution_count": 4,
   "metadata": {},
   "outputs": [],
   "source": [
    "df_t = pd.DataFrame()\n",
    "df_ttest = pd.DataFrame()"
   ]
  },
  {
   "cell_type": "code",
   "execution_count": 5,
   "metadata": {},
   "outputs": [
    {
     "data": {
      "text/html": [
       "<div>\n",
       "<style scoped>\n",
       "    .dataframe tbody tr th:only-of-type {\n",
       "        vertical-align: middle;\n",
       "    }\n",
       "\n",
       "    .dataframe tbody tr th {\n",
       "        vertical-align: top;\n",
       "    }\n",
       "\n",
       "    .dataframe thead th {\n",
       "        text-align: right;\n",
       "    }\n",
       "</style>\n",
       "<table border=\"1\" class=\"dataframe\">\n",
       "  <thead>\n",
       "    <tr style=\"text-align: right;\">\n",
       "      <th></th>\n",
       "      <th>total_cpu_util</th>\n",
       "      <th>total_mem_util</th>\n",
       "      <th>responsetime</th>\n",
       "      <th>requests</th>\n",
       "    </tr>\n",
       "  </thead>\n",
       "  <tbody>\n",
       "    <tr>\n",
       "      <th>0</th>\n",
       "      <td>2.624204</td>\n",
       "      <td>481.508966</td>\n",
       "      <td>0.101562</td>\n",
       "      <td>103.0</td>\n",
       "    </tr>\n",
       "    <tr>\n",
       "      <th>1</th>\n",
       "      <td>2.624204</td>\n",
       "      <td>481.508966</td>\n",
       "      <td>0.103955</td>\n",
       "      <td>251.0</td>\n",
       "    </tr>\n",
       "    <tr>\n",
       "      <th>2</th>\n",
       "      <td>0.463374</td>\n",
       "      <td>485.053440</td>\n",
       "      <td>0.106485</td>\n",
       "      <td>396.0</td>\n",
       "    </tr>\n",
       "    <tr>\n",
       "      <th>3</th>\n",
       "      <td>0.463374</td>\n",
       "      <td>485.053440</td>\n",
       "      <td>0.105202</td>\n",
       "      <td>542.0</td>\n",
       "    </tr>\n",
       "    <tr>\n",
       "      <th>4</th>\n",
       "      <td>0.462036</td>\n",
       "      <td>478.051738</td>\n",
       "      <td>0.102712</td>\n",
       "      <td>585.0</td>\n",
       "    </tr>\n",
       "  </tbody>\n",
       "</table>\n",
       "</div>"
      ],
      "text/plain": [
       "   total_cpu_util  total_mem_util  responsetime  requests\n",
       "0        2.624204      481.508966      0.101562     103.0\n",
       "1        2.624204      481.508966      0.103955     251.0\n",
       "2        0.463374      485.053440      0.106485     396.0\n",
       "3        0.463374      485.053440      0.105202     542.0\n",
       "4        0.462036      478.051738      0.102712     585.0"
      ]
     },
     "execution_count": 5,
     "metadata": {},
     "output_type": "execute_result"
    }
   ],
   "source": [
    "df_t['total_cpu_util'] = (df['totalcpuUtilization']*(df['totalcpu']*0.67))/100                    \n",
    "df_t['total_mem_util'] = (df['totalmemoryUtilization']*df['totalmemory'])*1e-9\n",
    "df_t['responsetime'] = df['responsetime']\n",
    "df_t['requests'] = df['requests']\n",
    "#df_t['replica'] = df['replica']\n",
    "df_ttest['total_cpu_util'] = (df_test['totalcpuUtilization']*(df_test['totalcpu']*0.67))/100\n",
    "df_ttest['total_mem_util'] = (df_test['totalmemoryUtilization']*df_test['totalmemory'])*1e-9\n",
    "df_ttest['responsetime'] = df_test['responsetime']\n",
    "df_ttest['requests'] = df_test['requests']\n",
    "#df_ttest['replica'] = df_test['replica']\n",
    "df_t.head()"
   ]
  },
  {
   "cell_type": "code",
   "execution_count": 6,
   "metadata": {},
   "outputs": [
    {
     "data": {
      "text/html": [
       "<div>\n",
       "<style scoped>\n",
       "    .dataframe tbody tr th:only-of-type {\n",
       "        vertical-align: middle;\n",
       "    }\n",
       "\n",
       "    .dataframe tbody tr th {\n",
       "        vertical-align: top;\n",
       "    }\n",
       "\n",
       "    .dataframe thead th {\n",
       "        text-align: right;\n",
       "    }\n",
       "</style>\n",
       "<table border=\"1\" class=\"dataframe\">\n",
       "  <thead>\n",
       "    <tr style=\"text-align: right;\">\n",
       "      <th></th>\n",
       "      <th>total_cpu_util</th>\n",
       "      <th>total_mem_util</th>\n",
       "      <th>responsetime</th>\n",
       "      <th>requests</th>\n",
       "    </tr>\n",
       "  </thead>\n",
       "  <tbody>\n",
       "    <tr>\n",
       "      <th>3290</th>\n",
       "      <td>2.379505</td>\n",
       "      <td>572.538470</td>\n",
       "      <td>0.235285</td>\n",
       "      <td>18802.0</td>\n",
       "    </tr>\n",
       "    <tr>\n",
       "      <th>3291</th>\n",
       "      <td>2.332224</td>\n",
       "      <td>572.538470</td>\n",
       "      <td>0.235285</td>\n",
       "      <td>26274.0</td>\n",
       "    </tr>\n",
       "    <tr>\n",
       "      <th>3292</th>\n",
       "      <td>2.332224</td>\n",
       "      <td>572.065382</td>\n",
       "      <td>0.235285</td>\n",
       "      <td>33763.0</td>\n",
       "    </tr>\n",
       "    <tr>\n",
       "      <th>3293</th>\n",
       "      <td>2.324085</td>\n",
       "      <td>572.065382</td>\n",
       "      <td>0.326864</td>\n",
       "      <td>38767.0</td>\n",
       "    </tr>\n",
       "    <tr>\n",
       "      <th>3294</th>\n",
       "      <td>2.324085</td>\n",
       "      <td>572.486246</td>\n",
       "      <td>0.235285</td>\n",
       "      <td>33641.0</td>\n",
       "    </tr>\n",
       "  </tbody>\n",
       "</table>\n",
       "</div>"
      ],
      "text/plain": [
       "      total_cpu_util  total_mem_util  responsetime  requests\n",
       "3290        2.379505      572.538470      0.235285   18802.0\n",
       "3291        2.332224      572.538470      0.235285   26274.0\n",
       "3292        2.332224      572.065382      0.235285   33763.0\n",
       "3293        2.324085      572.065382      0.326864   38767.0\n",
       "3294        2.324085      572.486246      0.235285   33641.0"
      ]
     },
     "execution_count": 6,
     "metadata": {},
     "output_type": "execute_result"
    }
   ],
   "source": [
    "df_t.tail()"
   ]
  },
  {
   "cell_type": "code",
   "execution_count": 7,
   "metadata": {},
   "outputs": [],
   "source": [
    "df_t = pd.get_dummies(df_t, prefix='', prefix_sep='')"
   ]
  },
  {
   "cell_type": "code",
   "execution_count": 8,
   "metadata": {},
   "outputs": [
    {
     "data": {
      "text/plain": [
       "(2579, 4)"
      ]
     },
     "execution_count": 8,
     "metadata": {},
     "output_type": "execute_result"
    }
   ],
   "source": [
    "df_t.shape"
   ]
  },
  {
   "cell_type": "code",
   "execution_count": 9,
   "metadata": {},
   "outputs": [],
   "source": [
    "train_dataset = df_t.sample(frac=0.8, random_state=0)\n",
    "val_dataset = df_t.drop(train_dataset.index)\n",
    "test_dataset = df_ttest"
   ]
  },
  {
   "cell_type": "code",
   "execution_count": 10,
   "metadata": {},
   "outputs": [
    {
     "data": {
      "text/plain": [
       "<seaborn.axisgrid.PairGrid at 0x7fd0461ee358>"
      ]
     },
     "execution_count": 10,
     "metadata": {},
     "output_type": "execute_result"
    },
    {
     "data": {
      "image/png": "[encoded data removed]",
      "text/plain": [
       "<Figure size 720x720 with 20 Axes>"
      ]
     },
     "metadata": {
      "needs_background": "light"
     },
     "output_type": "display_data"
    }
   ],
   "source": [
    "sns.pairplot(train_dataset[['total_cpu_util', 'total_mem_util', 'responsetime', 'requests']], diag_kind='kde')"
   ]
  },
  {
   "cell_type": "code",
   "execution_count": 11,
   "metadata": {},
   "outputs": [
    {
     "data": {
      "text/html": [
       "<div>\n",
       "<style scoped>\n",
       "    .dataframe tbody tr th:only-of-type {\n",
       "        vertical-align: middle;\n",
       "    }\n",
       "\n",
       "    .dataframe tbody tr th {\n",
       "        vertical-align: top;\n",
       "    }\n",
       "\n",
       "    .dataframe thead th {\n",
       "        text-align: right;\n",
       "    }\n",
       "</style>\n",
       "<table border=\"1\" class=\"dataframe\">\n",
       "  <thead>\n",
       "    <tr style=\"text-align: right;\">\n",
       "      <th></th>\n",
       "      <th>count</th>\n",
       "      <th>mean</th>\n",
       "      <th>std</th>\n",
       "      <th>min</th>\n",
       "      <th>25%</th>\n",
       "      <th>50%</th>\n",
       "      <th>75%</th>\n",
       "      <th>max</th>\n",
       "    </tr>\n",
       "  </thead>\n",
       "  <tbody>\n",
       "    <tr>\n",
       "      <th>total_cpu_util</th>\n",
       "      <td>2063.0</td>\n",
       "      <td>1.802449</td>\n",
       "      <td>0.715306</td>\n",
       "      <td>0.369352</td>\n",
       "      <td>1.240840</td>\n",
       "      <td>1.819273</td>\n",
       "      <td>2.244835</td>\n",
       "      <td>4.363428</td>\n",
       "    </tr>\n",
       "    <tr>\n",
       "      <th>total_mem_util</th>\n",
       "      <td>2063.0</td>\n",
       "      <td>567.570779</td>\n",
       "      <td>39.498693</td>\n",
       "      <td>137.219482</td>\n",
       "      <td>552.863232</td>\n",
       "      <td>568.009114</td>\n",
       "      <td>604.695245</td>\n",
       "      <td>616.495718</td>\n",
       "    </tr>\n",
       "    <tr>\n",
       "      <th>responsetime</th>\n",
       "      <td>2063.0</td>\n",
       "      <td>0.129342</td>\n",
       "      <td>0.115991</td>\n",
       "      <td>0.099105</td>\n",
       "      <td>0.103883</td>\n",
       "      <td>0.107086</td>\n",
       "      <td>0.113091</td>\n",
       "      <td>1.999501</td>\n",
       "    </tr>\n",
       "    <tr>\n",
       "      <th>requests</th>\n",
       "      <td>2063.0</td>\n",
       "      <td>27122.444014</td>\n",
       "      <td>16215.375596</td>\n",
       "      <td>31.000000</td>\n",
       "      <td>13849.500000</td>\n",
       "      <td>26898.000000</td>\n",
       "      <td>38447.000000</td>\n",
       "      <td>66108.000000</td>\n",
       "    </tr>\n",
       "  </tbody>\n",
       "</table>\n",
       "</div>"
      ],
      "text/plain": [
       "                 count          mean           std         min           25%  \\\n",
       "total_cpu_util  2063.0      1.802449      0.715306    0.369352      1.240840   \n",
       "total_mem_util  2063.0    567.570779     39.498693  137.219482    552.863232   \n",
       "responsetime    2063.0      0.129342      0.115991    0.099105      0.103883   \n",
       "requests        2063.0  27122.444014  16215.375596   31.000000  13849.500000   \n",
       "\n",
       "                         50%           75%           max  \n",
       "total_cpu_util      1.819273      2.244835      4.363428  \n",
       "total_mem_util    568.009114    604.695245    616.495718  \n",
       "responsetime        0.107086      0.113091      1.999501  \n",
       "requests        26898.000000  38447.000000  66108.000000  "
      ]
     },
     "execution_count": 11,
     "metadata": {},
     "output_type": "execute_result"
    }
   ],
   "source": [
    "train_dataset.describe().transpose()"
   ]
  },
  {
   "cell_type": "code",
   "execution_count": 12,
   "metadata": {},
   "outputs": [],
   "source": [
    "train_features = train_dataset.copy()\n",
    "val_features = val_dataset.copy()\n",
    "test_features = test_dataset.copy()"
   ]
  },
  {
   "cell_type": "code",
   "execution_count": 13,
   "metadata": {},
   "outputs": [
    {
     "data": {
      "text/html": [
       "<div>\n",
       "<style scoped>\n",
       "    .dataframe tbody tr th:only-of-type {\n",
       "        vertical-align: middle;\n",
       "    }\n",
       "\n",
       "    .dataframe tbody tr th {\n",
       "        vertical-align: top;\n",
       "    }\n",
       "\n",
       "    .dataframe thead th {\n",
       "        text-align: right;\n",
       "    }\n",
       "</style>\n",
       "<table border=\"1\" class=\"dataframe\">\n",
       "  <thead>\n",
       "    <tr style=\"text-align: right;\">\n",
       "      <th></th>\n",
       "      <th>total_cpu_util</th>\n",
       "      <th>total_mem_util</th>\n",
       "      <th>responsetime</th>\n",
       "      <th>requests</th>\n",
       "    </tr>\n",
       "  </thead>\n",
       "  <tbody>\n",
       "    <tr>\n",
       "      <th>259</th>\n",
       "      <td>1.923371</td>\n",
       "      <td>568.192205</td>\n",
       "      <td>0.103361</td>\n",
       "      <td>34174.0</td>\n",
       "    </tr>\n",
       "    <tr>\n",
       "      <th>1301</th>\n",
       "      <td>2.717520</td>\n",
       "      <td>612.240998</td>\n",
       "      <td>0.114410</td>\n",
       "      <td>48274.0</td>\n",
       "    </tr>\n",
       "    <tr>\n",
       "      <th>3131</th>\n",
       "      <td>1.957293</td>\n",
       "      <td>570.568704</td>\n",
       "      <td>0.103025</td>\n",
       "      <td>32914.0</td>\n",
       "    </tr>\n",
       "    <tr>\n",
       "      <th>3063</th>\n",
       "      <td>1.669178</td>\n",
       "      <td>570.091930</td>\n",
       "      <td>0.105804</td>\n",
       "      <td>26452.0</td>\n",
       "    </tr>\n",
       "    <tr>\n",
       "      <th>518</th>\n",
       "      <td>0.877700</td>\n",
       "      <td>480.162816</td>\n",
       "      <td>0.106193</td>\n",
       "      <td>5186.0</td>\n",
       "    </tr>\n",
       "  </tbody>\n",
       "</table>\n",
       "</div>"
      ],
      "text/plain": [
       "      total_cpu_util  total_mem_util  responsetime  requests\n",
       "259         1.923371      568.192205      0.103361   34174.0\n",
       "1301        2.717520      612.240998      0.114410   48274.0\n",
       "3131        1.957293      570.568704      0.103025   32914.0\n",
       "3063        1.669178      570.091930      0.105804   26452.0\n",
       "518         0.877700      480.162816      0.106193    5186.0"
      ]
     },
     "execution_count": 13,
     "metadata": {},
     "output_type": "execute_result"
    }
   ],
   "source": [
    "train_features.head()"
   ]
  },
  {
   "cell_type": "code",
   "execution_count": 14,
   "metadata": {},
   "outputs": [],
   "source": [
    "train_labels = train_features.pop('requests')\n",
    "val_labels = val_features.pop('requests')\n",
    "test_labels = test_features.pop('requests')"
   ]
  },
  {
   "cell_type": "code",
   "execution_count": 15,
   "metadata": {},
   "outputs": [],
   "source": [
    "normalizer = preprocessing.Normalization()"
   ]
  },
  {
   "cell_type": "code",
   "execution_count": 16,
   "metadata": {},
   "outputs": [],
   "source": [
    "normalizer.adapt(np.array(train_features))"
   ]
  },
  {
   "cell_type": "code",
   "execution_count": 17,
   "metadata": {},
   "outputs": [
    {
     "name": "stdout",
     "output_type": "stream",
     "text": [
      "[  1.802 567.571   0.129]\n"
     ]
    }
   ],
   "source": [
    "print(normalizer.mean.numpy())"
   ]
  },
  {
   "cell_type": "markdown",
   "metadata": {},
   "source": [
    "## Linear Regression"
   ]
  },
  {
   "cell_type": "code",
   "execution_count": 18,
   "metadata": {},
   "outputs": [],
   "source": [
    "input = np.array(train_features[['total_cpu_util', 'total_mem_util', 'responsetime']])\n",
    "\n",
    "input_normalizer = preprocessing.Normalization(input_shape=[3,])\n",
    "input_normalizer.adapt(input)"
   ]
  },
  {
   "cell_type": "code",
   "execution_count": 19,
   "metadata": {},
   "outputs": [
    {
     "name": "stdout",
     "output_type": "stream",
     "text": [
      "Model: \"sequential\"\n",
      "_________________________________________________________________\n",
      "Layer (type)                 Output Shape              Param #   \n",
      "=================================================================\n",
      "normalization_1 (Normalizati (None, 3)                 7         \n",
      "_________________________________________________________________\n",
      "dense (Dense)                (None, 1)                 4         \n",
      "=================================================================\n",
      "Total params: 11\n",
      "Trainable params: 4\n",
      "Non-trainable params: 7\n",
      "_________________________________________________________________\n"
     ]
    }
   ],
   "source": [
    "model = tf.keras.Sequential([\n",
    "    input_normalizer,\n",
    "    layers.Dense(units=1)\n",
    "])\n",
    "model.summary()"
   ]
  },
  {
   "cell_type": "code",
   "execution_count": 20,
   "metadata": {},
   "outputs": [
    {
     "data": {
      "text/plain": [
       "array([[-1.326],\n",
       "       [-1.336],\n",
       "       [-1.376],\n",
       "       [-1.32 ],\n",
       "       [-1.265],\n",
       "       [-1.298],\n",
       "       [-1.276],\n",
       "       [-1.296],\n",
       "       [-1.309],\n",
       "       [-1.283],\n",
       "       [-1.334],\n",
       "       [-1.342],\n",
       "       [-1.345],\n",
       "       [-1.352],\n",
       "       [-1.307],\n",
       "       [-1.3  ],\n",
       "       [-1.297],\n",
       "       [-1.306],\n",
       "       [-1.36 ],\n",
       "       [-1.326],\n",
       "       [-1.257],\n",
       "       [-1.299],\n",
       "       [-1.334],\n",
       "       [-1.329],\n",
       "       [-1.264],\n",
       "       [-1.329],\n",
       "       [-1.334],\n",
       "       [-1.337],\n",
       "       [-1.27 ],\n",
       "       [-1.259],\n",
       "       [-1.334],\n",
       "       [-1.341],\n",
       "       [-1.337],\n",
       "       [-1.362],\n",
       "       [-1.297],\n",
       "       [-1.288],\n",
       "       [-1.319],\n",
       "       [-1.292],\n",
       "       [-1.339],\n",
       "       [-1.285],\n",
       "       [-1.32 ],\n",
       "       [-1.312],\n",
       "       [-1.302],\n",
       "       [-1.322],\n",
       "       [-1.281],\n",
       "       [-1.303],\n",
       "       [-1.3  ],\n",
       "       [-1.304],\n",
       "       [-1.289],\n",
       "       [-1.308],\n",
       "       [-1.323],\n",
       "       [-1.285],\n",
       "       [-1.327],\n",
       "       [-1.321],\n",
       "       [-1.312],\n",
       "       [-1.304],\n",
       "       [-1.298],\n",
       "       [-1.281],\n",
       "       [-1.313],\n",
       "       [-1.339],\n",
       "       [-1.27 ],\n",
       "       [-1.271],\n",
       "       [-1.294],\n",
       "       [-1.363],\n",
       "       [-1.352],\n",
       "       [-1.333],\n",
       "       [-1.385],\n",
       "       [-1.364],\n",
       "       [-1.385],\n",
       "       [-1.355],\n",
       "       [-1.333],\n",
       "       [-1.361],\n",
       "       [-1.33 ],\n",
       "       [-1.308],\n",
       "       [-1.326],\n",
       "       [-1.286],\n",
       "       [-1.273],\n",
       "       [-1.347],\n",
       "       [-1.323],\n",
       "       [-1.327],\n",
       "       [-1.354],\n",
       "       [-1.331],\n",
       "       [-1.297],\n",
       "       [-1.26 ],\n",
       "       [-1.295],\n",
       "       [-1.301],\n",
       "       [-1.272],\n",
       "       [-1.292],\n",
       "       [-1.286],\n",
       "       [-1.235],\n",
       "       [-1.28 ],\n",
       "       [-1.239],\n",
       "       [-1.237],\n",
       "       [-1.252],\n",
       "       [-1.221],\n",
       "       [-1.18 ],\n",
       "       [-1.2  ],\n",
       "       [-1.237],\n",
       "       [-1.223],\n",
       "       [-1.198],\n",
       "       [-1.187],\n",
       "       [-1.243],\n",
       "       [-1.201],\n",
       "       [-1.217],\n",
       "       [-1.159],\n",
       "       [-1.158],\n",
       "       [-1.164],\n",
       "       [-1.152],\n",
       "       [-1.1  ],\n",
       "       [-1.092],\n",
       "       [-1.156],\n",
       "       [-1.174],\n",
       "       [-1.176],\n",
       "       [-1.161],\n",
       "       [-1.143],\n",
       "       [-1.152],\n",
       "       [-1.135],\n",
       "       [-1.112],\n",
       "       [-1.172],\n",
       "       [-1.144],\n",
       "       [-1.166],\n",
       "       [-1.106],\n",
       "       [-1.108],\n",
       "       [-1.084],\n",
       "       [-1.077],\n",
       "       [-1.027],\n",
       "       [-1.085],\n",
       "       [-1.048],\n",
       "       [-1.026],\n",
       "       [-1.038],\n",
       "       [-1.067],\n",
       "       [-1.055],\n",
       "       [-1.079],\n",
       "       [-1.109],\n",
       "       [-1.024],\n",
       "       [-1.023],\n",
       "       [-1.018],\n",
       "       [-1.025],\n",
       "       [-0.944],\n",
       "       [-1.034],\n",
       "       [-0.993],\n",
       "       [-0.979],\n",
       "       [-1.006],\n",
       "       [-1.008],\n",
       "       [-0.98 ],\n",
       "       [-0.976],\n",
       "       [-0.969],\n",
       "       [-0.943],\n",
       "       [-0.998],\n",
       "       [-0.988],\n",
       "       [-0.99 ],\n",
       "       [-0.972],\n",
       "       [-0.913],\n",
       "       [-0.885],\n",
       "       [-0.88 ],\n",
       "       [-0.904],\n",
       "       [-0.92 ],\n",
       "       [-0.912],\n",
       "       [-0.916],\n",
       "       [-0.926],\n",
       "       [-0.919],\n",
       "       [-0.896],\n",
       "       [-0.913],\n",
       "       [-0.904],\n",
       "       [-0.936],\n",
       "       [-0.913],\n",
       "       [-0.878],\n",
       "       [-0.86 ],\n",
       "       [-0.921],\n",
       "       [-0.882],\n",
       "       [-0.871],\n",
       "       [-0.914],\n",
       "       [-0.838],\n",
       "       [-0.857],\n",
       "       [-0.884],\n",
       "       [-0.882],\n",
       "       [-0.917],\n",
       "       [-0.889],\n",
       "       [-0.853],\n",
       "       [-0.819],\n",
       "       [-0.772],\n",
       "       [-0.863],\n",
       "       [-0.778],\n",
       "       [-0.819],\n",
       "       [-0.798],\n",
       "       [-0.81 ],\n",
       "       [-0.755],\n",
       "       [-0.77 ],\n",
       "       [-0.732],\n",
       "       [-0.743],\n",
       "       [-0.798],\n",
       "       [-0.788],\n",
       "       [-0.749],\n",
       "       [-0.709],\n",
       "       [-0.746],\n",
       "       [-0.729],\n",
       "       [-0.796],\n",
       "       [-0.738],\n",
       "       [-0.727],\n",
       "       [-0.751],\n",
       "       [-0.625],\n",
       "       [-0.68 ],\n",
       "       [-0.607],\n",
       "       [-0.665],\n",
       "       [-0.708],\n",
       "       [-0.619],\n",
       "       [-0.663],\n",
       "       [-0.64 ],\n",
       "       [-0.67 ],\n",
       "       [-0.634],\n",
       "       [-0.663],\n",
       "       [-0.675],\n",
       "       [-0.664],\n",
       "       [-0.66 ],\n",
       "       [-0.638],\n",
       "       [-0.693],\n",
       "       [-0.602],\n",
       "       [-0.644],\n",
       "       [-0.613],\n",
       "       [-0.617],\n",
       "       [-0.569],\n",
       "       [-0.494],\n",
       "       [-0.579],\n",
       "       [-0.585],\n",
       "       [-0.606],\n",
       "       [-0.613],\n",
       "       [-0.625],\n",
       "       [-0.601],\n",
       "       [-0.595],\n",
       "       [-0.591],\n",
       "       [-0.524],\n",
       "       [-0.547],\n",
       "       [-0.502],\n",
       "       [-0.486],\n",
       "       [-0.518],\n",
       "       [-0.54 ],\n",
       "       [-0.547],\n",
       "       [-0.57 ],\n",
       "       [-0.581],\n",
       "       [-0.561],\n",
       "       [-0.452],\n",
       "       [-0.536],\n",
       "       [-0.556],\n",
       "       [-0.513],\n",
       "       [-0.525],\n",
       "       [-0.494],\n",
       "       [-0.467],\n",
       "       [-0.473],\n",
       "       [-0.526],\n",
       "       [-0.51 ],\n",
       "       [-0.544],\n",
       "       [-0.531],\n",
       "       [-0.427],\n",
       "       [-0.412],\n",
       "       [-0.436],\n",
       "       [-0.479],\n",
       "       [-0.47 ],\n",
       "       [-0.449],\n",
       "       [-0.439],\n",
       "       [-0.445],\n",
       "       [-0.477],\n",
       "       [-0.451],\n",
       "       [-0.453],\n",
       "       [-0.488],\n",
       "       [-0.464],\n",
       "       [-0.444],\n",
       "       [-0.474],\n",
       "       [-0.442],\n",
       "       [-0.449],\n",
       "       [-0.408],\n",
       "       [-0.335],\n",
       "       [-0.363],\n",
       "       [-0.317],\n",
       "       [-0.295],\n",
       "       [-0.358],\n",
       "       [-0.355],\n",
       "       [-0.407],\n",
       "       [-0.363],\n",
       "       [-0.342],\n",
       "       [-0.386],\n",
       "       [-0.395],\n",
       "       [-0.369],\n",
       "       [-0.323],\n",
       "       [-0.286],\n",
       "       [-0.312],\n",
       "       [-0.299],\n",
       "       [-0.326],\n",
       "       [-0.326],\n",
       "       [-0.307],\n",
       "       [-0.328],\n",
       "       [-0.22 ],\n",
       "       [-0.295],\n",
       "       [-0.278],\n",
       "       [-0.272],\n",
       "       [-0.251],\n",
       "       [-0.284],\n",
       "       [-0.274],\n",
       "       [-0.278],\n",
       "       [-0.306],\n",
       "       [-0.259],\n",
       "       [-0.257],\n",
       "       [-0.251],\n",
       "       [-0.274],\n",
       "       [-0.242],\n",
       "       [-0.231],\n",
       "       [-0.28 ],\n",
       "       [-0.124],\n",
       "       [-0.226],\n",
       "       [-0.194],\n",
       "       [-0.205],\n",
       "       [-0.204],\n",
       "       [-0.234],\n",
       "       [-0.202],\n",
       "       [-0.183],\n",
       "       [-0.159],\n",
       "       [-0.098],\n",
       "       [-0.024],\n",
       "       [-0.095],\n",
       "       [-0.079],\n",
       "       [-0.103],\n",
       "       [-0.148],\n",
       "       [-0.172],\n",
       "       [-0.194],\n",
       "       [-0.186],\n",
       "       [-0.205],\n",
       "       [-0.173],\n",
       "       [-0.172],\n",
       "       [-0.145],\n",
       "       [-0.07 ],\n",
       "       [-0.101],\n",
       "       [-0.056],\n",
       "       [-0.036],\n",
       "       [-0.135],\n",
       "       [-0.09 ],\n",
       "       [ 0.031],\n",
       "       [-0.066],\n",
       "       [-0.112],\n",
       "       [-0.11 ],\n",
       "       [-0.055],\n",
       "       [-0.093],\n",
       "       [-0.029],\n",
       "       [-0.005],\n",
       "       [ 0.051],\n",
       "       [-0.024],\n",
       "       [-0.043],\n",
       "       [ 0.026],\n",
       "       [-0.021],\n",
       "       [-0.09 ],\n",
       "       [ 0.02 ],\n",
       "       [-0.066],\n",
       "       [-0.035],\n",
       "       [ 0.003],\n",
       "       [ 0.041],\n",
       "       [ 0.016],\n",
       "       [ 0.02 ],\n",
       "       [ 0.018],\n",
       "       [ 0.11 ],\n",
       "       [ 0.047],\n",
       "       [ 0.008],\n",
       "       [ 0.022],\n",
       "       [ 0.095],\n",
       "       [ 0.041],\n",
       "       [ 0.086],\n",
       "       [ 0.054],\n",
       "       [ 0.103],\n",
       "       [ 0.126],\n",
       "       [ 0.223],\n",
       "       [ 0.152],\n",
       "       [ 0.177],\n",
       "       [ 0.208],\n",
       "       [ 0.263],\n",
       "       [ 0.231],\n",
       "       [ 0.236],\n",
       "       [ 0.263],\n",
       "       [ 0.235],\n",
       "       [ 0.181],\n",
       "       [ 0.269],\n",
       "       [ 0.321],\n",
       "       [ 0.398],\n",
       "       [ 0.368],\n",
       "       [-0.074],\n",
       "       [-0.041],\n",
       "       [-0.177],\n",
       "       [-0.154],\n",
       "       [ 0.253],\n",
       "       [ 0.286],\n",
       "       [ 0.355],\n",
       "       [ 0.323],\n",
       "       [ 0.417],\n",
       "       [ 0.395],\n",
       "       [ 0.372],\n",
       "       [ 0.257],\n",
       "       [ 0.362],\n",
       "       [ 0.388],\n",
       "       [ 0.383],\n",
       "       [ 0.352],\n",
       "       [ 0.398],\n",
       "       [ 0.382],\n",
       "       [ 0.362],\n",
       "       [ 0.355],\n",
       "       [ 0.475],\n",
       "       [ 0.458],\n",
       "       [ 0.506],\n",
       "       [ 0.547],\n",
       "       [ 0.382],\n",
       "       [ 0.403],\n",
       "       [ 0.409],\n",
       "       [ 0.439],\n",
       "       [ 0.494],\n",
       "       [ 0.52 ],\n",
       "       [ 0.536],\n",
       "       [ 0.542],\n",
       "       [ 0.509],\n",
       "       [ 0.522],\n",
       "       [ 0.467],\n",
       "       [ 0.446],\n",
       "       [ 0.457],\n",
       "       [ 0.452],\n",
       "       [ 0.508],\n",
       "       [ 0.517],\n",
       "       [ 0.561],\n",
       "       [ 0.551],\n",
       "       [ 0.518],\n",
       "       [ 0.479],\n",
       "       [ 0.564],\n",
       "       [ 0.538],\n",
       "       [ 0.561],\n",
       "       [ 0.501],\n",
       "       [ 0.409],\n",
       "       [ 0.493],\n",
       "       [ 0.507],\n",
       "       [ 0.449],\n",
       "       [ 0.734],\n",
       "       [ 0.714],\n",
       "       [ 0.76 ],\n",
       "       [ 0.743],\n",
       "       [ 0.553],\n",
       "       [ 0.611],\n",
       "       [ 0.433],\n",
       "       [ 0.389],\n",
       "       [ 0.492],\n",
       "       [ 0.538],\n",
       "       [ 0.615],\n",
       "       [ 0.608],\n",
       "       [ 0.623],\n",
       "       [ 0.618],\n",
       "       [ 0.693],\n",
       "       [ 0.655],\n",
       "       [ 0.635],\n",
       "       [ 0.624],\n",
       "       [ 0.634],\n",
       "       [ 0.637],\n",
       "       [ 0.714],\n",
       "       [ 0.667],\n",
       "       [ 0.656],\n",
       "       [ 0.61 ],\n",
       "       [ 7.42 ]], dtype=float32)"
      ]
     },
     "execution_count": 20,
     "metadata": {},
     "output_type": "execute_result"
    }
   ],
   "source": [
    "model.predict(test_features)"
   ]
  },
  {
   "cell_type": "code",
   "execution_count": 21,
   "metadata": {},
   "outputs": [],
   "source": [
    "model.compile(\n",
    "    optimizer=tf.optimizers.Adam(learning_rate=0.1),\n",
    "    loss='mean_absolute_error')"
   ]
  },
  {
   "cell_type": "code",
   "execution_count": 22,
   "metadata": {},
   "outputs": [
    {
     "name": "stdout",
     "output_type": "stream",
     "text": [
      "CPU times: user 6.37 s, sys: 791 ms, total: 7.16 s\n",
      "Wall time: 8.76 s\n"
     ]
    }
   ],
   "source": [
    "%%time\n",
    "history = model.fit(\n",
    "    train_features[['total_cpu_util', 'total_mem_util', 'responsetime']], train_labels,\n",
    "    epochs=100,\n",
    "    # suppress logging\n",
    "    verbose=0,\n",
    "    # Calculate validation results on 20% of the training data\n",
    "    validation_split = 0.2)"
   ]
  },
  {
   "cell_type": "code",
   "execution_count": 23,
   "metadata": {},
   "outputs": [
    {
     "data": {
      "text/html": [
       "<div>\n",
       "<style scoped>\n",
       "    .dataframe tbody tr th:only-of-type {\n",
       "        vertical-align: middle;\n",
       "    }\n",
       "\n",
       "    .dataframe tbody tr th {\n",
       "        vertical-align: top;\n",
       "    }\n",
       "\n",
       "    .dataframe thead th {\n",
       "        text-align: right;\n",
       "    }\n",
       "</style>\n",
       "<table border=\"1\" class=\"dataframe\">\n",
       "  <thead>\n",
       "    <tr style=\"text-align: right;\">\n",
       "      <th></th>\n",
       "      <th>loss</th>\n",
       "      <th>val_loss</th>\n",
       "      <th>epoch</th>\n",
       "    </tr>\n",
       "  </thead>\n",
       "  <tbody>\n",
       "    <tr>\n",
       "      <th>95</th>\n",
       "      <td>26505.386719</td>\n",
       "      <td>27113.093750</td>\n",
       "      <td>95</td>\n",
       "    </tr>\n",
       "    <tr>\n",
       "      <th>96</th>\n",
       "      <td>26500.189453</td>\n",
       "      <td>27108.083984</td>\n",
       "      <td>96</td>\n",
       "    </tr>\n",
       "    <tr>\n",
       "      <th>97</th>\n",
       "      <td>26494.982422</td>\n",
       "      <td>27103.042969</td>\n",
       "      <td>97</td>\n",
       "    </tr>\n",
       "    <tr>\n",
       "      <th>98</th>\n",
       "      <td>26489.767578</td>\n",
       "      <td>27097.986328</td>\n",
       "      <td>98</td>\n",
       "    </tr>\n",
       "    <tr>\n",
       "      <th>99</th>\n",
       "      <td>26484.570312</td>\n",
       "      <td>27092.865234</td>\n",
       "      <td>99</td>\n",
       "    </tr>\n",
       "  </tbody>\n",
       "</table>\n",
       "</div>"
      ],
      "text/plain": [
       "            loss      val_loss  epoch\n",
       "95  26505.386719  27113.093750     95\n",
       "96  26500.189453  27108.083984     96\n",
       "97  26494.982422  27103.042969     97\n",
       "98  26489.767578  27097.986328     98\n",
       "99  26484.570312  27092.865234     99"
      ]
     },
     "execution_count": 23,
     "metadata": {},
     "output_type": "execute_result"
    }
   ],
   "source": [
    "hist = pd.DataFrame(history.history)\n",
    "hist['epoch'] = history.epoch\n",
    "hist.tail()"
   ]
  },
  {
   "cell_type": "code",
   "execution_count": 24,
   "metadata": {},
   "outputs": [],
   "source": [
    "def plot_loss(history):\n",
    "  plt.plot(history.history['loss'], label='loss')\n",
    "  plt.plot(history.history['val_loss'], label='val_loss')\n",
    "  plt.ylim([0, 28000])\n",
    "  plt.xlabel('Epoch')\n",
    "  plt.ylabel('Error [MPG]')\n",
    "  plt.legend()\n",
    "  plt.grid(True)"
   ]
  },
  {
   "cell_type": "code",
   "execution_count": 25,
   "metadata": {},
   "outputs": [
    {
     "data": {
      "image/png": "[encoded data removed]",
      "text/plain": [
       "<Figure size 432x288 with 1 Axes>"
      ]
     },
     "metadata": {
      "needs_background": "light"
     },
     "output_type": "display_data"
    }
   ],
   "source": [
    "plot_loss(history)"
   ]
  },
  {
   "cell_type": "code",
   "execution_count": 26,
   "metadata": {},
   "outputs": [],
   "source": [
    "test_results = {}\n",
    "\n",
    "test_results['model'] = model.evaluate(\n",
    "    val_features[['total_cpu_util', 'total_mem_util', 'responsetime']],\n",
    "    val_labels, verbose=0)"
   ]
  },
  {
   "cell_type": "code",
   "execution_count": 27,
   "metadata": {},
   "outputs": [],
   "source": [
    "def build_and_compile_model(norm):\n",
    "  model = keras.Sequential([\n",
    "      norm,\n",
    "      layers.Dense(64, activation='relu'),\n",
    "      layers.Dense(64, activation='relu'),\n",
    "      layers.Dense(1)\n",
    "  ])\n",
    "\n",
    "  model.compile(loss='mean_absolute_error',\n",
    "                optimizer=tf.keras.optimizers.Adam(0.001))\n",
    "  return model"
   ]
  },
  {
   "cell_type": "code",
   "execution_count": 28,
   "metadata": {},
   "outputs": [],
   "source": [
    "dnn_model = build_and_compile_model(input_normalizer)"
   ]
  },
  {
   "cell_type": "code",
   "execution_count": 29,
   "metadata": {},
   "outputs": [
    {
     "name": "stdout",
     "output_type": "stream",
     "text": [
      "Model: \"sequential_1\"\n",
      "_________________________________________________________________\n",
      "Layer (type)                 Output Shape              Param #   \n",
      "=================================================================\n",
      "normalization_1 (Normalizati (None, 3)                 7         \n",
      "_________________________________________________________________\n",
      "dense_1 (Dense)              (None, 64)                256       \n",
      "_________________________________________________________________\n",
      "dense_2 (Dense)              (None, 64)                4160      \n",
      "_________________________________________________________________\n",
      "dense_3 (Dense)              (None, 1)                 65        \n",
      "=================================================================\n",
      "Total params: 4,488\n",
      "Trainable params: 4,481\n",
      "Non-trainable params: 7\n",
      "_________________________________________________________________\n"
     ]
    }
   ],
   "source": [
    "dnn_model.summary()"
   ]
  },
  {
   "cell_type": "code",
   "execution_count": 30,
   "metadata": {},
   "outputs": [
    {
     "name": "stdout",
     "output_type": "stream",
     "text": [
      "CPU times: user 9.04 s, sys: 1.17 s, total: 10.2 s\n",
      "Wall time: 10.6 s\n"
     ]
    }
   ],
   "source": [
    "%%time\n",
    "history = dnn_model.fit(\n",
    "    train_features[['total_cpu_util', 'total_mem_util', 'responsetime']], train_labels,\n",
    "    validation_split=0.2,\n",
    "    verbose=0, epochs=100)"
   ]
  },
  {
   "cell_type": "code",
   "execution_count": 31,
   "metadata": {},
   "outputs": [
    {
     "data": {
      "image/png": "[encoded data removed]",
      "text/plain": [
       "<Figure size 432x288 with 1 Axes>"
      ]
     },
     "metadata": {
      "needs_background": "light"
     },
     "output_type": "display_data"
    }
   ],
   "source": [
    "plot_loss(history)"
   ]
  },
  {
   "cell_type": "code",
   "execution_count": 32,
   "metadata": {},
   "outputs": [],
   "source": [
    "test_results['dnn_model'] = dnn_model.evaluate(\n",
    "    val_features[['total_cpu_util', 'total_mem_util', 'responsetime']], val_labels,\n",
    "    verbose=0)"
   ]
  },
  {
   "cell_type": "code",
   "execution_count": 33,
   "metadata": {},
   "outputs": [
    {
     "data": {
      "text/html": [
       "<div>\n",
       "<style scoped>\n",
       "    .dataframe tbody tr th:only-of-type {\n",
       "        vertical-align: middle;\n",
       "    }\n",
       "\n",
       "    .dataframe tbody tr th {\n",
       "        vertical-align: top;\n",
       "    }\n",
       "\n",
       "    .dataframe thead th {\n",
       "        text-align: right;\n",
       "    }\n",
       "</style>\n",
       "<table border=\"1\" class=\"dataframe\">\n",
       "  <thead>\n",
       "    <tr style=\"text-align: right;\">\n",
       "      <th></th>\n",
       "      <th>requests</th>\n",
       "    </tr>\n",
       "  </thead>\n",
       "  <tbody>\n",
       "    <tr>\n",
       "      <th>model</th>\n",
       "      <td>26814.445312</td>\n",
       "    </tr>\n",
       "    <tr>\n",
       "      <th>dnn_model</th>\n",
       "      <td>2551.349365</td>\n",
       "    </tr>\n",
       "  </tbody>\n",
       "</table>\n",
       "</div>"
      ],
      "text/plain": [
       "               requests\n",
       "model      26814.445312\n",
       "dnn_model   2551.349365"
      ]
     },
     "execution_count": 33,
     "metadata": {},
     "output_type": "execute_result"
    }
   ],
   "source": [
    "pd.DataFrame(test_results, index=['requests']).T"
   ]
  },
  {
   "cell_type": "markdown",
   "metadata": {},
   "source": [
    "## Make Predictions"
   ]
  },
  {
   "cell_type": "code",
   "execution_count": 34,
   "metadata": {},
   "outputs": [
    {
     "data": {
      "image/png": "[encoded data removed]",
      "text/plain": [
       "<Figure size 432x288 with 1 Axes>"
      ]
     },
     "metadata": {
      "needs_background": "light"
     },
     "output_type": "display_data"
    }
   ],
   "source": [
    "test_predictions = dnn_model.predict(test_features).flatten()\n",
    "\n",
    "a = plt.axes(aspect='equal')\n",
    "plt.scatter(test_labels, test_predictions)\n",
    "plt.xlabel('True Values requests')\n",
    "plt.ylabel('Predictions requests')\n",
    "lims = [0, 80000]\n",
    "plt.xlim(lims)\n",
    "plt.ylim(lims)\n",
    "_ = plt.plot(lims, lims)"
   ]
  },
  {
   "cell_type": "code",
   "execution_count": 35,
   "metadata": {},
   "outputs": [
    {
     "name": "stdout",
     "output_type": "stream",
     "text": [
      "R² : 0.9812953923737677\n"
     ]
    }
   ],
   "source": [
    "from sklearn.metrics import r2_score\n",
    "R = r2_score(test_labels, test_predictions)\n",
    "print ('R² :',R)"
   ]
  },
  {
   "cell_type": "code",
   "execution_count": 36,
   "metadata": {},
   "outputs": [
    {
     "data": {
      "image/png": "[encoded data removed]",
      "text/plain": [
       "<Figure size 432x288 with 1 Axes>"
      ]
     },
     "metadata": {
      "needs_background": "light"
     },
     "output_type": "display_data"
    }
   ],
   "source": [
    "error = test_predictions - test_labels\n",
    "plt.hist(error, bins=100)\n",
    "plt.xlabel('Prediction Error [requests]')\n",
    "_ = plt.ylabel('Count')"
   ]
  },
  {
   "cell_type": "code",
   "execution_count": null,
   "metadata": {},
   "outputs": [],
   "source": []
  }
 ],
 "metadata": {
  "kernelspec": {
   "display_name": "Python 3",
   "language": "python",
   "name": "python3"
  },
  "language_info": {
   "codemirror_mode": {
    "name": "ipython",
    "version": 3
   },
   "file_extension": ".py",
   "mimetype": "text/x-python",
   "name": "python",
   "nbconvert_exporter": "python",
   "pygments_lexer": "ipython3",
   "version": "3.6.9"
  }
 },
 "nbformat": 4,
 "nbformat_minor": 4
}
