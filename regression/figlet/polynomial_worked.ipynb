{
 "cells": [
  {
   "cell_type": "code",
   "execution_count": 1,
   "metadata": {},
   "outputs": [],
   "source": [
    "# https://iq.opengenus.org/polynomial-regression-using-scikit-learn/"
   ]
  },
  {
   "cell_type": "code",
   "execution_count": 2,
   "metadata": {},
   "outputs": [],
   "source": [
    "import os\n",
    "import datetime\n",
    "import numpy as np\n",
    "import pandas as pd\n",
    "import matplotlib.pyplot as plt\n",
    "%matplotlib inline\n",
    "from sklearn import preprocessing\n",
    "from sklearn.model_selection import train_test_split"
   ]
  },
  {
   "cell_type": "code",
   "execution_count": 3,
   "metadata": {},
   "outputs": [
    {
     "data": {
      "text/html": [
       "<div>\n",
       "<style scoped>\n",
       "    .dataframe tbody tr th:only-of-type {\n",
       "        vertical-align: middle;\n",
       "    }\n",
       "\n",
       "    .dataframe tbody tr th {\n",
       "        vertical-align: top;\n",
       "    }\n",
       "\n",
       "    .dataframe thead th {\n",
       "        text-align: right;\n",
       "    }\n",
       "</style>\n",
       "<table border=\"1\" class=\"dataframe\">\n",
       "  <thead>\n",
       "    <tr style=\"text-align: right;\">\n",
       "      <th></th>\n",
       "      <th>cpu</th>\n",
       "      <th>diskio</th>\n",
       "      <th>diskioRead</th>\n",
       "      <th>diskioWritten</th>\n",
       "      <th>mem</th>\n",
       "      <th>networkReceived</th>\n",
       "      <th>networkTransmitted</th>\n",
       "      <th>replica</th>\n",
       "      <th>requests</th>\n",
       "      <th>responsetime</th>\n",
       "      <th>totalcpu</th>\n",
       "      <th>totalcpuUtilization</th>\n",
       "      <th>totalmemory</th>\n",
       "      <th>totalmemoryUtilization</th>\n",
       "    </tr>\n",
       "  </thead>\n",
       "  <tbody>\n",
       "    <tr>\n",
       "      <th>20</th>\n",
       "      <td>0.574245</td>\n",
       "      <td>0.016356</td>\n",
       "      <td>0.0</td>\n",
       "      <td>101580.800000</td>\n",
       "      <td>0.032037</td>\n",
       "      <td>25956.422222</td>\n",
       "      <td>45677.777778</td>\n",
       "      <td>5.0</td>\n",
       "      <td>2939.0</td>\n",
       "      <td>0.104074</td>\n",
       "      <td>24.0</td>\n",
       "      <td>3.805556</td>\n",
       "      <td>1.011896e+11</td>\n",
       "      <td>5.741587</td>\n",
       "    </tr>\n",
       "    <tr>\n",
       "      <th>21</th>\n",
       "      <td>0.566708</td>\n",
       "      <td>0.015378</td>\n",
       "      <td>0.0</td>\n",
       "      <td>96847.644444</td>\n",
       "      <td>0.035930</td>\n",
       "      <td>26051.266667</td>\n",
       "      <td>45342.311111</td>\n",
       "      <td>5.0</td>\n",
       "      <td>3090.0</td>\n",
       "      <td>0.102654</td>\n",
       "      <td>24.0</td>\n",
       "      <td>3.805556</td>\n",
       "      <td>1.011896e+11</td>\n",
       "      <td>5.741587</td>\n",
       "    </tr>\n",
       "    <tr>\n",
       "      <th>22</th>\n",
       "      <td>0.668652</td>\n",
       "      <td>0.016267</td>\n",
       "      <td>0.0</td>\n",
       "      <td>99851.377778</td>\n",
       "      <td>0.040543</td>\n",
       "      <td>28178.400000</td>\n",
       "      <td>49011.688889</td>\n",
       "      <td>7.0</td>\n",
       "      <td>3229.0</td>\n",
       "      <td>0.099415</td>\n",
       "      <td>24.0</td>\n",
       "      <td>3.788889</td>\n",
       "      <td>1.011896e+11</td>\n",
       "      <td>5.763427</td>\n",
       "    </tr>\n",
       "    <tr>\n",
       "      <th>23</th>\n",
       "      <td>0.668899</td>\n",
       "      <td>0.018222</td>\n",
       "      <td>0.0</td>\n",
       "      <td>107406.222222</td>\n",
       "      <td>0.040543</td>\n",
       "      <td>30325.511111</td>\n",
       "      <td>52805.200000</td>\n",
       "      <td>7.0</td>\n",
       "      <td>3377.0</td>\n",
       "      <td>0.106906</td>\n",
       "      <td>24.0</td>\n",
       "      <td>3.788889</td>\n",
       "      <td>1.011896e+11</td>\n",
       "      <td>5.763427</td>\n",
       "    </tr>\n",
       "    <tr>\n",
       "      <th>24</th>\n",
       "      <td>0.622481</td>\n",
       "      <td>0.017067</td>\n",
       "      <td>0.0</td>\n",
       "      <td>93115.733333</td>\n",
       "      <td>0.044674</td>\n",
       "      <td>31841.888889</td>\n",
       "      <td>51576.533333</td>\n",
       "      <td>7.0</td>\n",
       "      <td>3522.0</td>\n",
       "      <td>0.107957</td>\n",
       "      <td>24.0</td>\n",
       "      <td>4.230556</td>\n",
       "      <td>1.011896e+11</td>\n",
       "      <td>5.792171</td>\n",
       "    </tr>\n",
       "  </tbody>\n",
       "</table>\n",
       "</div>"
      ],
      "text/plain": [
       "         cpu    diskio  diskioRead  diskioWritten       mem  networkReceived  \\\n",
       "20  0.574245  0.016356         0.0  101580.800000  0.032037     25956.422222   \n",
       "21  0.566708  0.015378         0.0   96847.644444  0.035930     26051.266667   \n",
       "22  0.668652  0.016267         0.0   99851.377778  0.040543     28178.400000   \n",
       "23  0.668899  0.018222         0.0  107406.222222  0.040543     30325.511111   \n",
       "24  0.622481  0.017067         0.0   93115.733333  0.044674     31841.888889   \n",
       "\n",
       "    networkTransmitted  replica  requests  responsetime  totalcpu  \\\n",
       "20        45677.777778      5.0    2939.0      0.104074      24.0   \n",
       "21        45342.311111      5.0    3090.0      0.102654      24.0   \n",
       "22        49011.688889      7.0    3229.0      0.099415      24.0   \n",
       "23        52805.200000      7.0    3377.0      0.106906      24.0   \n",
       "24        51576.533333      7.0    3522.0      0.107957      24.0   \n",
       "\n",
       "    totalcpuUtilization   totalmemory  totalmemoryUtilization  \n",
       "20             3.805556  1.011896e+11                5.741587  \n",
       "21             3.805556  1.011896e+11                5.741587  \n",
       "22             3.788889  1.011896e+11                5.763427  \n",
       "23             3.788889  1.011896e+11                5.763427  \n",
       "24             4.230556  1.011896e+11                5.792171  "
      ]
     },
     "execution_count": 3,
     "metadata": {},
     "output_type": "execute_result"
    }
   ],
   "source": [
    "cwd = os.getcwd()\n",
    "output_dir = os.path.join(cwd, \"../../data\")\n",
    "df = pd.read_csv(os.path.join(output_dir, \"combined_figlet.csv\"))\n",
    "df_test = pd.read_csv(os.path.join(output_dir, \"combined_figlettest.csv\"))\n",
    "#df_test = pd.read_csv(os.path.join(output_dir, \"figlet1599056546.006096_1599063766.431225.csv\"))\n",
    "df = df.drop(df[df.responsetime > 2].index)\n",
    "df.pop('Time')\n",
    "df_test = df_test.drop(df_test[df_test.responsetime > 2].index)\n",
    "df_test.pop('Time')\n",
    "df.head()"
   ]
  },
  {
   "cell_type": "code",
   "execution_count": 4,
   "metadata": {},
   "outputs": [],
   "source": [
    "df_t = pd.DataFrame()\n",
    "df_ttest = pd.DataFrame()"
   ]
  },
  {
   "cell_type": "code",
   "execution_count": 5,
   "metadata": {},
   "outputs": [
    {
     "data": {
      "text/html": [
       "<div>\n",
       "<style scoped>\n",
       "    .dataframe tbody tr th:only-of-type {\n",
       "        vertical-align: middle;\n",
       "    }\n",
       "\n",
       "    .dataframe tbody tr th {\n",
       "        vertical-align: top;\n",
       "    }\n",
       "\n",
       "    .dataframe thead th {\n",
       "        text-align: right;\n",
       "    }\n",
       "</style>\n",
       "<table border=\"1\" class=\"dataframe\">\n",
       "  <thead>\n",
       "    <tr style=\"text-align: right;\">\n",
       "      <th></th>\n",
       "      <th>total_cpu_util</th>\n",
       "      <th>total_mem_util</th>\n",
       "      <th>responsetime</th>\n",
       "      <th>requests</th>\n",
       "      <th>replica</th>\n",
       "    </tr>\n",
       "  </thead>\n",
       "  <tbody>\n",
       "    <tr>\n",
       "      <th>20</th>\n",
       "      <td>0.913333</td>\n",
       "      <td>580.988928</td>\n",
       "      <td>0.104074</td>\n",
       "      <td>2939.0</td>\n",
       "      <td>5.0</td>\n",
       "    </tr>\n",
       "    <tr>\n",
       "      <th>21</th>\n",
       "      <td>0.913333</td>\n",
       "      <td>580.988928</td>\n",
       "      <td>0.102654</td>\n",
       "      <td>3090.0</td>\n",
       "      <td>5.0</td>\n",
       "    </tr>\n",
       "    <tr>\n",
       "      <th>22</th>\n",
       "      <td>0.909333</td>\n",
       "      <td>583.198925</td>\n",
       "      <td>0.099415</td>\n",
       "      <td>3229.0</td>\n",
       "      <td>7.0</td>\n",
       "    </tr>\n",
       "    <tr>\n",
       "      <th>23</th>\n",
       "      <td>0.909333</td>\n",
       "      <td>583.198925</td>\n",
       "      <td>0.106906</td>\n",
       "      <td>3377.0</td>\n",
       "      <td>7.0</td>\n",
       "    </tr>\n",
       "    <tr>\n",
       "      <th>24</th>\n",
       "      <td>1.015333</td>\n",
       "      <td>586.107494</td>\n",
       "      <td>0.107957</td>\n",
       "      <td>3522.0</td>\n",
       "      <td>7.0</td>\n",
       "    </tr>\n",
       "  </tbody>\n",
       "</table>\n",
       "</div>"
      ],
      "text/plain": [
       "    total_cpu_util  total_mem_util  responsetime  requests  replica\n",
       "20        0.913333      580.988928      0.104074    2939.0      5.0\n",
       "21        0.913333      580.988928      0.102654    3090.0      5.0\n",
       "22        0.909333      583.198925      0.099415    3229.0      7.0\n",
       "23        0.909333      583.198925      0.106906    3377.0      7.0\n",
       "24        1.015333      586.107494      0.107957    3522.0      7.0"
      ]
     },
     "execution_count": 5,
     "metadata": {},
     "output_type": "execute_result"
    }
   ],
   "source": [
    "df_t['total_cpu_util'] = (df['totalcpuUtilization']*df['totalcpu'])/100\n",
    "df_t['total_mem_util'] = (df['totalmemoryUtilization']*df['totalmemory'])*1e-9\n",
    "df_t['responsetime'] = df['responsetime']\n",
    "df_t['requests'] = df['requests']\n",
    "df_t['replica'] = df['replica']\n",
    "#df_t['totalcpu'] = df['totalcpu']\n",
    "df_ttest['total_cpu_util'] = (df_test['totalcpuUtilization']*df_test['totalcpu'])/100\n",
    "df_ttest['total_mem_util'] = (df_test['totalmemoryUtilization']*df_test['totalmemory'])*1e-9\n",
    "df_ttest['responsetime'] = df_test['responsetime']\n",
    "df_ttest['requests'] = df_test['requests']\n",
    "df_ttest['replica'] = df_test['replica']\n",
    "#df_ttest['totalcpu'] = df_test['totalcpu']\n",
    "df_t.head()"
   ]
  },
  {
   "cell_type": "code",
   "execution_count": 6,
   "metadata": {},
   "outputs": [
    {
     "data": {
      "text/plain": [
       "[<matplotlib.lines.Line2D at 0x7f1b87fb56d8>]"
      ]
     },
     "execution_count": 6,
     "metadata": {},
     "output_type": "execute_result"
    },
    {
     "data": {
      "image/png": "[encoded data removed]",
      "text/plain": [
       "<Figure size 432x288 with 1 Axes>"
      ]
     },
     "metadata": {
      "needs_background": "light"
     },
     "output_type": "display_data"
    }
   ],
   "source": [
    "plt.plot(df_t['total_cpu_util'])"
   ]
  },
  {
   "cell_type": "code",
   "execution_count": 7,
   "metadata": {},
   "outputs": [
    {
     "data": {
      "text/plain": [
       "[<matplotlib.lines.Line2D at 0x7f1b87f1fc50>]"
      ]
     },
     "execution_count": 7,
     "metadata": {},
     "output_type": "execute_result"
    },
    {
     "data": {
      "image/png": "[encoded data removed]",
      "text/plain": [
       "<Figure size 432x288 with 1 Axes>"
      ]
     },
     "metadata": {
      "needs_background": "light"
     },
     "output_type": "display_data"
    }
   ],
   "source": [
    "plt.plot(df_t['responsetime'])"
   ]
  },
  {
   "cell_type": "code",
   "execution_count": 8,
   "metadata": {},
   "outputs": [
    {
     "data": {
      "text/plain": [
       "[<matplotlib.lines.Line2D at 0x7f1b87e73390>]"
      ]
     },
     "execution_count": 8,
     "metadata": {},
     "output_type": "execute_result"
    },
    {
     "data": {
      "image/png": "[encoded data removed]",
      "text/plain": [
       "<Figure size 432x288 with 1 Axes>"
      ]
     },
     "metadata": {
      "needs_background": "light"
     },
     "output_type": "display_data"
    }
   ],
   "source": [
    "plt.plot(df_t['requests'])"
   ]
  },
  {
   "cell_type": "code",
   "execution_count": 9,
   "metadata": {},
   "outputs": [],
   "source": [
    "X_train = df_t[[col for col in df_t.columns if col != 'requests']]\n",
    "y_train = df_t['requests']\n",
    "X_train = preprocessing.normalize(X_train, norm='max')\n",
    "X_test = df_ttest[[col for col in df_ttest.columns if col != 'requests']]\n",
    "y_test = df_ttest['requests']\n",
    "X_test = preprocessing.normalize(X_test, norm='max')"
   ]
  },
  {
   "cell_type": "code",
   "execution_count": 10,
   "metadata": {},
   "outputs": [],
   "source": [
    "from sklearn.model_selection import cross_val_score\n",
    "# function to get cross validation scores\n",
    "def get_cv_scores(model):\n",
    "    scores = cross_val_score(model,\n",
    "                             X_train,\n",
    "                             y_train,\n",
    "                             cv=7,\n",
    "                             scoring='r2')\n",
    "    \n",
    "    print('CV Mean: ', np.mean(scores))\n",
    "    print('STD: ', np.std(scores))\n",
    "    print('\\n')"
   ]
  },
  {
   "cell_type": "markdown",
   "metadata": {},
   "source": [
    "# fitting the linear regression model to the dataset"
   ]
  },
  {
   "cell_type": "code",
   "execution_count": 11,
   "metadata": {},
   "outputs": [
    {
     "name": "stdout",
     "output_type": "stream",
     "text": [
      "CV Mean:  0.7090656690383105\n",
      "STD:  0.308297282250583\n",
      "\n",
      "\n"
     ]
    }
   ],
   "source": [
    "from sklearn.linear_model import LinearRegression\n",
    "lin_reg=LinearRegression()\n",
    "lin_reg.fit(X_train,y_train)\n",
    "get_cv_scores(lin_reg)"
   ]
  },
  {
   "cell_type": "markdown",
   "metadata": {},
   "source": [
    "# fitting the polynomial regression model to the dataset"
   ]
  },
  {
   "cell_type": "code",
   "execution_count": 12,
   "metadata": {},
   "outputs": [
    {
     "name": "stdout",
     "output_type": "stream",
     "text": [
      "CV Mean:  0.7090656690383105\n",
      "STD:  0.308297282250583\n",
      "\n",
      "\n"
     ]
    }
   ],
   "source": [
    "from sklearn.preprocessing import PolynomialFeatures\n",
    "poly_reg=PolynomialFeatures(degree=4) # plot from 2 to 5 \n",
    "X_poly=poly_reg.fit_transform(X_train)\n",
    "poly_reg.fit(X_poly,y_train)\n",
    "lin_reg2=LinearRegression()\n",
    "lin_reg2.fit(X_poly,y_train)\n",
    "get_cv_scores(lin_reg2)"
   ]
  },
  {
   "cell_type": "code",
   "execution_count": 13,
   "metadata": {},
   "outputs": [
    {
     "name": "stdout",
     "output_type": "stream",
     "text": [
      "[[1.99082658e-02 1.00000000e+00 1.74542163e-04 1.69251728e-03]\n",
      " [1.99082658e-02 1.00000000e+00 1.77201668e-04 1.69251728e-03]\n",
      " [1.38627277e-03 1.00000000e+00 1.77320721e-04 1.68116265e-03]\n",
      " ...\n",
      " [7.14160042e-03 1.00000000e+00 1.51254131e-04 6.76694337e-02]\n",
      " [7.14160042e-03 1.00000000e+00 1.36193087e-04 6.76694337e-02]\n",
      " [7.19203101e-03 1.00000000e+00 1.36682201e-04 6.76503078e-02]]\n"
     ]
    },
    {
     "data": {
      "image/png": "[encoded data removed]",
      "text/plain": [
       "<Figure size 432x288 with 1 Axes>"
      ]
     },
     "metadata": {
      "needs_background": "light"
     },
     "output_type": "display_data"
    },
    {
     "name": "stdout",
     "output_type": "stream",
     "text": [
      "R² : 0.49976353789319117\n"
     ]
    }
   ],
   "source": [
    "#plt.scatter(X,y,color='red')\n",
    "print(X_test)\n",
    "y_perd= lin_reg.predict(X_test)\n",
    "plt.scatter(range(0,len(y_test)),y_test,color='red')\n",
    "plt.scatter(range(0,len(y_perd)),y_perd,color='blue')\n",
    "plt.show()\n",
    "from sklearn.metrics import r2_score, f1_score\n",
    "R = r2_score(y_test, y_perd)\n",
    "print ('R² :',R)"
   ]
  },
  {
   "cell_type": "code",
   "execution_count": 14,
   "metadata": {},
   "outputs": [
    {
     "data": {
      "image/png": "[encoded data removed]",
      "text/plain": [
       "<Figure size 432x288 with 1 Axes>"
      ]
     },
     "metadata": {
      "needs_background": "light"
     },
     "output_type": "display_data"
    },
    {
     "name": "stdout",
     "output_type": "stream",
     "text": [
      "R² : -6.191275038145386\n"
     ]
    }
   ],
   "source": [
    "# plt.scatter(X,y,color='red')\n",
    "y_perd= lin_reg2.predict(poly_reg.fit_transform(X_test))\n",
    "plt.scatter(range(0,len(y_test)),y_test,color='red')\n",
    "plt.scatter(range(0,len(y_perd)),y_perd,color='blue')\n",
    "plt.show()\n",
    "from sklearn.metrics import r2_score\n",
    "R = r2_score(y_test, y_perd)\n",
    "print ('R² :',R)"
   ]
  },
  {
   "cell_type": "markdown",
   "metadata": {},
   "source": [
    "# sklearn.neural_network.MLPRegressor"
   ]
  },
  {
   "cell_type": "code",
   "execution_count": 15,
   "metadata": {},
   "outputs": [
    {
     "name": "stdout",
     "output_type": "stream",
     "text": [
      "{'activation': 'relu', 'alpha': 0.0001, 'batch_size': 'auto', 'beta_1': 0.9, 'beta_2': 0.999, 'early_stopping': False, 'epsilon': 1e-08, 'hidden_layer_sizes': (100,), 'learning_rate': 'constant', 'learning_rate_init': 0.001, 'max_fun': 15000, 'max_iter': 500, 'momentum': 0.9, 'n_iter_no_change': 10, 'nesterovs_momentum': True, 'power_t': 0.5, 'random_state': 1, 'shuffle': True, 'solver': 'adam', 'tol': 0.0001, 'validation_fraction': 0.1, 'verbose': False, 'warm_start': False}\n"
     ]
    },
    {
     "name": "stderr",
     "output_type": "stream",
     "text": [
      "/home/ubuntu/.local/lib/python3.6/site-packages/sklearn/neural_network/_multilayer_perceptron.py:585: ConvergenceWarning: Stochastic Optimizer: Maximum iterations (500) reached and the optimization hasn't converged yet.\n",
      "  % self.max_iter, ConvergenceWarning)\n"
     ]
    },
    {
     "data": {
      "image/png": "[encoded data removed]",
      "text/plain": [
       "<Figure size 432x288 with 1 Axes>"
      ]
     },
     "metadata": {
      "needs_background": "light"
     },
     "output_type": "display_data"
    },
    {
     "name": "stdout",
     "output_type": "stream",
     "text": [
      "-1.7241393946364472\n",
      "R² : -1.7241393946364472\n"
     ]
    }
   ],
   "source": [
    "from sklearn.neural_network import MLPRegressor\n",
    "\n",
    "regr = MLPRegressor(random_state=1, max_iter=500).fit(X_train, y_train)\n",
    "\n",
    "#y_perd = regr.predict(X_eval)\n",
    "#plt.scatter(range(0,len(y_perd)),y_perd,color='blue')\n",
    "#plt.scatter(range(0,len(y_test)),y_test,color='red')\n",
    "#plt.show()\n",
    "#print(regr.score(X_eval, y_eval))\n",
    "\n",
    "print(regr.get_params(deep=True))\n",
    "\n",
    "y_perd = regr.predict(X_test)\n",
    "plt.scatter(range(0,len(y_test)),y_test,color='red')\n",
    "plt.scatter(range(0,len(y_perd)),y_perd,color='blue')\n",
    "plt.show()\n",
    "print(regr.score(X_test, y_test))\n",
    "from sklearn.metrics import r2_score\n",
    "R = r2_score(y_test, y_perd)\n",
    "print ('R² :',R)"
   ]
  },
  {
   "cell_type": "code",
   "execution_count": 16,
   "metadata": {},
   "outputs": [
    {
     "name": "stderr",
     "output_type": "stream",
     "text": [
      "/home/ubuntu/.local/lib/python3.6/site-packages/sklearn/neural_network/_multilayer_perceptron.py:585: ConvergenceWarning: Stochastic Optimizer: Maximum iterations (1000) reached and the optimization hasn't converged yet.\n",
      "  % self.max_iter, ConvergenceWarning)\n"
     ]
    },
    {
     "name": "stdout",
     "output_type": "stream",
     "text": [
      "{'activation': 'relu', 'alpha': 0.0001, 'batch_size': 50, 'beta_1': 0.9, 'beta_2': 0.999, 'early_stopping': False, 'epsilon': 1e-08, 'hidden_layer_sizes': (100,), 'learning_rate': 'constant', 'learning_rate_init': 0.001, 'max_fun': 15000, 'max_iter': 1000, 'momentum': 0.9, 'n_iter_no_change': 10, 'nesterovs_momentum': True, 'power_t': 0.5, 'random_state': 10, 'shuffle': True, 'solver': 'adam', 'tol': 0.0001, 'validation_fraction': 0.1, 'verbose': False, 'warm_start': False}\n"
     ]
    },
    {
     "data": {
      "image/png": "[encoded data removed]",
      "text/plain": [
       "<Figure size 432x288 with 1 Axes>"
      ]
     },
     "metadata": {
      "needs_background": "light"
     },
     "output_type": "display_data"
    },
    {
     "name": "stdout",
     "output_type": "stream",
     "text": [
      "-0.04659909492178538\n",
      "R² : -0.04659909492178538\n"
     ]
    }
   ],
   "source": [
    "from sklearn.neural_network import MLPRegressor\n",
    "\n",
    "regr = MLPRegressor(random_state=10, max_iter=1000, batch_size=50).fit(X_train, y_train)\n",
    "\n",
    "#y_perd = regr.predict(X_eval)\n",
    "#plt.scatter(range(0,len(y_perd)),y_perd,color='blue')\n",
    "#plt.scatter(range(0,len(y_test)),y_test,color='red')\n",
    "#plt.show()\n",
    "#print(regr.score(X_eval, y_eval))\n",
    "\n",
    "print(regr.get_params(deep=True))\n",
    "\n",
    "y_perd = regr.predict(X_test)\n",
    "plt.scatter(range(0,len(y_test)),y_test,color='red')\n",
    "plt.scatter(range(0,len(y_perd)),y_perd,color='blue')\n",
    "plt.show()\n",
    "print(regr.score(X_test, y_test))\n",
    "from sklearn.metrics import r2_score\n",
    "R = r2_score(y_test, y_perd)\n",
    "print ('R² :',R)"
   ]
  },
  {
   "cell_type": "code",
   "execution_count": null,
   "metadata": {},
   "outputs": [],
   "source": []
  }
 ],
 "metadata": {
  "kernelspec": {
   "display_name": "Python 3",
   "language": "python",
   "name": "python3"
  },
  "language_info": {
   "codemirror_mode": {
    "name": "ipython",
    "version": 3
   },
   "file_extension": ".py",
   "mimetype": "text/x-python",
   "name": "python",
   "nbconvert_exporter": "python",
   "pygments_lexer": "ipython3",
   "version": "3.6.9"
  }
 },
 "nbformat": 4,
 "nbformat_minor": 4
}
