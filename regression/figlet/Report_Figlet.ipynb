{
 "cells": [
  {
   "cell_type": "code",
   "execution_count": 106,
   "metadata": {},
   "outputs": [
    {
     "data": {
      "text/html": [
       "<div>\n",
       "<style scoped>\n",
       "    .dataframe tbody tr th:only-of-type {\n",
       "        vertical-align: middle;\n",
       "    }\n",
       "\n",
       "    .dataframe tbody tr th {\n",
       "        vertical-align: top;\n",
       "    }\n",
       "\n",
       "    .dataframe thead th {\n",
       "        text-align: right;\n",
       "    }\n",
       "</style>\n",
       "<table border=\"1\" class=\"dataframe\">\n",
       "  <thead>\n",
       "    <tr style=\"text-align: right;\">\n",
       "      <th></th>\n",
       "      <th>cpu</th>\n",
       "      <th>diskio</th>\n",
       "      <th>diskioRead</th>\n",
       "      <th>diskioWritten</th>\n",
       "      <th>mem</th>\n",
       "      <th>networkReceived</th>\n",
       "      <th>networkTransmitted</th>\n",
       "      <th>replica</th>\n",
       "      <th>requests</th>\n",
       "      <th>responsetime</th>\n",
       "      <th>totalcpu</th>\n",
       "      <th>totalcpuUtilization</th>\n",
       "      <th>totalmemory</th>\n",
       "      <th>totalmemoryUtilization</th>\n",
       "    </tr>\n",
       "  </thead>\n",
       "  <tbody>\n",
       "    <tr>\n",
       "      <th>0</th>\n",
       "      <td>0.324094</td>\n",
       "      <td>0.006131</td>\n",
       "      <td>911.319040</td>\n",
       "      <td>49312.485831</td>\n",
       "      <td>0.010610</td>\n",
       "      <td>1355.186590</td>\n",
       "      <td>7327.460939</td>\n",
       "      <td>1.0</td>\n",
       "      <td>103.0</td>\n",
       "      <td>0.101562</td>\n",
       "      <td>6.0</td>\n",
       "      <td>65.278711</td>\n",
       "      <td>2.508814e+10</td>\n",
       "      <td>19.192693</td>\n",
       "    </tr>\n",
       "    <tr>\n",
       "      <th>1</th>\n",
       "      <td>0.435870</td>\n",
       "      <td>0.012711</td>\n",
       "      <td>12652.088889</td>\n",
       "      <td>99214.222222</td>\n",
       "      <td>0.010610</td>\n",
       "      <td>5997.000000</td>\n",
       "      <td>17316.288889</td>\n",
       "      <td>1.0</td>\n",
       "      <td>251.0</td>\n",
       "      <td>0.103955</td>\n",
       "      <td>6.0</td>\n",
       "      <td>65.278711</td>\n",
       "      <td>2.508814e+10</td>\n",
       "      <td>19.192693</td>\n",
       "    </tr>\n",
       "    <tr>\n",
       "      <th>2</th>\n",
       "      <td>0.468027</td>\n",
       "      <td>0.012978</td>\n",
       "      <td>12652.088889</td>\n",
       "      <td>101398.755556</td>\n",
       "      <td>0.033712</td>\n",
       "      <td>8108.177778</td>\n",
       "      <td>21682.377778</td>\n",
       "      <td>1.0</td>\n",
       "      <td>396.0</td>\n",
       "      <td>0.106485</td>\n",
       "      <td>6.0</td>\n",
       "      <td>11.526728</td>\n",
       "      <td>2.508814e+10</td>\n",
       "      <td>19.333974</td>\n",
       "    </tr>\n",
       "    <tr>\n",
       "      <th>3</th>\n",
       "      <td>0.465293</td>\n",
       "      <td>0.014400</td>\n",
       "      <td>11832.888889</td>\n",
       "      <td>128341.333333</td>\n",
       "      <td>0.033712</td>\n",
       "      <td>9869.933333</td>\n",
       "      <td>22551.844444</td>\n",
       "      <td>1.0</td>\n",
       "      <td>542.0</td>\n",
       "      <td>0.105202</td>\n",
       "      <td>6.0</td>\n",
       "      <td>11.526728</td>\n",
       "      <td>2.508814e+10</td>\n",
       "      <td>19.333974</td>\n",
       "    </tr>\n",
       "    <tr>\n",
       "      <th>4</th>\n",
       "      <td>0.461566</td>\n",
       "      <td>0.010489</td>\n",
       "      <td>0.000000</td>\n",
       "      <td>90294.044444</td>\n",
       "      <td>0.037694</td>\n",
       "      <td>7584.933333</td>\n",
       "      <td>18696.533333</td>\n",
       "      <td>1.0</td>\n",
       "      <td>585.0</td>\n",
       "      <td>0.102712</td>\n",
       "      <td>6.0</td>\n",
       "      <td>11.493428</td>\n",
       "      <td>2.508814e+10</td>\n",
       "      <td>19.054890</td>\n",
       "    </tr>\n",
       "  </tbody>\n",
       "</table>\n",
       "</div>"
      ],
      "text/plain": [
       "        cpu    diskio    diskioRead  diskioWritten       mem  networkReceived  \\\n",
       "0  0.324094  0.006131    911.319040   49312.485831  0.010610      1355.186590   \n",
       "1  0.435870  0.012711  12652.088889   99214.222222  0.010610      5997.000000   \n",
       "2  0.468027  0.012978  12652.088889  101398.755556  0.033712      8108.177778   \n",
       "3  0.465293  0.014400  11832.888889  128341.333333  0.033712      9869.933333   \n",
       "4  0.461566  0.010489      0.000000   90294.044444  0.037694      7584.933333   \n",
       "\n",
       "   networkTransmitted  replica  requests  responsetime  totalcpu  \\\n",
       "0         7327.460939      1.0     103.0      0.101562       6.0   \n",
       "1        17316.288889      1.0     251.0      0.103955       6.0   \n",
       "2        21682.377778      1.0     396.0      0.106485       6.0   \n",
       "3        22551.844444      1.0     542.0      0.105202       6.0   \n",
       "4        18696.533333      1.0     585.0      0.102712       6.0   \n",
       "\n",
       "   totalcpuUtilization   totalmemory  totalmemoryUtilization  \n",
       "0            65.278711  2.508814e+10               19.192693  \n",
       "1            65.278711  2.508814e+10               19.192693  \n",
       "2            11.526728  2.508814e+10               19.333974  \n",
       "3            11.526728  2.508814e+10               19.333974  \n",
       "4            11.493428  2.508814e+10               19.054890  "
      ]
     },
     "execution_count": 106,
     "metadata": {},
     "output_type": "execute_result"
    }
   ],
   "source": [
    "import os\n",
    "import datetime\n",
    "import pandas as pd\n",
    "import numpy as np\n",
    "import matplotlib.pyplot as plt\n",
    "from sklearn import preprocessing as skpreprocessing\n",
    "from sklearn.model_selection import train_test_split, ParameterGrid, GridSearchCV\n",
    "from sklearn.linear_model import Ridge, Lasso, HuberRegressor, ElasticNet, LinearRegression\n",
    "from sklearn.preprocessing import PolynomialFeatures\n",
    "from sklearn.pipeline import make_pipeline\n",
    "from sklearn.ensemble import GradientBoostingRegressor, RandomForestRegressor\n",
    "np.set_printoptions(precision=3, suppress=True)\n",
    "import tensorflow as tf\n",
    "\n",
    "from tensorflow import keras\n",
    "from tensorflow.keras import layers\n",
    "from tensorflow.keras.layers.experimental import preprocessing\n",
    "from sklearn.model_selection import GridSearchCV\n",
    "from sklearn.model_selection import KFold\n",
    "from sklearn.metrics import r2_score\n",
    "from pylab import rcParams\n",
    "\n",
    "cwd = os.getcwd()\n",
    "output_dir = os.path.join(cwd, \"../../data\")\n",
    "df = pd.read_csv(os.path.join(output_dir, \"combined_figlet.csv\"))\n",
    "df_test = pd.read_csv(os.path.join(output_dir, \"combined_figlettest.csv\"))\n",
    "#df_test = pd.read_csv(os.path.join(output_dir, \"figlet1599056546.006096_1599063766.431225.csv\"))\n",
    "#df = df.drop(df[df.responsetime > 1].index)\n",
    "#df = df.drop(df[df.diskio > 0.05].index)\n",
    "df.pop('Time')\n",
    "#df_test = df_test.drop(df_test[df_test.responsetime > 1].index)\n",
    "df_test.pop('Time')\n",
    "df.head()"
   ]
  },
  {
   "cell_type": "code",
   "execution_count": 107,
   "metadata": {},
   "outputs": [],
   "source": [
    "import matplotlib.pyplot as plt\n",
    "%matplotlib inline \n",
    "from pylab import rcParams"
   ]
  },
  {
   "cell_type": "code",
   "execution_count": 108,
   "metadata": {},
   "outputs": [],
   "source": [
    "# remove 2xlarge\n",
    "#df = df.drop(df[df.totalcpu > 16].index)"
   ]
  },
  {
   "cell_type": "code",
   "execution_count": 109,
   "metadata": {},
   "outputs": [],
   "source": [
    "df_t = pd.DataFrame()\n",
    "df_ttest = pd.DataFrame()"
   ]
  },
  {
   "cell_type": "code",
   "execution_count": 110,
   "metadata": {},
   "outputs": [
    {
     "data": {
      "text/html": [
       "<div>\n",
       "<style scoped>\n",
       "    .dataframe tbody tr th:only-of-type {\n",
       "        vertical-align: middle;\n",
       "    }\n",
       "\n",
       "    .dataframe tbody tr th {\n",
       "        vertical-align: top;\n",
       "    }\n",
       "\n",
       "    .dataframe thead th {\n",
       "        text-align: right;\n",
       "    }\n",
       "</style>\n",
       "<table border=\"1\" class=\"dataframe\">\n",
       "  <thead>\n",
       "    <tr style=\"text-align: right;\">\n",
       "      <th></th>\n",
       "      <th>total_cpu_util</th>\n",
       "      <th>total_mem_util</th>\n",
       "      <th>responsetime</th>\n",
       "      <th>requests</th>\n",
       "    </tr>\n",
       "  </thead>\n",
       "  <tbody>\n",
       "    <tr>\n",
       "      <th>0</th>\n",
       "      <td>2.624204</td>\n",
       "      <td>481.508966</td>\n",
       "      <td>0.101562</td>\n",
       "      <td>103.0</td>\n",
       "    </tr>\n",
       "    <tr>\n",
       "      <th>1</th>\n",
       "      <td>2.624204</td>\n",
       "      <td>481.508966</td>\n",
       "      <td>0.103955</td>\n",
       "      <td>251.0</td>\n",
       "    </tr>\n",
       "    <tr>\n",
       "      <th>2</th>\n",
       "      <td>0.463374</td>\n",
       "      <td>485.053440</td>\n",
       "      <td>0.106485</td>\n",
       "      <td>396.0</td>\n",
       "    </tr>\n",
       "    <tr>\n",
       "      <th>3</th>\n",
       "      <td>0.463374</td>\n",
       "      <td>485.053440</td>\n",
       "      <td>0.105202</td>\n",
       "      <td>542.0</td>\n",
       "    </tr>\n",
       "    <tr>\n",
       "      <th>4</th>\n",
       "      <td>0.462036</td>\n",
       "      <td>478.051738</td>\n",
       "      <td>0.102712</td>\n",
       "      <td>585.0</td>\n",
       "    </tr>\n",
       "  </tbody>\n",
       "</table>\n",
       "</div>"
      ],
      "text/plain": [
       "   total_cpu_util  total_mem_util  responsetime  requests\n",
       "0        2.624204      481.508966      0.101562     103.0\n",
       "1        2.624204      481.508966      0.103955     251.0\n",
       "2        0.463374      485.053440      0.106485     396.0\n",
       "3        0.463374      485.053440      0.105202     542.0\n",
       "4        0.462036      478.051738      0.102712     585.0"
      ]
     },
     "execution_count": 110,
     "metadata": {},
     "output_type": "execute_result"
    }
   ],
   "source": [
    "df_t['total_cpu_util'] = (df['totalcpuUtilization']*(df['totalcpu']*0.67))/100                    \n",
    "df_t['total_mem_util'] = (df['totalmemoryUtilization']*df['totalmemory'])*1e-9\n",
    "df_t['responsetime'] = df['responsetime']\n",
    "df_t['requests'] = df['requests']\n",
    "#df_t['replica'] = df['replica']\n",
    "df_ttest['total_cpu_util'] = (df_test['totalcpuUtilization']*(df_test['totalcpu']*0.67))/100\n",
    "df_ttest['total_mem_util'] = (df_test['totalmemoryUtilization']*df_test['totalmemory'])*1e-9\n",
    "df_ttest['responsetime'] = df_test['responsetime']\n",
    "df_ttest['requests'] = df_test['requests']\n",
    "#df_ttest['replica'] = df_test['replica']\n",
    "df_t.head()"
   ]
  },
  {
   "cell_type": "code",
   "execution_count": 111,
   "metadata": {},
   "outputs": [
    {
     "data": {
      "text/html": [
       "<div>\n",
       "<style scoped>\n",
       "    .dataframe tbody tr th:only-of-type {\n",
       "        vertical-align: middle;\n",
       "    }\n",
       "\n",
       "    .dataframe tbody tr th {\n",
       "        vertical-align: top;\n",
       "    }\n",
       "\n",
       "    .dataframe thead th {\n",
       "        text-align: right;\n",
       "    }\n",
       "</style>\n",
       "<table border=\"1\" class=\"dataframe\">\n",
       "  <thead>\n",
       "    <tr style=\"text-align: right;\">\n",
       "      <th></th>\n",
       "      <th>cpu</th>\n",
       "      <th>diskio</th>\n",
       "      <th>diskioRead</th>\n",
       "      <th>diskioWritten</th>\n",
       "      <th>mem</th>\n",
       "      <th>networkReceived</th>\n",
       "      <th>networkTransmitted</th>\n",
       "      <th>replica</th>\n",
       "      <th>requests</th>\n",
       "      <th>responsetime</th>\n",
       "      <th>totalcpu</th>\n",
       "      <th>totalcpuUtilization</th>\n",
       "      <th>totalmemory</th>\n",
       "      <th>totalmemoryUtilization</th>\n",
       "      <th>diskiocount</th>\n",
       "    </tr>\n",
       "  </thead>\n",
       "  <tbody>\n",
       "    <tr>\n",
       "      <th>0</th>\n",
       "      <td>0.324094</td>\n",
       "      <td>0.006131</td>\n",
       "      <td>911.319040</td>\n",
       "      <td>49312.485831</td>\n",
       "      <td>0.010610</td>\n",
       "      <td>1355.186590</td>\n",
       "      <td>7327.460939</td>\n",
       "      <td>1.0</td>\n",
       "      <td>103.0</td>\n",
       "      <td>0.101562</td>\n",
       "      <td>6.0</td>\n",
       "      <td>65.278711</td>\n",
       "      <td>25.088139</td>\n",
       "      <td>19.192693</td>\n",
       "      <td>206.0</td>\n",
       "    </tr>\n",
       "    <tr>\n",
       "      <th>1</th>\n",
       "      <td>0.435870</td>\n",
       "      <td>0.012711</td>\n",
       "      <td>12652.088889</td>\n",
       "      <td>99214.222222</td>\n",
       "      <td>0.010610</td>\n",
       "      <td>5997.000000</td>\n",
       "      <td>17316.288889</td>\n",
       "      <td>1.0</td>\n",
       "      <td>251.0</td>\n",
       "      <td>0.103955</td>\n",
       "      <td>6.0</td>\n",
       "      <td>65.278711</td>\n",
       "      <td>25.088139</td>\n",
       "      <td>19.192693</td>\n",
       "      <td>502.0</td>\n",
       "    </tr>\n",
       "    <tr>\n",
       "      <th>2</th>\n",
       "      <td>0.468027</td>\n",
       "      <td>0.012978</td>\n",
       "      <td>12652.088889</td>\n",
       "      <td>101398.755556</td>\n",
       "      <td>0.033712</td>\n",
       "      <td>8108.177778</td>\n",
       "      <td>21682.377778</td>\n",
       "      <td>1.0</td>\n",
       "      <td>396.0</td>\n",
       "      <td>0.106485</td>\n",
       "      <td>6.0</td>\n",
       "      <td>11.526728</td>\n",
       "      <td>25.088139</td>\n",
       "      <td>19.333974</td>\n",
       "      <td>792.0</td>\n",
       "    </tr>\n",
       "    <tr>\n",
       "      <th>3</th>\n",
       "      <td>0.465293</td>\n",
       "      <td>0.014400</td>\n",
       "      <td>11832.888889</td>\n",
       "      <td>128341.333333</td>\n",
       "      <td>0.033712</td>\n",
       "      <td>9869.933333</td>\n",
       "      <td>22551.844444</td>\n",
       "      <td>1.0</td>\n",
       "      <td>542.0</td>\n",
       "      <td>0.105202</td>\n",
       "      <td>6.0</td>\n",
       "      <td>11.526728</td>\n",
       "      <td>25.088139</td>\n",
       "      <td>19.333974</td>\n",
       "      <td>1084.0</td>\n",
       "    </tr>\n",
       "    <tr>\n",
       "      <th>4</th>\n",
       "      <td>0.461566</td>\n",
       "      <td>0.010489</td>\n",
       "      <td>0.000000</td>\n",
       "      <td>90294.044444</td>\n",
       "      <td>0.037694</td>\n",
       "      <td>7584.933333</td>\n",
       "      <td>18696.533333</td>\n",
       "      <td>1.0</td>\n",
       "      <td>585.0</td>\n",
       "      <td>0.102712</td>\n",
       "      <td>6.0</td>\n",
       "      <td>11.493428</td>\n",
       "      <td>25.088139</td>\n",
       "      <td>19.054890</td>\n",
       "      <td>1170.0</td>\n",
       "    </tr>\n",
       "  </tbody>\n",
       "</table>\n",
       "</div>"
      ],
      "text/plain": [
       "        cpu    diskio    diskioRead  diskioWritten       mem  networkReceived  \\\n",
       "0  0.324094  0.006131    911.319040   49312.485831  0.010610      1355.186590   \n",
       "1  0.435870  0.012711  12652.088889   99214.222222  0.010610      5997.000000   \n",
       "2  0.468027  0.012978  12652.088889  101398.755556  0.033712      8108.177778   \n",
       "3  0.465293  0.014400  11832.888889  128341.333333  0.033712      9869.933333   \n",
       "4  0.461566  0.010489      0.000000   90294.044444  0.037694      7584.933333   \n",
       "\n",
       "   networkTransmitted  replica  requests  responsetime  totalcpu  \\\n",
       "0         7327.460939      1.0     103.0      0.101562       6.0   \n",
       "1        17316.288889      1.0     251.0      0.103955       6.0   \n",
       "2        21682.377778      1.0     396.0      0.106485       6.0   \n",
       "3        22551.844444      1.0     542.0      0.105202       6.0   \n",
       "4        18696.533333      1.0     585.0      0.102712       6.0   \n",
       "\n",
       "   totalcpuUtilization  totalmemory  totalmemoryUtilization  diskiocount  \n",
       "0            65.278711    25.088139               19.192693        206.0  \n",
       "1            65.278711    25.088139               19.192693        502.0  \n",
       "2            11.526728    25.088139               19.333974        792.0  \n",
       "3            11.526728    25.088139               19.333974       1084.0  \n",
       "4            11.493428    25.088139               19.054890       1170.0  "
      ]
     },
     "execution_count": 111,
     "metadata": {},
     "output_type": "execute_result"
    }
   ],
   "source": [
    "df.totalmemory = df.totalmemory*1e-9\n",
    "diskiocount = (df.diskioRead + df.diskioWritten)/((df.diskioRead + df.diskioWritten)/(2*df.requests))\n",
    "df[\"diskiocount\"] = diskiocount\n",
    "df.head()"
   ]
  },
  {
   "cell_type": "code",
   "execution_count": 117,
   "metadata": {
    "scrolled": true
   },
   "outputs": [
    {
     "data": {
      "image/png": "[encoded data removed]",
      "text/plain": [
       "<Figure size 864x288 with 2 Axes>"
      ]
     },
     "metadata": {
      "needs_background": "light"
     },
     "output_type": "display_data"
    }
   ],
   "source": [
    "rcParams['figure.figsize'] = 12, 4\n",
    "rcParams['axes.labelsize'] = 14\n",
    "rcParams['axes.titlesize'] = 20\n",
    "rcParams[\"font.size\"] = 12\n",
    "fig, (ax1, ax2) = plt.subplots(1, 2)\n",
    "#ax1 = plt.subplot(111)\n",
    "\n",
    "\n",
    "ax1.grid(axis=\"both\", color=\"0.9\", linestyle='-', linewidth=1)\n",
    "ax1.set_xlabel(\"Number of Requests (thousands)\")\n",
    "ax1.set_ylabel(\"CPU Utilization (in percent)\")\n",
    "ax1.plot(df[(df.totalcpu == 6) & (df.totalmemory >12) & (df.totalmemory < 25)]['requests']/1000, df[(df.totalcpu == 6) & (df.totalmemory > 12) & (df.totalmemory < 25)]['totalcpuUtilization'],'.', label = \"t2.medium\", color=\"blue\")\n",
    "ax1.plot(df[(df.totalcpu == 6) & (df.totalmemory > 25)]['requests']/1000, df[(df.totalcpu == 6) & (df.totalmemory > 25) ]['totalcpuUtilization'], 'x', label = \"t2.large\", color=\"orange\")\n",
    "ax1.plot(df[df.totalcpu == 12]['requests']/1000, df[df.totalcpu == 12]['totalcpuUtilization'], '.',label = \"t2.xlarge\", color=\"green\")\n",
    "ax1.plot(df[df.totalcpu > 12]['requests']/1000, df[df.totalcpu > 12]['totalcpuUtilization'], '<', label = \"t2.2xlarge\", color=\"red\")\n",
    "\n",
    "\n",
    "ax2.grid(axis=\"both\", color=\"0.9\", linestyle='-', linewidth=1)\n",
    "ax2.set_xlabel(\"Number of Requests (thousands)\")\n",
    "ax2.set_ylabel(\"Response Time (in seconds)\")\n",
    "ax2.plot(df[(df.totalcpu == 6) & (df.totalmemory >12) & (df.totalmemory < 25)]['requests']/1000, df[(df.totalcpu == 6) & (df.totalmemory > 12) & (df.totalmemory < 25)]['responsetime'],'.', label = \"t2.medium\", color=\"blue\")\n",
    "ax2.plot(df[(df.totalcpu == 6) & (df.totalmemory > 25)]['requests']/1000, df[(df.totalcpu == 6) & (df.totalmemory > 25) ]['responsetime'], 'x', label = \"t2.large\", color=\"orange\")\n",
    "ax2.plot(df[df.totalcpu == 12]['requests']/1000, df[df.totalcpu == 12]['responsetime'], '.',label = \"t2.xlarge\", color=\"green\")\n",
    "ax2.plot(df[df.totalcpu > 12]['requests']/1000, df[df.totalcpu > 12]['responsetime'], '<', label = \"t2.2xlarge\", color=\"red\")\n",
    "\n",
    "\n",
    "ax3.grid(axis=\"both\", color=\"0.9\", linestyle='-', linewidth=1)\n",
    "ax3.set_xlabel(\"Number of Requests (thousands)\")\n",
    "ax3.set_ylabel(\"Disk I/O\")\n",
    "ax3.plot(df[(df.totalcpu == 6) & (df.totalmemory >12) & (df.totalmemory < 25)]['requests']/1000, df[(df.totalcpu == 6) & (df.totalmemory > 12) & (df.totalmemory < 25)]['diskio'],'.', label = \"t2.medium\", color=\"blue\")\n",
    "ax3.plot(df[(df.totalcpu == 6) & (df.totalmemory > 25)]['requests']/1000, df[(df.totalcpu == 6) & (df.totalmemory > 25) ]['diskio'], 'x', label = \"t2.large\", color=\"orange\")\n",
    "ax3.plot(df[df.totalcpu == 12]['requests']/1000, df[df.totalcpu == 12]['diskio'], '.',label = \"t2.xlarge\", color=\"green\")\n",
    "ax3.plot(df[df.totalcpu > 12]['requests']/1000, df[df.totalcpu > 12]['diskio'], '<', label = \"t2.2xlarge\", color=\"red\")\n",
    "\n",
    "#ax4.grid(axis=\"both\", color=\"0.9\", linestyle='-', linewidth=1)\n",
    "#ax4.set_xlabel(\"Number of Requests (thousands)\")\n",
    "#ax4.set_ylabel(\"DiskIO Utilization (in percent)\")\n",
    "#ax4.plot(df[(df.totalcpu == 6) & (df.totalmemory >12) & (df.totalmemory < 25)]['requests']/1000, df[(df.totalcpu == 6) & (df.totalmemory > 12) & (df.totalmemory < 25)]['networkTransmitted'],'.', label = \"t2.medium\", color=\"blue\")\n",
    "#ax4.plot(df[(df.totalcpu == 6) & (df.totalmemory > 25)]['requests']/1000, df[(df.totalcpu == 6) & (df.totalmemory > 25) ]['networkTransmitted'], 'x', label = \"t2.large\", color=\"orange\")\n",
    "#ax4.plot(df[df.totalcpu == 12]['requests']/1000, df[df.totalcpu == 12]['networkTransmitted'], '.',label = \"t2.xlarge\", color=\"green\")\n",
    "#ax4.plot(df[df.totalcpu > 12]['requests']/1000, df[df.totalcpu > 12]['networkTransmitted'], '<', label = \"t2.2xlarge\", color=\"red\")\n",
    "\n",
    "ax1.legend()\n",
    "ax2.legend()\n",
    "fig.savefig(\"resultFiglet.pdf\",bbox_inches = 'tight',pad_inches = 0,  dpi=300) "
   ]
  },
  {
   "cell_type": "code",
   "execution_count": 77,
   "metadata": {
    "scrolled": true
   },
   "outputs": [
    {
     "data": {
      "image/png": "[encoded data removed]",
      "text/plain": [
       "<Figure size 1440x288 with 4 Axes>"
      ]
     },
     "metadata": {
      "needs_background": "light"
     },
     "output_type": "display_data"
    }
   ],
   "source": [
    "rcParams['figure.figsize'] = 20, 4\n",
    "rcParams['axes.labelsize'] = 14\n",
    "rcParams['axes.titlesize'] = 20\n",
    "rcParams[\"font.size\"] = 12\n",
    "fig, (ax1, ax2, ax3, ax4) = plt.subplots(1, 4)\n",
    "#ax1 = plt.subplot(111)\n",
    "\n",
    "\n",
    "ax1.grid(axis=\"both\", color=\"0.9\", linestyle='-', linewidth=1)\n",
    "ax1.set_xlabel(\"Number of Requests (thousands)\")\n",
    "ax1.set_ylabel(\"Response Time (in seconds)\")\n",
    "\n",
    "ax2.grid(axis=\"both\", color=\"0.9\", linestyle='-', linewidth=1)\n",
    "ax2.set_xlabel(\"Number of Requests (thousands)\")\n",
    "#ax2.set_ylabel(\"Response Time (in seconds)\")\n",
    "\n",
    "ax3.grid(axis=\"both\", color=\"0.9\", linestyle='-', linewidth=1)\n",
    "ax3.set_xlabel(\"Number of Requests (thousands)\")\n",
    "#ax3.set_ylabel(\"Response Time (in seconds)\")\n",
    "\n",
    "ax4.grid(axis=\"both\", color=\"0.9\", linestyle='-', linewidth=1)\n",
    "ax4.set_xlabel(\"Number of Requests (thousands)\")\n",
    "#ax4.set_ylabel(\"Response Time (in seconds)\")\n",
    "\n",
    "\n",
    "ax1.plot(df[(df.totalcpu == 6) & (df.totalmemory >12) & (df.totalmemory < 25)]['requests']/1000, df[(df.totalcpu == 6) & (df.totalmemory > 12) & (df.totalmemory < 25)]['responsetime'],'.', label = \"t2.medium\", color=\"blue\")\n",
    "ax2.plot(df[(df.totalcpu == 6) & (df.totalmemory > 25)]['requests']/1000, df[(df.totalcpu == 6) & (df.totalmemory > 25) ]['responsetime'], 'x', label = \"t2.large\", color=\"orange\")\n",
    "ax3.plot(df[df.totalcpu == 12]['requests']/1000, df[df.totalcpu == 12]['responsetime'], '.',label = \"t2.xlarge\", color=\"green\")\n",
    "ax4.plot(df[df.totalcpu > 12]['requests']/1000, df[df.totalcpu > 12]['responsetime'], '<', label = \"t2.2xlarge\", color=\"red\")\n",
    "\n",
    "ax1.legend()\n",
    "ax2.legend()\n",
    "ax3.legend()\n",
    "ax4.legend()\n",
    "\n",
    "fig.savefig(\"response_times_figlet.pdf\",bbox_inches = 'tight',pad_inches = 0,  dpi=300) "
   ]
  },
  {
   "cell_type": "code",
   "execution_count": 78,
   "metadata": {},
   "outputs": [],
   "source": [
    "x_train = df_t[[col for col in df_t.columns if col != 'requests']]\n",
    "y_train = df_t['requests']\n",
    "x_train = skpreprocessing.normalize(x_train, norm='l2')\n",
    "x_test = df_ttest[[col for col in df_ttest.columns if col != 'requests']]\n",
    "y_test = df_ttest['requests']\n",
    "x_test = skpreprocessing.normalize(x_test, norm='l2')\n",
    "#plt.scatter(df_ttest['requests'], df_ttest['total_cpu_util'] )\n",
    "#plt.show()\n",
    "#plt.scatter(df_t['requests'], df_t['total_cpu_util'] )\n",
    "#plt.show()"
   ]
  },
  {
   "cell_type": "code",
   "execution_count": 79,
   "metadata": {},
   "outputs": [],
   "source": [
    "rcParams['figure.figsize'] = 6, 4\n",
    "rcParams['axes.labelsize'] = 14\n",
    "rcParams['axes.titlesize'] = 20\n",
    "rcParams[\"font.size\"] = 12"
   ]
  },
  {
   "cell_type": "markdown",
   "metadata": {},
   "source": [
    "# Linear Regression"
   ]
  },
  {
   "cell_type": "code",
   "execution_count": 80,
   "metadata": {},
   "outputs": [
    {
     "name": "stdout",
     "output_type": "stream",
     "text": [
      "CPU times: user 4.58 ms, sys: 64 µs, total: 4.64 ms\n",
      "Wall time: 4.2 ms\n"
     ]
    }
   ],
   "source": [
    "%%time\n",
    "#parameters = {'fit_intercept': [True,False],\n",
    "#             'copy_X': [True,False]}\n",
    "#linear = GridSearchCV(LinearRegression(),\n",
    "#                      parameters, \n",
    "#                      cv=7,\n",
    "#                      scoring='r2',\n",
    "#                      n_jobs=-1)\n",
    "linear = LinearRegression(fit_intercept=False)\n",
    "linear.fit(x_train, y_train)\n",
    "\n",
    "y_tr_pred = linear.predict(x_train)"
   ]
  },
  {
   "cell_type": "code",
   "execution_count": 81,
   "metadata": {},
   "outputs": [
    {
     "name": "stdout",
     "output_type": "stream",
     "text": [
      "CPU times: user 371 µs, sys: 71 µs, total: 442 µs\n",
      "Wall time: 438 µs\n"
     ]
    }
   ],
   "source": [
    "%%time\n",
    "lin_reg_y_te_pred = linear.predict(x_test)"
   ]
  },
  {
   "cell_type": "code",
   "execution_count": 82,
   "metadata": {},
   "outputs": [
    {
     "name": "stdout",
     "output_type": "stream",
     "text": [
      "Training Score  0.7062908407066617\n",
      "Testing Score  -6.18747091767118\n",
      "R² : -6.18747091767118\n"
     ]
    },
    {
     "data": {
      "image/png": "[encoded data removed]",
      "text/plain": [
       "<Figure size 432x288 with 1 Axes>"
      ]
     },
     "metadata": {
      "needs_background": "light"
     },
     "output_type": "display_data"
    }
   ],
   "source": [
    "#print('linear reg score on our train data: {:.3f}'.format(sqrt(mse(y_train, y_tr_pred))))\n",
    "#print('linear reg score on our test data: {:.3f}'.format(sqrt(mse(y_test, y_te_pred))))\n",
    "\n",
    "print(\"Training Score \",linear.score(x_train,y_train))\n",
    "linear_score = linear.score(x_test,y_test)\n",
    "print(\"Testing Score \",linear_score)\n",
    "\n",
    "from sklearn.metrics import r2_score\n",
    "R = r2_score(y_test, lin_reg_y_te_pred)\n",
    "print ('R² :',R)\n",
    "#print('Best Score: ', linear.best_score_)\n",
    "#print('Best Params: ', linear.best_params_)\n",
    "\n",
    "plt.scatter(range(0,len(y_test)),y_test, color='red')\n",
    "plt.scatter(range(0,len(lin_reg_y_te_pred)),lin_reg_y_te_pred, color='blue')\n",
    "plt.show()\n",
    "#plt.plot(y_test)\n",
    "#plt.plot(lin_reg_y_te_pred)\n",
    "#plt.show()"
   ]
  },
  {
   "cell_type": "markdown",
   "metadata": {},
   "source": [
    "# Polynomial Regression"
   ]
  },
  {
   "cell_type": "code",
   "execution_count": 83,
   "metadata": {},
   "outputs": [
    {
     "name": "stdout",
     "output_type": "stream",
     "text": [
      "CPU times: user 69.1 ms, sys: 32.5 ms, total: 102 ms\n",
      "Wall time: 42.4 ms\n"
     ]
    }
   ],
   "source": [
    "%%time\n",
    "def PolynomialRegression(**kwargs):\n",
    "    return make_pipeline(PolynomialFeatures(), LinearRegression(**kwargs))\n",
    "degrees = [2]\n",
    "param_grid = {'polynomialfeatures__degree': degrees, 'linearregression__fit_intercept': [False]}\n",
    "polynomial = GridSearchCV(PolynomialRegression(),\n",
    "                      param_grid, \n",
    "                      scoring='r2')\n",
    "polynomial.fit(x_train, y_train)\n",
    "\n",
    "y_tr_pred = polynomial.predict(x_train)"
   ]
  },
  {
   "cell_type": "code",
   "execution_count": 84,
   "metadata": {},
   "outputs": [
    {
     "name": "stdout",
     "output_type": "stream",
     "text": [
      "CPU times: user 1.53 ms, sys: 293 µs, total: 1.82 ms\n",
      "Wall time: 1.71 ms\n"
     ]
    }
   ],
   "source": [
    "%%time\n",
    "poly_reg_y_te_pred = polynomial.predict(x_test)\n"
   ]
  },
  {
   "cell_type": "code",
   "execution_count": 85,
   "metadata": {},
   "outputs": [
    {
     "name": "stdout",
     "output_type": "stream",
     "text": [
      "Training Score  0.8192576823691462\n",
      "Testing Score  -11272901.234829318\n",
      "R² : -11272901.234829318\n",
      "Best Params:  {'linearregression__fit_intercept': False, 'polynomialfeatures__degree': 2}\n"
     ]
    },
    {
     "data": {
      "text/plain": [
       "<matplotlib.collections.PathCollection at 0x7f98e0505748>"
      ]
     },
     "execution_count": 85,
     "metadata": {},
     "output_type": "execute_result"
    },
    {
     "data": {
      "image/png": "[encoded data removed]",
      "text/plain": [
       "<Figure size 432x288 with 1 Axes>"
      ]
     },
     "metadata": {
      "needs_background": "light"
     },
     "output_type": "display_data"
    }
   ],
   "source": [
    "#print('linear reg score on our train data: {:.3f}'.format(sqrt(mse(y_train, y_tr_pred))))\n",
    "#print('linear reg score on our test data: {:.3f}'.format(sqrt(mse(y_test, y_te_pred))))\n",
    "\n",
    "print(\"Training Score \",polynomial.score(x_train,y_train))\n",
    "polynomial_score = polynomial.score(x_test,y_test)\n",
    "print(\"Testing Score \",polynomial_score)\n",
    "\n",
    "from sklearn.metrics import r2_score\n",
    "R = r2_score(y_test, poly_reg_y_te_pred)\n",
    "print ('R² :',R)\n",
    "#print('Best Score: ', polynomial.best_score_)\n",
    "print('Best Params: ', polynomial.best_params_)\n",
    "\n",
    "plt.scatter(range(0,len(y_test)),y_test, color='red')\n",
    "plt.scatter(range(0,len(poly_reg_y_te_pred)),poly_reg_y_te_pred, color='blue')"
   ]
  },
  {
   "cell_type": "markdown",
   "metadata": {},
   "source": [
    "# Ridge Regression"
   ]
  },
  {
   "cell_type": "code",
   "execution_count": 86,
   "metadata": {},
   "outputs": [
    {
     "name": "stdout",
     "output_type": "stream",
     "text": [
      "CPU times: user 30.7 ms, sys: 197 µs, total: 30.9 ms\n",
      "Wall time: 30.5 ms\n"
     ]
    }
   ],
   "source": [
    "%%time\n",
    "alphas = [2.976351441631313e-11]\n",
    "param_grid = {'max_iter': [10],\n",
    "             'alpha': alphas,\n",
    "            'solver': ['auto'],\n",
    "             'fit_intercept':[True]}\n",
    "ridge_cv = GridSearchCV(Ridge(),\n",
    "                       param_grid=param_grid,\n",
    "                         scoring='r2')\n",
    "\n",
    "ridge_cv.fit(x_train, y_train)\n",
    "\n",
    "y_tr_pred = ridge_cv.predict(x_train)"
   ]
  },
  {
   "cell_type": "code",
   "execution_count": 87,
   "metadata": {},
   "outputs": [
    {
     "name": "stdout",
     "output_type": "stream",
     "text": [
      "CPU times: user 472 µs, sys: 90 µs, total: 562 µs\n",
      "Wall time: 561 µs\n"
     ]
    }
   ],
   "source": [
    "%%time\n",
    "ridge_cv_y_te_pred = ridge_cv.predict(x_test)"
   ]
  },
  {
   "cell_type": "code",
   "execution_count": 88,
   "metadata": {},
   "outputs": [
    {
     "name": "stdout",
     "output_type": "stream",
     "text": [
      "Training Score  0.7167694291704885\n",
      "Testing Score  -66.5589537747074\n",
      "Best Params:  {'alpha': 2.976351441631313e-11, 'fit_intercept': True, 'max_iter': 10, 'solver': 'auto'}\n"
     ]
    },
    {
     "data": {
      "text/plain": [
       "<matplotlib.collections.PathCollection at 0x7f98e0748860>"
      ]
     },
     "execution_count": 88,
     "metadata": {},
     "output_type": "execute_result"
    },
    {
     "data": {
      "image/png": "[encoded data removed]",
      "text/plain": [
       "<Figure size 432x288 with 1 Axes>"
      ]
     },
     "metadata": {
      "needs_background": "light"
     },
     "output_type": "display_data"
    }
   ],
   "source": [
    "print(\"Training Score \",ridge_cv.score(x_train,y_train))\n",
    "ridge_cv_score = ridge_cv.score(x_test,y_test)\n",
    "print(\"Testing Score \",ridge_cv_score)\n",
    "\n",
    "#from sklearn.metrics import r2_score\n",
    "#R = r2_score(y_test, y_te_pred)\n",
    "#print ('R² :',R)\n",
    "#print('Best Score: ', ridge_cv.best_score_)\n",
    "print('Best Params: ', ridge_cv.best_params_)\n",
    "\n",
    "plt.scatter(range(0,len(y_test)),y_test, color='red')\n",
    "plt.scatter(range(0,len(ridge_cv_y_te_pred)),ridge_cv_y_te_pred, color='blue')"
   ]
  },
  {
   "cell_type": "markdown",
   "metadata": {},
   "source": [
    "# Random Forrest"
   ]
  },
  {
   "cell_type": "code",
   "execution_count": 89,
   "metadata": {},
   "outputs": [
    {
     "name": "stdout",
     "output_type": "stream",
     "text": [
      "CPU times: user 1.61 s, sys: 0 ns, total: 1.61 s\n",
      "Wall time: 1.62 s\n"
     ]
    }
   ],
   "source": [
    "%%time\n",
    "parameters = {  \n",
    "                 'min_samples_leaf': [4],\n",
    "                 'max_depth': [5],\n",
    "                 'n_estimators': [100],\n",
    "                'max_features': ['auto']\n",
    "}\n",
    "\n",
    "rf_cv = GridSearchCV( RandomForestRegressor(),\n",
    "                      param_grid=parameters, \n",
    "                      scoring='r2')\n",
    "\n",
    "rf_cv.fit(x_train, y_train)\n",
    "\n",
    "y_tr_pred = rf_cv.predict(x_train)"
   ]
  },
  {
   "cell_type": "code",
   "execution_count": 90,
   "metadata": {},
   "outputs": [
    {
     "name": "stdout",
     "output_type": "stream",
     "text": [
      "CPU times: user 19.3 ms, sys: 0 ns, total: 19.3 ms\n",
      "Wall time: 17.7 ms\n"
     ]
    }
   ],
   "source": [
    "%%time\n",
    "rf_cv_y_te_pred = rf_cv.predict(x_test)"
   ]
  },
  {
   "cell_type": "code",
   "execution_count": 91,
   "metadata": {},
   "outputs": [
    {
     "name": "stdout",
     "output_type": "stream",
     "text": [
      "Training Score  0.9452497205131356\n",
      "Testing Score  0.903894776491821\n",
      "Best Params:  {'max_depth': 5, 'max_features': 'auto', 'min_samples_leaf': 4, 'n_estimators': 100}\n"
     ]
    },
    {
     "data": {
      "text/plain": [
       "<matplotlib.collections.PathCollection at 0x7f98d042f898>"
      ]
     },
     "execution_count": 91,
     "metadata": {},
     "output_type": "execute_result"
    },
    {
     "data": {
      "image/png": "[encoded data removed]",
      "text/plain": [
       "<Figure size 432x288 with 1 Axes>"
      ]
     },
     "metadata": {
      "needs_background": "light"
     },
     "output_type": "display_data"
    }
   ],
   "source": [
    "print(\"Training Score \",rf_cv.score(x_train,y_train))\n",
    "rf_cv_score = rf_cv.score(x_test,y_test)\n",
    "print(\"Testing Score \",rf_cv_score)\n",
    "\n",
    "#from sklearn.metrics import r2_score\n",
    "#R = r2_score(y_test, y_te_pred)\n",
    "#print ('R² :',R)\n",
    "#print('Best Score: ', rf_cv.best_score_)\n",
    "print('Best Params: ', rf_cv.best_params_)\n",
    "\n",
    "plt.scatter(range(0,len(y_test)),y_test, color='red')\n",
    "plt.scatter(range(0,len(rf_cv_y_te_pred)),rf_cv_y_te_pred, color='blue')"
   ]
  },
  {
   "cell_type": "markdown",
   "metadata": {},
   "source": [
    "# NN"
   ]
  },
  {
   "cell_type": "code",
   "execution_count": 103,
   "metadata": {},
   "outputs": [],
   "source": [
    "testPre_df = []\n",
    "def plot_loss(history):\n",
    "  history.history['loss'] = np.array(history.history['loss'])/max(max(np.array(history.history['loss'])), max(np.array(history.history['val_loss'])))\n",
    "  history.history['val_loss'] = np.array(history.history['val_loss'])/max(max(np.array(history.history['loss'])), max(np.array(history.history['val_loss'])))\n",
    "  plt.plot(history.history['loss'], label='Training loss')\n",
    "  plt.plot(history.history['val_loss'], label='Validation loss')\n",
    "  plt.ylim([0, 1])\n",
    "  plt.xlabel('Epoch')\n",
    "  plt.ylabel('Loss')\n",
    "  plt.legend()\n",
    "  plt.grid(True)\n",
    "  return plt.savefig(\"LossFiglet.png\",bbox_inches = 'tight',pad_inches = 0,  dpi=300)\n",
    "\n",
    "def plot_prediction(test_labels, test_predictions, i, alpha,label):\n",
    "    color = ['green','red','orange', 'brown', 'pink', 'brown','blue']\n",
    "    shape = ['1','2','3','4','+',',','x']\n",
    "    rcParams['figure.figsize'] = 5, 5\n",
    "    rcParams['axes.labelsize'] = 12\n",
    "    rcParams['axes.titlesize'] = 20\n",
    "    rcParams[\"font.size\"] = 12\n",
    "    a = plt.axes(aspect='equal')\n",
    "    #test_predictions = test_predictions/max(test_predictions)\n",
    "    #test_labels = test_labels/max(test_labels)\n",
    "    m1, b1 = 1.0, 1.0\n",
    "    m2, b2 = 1.0, -5000.0\n",
    "    m3, b3 = 1.0, 5000.0\n",
    "    m4, b4 = 1.0, -10000.0\n",
    "    m5, b5 = 1.0, 10000.0\n",
    "    x = np.linspace(0,70000,500)\n",
    "    plt.plot(x,x*m1+b1, color='black', alpha=1, linewidth=1)\n",
    "    plt.plot(x,x*m2+b2, ':',color='red', alpha=0.5, linewidth=1)\n",
    "    plt.plot(x,x*m3+b3, ':',color='red', alpha=0.5, linewidth=1)\n",
    "    plt.plot(x,x*m4+b4, '-',color='grey', alpha=0.1, linewidth=1)\n",
    "    plt.plot(x,x*m5+b5, '-',color='grey', alpha=0.1, linewidth=1)\n",
    "    plt.plot(test_labels, test_predictions,shape[i], color=color[i], label=label,alpha=alpha)\n",
    "    plt.xlabel('True Values (Number of Requests)')\n",
    "    plt.ylabel('Predictions (Number of Requests)')\n",
    "    lims = [0, max(list(test_labels)+list(test_predictions))+100]\n",
    "    plt.xlim(lims)\n",
    "    plt.ylim(lims)\n",
    "    plt.legend()\n",
    "    #_ = plt.plot(lims, lims)\n",
    "    plt.grid(axis=\"both\", color=\"0.9\", linestyle='-', linewidth=1)\n",
    "    return plt.savefig(\"PredictionFiglet.png\",bbox_inches = 'tight',pad_inches = 0,  dpi=300)\n",
    "\n",
    "callback = tf.keras.callbacks.EarlyStopping(monitor='loss', patience=0)\n",
    "def build_and_compile_model(norm):\n",
    "  model = None\n",
    "  model = keras.Sequential([\n",
    "      norm,\n",
    "      layers.Dense(64, activation='relu',name=\"dense_one\"),\n",
    "      layers.Dense(64, activation='relu',name=\"dense_two\"),\n",
    "      layers.Dense(1,name=\"dense_three\")\n",
    "  ])\n",
    "\n",
    "  model.compile(loss='mean_absolute_error',\n",
    "                optimizer=tf.keras.optimizers.Adam(0.001))\n",
    "  return model"
   ]
  },
  {
   "cell_type": "markdown",
   "metadata": {},
   "source": [
    "i = 0\n",
    "loss_exp = 0\n",
    "nn_score = 0\n",
    "test_dataset = df_ttest\n",
    "test_features = test_dataset.copy()\n",
    "test_labels = test_features.pop('requests')\n",
    "loss, score, model = [], [], []\n",
    "hist = np.empty([6,])\n",
    "rcParams['figure.figsize'] = 18, 8\n",
    "rcParams['axes.labelsize'] = 12\n",
    "rcParams['axes.titlesize'] = 20\n",
    "rcParams[\"font.size\"] = 12\n",
    "ax = []\n",
    "fig = plt.subplots()\n",
    "fig, axs = plt.subplots(2, 3)\n",
    "#fig, ((ax1, ax2, ax3),(ax4, ax5, ax6)) = plt.subplots(2, 3)\n",
    "# k fold\n",
    "X = df_t.loc[:,['total_cpu_util','total_mem_util', 'responsetime']].values\n",
    "y = df_t.loc[:,['requests']].values\n",
    "\n",
    "kf = KFold(n_splits=6, shuffle=False)\n",
    "print(kf.split(X))\n",
    "plot = []\n",
    "labels = []\n",
    "cap = 0\n",
    "#val_labels = []\n",
    "for train_index, test_index in kf.split(X):\n",
    "    #print(\"TEST:\", test_index)\n",
    "    train_features, val_features = X[train_index], X[test_index]\n",
    "    t_labels, v_labels = np.hstack(y[train_index]), np.hstack(y[test_index])\n",
    "    plot.append(np.concatenate((train_index, test_index), axis=0))\n",
    "    labels.append(np.concatenate((t_labels, v_labels)))\n",
    "    #val_labels.append(v_labels)\n",
    "    #train, test = train_index, test_index\n",
    "    #ax.scatter(val_features,val_labels)\n",
    "    #print(v_labels)\n",
    "    #print(labels)\n",
    "    cap = len(train_index)\n",
    "    #plt.plot(v_labels)\n",
    "    #plt.plot(t_labels)\n",
    "    #plt.show()\n",
    "    \n",
    "for col,ax in zip(range(0,6), axs.flatten()):\n",
    "    colu = []\n",
    "    for i in range(0, len(plot[col])): \n",
    "        if (i<cap): \n",
    "            colu.append('blue')   \n",
    "        else: \n",
    "            colu.append('orange')\n",
    "    data = np.array([labels[col],colu]).T\n",
    "    df_data = pd.DataFrame(data,columns=[\"labels\", \"color\"])\n",
    "    #print(val_labels)\n",
    "    #print(colu)\n",
    "    #df_data = df_data.sort_values(by=\"plot\")\n",
    "    #print(df_data['plot'])\n",
    "    ax.scatter(range(0,len(df_data['labels'])),df_data['labels'],c = df_data['color'], label = \"val_labels\")\n",
    "    #ax.scatter(range(0,len(plot[col])),plot[col],c = colu, label = \"val_labels\")\n",
    "    #ax.scatter(range(0,len(train_labels[col])),train_labels[col], label = \"train_labels\", color=\"red\")\n",
    "    #ax.plot(range(0,len(train_labels[col])),train_labels[col])\n",
    "        \n",
    "            #ax.set_title(self.df.columns[col])\n",
    "#ax.plot(range(0,len(val_labels)), val_labels)"
   ]
  },
  {
   "cell_type": "code",
   "execution_count": 93,
   "metadata": {},
   "outputs": [
    {
     "name": "stdout",
     "output_type": "stream",
     "text": [
      "CPU times: user 52.7 s, sys: 8.93 s, total: 1min 1s\n",
      "Wall time: 37.9 s\n"
     ]
    }
   ],
   "source": [
    "%%time\n",
    "i = 0\n",
    "loss_exp = 0\n",
    "nn_score = 0\n",
    "test_dataset = df_ttest\n",
    "test_features = test_dataset.copy()\n",
    "test_labels = test_features.pop('requests')\n",
    "test_predictions = []\n",
    "loss, score, model = [], [], []\n",
    "#hist = np.empty([6,])\n",
    "# k fold\n",
    "X = df_t.loc[:,['total_cpu_util','total_mem_util', 'responsetime']].values\n",
    "y = df_t.loc[:,['requests']].values\n",
    "\n",
    "kf = KFold(n_splits=6, random_state=42, shuffle=True)\n",
    "#print(kf)\n",
    "for train_index, test_index in kf.split(X):\n",
    "    #print(\"TRAIN:\", train_index, \"TEST:\", test_index)\n",
    "    train_features, val_features = X[train_index], X[test_index]\n",
    "    train_labels, val_labels = y[train_index], y[test_index]\n",
    "\n",
    "# Divide dataset\n",
    "#train_dataset = df_t.sample(frac=0.8, random_state=0)\n",
    "#val_dataset = df_t.drop(train_dataset.index)\n",
    "#test_dataset = df_ttest\n",
    "\n",
    "#train_features = train_dataset.copy()\n",
    "#val_features = val_dataset.copy()\n",
    "#test_features = test_dataset.copy()\n",
    "\n",
    "# Create labels\n",
    "#train_labels = train_features.pop('requests')\n",
    "#val_labels = val_features.pop('requests')\n",
    "#test_labels = test_features.pop('requests')\n",
    "\n",
    "# Normalization\n",
    "    input = np.array(train_features)\n",
    "    input_normalizer = preprocessing.Normalization(input_shape=[3,])\n",
    "    input_normalizer.adapt(input)\n",
    "\n",
    "# Create Model\n",
    "    \n",
    "    dnn_model = build_and_compile_model(input_normalizer)\n",
    "\n",
    "    #print(dnn_model.summary())\n",
    "\n",
    "    history = dnn_model.fit(\n",
    "        train_features, train_labels,\n",
    "        validation_split=0.2,\n",
    "        verbose=0, epochs=3000,callbacks=[callback])\n",
    "    #print(history)\n",
    "    loss_cal=dnn_model.evaluate(val_features, val_labels,verbose=0)\n",
    "    #plot_loss(history)\n",
    "    loss.append(loss_cal)\n",
    "    ## Make Predictions\n",
    "    test_predictions.append(dnn_model.predict(test_features).flatten())\n",
    "    \n",
    "    #testPre_df.append(test_predictions)\n",
    "    R = r2_score(test_labels, test_predictions[i])*100\n",
    "    if(nn_score<R) or (i==0):\n",
    "        nn_score = R\n",
    "        loss_exp = loss_cal\n",
    "        nn_prediction = test_predictions[i]\n",
    "    model.append('dnn_model_'+str(i))\n",
    "    score.append(R)\n",
    "    i = i+1\n",
    "    #model['dnn_model_'+str(i)] = [dnn_model.evaluate(\n",
    "    #    val_features, val_labels,\n",
    "    #    verbose=0), R]\n",
    "model = np.array(model)\n",
    "score = np.array(score)\n",
    "loss = np.array(loss)\n",
    "\n",
    "#data = np.array([model, loss, score]).T\n",
    "#pd.DataFrame(data,columns=[\"model\", \"loss\", \"score\"])"
   ]
  },
  {
   "cell_type": "code",
   "execution_count": 105,
   "metadata": {},
   "outputs": [
    {
     "name": "stdout",
     "output_type": "stream",
     "text": [
      "[94.69  93.624 92.311 93.43  91.815 94.871]\n"
     ]
    },
    {
     "name": "stderr",
     "output_type": "stream",
     "text": [
      "/home/ubuntu/.local/lib/python3.6/site-packages/ipykernel_launcher.py:21: MatplotlibDeprecationWarning: Adding an axes using the same arguments as a previous axes currently reuses the earlier instance.  In a future version, a new instance will always be created and returned.  Meanwhile, this warning can be suppressed, and the future behavior ensured, by passing a unique label to each axes instance.\n",
      "/home/ubuntu/.local/lib/python3.6/site-packages/ipykernel_launcher.py:21: MatplotlibDeprecationWarning: Adding an axes using the same arguments as a previous axes currently reuses the earlier instance.  In a future version, a new instance will always be created and returned.  Meanwhile, this warning can be suppressed, and the future behavior ensured, by passing a unique label to each axes instance.\n",
      "/home/ubuntu/.local/lib/python3.6/site-packages/ipykernel_launcher.py:21: MatplotlibDeprecationWarning: Adding an axes using the same arguments as a previous axes currently reuses the earlier instance.  In a future version, a new instance will always be created and returned.  Meanwhile, this warning can be suppressed, and the future behavior ensured, by passing a unique label to each axes instance.\n",
      "/home/ubuntu/.local/lib/python3.6/site-packages/ipykernel_launcher.py:21: MatplotlibDeprecationWarning: Adding an axes using the same arguments as a previous axes currently reuses the earlier instance.  In a future version, a new instance will always be created and returned.  Meanwhile, this warning can be suppressed, and the future behavior ensured, by passing a unique label to each axes instance.\n",
      "/home/ubuntu/.local/lib/python3.6/site-packages/ipykernel_launcher.py:21: MatplotlibDeprecationWarning: Adding an axes using the same arguments as a previous axes currently reuses the earlier instance.  In a future version, a new instance will always be created and returned.  Meanwhile, this warning can be suppressed, and the future behavior ensured, by passing a unique label to each axes instance.\n",
      "/home/ubuntu/.local/lib/python3.6/site-packages/ipykernel_launcher.py:21: MatplotlibDeprecationWarning: Adding an axes using the same arguments as a previous axes currently reuses the earlier instance.  In a future version, a new instance will always be created and returned.  Meanwhile, this warning can be suppressed, and the future behavior ensured, by passing a unique label to each axes instance.\n"
     ]
    },
    {
     "name": "stdout",
     "output_type": "stream",
     "text": [
      "CPU times: user 2.62 s, sys: 145 ms, total: 2.76 s\n",
      "Wall time: 2.76 s\n"
     ]
    },
    {
     "data": {
      "image/png": "[encoded data removed]",
      "text/plain": [
       "<Figure size 360x360 with 1 Axes>"
      ]
     },
     "metadata": {
      "needs_background": "light"
     },
     "output_type": "display_data"
    }
   ],
   "source": [
    "%%time\n",
    "print(score)\n",
    "test_prediction = sum(test_predictions)/len(test_predictions)\n",
    "test_predictions.append(test_prediction)\n",
    "#test_predictions = dnn_model.predict(test_features).flatten()\n",
    "for i in range(0,7):\n",
    "    if i==6:\n",
    "        plot_prediction(test_labels, test_predictions[i],i,1, label='average')\n",
    "    else:\n",
    "        plot_prediction(test_labels, test_predictions[i],i,0.5, label='kfold_'+str(i))\n"
   ]
  },
  {
   "cell_type": "code",
   "execution_count": 95,
   "metadata": {},
   "outputs": [],
   "source": [
    "#plot_prediction(test_labels, test_predictions)"
   ]
  },
  {
   "cell_type": "code",
   "execution_count": 96,
   "metadata": {},
   "outputs": [],
   "source": [
    "#R = r2_score(test_labels, test_predictions)*100"
   ]
  },
  {
   "cell_type": "code",
   "execution_count": 97,
   "metadata": {},
   "outputs": [
    {
     "name": "stdout",
     "output_type": "stream",
     "text": [
      "94.87108128934622\n"
     ]
    }
   ],
   "source": [
    "print(R)"
   ]
  },
  {
   "cell_type": "code",
   "execution_count": 98,
   "metadata": {},
   "outputs": [
    {
     "data": {
      "image/png": "[encoded data removed]",
      "text/plain": [
       "<Figure size 360x360 with 1 Axes>"
      ]
     },
     "metadata": {
      "needs_background": "light"
     },
     "output_type": "display_data"
    }
   ],
   "source": [
    "#print(history.history['val_loss'])\n",
    "#norm = np.linalg.norm(np.array(history.history['val_loss']))\n",
    "#normal_array = np.array(history.history['val_loss'])/norm\n",
    "#print(normal_array)\n",
    "#print(history.history['loss'])\n",
    "plot_loss(history)\n"
   ]
  },
  {
   "cell_type": "code",
   "execution_count": 100,
   "metadata": {},
   "outputs": [
    {
     "data": {
      "text/plain": [
       "array([ 7082.021,  7082.021,  2148.939,  2148.939,   640.052,   640.052,\n",
       "         590.644,   590.644,   603.866,   603.866,   639.904,   639.904,\n",
       "         644.169,   644.169,   647.164,   647.164,   663.702,   663.702,\n",
       "         664.306,   664.306,  3220.644,  3229.993,  3252.19 ,  3202.918,\n",
       "        4027.825,  4057.765,  3854.264,  3872.992,  4300.756,  4276.462,\n",
       "        4380.631,  4388.181,  4962.732,  4969.345,  5160.158,  5152.668,\n",
       "        5441.196,  5450.394,  5839.121,  5803.34 ,  6700.346,  6746.252,\n",
       "        6395.305,  6390.542,  6604.025,  6674.794,  7099.106,  7102.469,\n",
       "        8251.19 ,  8239.053,  7697.877,  7705.337,  7967.034,  7994.769,\n",
       "        8419.968,  8410.199,  9577.075,  9546.272,  9297.542,  9237.897,\n",
       "        9453.511,  9444.198,  9813.803,  9836.238, 11136.604, 11163.021,\n",
       "       10743.703, 10747.209, 11240.851, 11263.309, 11245.552, 11202.427,\n",
       "       13009.698, 13002.198, 12995.31 , 12985.226, 13028.06 , 13008.772,\n",
       "       13409.099, 13439.604, 14715.262, 14717.22 , 14054.573, 14134.972,\n",
       "       13887.003, 13864.969, 13552.496, 13528.747, 13773.575, 13738.981,\n",
       "       14127.188, 14159.918, 14335.492, 14309.479, 15190.784, 15142.734,\n",
       "       15310.167, 15397.231, 15362.263, 15367.113, 15371.117, 15344.901,\n",
       "       15402.458, 15358.685, 16216.235, 16222.398, 17078.22 , 17102.35 ,\n",
       "       17283.475, 17223.244, 16920.365, 16871.135, 17454.576, 17473.193,\n",
       "       17953.094, 17904.443, 18249.928, 18294.566, 18220.455, 18189.682,\n",
       "       18180.248, 18247.857, 18815.889, 18835.553, 19190.469, 19188.904,\n",
       "       20411.592, 20397.906, 20389.639, 20380.184, 19854.443, 19876.904,\n",
       "       20331.93 , 20313.568, 20815.389, 20826.807, 20750.889, 20723.006,\n",
       "       20741.51 , 20708.068, 20970.227, 20898.361, 21265.988, 21237.42 ,\n",
       "       22532.71 , 22472.877, 22919.775, 22874.916, 23852.533, 23867.271,\n",
       "       22758.75 , 22745.016, 23092.385, 23128.344, 24595.959, 24594.953,\n",
       "       24946.883, 24955.291, 24545.516, 24654.385, 25186.982, 25169.932,\n",
       "       24903.75 , 24905.674, 25261.346, 25255.78 , 25878.904, 25848.322,\n",
       "       26209.947, 26198.375, 25521.428, 25499.678, 27543.111, 27509.656,\n",
       "       28249.21 , 28278.37 , 27920.062, 27910.492, 26455.1  , 26467.438,\n",
       "       27409.15 , 27381.248, 27991.744, 27980.656, 27520.57 , 27492.242,\n",
       "       29057.018, 29035.281, 28510.615, 28462.611, 28743.062, 28794.945,\n",
       "       30338.14 , 30360.625, 30086.904, 30085.625, 29476.047, 29442.318,\n",
       "       30605.768, 30564.564, 30740.604, 30850.28 , 30841.578, 30892.   ,\n",
       "       31327.111, 31341.031, 32187.928, 32205.62 , 32229.486, 32242.834,\n",
       "       31780.164, 31768.248, 32801.004, 32752.912, 33231.902, 33211.297,\n",
       "       32287.   , 32217.29 , 32186.664, 32215.748, 35031.723, 35097.496,\n",
       "       34608.94 , 34679.293, 34673.766, 34566.254, 35878.86 , 35850.926,\n",
       "       35641.254, 35597.87 , 35592.137, 35607.637, 35660.844, 35656.5  ,\n",
       "       35162.703, 35229.77 , 35548.54 , 35599.01 , 36803.492, 36808.082,\n",
       "       37398.707, 37307.83 , 37317.367, 37325.164, 37765.098, 37774.06 ,\n",
       "       37950.79 , 37922.52 , 38197.113, 38193.215, 38811.316, 38838.86 ,\n",
       "       39706.703, 39687.316, 39538.92 , 39565.094, 39006.22 , 39034.273,\n",
       "       37635.105, 37610.367, 40563.785, 40665.137, 39681.38 , 39629.312,\n",
       "       40510.29 , 40473.3  , 42037.82 , 42045.418, 39935.926, 39917.42 ,\n",
       "       39762.953, 39747.18 , 42778.492, 42760.633, 42392.848, 42444.48 ,\n",
       "       41984.867, 41959.543, 42650.145, 42656.76 , 42224.84 , 42193.36 ,\n",
       "       42143.13 , 42185.97 , 41921.832, 41896.52 , 42003.543, 41965.824,\n",
       "       43551.67 , 43502.453, 44291.605, 44325.375, 46434.58 , 46408.094,\n",
       "       45408.16 , 45404.58 , 44113.812, 44060.48 , 45091.844, 45144.906,\n",
       "       44962.3  , 44931.734, 46209.062, 46164.22 , 46493.34 , 46477.254,\n",
       "       46244.496, 46244.73 , 46324.05 , 46349.906, 47999.95 , 48089.406,\n",
       "       48220.402, 48213.5  , 46655.918, 46695.832, 47794.516, 47798.277,\n",
       "       47399.098, 47341.707, 48314.035, 48306.7  , 47456.34 , 47417.293,\n",
       "       48381.344, 48440.05 , 49928.047, 50050.605, 50131.44 , 50144.824,\n",
       "       49721.703, 49757.668, 49513.895, 49491.254, 51370.254, 51295.996,\n",
       "       53381.99 , 53468.074, 52648.332, 52677.22 , 50932.   , 50960.516,\n",
       "       49863.047, 49852.73 , 50031.965, 49992.77 , 51101.918, 51069.324,\n",
       "       53492.152, 53529.906, 53880.98 , 53857.48 , 52493.613, 52439.387,\n",
       "       53050.348, 53167.062, 52109.47 , 52107.168, 53055.52 , 53102.45 ,\n",
       "       54800.184, 54771.293, 54744.918, 54834.598, 55015.7  , 54932.574,\n",
       "       53621.465, 53705.766, 53596.56 , 53700.152, 54863.45 , 54817.363,\n",
       "       56599.047, 56629.17 , 56718.91 , 56721.035, 57563.52 , 57639.473,\n",
       "       55734.203, 55716.863, 57342.05 , 57406.973, 56848.44 , 56886.535,\n",
       "       58106.234, 58078.902, 59751.996, 59837.87 , 60352.375, 60315.84 ,\n",
       "       62638.92 , 62677.645, 61588.785, 61556.03 , 61211.375, 61276.637,\n",
       "       63700.67 , 63637.926, 65097.293, 65132.645, 53389.09 , 53348.707,\n",
       "       51113.402, 51085.184, 63430.035, 63390.49 , 64934.55 , 64972.547,\n",
       "       65402.88 , 65429.27 , 62608.2  , 62746.777, 66263.586, 66232.445,\n",
       "       64608.99 , 64646.66 , 65997.45 , 66017.086, 65373.594, 65382.566,\n",
       "       67313.58 , 67333.84 , 68999.414, 68950.11 , 66346.27 , 66321.76 ,\n",
       "       66281.305, 66245.51 , 67475.29 , 67444.01 , 68433.44 , 68426.305,\n",
       "       68769.87 , 68754.34 , 68156.82 , 68181.836, 67724.1  , 67729.88 ,\n",
       "       68635.59 , 68624.43 , 70388.02 , 70400.56 , 69297.82 , 69344.98 ,\n",
       "       70129.9  , 70161.17 , 69175.77 , 69248.49 , 67408.25 , 67305.82 ,\n",
       "       68197.49 , 68267.49 , 75118.38 , 75142.53 , 74864.805, 74886.016,\n",
       "       69943.984, 69873.586, 65334.13 , 65387.004, 68270.27 , 68214.76 ,\n",
       "       71483.234, 71491.44 , 72294.83 , 72301.12 , 72801.22 , 72846.09 ,\n",
       "       72158.02 , 72171.305, 71791.086, 71787.21 , 73495.39 , 73552.305,\n",
       "       72327.164, 72382.27 , 65895.555], dtype=float32)"
      ]
     },
     "execution_count": 100,
     "metadata": {},
     "output_type": "execute_result"
    }
   ],
   "source": [
    "sum(test_predictions)/len(test_predictions)"
   ]
  },
  {
   "cell_type": "code",
   "execution_count": null,
   "metadata": {},
   "outputs": [],
   "source": [
    "rcParams['figure.figsize'] = 5, 5\n",
    "rcParams[\"legend.loc\"] = 'upper left'\n",
    "rcParams['axes.labelsize'] = 10\n",
    "rcParams['axes.titlesize'] = 5\n",
    "rcParams[\"font.size\"] = 10\n",
    "plt.plot(range(0,len(test_labels)),test_labels, color='green',label='True Value')\n",
    "plt.plot(range(0,len(lin_reg_y_te_pred)),lin_reg_y_te_pred, color='red', label='Linear Regression')\n",
    "plt.plot(range(0,len(poly_reg_y_te_pred)),poly_reg_y_te_pred, color='blue', label='Polynomial Linear Reg')\n",
    "plt.plot(range(0,len(ridge_cv_y_te_pred)),ridge_cv_y_te_pred, color='brown', label='Ridge Reg')\n",
    "plt.plot(range(0,len(rf_cv_y_te_pred)),rf_cv_y_te_pred, color='grey', label='Random Forrest')\n",
    "plt.plot(range(0,len(nn_prediction)),nn_prediction, color='violet', label='Deep Neural Network')\n",
    "plt.legend(loc=\"lower right\")\n",
    "plt.ylabel('Number of Requests')\n",
    "plt.show()"
   ]
  },
  {
   "cell_type": "code",
   "execution_count": null,
   "metadata": {},
   "outputs": [],
   "source": [
    "models = np.array(['Linear Regression', 'Polynomial Linear Reg', 'Ridge Reg', 'Random Forrest', 'Deep Neural Network'])\n",
    "model_score = np.array([linear_score*100, polynomial_score*100, ridge_cv_score*100, rf_cv_score*100, nn_score])\n",
    "data = np.array([models, model_score]).T\n",
    "pd.DataFrame(data,columns=[\"models\", \"model_score\"])"
   ]
  },
  {
   "cell_type": "code",
   "execution_count": null,
   "metadata": {},
   "outputs": [],
   "source": [
    "plt.plot([0, 1], [0, 1], color = 'black', linewidth = 2)\n",
    "plt.xlim(-0.05, 1.05)\n",
    "plt.ylim(-0.05, 1.05)"
   ]
  },
  {
   "cell_type": "code",
   "execution_count": null,
   "metadata": {},
   "outputs": [],
   "source": [
    "color = ['green','red','orange', 'brown', 'pink', 'blue']\n",
    "for i in range(0,6):\n",
    "    error = test_predictions[i] - test_labels\n",
    "    if score[i] == nn_score:\n",
    "        plt.hist(error, bins=100, color=color[i], alpha=1, label='kfold_'+str(i))\n",
    "    else:\n",
    "        plt.hist(error, bins=100, color=color[i], alpha=0.4, label='kfold_'+str(i))\n",
    "    plt.xlabel('Prediction Error [requests]')\n",
    "    plt.legend()\n",
    "    _ = plt.ylabel('Count')"
   ]
  },
  {
   "cell_type": "code",
   "execution_count": null,
   "metadata": {},
   "outputs": [],
   "source": []
  }
 ],
 "metadata": {
  "kernelspec": {
   "display_name": "Python 3",
   "language": "python",
   "name": "python3"
  },
  "language_info": {
   "codemirror_mode": {
    "name": "ipython",
    "version": 3
   },
   "file_extension": ".py",
   "mimetype": "text/x-python",
   "name": "python",
   "nbconvert_exporter": "python",
   "pygments_lexer": "ipython3",
   "version": "3.6.9"
  }
 },
 "nbformat": 4,
 "nbformat_minor": 4
}
